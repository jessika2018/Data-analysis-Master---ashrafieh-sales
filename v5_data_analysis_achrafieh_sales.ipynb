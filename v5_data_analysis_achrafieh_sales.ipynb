{
  "nbformat": 4,
  "nbformat_minor": 0,
  "metadata": {
    "colab": {
      "name": "Copy of Copy_data_analysis_achrafieh_sales.ipynb",
      "provenance": [],
      "collapsed_sections": [],
      "authorship_tag": "ABX9TyNZv6O5WxprMtTeyugEoTdV",
      "include_colab_link": true
    },
    "kernelspec": {
      "name": "python3",
      "display_name": "Python 3"
    },
    "language_info": {
      "name": "python"
    }
  },
  "cells": [
    {
      "cell_type": "markdown",
      "metadata": {
        "id": "view-in-github",
        "colab_type": "text"
      },
      "source": [
        "<a href=\"https://colab.research.google.com/github/jessika2018/Data-analysis-Master---ashrafieh-sales/blob/main/v5_data_analysis_achrafieh_sales.ipynb\" target=\"_parent\"><img src=\"https://colab.research.google.com/assets/colab-badge.svg\" alt=\"Open In Colab\"/></a>"
      ]
    },
    {
      "cell_type": "markdown",
      "metadata": {
        "id": "z_K-ezs2MEvq"
      },
      "source": [
        "# Analysis on Spinneys - Ashrafieh Sales"
      ]
    },
    {
      "cell_type": "markdown",
      "metadata": {
        "id": "Nwh0QahWMbp6"
      },
      "source": [
        "Spinneys is a popular retailer company that people buy across the word its product. In this EDA (Exploratary data Analysis), I will explore the top 10 products sold the most  on X months and the top 10 product sold the least on x. I will show the dataset in a graphs using matplotlib and seaborn. Consequently we will take desicions by the end of the analysis. \n",
        "The hypothesis suggested is:\n",
        " create new compagin including the most frequent itemset purchased along one itemset that purchsed the least.\n",
        "\n"
      ]
    },
    {
      "cell_type": "markdown",
      "metadata": {
        "id": "3DFpYSUjOdIC"
      },
      "source": [
        "# Package install and Import\n",
        "First we will install and import necessary packages"
      ]
    },
    {
      "cell_type": "code",
      "metadata": {
        "id": "IYynZ1IvDcVd"
      },
      "source": [
        "!pip install jovian --upgrade --quiet"
      ],
      "execution_count": null,
      "outputs": []
    },
    {
      "cell_type": "code",
      "metadata": {
        "colab": {
          "base_uri": "https://localhost:8080/"
        },
        "id": "i6KlK279mrp6",
        "outputId": "f03fb0fb-6d4f-41df-a435-05ed6a609ec9"
      },
      "source": [
        "pip install seaborn"
      ],
      "execution_count": null,
      "outputs": [
        {
          "output_type": "stream",
          "text": [
            "Requirement already satisfied: seaborn in /usr/local/lib/python3.7/dist-packages (0.11.1)\n",
            "Requirement already satisfied: pandas>=0.23 in /usr/local/lib/python3.7/dist-packages (from seaborn) (1.1.5)\n",
            "Requirement already satisfied: scipy>=1.0 in /usr/local/lib/python3.7/dist-packages (from seaborn) (1.4.1)\n",
            "Requirement already satisfied: numpy>=1.15 in /usr/local/lib/python3.7/dist-packages (from seaborn) (1.19.5)\n",
            "Requirement already satisfied: matplotlib>=2.2 in /usr/local/lib/python3.7/dist-packages (from seaborn) (3.2.2)\n",
            "Requirement already satisfied: pytz>=2017.2 in /usr/local/lib/python3.7/dist-packages (from pandas>=0.23->seaborn) (2018.9)\n",
            "Requirement already satisfied: python-dateutil>=2.7.3 in /usr/local/lib/python3.7/dist-packages (from pandas>=0.23->seaborn) (2.8.1)\n",
            "Requirement already satisfied: pyparsing!=2.0.4,!=2.1.2,!=2.1.6,>=2.0.1 in /usr/local/lib/python3.7/dist-packages (from matplotlib>=2.2->seaborn) (2.4.7)\n",
            "Requirement already satisfied: cycler>=0.10 in /usr/local/lib/python3.7/dist-packages (from matplotlib>=2.2->seaborn) (0.10.0)\n",
            "Requirement already satisfied: kiwisolver>=1.0.1 in /usr/local/lib/python3.7/dist-packages (from matplotlib>=2.2->seaborn) (1.3.1)\n",
            "Requirement already satisfied: six>=1.5 in /usr/local/lib/python3.7/dist-packages (from python-dateutil>=2.7.3->pandas>=0.23->seaborn) (1.15.0)\n"
          ],
          "name": "stdout"
        }
      ]
    },
    {
      "cell_type": "code",
      "metadata": {
        "id": "y1sXJR2iEmvI"
      },
      "source": [
        "import jovian\n",
        "import pandas as pd\n",
        "import numpy as np\n",
        "import matplotlib.pyplot as plt\n",
        "import seaborn as sns\n",
        "%matplotlib inline\n",
        "import matplotlib\n",
        "import matplotlib.pyplot as plt\n",
        "import os "
      ],
      "execution_count": null,
      "outputs": []
    },
    {
      "cell_type": "markdown",
      "metadata": {
        "id": "KUM3tF6vOmAd"
      },
      "source": [
        "# Loading the dataset  \n",
        "Now we are ready to load the data set. We will do this using the standard read_excel command from Pandas. Let's take a glimnpse at how the data looks like \n"
      ]
    },
    {
      "cell_type": "code",
      "metadata": {
        "id": "gtWjboOiHTA2",
        "colab": {
          "base_uri": "https://localhost:8080/",
          "height": 302
        },
        "outputId": "d2657e55-3d31-4648-8ec3-8411c10d8b38"
      },
      "source": [
        "spinneys_dataset_df = pd.read_excel('/content/jessica_data/_Dataset_Sales_final_version.xlsx')\n",
        "spinneys_dataset_df.head()"
      ],
      "execution_count": null,
      "outputs": [
        {
          "output_type": "execute_result",
          "data": {
            "text/html": [
              "<div>\n",
              "<style scoped>\n",
              "    .dataframe tbody tr th:only-of-type {\n",
              "        vertical-align: middle;\n",
              "    }\n",
              "\n",
              "    .dataframe tbody tr th {\n",
              "        vertical-align: top;\n",
              "    }\n",
              "\n",
              "    .dataframe thead th {\n",
              "        text-align: right;\n",
              "    }\n",
              "</style>\n",
              "<table border=\"1\" class=\"dataframe\">\n",
              "  <thead>\n",
              "    <tr style=\"text-align: right;\">\n",
              "      <th></th>\n",
              "      <th>Year</th>\n",
              "      <th>Month</th>\n",
              "      <th>Store Name</th>\n",
              "      <th>Receipt Number</th>\n",
              "      <th>Category</th>\n",
              "      <th>Group</th>\n",
              "      <th>Sub Group</th>\n",
              "      <th>Item Number</th>\n",
              "      <th>Item Family</th>\n",
              "      <th>Item Description</th>\n",
              "      <th>Product Size</th>\n",
              "      <th>Price_LL</th>\n",
              "      <th>Quantity</th>\n",
              "      <th>Sales_Value_$</th>\n",
              "    </tr>\n",
              "  </thead>\n",
              "  <tbody>\n",
              "    <tr>\n",
              "      <th>0</th>\n",
              "      <td>2021</td>\n",
              "      <td>Jul</td>\n",
              "      <td>Ashrafieh</td>\n",
              "      <td>000000PD02000660322</td>\n",
              "      <td>MEAL SOLUTIONS</td>\n",
              "      <td>HOT BEVERAGES</td>\n",
              "      <td>FLAVORED INSTANT COFFEE</td>\n",
              "      <td>264164</td>\n",
              "      <td>NESCAFE</td>\n",
              "      <td>NESCAFE 3IN1 CLASSIC BAG</td>\n",
              "      <td>30*20G</td>\n",
              "      <td>250.0</td>\n",
              "      <td>2.0</td>\n",
              "      <td>0.331675</td>\n",
              "    </tr>\n",
              "    <tr>\n",
              "      <th>1</th>\n",
              "      <td>2021</td>\n",
              "      <td>Jul</td>\n",
              "      <td>Ashrafieh</td>\n",
              "      <td>000000PD02000660322</td>\n",
              "      <td>BEVERAGES &amp; READY TO EAT</td>\n",
              "      <td>BISCUITS</td>\n",
              "      <td>WAFERS</td>\n",
              "      <td>104874</td>\n",
              "      <td>GANDOUR</td>\n",
              "      <td>GANDOUR UNICA</td>\n",
              "      <td>27G</td>\n",
              "      <td>250.0</td>\n",
              "      <td>1.0</td>\n",
              "      <td>0.165837</td>\n",
              "    </tr>\n",
              "    <tr>\n",
              "      <th>2</th>\n",
              "      <td>2021</td>\n",
              "      <td>Jul</td>\n",
              "      <td>Ashrafieh</td>\n",
              "      <td>000000PD02000660322</td>\n",
              "      <td>BEVERAGES &amp; READY TO EAT</td>\n",
              "      <td>CAKES</td>\n",
              "      <td>MINI CAKES</td>\n",
              "      <td>135173</td>\n",
              "      <td>ENG.CAKE</td>\n",
              "      <td>CAKE PLAIN</td>\n",
              "      <td>65G</td>\n",
              "      <td>595.0</td>\n",
              "      <td>1.0</td>\n",
              "      <td>0.394693</td>\n",
              "    </tr>\n",
              "    <tr>\n",
              "      <th>3</th>\n",
              "      <td>2021</td>\n",
              "      <td>Jul</td>\n",
              "      <td>Ashrafieh</td>\n",
              "      <td>000000PD02000660322</td>\n",
              "      <td>BEVERAGES &amp; READY TO EAT</td>\n",
              "      <td>CAKES</td>\n",
              "      <td>CROISSANT</td>\n",
              "      <td>479487</td>\n",
              "      <td>KARUZO</td>\n",
              "      <td>CROISSANT CHESSECAKE</td>\n",
              "      <td>62G</td>\n",
              "      <td>750.0</td>\n",
              "      <td>1.0</td>\n",
              "      <td>0.497512</td>\n",
              "    </tr>\n",
              "    <tr>\n",
              "      <th>4</th>\n",
              "      <td>2021</td>\n",
              "      <td>Jul</td>\n",
              "      <td>Ashrafieh</td>\n",
              "      <td>000000PD02000660322</td>\n",
              "      <td>TOBACCO</td>\n",
              "      <td>CIGARETTES</td>\n",
              "      <td>FULL STRENGTH</td>\n",
              "      <td>488316</td>\n",
              "      <td>WINSTON</td>\n",
              "      <td>BLUE COMPACT BOX SHORT</td>\n",
              "      <td>1PC</td>\n",
              "      <td>1999.0</td>\n",
              "      <td>1.0</td>\n",
              "      <td>1.326036</td>\n",
              "    </tr>\n",
              "  </tbody>\n",
              "</table>\n",
              "</div>"
            ],
            "text/plain": [
              "   Year Month Store Name  ... Price_LL Quantity Sales_Value_$\n",
              "0  2021   Jul  Ashrafieh  ...    250.0      2.0      0.331675\n",
              "1  2021   Jul  Ashrafieh  ...    250.0      1.0      0.165837\n",
              "2  2021   Jul  Ashrafieh  ...    595.0      1.0      0.394693\n",
              "3  2021   Jul  Ashrafieh  ...    750.0      1.0      0.497512\n",
              "4  2021   Jul  Ashrafieh  ...   1999.0      1.0      1.326036\n",
              "\n",
              "[5 rows x 14 columns]"
            ]
          },
          "metadata": {
            "tags": []
          },
          "execution_count": 145
        }
      ]
    },
    {
      "cell_type": "code",
      "metadata": {
        "id": "GzLkYnpsHjH2",
        "colab": {
          "base_uri": "https://localhost:8080/"
        },
        "outputId": "8d346f9e-cc26-491f-e1ee-3071560f380f"
      },
      "source": [
        "%%time\n",
        "print(\"Dataframe size\",spinneys_dataset_df.shape)"
      ],
      "execution_count": null,
      "outputs": [
        {
          "output_type": "stream",
          "text": [
            "Dataframe size (278545, 14)\n",
            "CPU times: user 151 µs, sys: 4 µs, total: 155 µs\n",
            "Wall time: 152 µs\n"
          ],
          "name": "stdout"
        }
      ]
    },
    {
      "cell_type": "code",
      "metadata": {
        "colab": {
          "base_uri": "https://localhost:8080/",
          "height": 171
        },
        "id": "qzcZ8UX1KU7p",
        "outputId": "b18f8046-735b-4303-9a53-9195e1994d2e"
      },
      "source": [
        "spinneys_dataset_df.groupby(by=[\"Month\"], dropna=False).sum()"
      ],
      "execution_count": null,
      "outputs": [
        {
          "output_type": "execute_result",
          "data": {
            "text/html": [
              "<div>\n",
              "<style scoped>\n",
              "    .dataframe tbody tr th:only-of-type {\n",
              "        vertical-align: middle;\n",
              "    }\n",
              "\n",
              "    .dataframe tbody tr th {\n",
              "        vertical-align: top;\n",
              "    }\n",
              "\n",
              "    .dataframe thead th {\n",
              "        text-align: right;\n",
              "    }\n",
              "</style>\n",
              "<table border=\"1\" class=\"dataframe\">\n",
              "  <thead>\n",
              "    <tr style=\"text-align: right;\">\n",
              "      <th></th>\n",
              "      <th>Year</th>\n",
              "      <th>Item Number</th>\n",
              "      <th>Price_LL</th>\n",
              "      <th>Quantity</th>\n",
              "      <th>Sales_Value_$</th>\n",
              "    </tr>\n",
              "    <tr>\n",
              "      <th>Month</th>\n",
              "      <th></th>\n",
              "      <th></th>\n",
              "      <th></th>\n",
              "      <th></th>\n",
              "      <th></th>\n",
              "    </tr>\n",
              "  </thead>\n",
              "  <tbody>\n",
              "    <tr>\n",
              "      <th>Aug</th>\n",
              "      <td>179475921</td>\n",
              "      <td>27993201468</td>\n",
              "      <td>3.964257e+08</td>\n",
              "      <td>152980.220</td>\n",
              "      <td>278494.414017</td>\n",
              "    </tr>\n",
              "    <tr>\n",
              "      <th>Jul</th>\n",
              "      <td>189697389</td>\n",
              "      <td>29487043002</td>\n",
              "      <td>3.693037e+08</td>\n",
              "      <td>158502.897</td>\n",
              "      <td>290760.055350</td>\n",
              "    </tr>\n",
              "    <tr>\n",
              "      <th>Sep</th>\n",
              "      <td>193359169</td>\n",
              "      <td>30266300504</td>\n",
              "      <td>3.789413e+08</td>\n",
              "      <td>162697.773</td>\n",
              "      <td>298578.816610</td>\n",
              "    </tr>\n",
              "  </tbody>\n",
              "</table>\n",
              "</div>"
            ],
            "text/plain": [
              "            Year  Item Number      Price_LL    Quantity  Sales_Value_$\n",
              "Month                                                                 \n",
              "Aug    179475921  27993201468  3.964257e+08  152980.220  278494.414017\n",
              "Jul    189697389  29487043002  3.693037e+08  158502.897  290760.055350\n",
              "Sep    193359169  30266300504  3.789413e+08  162697.773  298578.816610"
            ]
          },
          "metadata": {
            "tags": []
          },
          "execution_count": 147
        }
      ]
    },
    {
      "cell_type": "markdown",
      "metadata": {
        "id": "wHGnvSWYL77C"
      },
      "source": [
        "\n",
        "\n",
        "```\n",
        "# This is formatted as code\n",
        "```\n",
        "\n",
        "# Data Preparation and Cleaning"
      ]
    },
    {
      "cell_type": "code",
      "metadata": {
        "colab": {
          "base_uri": "https://localhost:8080/"
        },
        "id": "MXo5IbLgMAuj",
        "outputId": "84cd51d4-13e2-4321-cdd3-505149222b30"
      },
      "source": [
        "spinneys_dataset_df.info()"
      ],
      "execution_count": null,
      "outputs": [
        {
          "output_type": "stream",
          "text": [
            "<class 'pandas.core.frame.DataFrame'>\n",
            "RangeIndex: 278545 entries, 0 to 278544\n",
            "Data columns (total 14 columns):\n",
            " #   Column            Non-Null Count   Dtype  \n",
            "---  ------            --------------   -----  \n",
            " 0   Year              278545 non-null  int64  \n",
            " 1   Month             278545 non-null  object \n",
            " 2   Store Name        278545 non-null  object \n",
            " 3   Receipt Number    278545 non-null  object \n",
            " 4   Category          278545 non-null  object \n",
            " 5   Group             278545 non-null  object \n",
            " 6   Sub Group         278545 non-null  object \n",
            " 7   Item Number       278545 non-null  int64  \n",
            " 8   Item Family       278509 non-null  object \n",
            " 9   Item Description  278545 non-null  object \n",
            " 10  Product Size      278520 non-null  object \n",
            " 11  Price_LL          278545 non-null  float64\n",
            " 12  Quantity          278545 non-null  float64\n",
            " 13  Sales_Value_$     278545 non-null  float64\n",
            "dtypes: float64(3), int64(2), object(9)\n",
            "memory usage: 29.8+ MB\n"
          ],
          "name": "stdout"
        }
      ]
    },
    {
      "cell_type": "code",
      "metadata": {
        "colab": {
          "base_uri": "https://localhost:8080/"
        },
        "id": "bW0WgiFhSES3",
        "outputId": "69bb8ad5-8eef-49a2-ff35-5fa322588536"
      },
      "source": [
        "spinneys_dataset_df.nunique()"
      ],
      "execution_count": null,
      "outputs": [
        {
          "output_type": "execute_result",
          "data": {
            "text/plain": [
              "Year                    4\n",
              "Month                   3\n",
              "Store Name              4\n",
              "Receipt Number      67376\n",
              "Category               10\n",
              "Group                  99\n",
              "Sub Group             523\n",
              "Item Number         11570\n",
              "Item Family          1236\n",
              "Item Description    10567\n",
              "Product Size         1490\n",
              "Price_LL              578\n",
              "Quantity              348\n",
              "Sales_Value_$        2173\n",
              "dtype: int64"
            ]
          },
          "metadata": {
            "tags": []
          },
          "execution_count": 149
        }
      ]
    },
    {
      "cell_type": "markdown",
      "metadata": {
        "id": "vFBWZDknSObo"
      },
      "source": [
        "# Handling Null Values\n",
        "we can see that for each of the column, there are alot different uniques values for some of them. It makes sense that Receipt Number is large since it is a unique key used to identify transaction. Item Number , Item Family, Item Description, Product Size, Sales Value $, Price and Sales volume contain many unbiques value"
      ]
    },
    {
      "cell_type": "code",
      "metadata": {
        "colab": {
          "base_uri": "https://localhost:8080/"
        },
        "id": "8wes_3IBTDVw",
        "outputId": "5788f62f-07c7-4826-f113-f490ae9b5a37"
      },
      "source": [
        "spinneys_dataset_df.isnull().values.any()"
      ],
      "execution_count": null,
      "outputs": [
        {
          "output_type": "execute_result",
          "data": {
            "text/plain": [
              "True"
            ]
          },
          "metadata": {
            "tags": []
          },
          "execution_count": 150
        }
      ]
    },
    {
      "cell_type": "code",
      "metadata": {
        "colab": {
          "base_uri": "https://localhost:8080/"
        },
        "id": "Fm28TIsITJZR",
        "outputId": "5c0532f8-04eb-4de9-fabe-f4c4b5b6b6eb"
      },
      "source": [
        "spinneys_dataset_df.isnull().sum().sum()"
      ],
      "execution_count": null,
      "outputs": [
        {
          "output_type": "execute_result",
          "data": {
            "text/plain": [
              "61"
            ]
          },
          "metadata": {
            "tags": []
          },
          "execution_count": 151
        }
      ]
    },
    {
      "cell_type": "code",
      "metadata": {
        "colab": {
          "base_uri": "https://localhost:8080/",
          "height": 354
        },
        "id": "LPPoVuLlTOFZ",
        "outputId": "49d1dff7-d377-4818-c173-e418a964befa"
      },
      "source": [
        "sns.heatmap(spinneys_dataset_df.isnull())\n",
        "plt.title('Null Values Heatmap')\n",
        "plt.show()"
      ],
      "execution_count": null,
      "outputs": [
        {
          "output_type": "display_data",
          "data": {
            "image/png": "[encoded data removed]",
            "text/plain": [
              "<Figure size 432x288 with 2 Axes>"
            ]
          },
          "metadata": {
            "tags": [],
            "needs_background": "light"
          }
        }
      ]
    },
    {
      "cell_type": "code",
      "metadata": {
        "colab": {
          "base_uri": "https://localhost:8080/"
        },
        "id": "Gv2cUDd5Tgx4",
        "outputId": "46beb2fb-7a9f-4350-8b68-affba3575664"
      },
      "source": [
        "spinneys_dataset_df.isnull().sum()"
      ],
      "execution_count": null,
      "outputs": [
        {
          "output_type": "execute_result",
          "data": {
            "text/plain": [
              "Year                 0\n",
              "Month                0\n",
              "Store Name           0\n",
              "Receipt Number       0\n",
              "Category             0\n",
              "Group                0\n",
              "Sub Group            0\n",
              "Item Number          0\n",
              "Item Family         36\n",
              "Item Description     0\n",
              "Product Size        25\n",
              "Price_LL             0\n",
              "Quantity             0\n",
              "Sales_Value_$        0\n",
              "dtype: int64"
            ]
          },
          "metadata": {
            "tags": []
          },
          "execution_count": 153
        }
      ]
    },
    {
      "cell_type": "markdown",
      "metadata": {
        "id": "Rjiq9QnFT-cG"
      },
      "source": [
        "Above in the heatmap and table, we can see that there are quite few null values in the dataset.There are a total of 61 null value across the entire dataset with 36 missing point under 'Item Family' and 25 under 'Product Size'.\n",
        "We will have to handle all null data points values before we can dive into EDA and modeling "
      ]
    },
    {
      "cell_type": "code",
      "metadata": {
        "id": "W-h-NZE5TrPw"
      },
      "source": [
        "spinneys_dataset_df.dropna(subset=['Product Size','Item Family'], inplace=True)"
      ],
      "execution_count": null,
      "outputs": []
    },
    {
      "cell_type": "code",
      "metadata": {
        "colab": {
          "base_uri": "https://localhost:8080/"
        },
        "id": "oulcWbayV0ik",
        "outputId": "34709cc1-f7d9-48ff-b7b8-fb6da205e237"
      },
      "source": [
        "spinneys_dataset_df.isnull().any()"
      ],
      "execution_count": null,
      "outputs": [
        {
          "output_type": "execute_result",
          "data": {
            "text/plain": [
              "Year                False\n",
              "Month               False\n",
              "Store Name          False\n",
              "Receipt Number      False\n",
              "Category            False\n",
              "Group               False\n",
              "Sub Group           False\n",
              "Item Number         False\n",
              "Item Family         False\n",
              "Item Description    False\n",
              "Product Size        False\n",
              "Price_LL            False\n",
              "Quantity            False\n",
              "Sales_Value_$       False\n",
              "dtype: bool"
            ]
          },
          "metadata": {
            "tags": []
          },
          "execution_count": 155
        }
      ]
    },
    {
      "cell_type": "markdown",
      "metadata": {
        "id": "BGHa2IW3V-lN"
      },
      "source": [
        "For null values, since the Item family and Product size contains an insignificant portion of data so i will drop them from the dataset. After t, we can see that there are no more null values in the dataset."
      ]
    },
    {
      "cell_type": "markdown",
      "metadata": {
        "id": "sSpUQXVxWamQ"
      },
      "source": [
        "# Splitting the dataset\n",
        "1.    splitting by momth \n",
        "2.    splitting by category \n",
        "3.    splitting by year\n",
        "4.    splitting by store name\n",
        "\n"
      ]
    },
    {
      "cell_type": "markdown",
      "metadata": {
        "id": "nJLNPdeMU-tw"
      },
      "source": [
        "## Splitting by Month "
      ]
    },
    {
      "cell_type": "code",
      "metadata": {
        "colab": {
          "base_uri": "https://localhost:8080/"
        },
        "id": "aGn9WHQWe8gV",
        "outputId": "bd58f9b5-cf96-4c3c-bab4-aeab3d19bd7f"
      },
      "source": [
        "splitting_data_By_month = spinneys_dataset_df.groupby(\"Month\")[\"Month\"].count()\n",
        "splitting_data_By_month.head()"
      ],
      "execution_count": null,
      "outputs": [
        {
          "output_type": "execute_result",
          "data": {
            "text/plain": [
              "Month\n",
              "Aug    88847\n",
              "Jul    93860\n",
              "Sep    95777\n",
              "Name: Month, dtype: int64"
            ]
          },
          "metadata": {
            "tags": []
          },
          "execution_count": 183
        }
      ]
    },
    {
      "cell_type": "code",
      "metadata": {
        "colab": {
          "base_uri": "https://localhost:8080/"
        },
        "id": "4ZcfPj6alwMP",
        "outputId": "7ba71dd0-c044-499d-8b4d-ffe83ce42d05"
      },
      "source": [
        "splitting_data_August = spinneys_dataset_df.groupby(\"Month\")[\"Month\"].count()\n",
        "splitting_data_August.head()"
      ],
      "execution_count": null,
      "outputs": [
        {
          "output_type": "execute_result",
          "data": {
            "text/plain": [
              "Month\n",
              "Aug    88847\n",
              "Jul    93860\n",
              "Sep    95777\n",
              "Name: Month, dtype: int64"
            ]
          },
          "metadata": {
            "tags": []
          },
          "execution_count": 156
        }
      ]
    },
    {
      "cell_type": "code",
      "metadata": {
        "colab": {
          "base_uri": "https://localhost:8080/"
        },
        "id": "fgMZpoF70VJr",
        "outputId": "434b98ea-058f-4e24-cf17-682c1409c246"
      },
      "source": [
        "splitting_data_Jul = spinneys_dataset_df[spinneys_dataset_df['Month'] =='Jul'].copy()\n",
        "splitting_data_August.head()"
      ],
      "execution_count": null,
      "outputs": [
        {
          "output_type": "execute_result",
          "data": {
            "text/plain": [
              "Month\n",
              "Aug    88847\n",
              "Jul    93860\n",
              "Sep    95777\n",
              "Name: Month, dtype: int64"
            ]
          },
          "metadata": {
            "tags": []
          },
          "execution_count": 157
        }
      ]
    },
    {
      "cell_type": "code",
      "metadata": {
        "colab": {
          "base_uri": "https://localhost:8080/",
          "height": 268
        },
        "id": "WCYaYDroWeIX",
        "outputId": "4ed67c9d-ea86-4173-df69-9c8cc8fa17c4"
      },
      "source": [
        "splitting_data_August = spinneys_dataset_df[spinneys_dataset_df['Month'] =='Aug'].copy()\n",
        "splitting_data_August.head()"
      ],
      "execution_count": null,
      "outputs": [
        {
          "output_type": "execute_result",
          "data": {
            "text/html": [
              "<div>\n",
              "<style scoped>\n",
              "    .dataframe tbody tr th:only-of-type {\n",
              "        vertical-align: middle;\n",
              "    }\n",
              "\n",
              "    .dataframe tbody tr th {\n",
              "        vertical-align: top;\n",
              "    }\n",
              "\n",
              "    .dataframe thead th {\n",
              "        text-align: right;\n",
              "    }\n",
              "</style>\n",
              "<table border=\"1\" class=\"dataframe\">\n",
              "  <thead>\n",
              "    <tr style=\"text-align: right;\">\n",
              "      <th></th>\n",
              "      <th>Year</th>\n",
              "      <th>Month</th>\n",
              "      <th>Store Name</th>\n",
              "      <th>Receipt Number</th>\n",
              "      <th>Category</th>\n",
              "      <th>Group</th>\n",
              "      <th>Sub Group</th>\n",
              "      <th>Item Number</th>\n",
              "      <th>Item Family</th>\n",
              "      <th>Item Description</th>\n",
              "      <th>Product Size</th>\n",
              "      <th>Price_LL</th>\n",
              "      <th>Quantity</th>\n",
              "      <th>Sales_Value_$</th>\n",
              "    </tr>\n",
              "  </thead>\n",
              "  <tbody>\n",
              "    <tr>\n",
              "      <th>93874</th>\n",
              "      <td>2020</td>\n",
              "      <td>Aug</td>\n",
              "      <td>Ashrafieh</td>\n",
              "      <td>000000PD02000672610</td>\n",
              "      <td>BEVERAGES &amp; READY TO EAT</td>\n",
              "      <td>WATER</td>\n",
              "      <td>LOCAL WATER</td>\n",
              "      <td>110804</td>\n",
              "      <td>SANNINE</td>\n",
              "      <td>MINERAL WATER PET</td>\n",
              "      <td>1.5L</td>\n",
              "      <td>750.0</td>\n",
              "      <td>1.0</td>\n",
              "      <td>0.497512</td>\n",
              "    </tr>\n",
              "    <tr>\n",
              "      <th>93875</th>\n",
              "      <td>2020</td>\n",
              "      <td>Aug</td>\n",
              "      <td>Ashrafieh</td>\n",
              "      <td>000000PD02000672611</td>\n",
              "      <td>TOBACCO</td>\n",
              "      <td>CIGARETTES</td>\n",
              "      <td>LIGHT</td>\n",
              "      <td>253242</td>\n",
              "      <td>MARLBORO</td>\n",
              "      <td>LIGHT GOLD SOFT SHORT</td>\n",
              "      <td>1PC</td>\n",
              "      <td>2750.0</td>\n",
              "      <td>1.0</td>\n",
              "      <td>1.824212</td>\n",
              "    </tr>\n",
              "    <tr>\n",
              "      <th>93876</th>\n",
              "      <td>2020</td>\n",
              "      <td>Aug</td>\n",
              "      <td>Ashrafieh</td>\n",
              "      <td>000000PD02000672612</td>\n",
              "      <td>MEAL SOLUTIONS</td>\n",
              "      <td>RICE</td>\n",
              "      <td>AMERICAN RICE</td>\n",
              "      <td>421855</td>\n",
              "      <td>SPINNEYS</td>\n",
              "      <td>AMERICAN RICE</td>\n",
              "      <td>1KG</td>\n",
              "      <td>1750.0</td>\n",
              "      <td>2.0</td>\n",
              "      <td>2.321725</td>\n",
              "    </tr>\n",
              "    <tr>\n",
              "      <th>93877</th>\n",
              "      <td>2020</td>\n",
              "      <td>Aug</td>\n",
              "      <td>Ashrafieh</td>\n",
              "      <td>000000PD02000672612</td>\n",
              "      <td>HEALTH &amp; BEAUTY</td>\n",
              "      <td>FEMININE CARE</td>\n",
              "      <td>DAILY PANTILINERS</td>\n",
              "      <td>149132</td>\n",
              "      <td>FRESHDAYS</td>\n",
              "      <td>FRESH DAY STRING PANTYLINER</td>\n",
              "      <td>24'S</td>\n",
              "      <td>2999.0</td>\n",
              "      <td>1.0</td>\n",
              "      <td>1.989386</td>\n",
              "    </tr>\n",
              "    <tr>\n",
              "      <th>93878</th>\n",
              "      <td>2020</td>\n",
              "      <td>Aug</td>\n",
              "      <td>Ashrafieh</td>\n",
              "      <td>000000PD02000672612</td>\n",
              "      <td>CHILLED</td>\n",
              "      <td>DAIRY PRODUCTS</td>\n",
              "      <td>LABAN</td>\n",
              "      <td>427151</td>\n",
              "      <td>BONJUS</td>\n",
              "      <td>LABAN</td>\n",
              "      <td>2KG</td>\n",
              "      <td>4790.0</td>\n",
              "      <td>2.0</td>\n",
              "      <td>6.354892</td>\n",
              "    </tr>\n",
              "  </tbody>\n",
              "</table>\n",
              "</div>"
            ],
            "text/plain": [
              "       Year Month Store Name  ... Price_LL Quantity Sales_Value_$\n",
              "93874  2020   Aug  Ashrafieh  ...    750.0      1.0      0.497512\n",
              "93875  2020   Aug  Ashrafieh  ...   2750.0      1.0      1.824212\n",
              "93876  2020   Aug  Ashrafieh  ...   1750.0      2.0      2.321725\n",
              "93877  2020   Aug  Ashrafieh  ...   2999.0      1.0      1.989386\n",
              "93878  2020   Aug  Ashrafieh  ...   4790.0      2.0      6.354892\n",
              "\n",
              "[5 rows x 14 columns]"
            ]
          },
          "metadata": {
            "tags": []
          },
          "execution_count": 158
        }
      ]
    },
    {
      "cell_type": "code",
      "metadata": {
        "colab": {
          "base_uri": "https://localhost:8080/",
          "height": 302
        },
        "id": "cCYyebAU04u3",
        "outputId": "7c7a5d13-f872-42d9-abfa-7826e42eeb45"
      },
      "source": [
        "splitting_data_Sep= spinneys_dataset_df[spinneys_dataset_df['Month'] =='Sep'].copy()\n",
        "splitting_data_Sep.head()"
      ],
      "execution_count": null,
      "outputs": [
        {
          "output_type": "execute_result",
          "data": {
            "text/html": [
              "<div>\n",
              "<style scoped>\n",
              "    .dataframe tbody tr th:only-of-type {\n",
              "        vertical-align: middle;\n",
              "    }\n",
              "\n",
              "    .dataframe tbody tr th {\n",
              "        vertical-align: top;\n",
              "    }\n",
              "\n",
              "    .dataframe thead th {\n",
              "        text-align: right;\n",
              "    }\n",
              "</style>\n",
              "<table border=\"1\" class=\"dataframe\">\n",
              "  <thead>\n",
              "    <tr style=\"text-align: right;\">\n",
              "      <th></th>\n",
              "      <th>Year</th>\n",
              "      <th>Month</th>\n",
              "      <th>Store Name</th>\n",
              "      <th>Receipt Number</th>\n",
              "      <th>Category</th>\n",
              "      <th>Group</th>\n",
              "      <th>Sub Group</th>\n",
              "      <th>Item Number</th>\n",
              "      <th>Item Family</th>\n",
              "      <th>Item Description</th>\n",
              "      <th>Product Size</th>\n",
              "      <th>Price_LL</th>\n",
              "      <th>Quantity</th>\n",
              "      <th>Sales_Value_$</th>\n",
              "    </tr>\n",
              "  </thead>\n",
              "  <tbody>\n",
              "    <tr>\n",
              "      <th>182740</th>\n",
              "      <td>2019</td>\n",
              "      <td>Sep</td>\n",
              "      <td>Dbayeh</td>\n",
              "      <td>000000PD01000006455</td>\n",
              "      <td>MEAL SOLUTIONS</td>\n",
              "      <td>CANNED VEGETABLES</td>\n",
              "      <td>CANNED WHOLE MUSHROOMS</td>\n",
              "      <td>452719</td>\n",
              "      <td>AWA AKHDAR</td>\n",
              "      <td>P&amp;S MUSHROOM -20PCUT</td>\n",
              "      <td>2x400G</td>\n",
              "      <td>4999.0</td>\n",
              "      <td>1.0</td>\n",
              "      <td>3.316086</td>\n",
              "    </tr>\n",
              "    <tr>\n",
              "      <th>182741</th>\n",
              "      <td>2019</td>\n",
              "      <td>Sep</td>\n",
              "      <td>Dbayeh</td>\n",
              "      <td>000000PD01000006455</td>\n",
              "      <td>HEALTH &amp; BEAUTY</td>\n",
              "      <td>SOAP</td>\n",
              "      <td>LIQUID SOAP</td>\n",
              "      <td>398110</td>\n",
              "      <td>SPINNEYS</td>\n",
              "      <td>SOFT LIQUID SOAP</td>\n",
              "      <td>500ML</td>\n",
              "      <td>1750.0</td>\n",
              "      <td>2.0</td>\n",
              "      <td>2.321725</td>\n",
              "    </tr>\n",
              "    <tr>\n",
              "      <th>182742</th>\n",
              "      <td>2019</td>\n",
              "      <td>Sep</td>\n",
              "      <td>Dbayeh</td>\n",
              "      <td>000000PD01000006455</td>\n",
              "      <td>CHILLED</td>\n",
              "      <td>LOCAL/Import BREAD</td>\n",
              "      <td>BROWN BREAD</td>\n",
              "      <td>418114</td>\n",
              "      <td>WOODEN B</td>\n",
              "      <td>PITA WOODBEES BREAD 7LOAVES</td>\n",
              "      <td>400G</td>\n",
              "      <td>2500.0</td>\n",
              "      <td>1.0</td>\n",
              "      <td>1.658375</td>\n",
              "    </tr>\n",
              "    <tr>\n",
              "      <th>182743</th>\n",
              "      <td>2019</td>\n",
              "      <td>Sep</td>\n",
              "      <td>Dbayeh</td>\n",
              "      <td>000000PD01000006456</td>\n",
              "      <td>MEAL SOLUTIONS</td>\n",
              "      <td>BREAKFAST CEREAL</td>\n",
              "      <td>ADULT CEREAL BARS</td>\n",
              "      <td>293264</td>\n",
              "      <td>B/CROCKER</td>\n",
              "      <td>GRANOLA BAR OAT'S+HONEY</td>\n",
              "      <td>42G</td>\n",
              "      <td>1250.0</td>\n",
              "      <td>1.0</td>\n",
              "      <td>0.829187</td>\n",
              "    </tr>\n",
              "    <tr>\n",
              "      <th>182744</th>\n",
              "      <td>2019</td>\n",
              "      <td>Sep</td>\n",
              "      <td>Dbayeh</td>\n",
              "      <td>000000PD01000006456</td>\n",
              "      <td>MEAL SOLUTIONS</td>\n",
              "      <td>BREAKFAST CEREAL</td>\n",
              "      <td>ADULT CEREAL BARS</td>\n",
              "      <td>400003</td>\n",
              "      <td>POPPINS</td>\n",
              "      <td>BITES DARK CHOC &amp; BLUEBERRY</td>\n",
              "      <td>25G</td>\n",
              "      <td>500.0</td>\n",
              "      <td>2.0</td>\n",
              "      <td>0.663350</td>\n",
              "    </tr>\n",
              "  </tbody>\n",
              "</table>\n",
              "</div>"
            ],
            "text/plain": [
              "        Year Month Store Name  ... Price_LL Quantity Sales_Value_$\n",
              "182740  2019   Sep     Dbayeh  ...   4999.0      1.0      3.316086\n",
              "182741  2019   Sep     Dbayeh  ...   1750.0      2.0      2.321725\n",
              "182742  2019   Sep     Dbayeh  ...   2500.0      1.0      1.658375\n",
              "182743  2019   Sep     Dbayeh  ...   1250.0      1.0      0.829187\n",
              "182744  2019   Sep     Dbayeh  ...    500.0      2.0      0.663350\n",
              "\n",
              "[5 rows x 14 columns]"
            ]
          },
          "metadata": {
            "tags": []
          },
          "execution_count": 159
        }
      ]
    },
    {
      "cell_type": "code",
      "metadata": {
        "colab": {
          "base_uri": "https://localhost:8080/",
          "height": 48
        },
        "id": "1nTXeeBk0VVC",
        "outputId": "ad879603-c12d-4b7d-a8d5-b6a4a9bac3cf"
      },
      "source": [
        "splitting_data_Oct= spinneys_dataset_df[spinneys_dataset_df['Month'] =='Oct'].copy()\n",
        "splitting_data_Oct.head(10)"
      ],
      "execution_count": null,
      "outputs": [
        {
          "output_type": "execute_result",
          "data": {
            "text/html": [
              "<div>\n",
              "<style scoped>\n",
              "    .dataframe tbody tr th:only-of-type {\n",
              "        vertical-align: middle;\n",
              "    }\n",
              "\n",
              "    .dataframe tbody tr th {\n",
              "        vertical-align: top;\n",
              "    }\n",
              "\n",
              "    .dataframe thead th {\n",
              "        text-align: right;\n",
              "    }\n",
              "</style>\n",
              "<table border=\"1\" class=\"dataframe\">\n",
              "  <thead>\n",
              "    <tr style=\"text-align: right;\">\n",
              "      <th></th>\n",
              "      <th>Year</th>\n",
              "      <th>Month</th>\n",
              "      <th>Store Name</th>\n",
              "      <th>Receipt Number</th>\n",
              "      <th>Category</th>\n",
              "      <th>Group</th>\n",
              "      <th>Sub Group</th>\n",
              "      <th>Item Number</th>\n",
              "      <th>Item Family</th>\n",
              "      <th>Item Description</th>\n",
              "      <th>Product Size</th>\n",
              "      <th>Price_LL</th>\n",
              "      <th>Quantity</th>\n",
              "      <th>Sales_Value_$</th>\n",
              "    </tr>\n",
              "  </thead>\n",
              "  <tbody>\n",
              "  </tbody>\n",
              "</table>\n",
              "</div>"
            ],
            "text/plain": [
              "Empty DataFrame\n",
              "Columns: [Year, Month, Store Name, Receipt Number, Category, Group, Sub Group, Item Number, Item Family, Item Description, Product Size, Price_LL, Quantity, Sales_Value_$]\n",
              "Index: []"
            ]
          },
          "metadata": {
            "tags": []
          },
          "execution_count": 160
        }
      ]
    },
    {
      "cell_type": "code",
      "metadata": {
        "id": "3Le8iD9GI3-O"
      },
      "source": [
        ""
      ],
      "execution_count": null,
      "outputs": []
    },
    {
      "cell_type": "markdown",
      "metadata": {
        "id": "huUJyZ0JI2p8"
      },
      "source": [
        "## Splitting By category "
      ]
    },
    {
      "cell_type": "code",
      "metadata": {
        "colab": {
          "base_uri": "https://localhost:8080/"
        },
        "id": "vKMu3d1Q8ahZ",
        "outputId": "33508e93-d274-49ac-aee1-d4a827da9c70"
      },
      "source": [
        "splitting_data_By_Category = spinneys_dataset_df.groupby(\"Category\")[\"Category\"].count()\n",
        "splitting_data_By_Category.head()"
      ],
      "execution_count": null,
      "outputs": [
        {
          "output_type": "execute_result",
          "data": {
            "text/plain": [
              "Category\n",
              "ALCOHOL                      6442\n",
              "BABY                         2093\n",
              "BEVERAGES & READY TO EAT    88487\n",
              "CHILLED                     58364\n",
              "CLEANING                    25022\n",
              "Name: Category, dtype: int64"
            ]
          },
          "metadata": {
            "tags": []
          },
          "execution_count": 161
        }
      ]
    },
    {
      "cell_type": "code",
      "metadata": {
        "colab": {
          "base_uri": "https://localhost:8080/",
          "height": 202
        },
        "id": "QqcPHNUe8kZy",
        "outputId": "103f1223-f2b1-4699-912f-4d01c5f70dcd"
      },
      "source": [
        "splitting_data_By_Category_Alchool= spinneys_dataset_df[spinneys_dataset_df['Category'] =='ALCOHOL'].copy()\n",
        "splitting_data_By_Category_Alchool.head()"
      ],
      "execution_count": null,
      "outputs": [
        {
          "output_type": "execute_result",
          "data": {
            "text/html": [
              "<div>\n",
              "<style scoped>\n",
              "    .dataframe tbody tr th:only-of-type {\n",
              "        vertical-align: middle;\n",
              "    }\n",
              "\n",
              "    .dataframe tbody tr th {\n",
              "        vertical-align: top;\n",
              "    }\n",
              "\n",
              "    .dataframe thead th {\n",
              "        text-align: right;\n",
              "    }\n",
              "</style>\n",
              "<table border=\"1\" class=\"dataframe\">\n",
              "  <thead>\n",
              "    <tr style=\"text-align: right;\">\n",
              "      <th></th>\n",
              "      <th>Year</th>\n",
              "      <th>Month</th>\n",
              "      <th>Store Name</th>\n",
              "      <th>Receipt Number</th>\n",
              "      <th>Category</th>\n",
              "      <th>Group</th>\n",
              "      <th>Sub Group</th>\n",
              "      <th>Item Number</th>\n",
              "      <th>Item Family</th>\n",
              "      <th>Item Description</th>\n",
              "      <th>Product Size</th>\n",
              "      <th>Price_LL</th>\n",
              "      <th>Quantity</th>\n",
              "      <th>Sales_Value_$</th>\n",
              "    </tr>\n",
              "  </thead>\n",
              "  <tbody>\n",
              "    <tr>\n",
              "      <th>120</th>\n",
              "      <td>2021</td>\n",
              "      <td>Jul</td>\n",
              "      <td>Ashrafieh</td>\n",
              "      <td>000000PD02000660357</td>\n",
              "      <td>ALCOHOL</td>\n",
              "      <td>BEER &amp; CIDERS</td>\n",
              "      <td>ALCOHOLIC BEER</td>\n",
              "      <td>272513</td>\n",
              "      <td>ALMAZA</td>\n",
              "      <td>BEER BOTTLE</td>\n",
              "      <td>33CL</td>\n",
              "      <td>1750.0</td>\n",
              "      <td>4.0</td>\n",
              "      <td>4.643449</td>\n",
              "    </tr>\n",
              "    <tr>\n",
              "      <th>240</th>\n",
              "      <td>2021</td>\n",
              "      <td>Jul</td>\n",
              "      <td>Ashrafieh</td>\n",
              "      <td>000000PD02000660387</td>\n",
              "      <td>ALCOHOL</td>\n",
              "      <td>BEER &amp; CIDERS</td>\n",
              "      <td>ALCOHOLIC BEER</td>\n",
              "      <td>272513</td>\n",
              "      <td>ALMAZA</td>\n",
              "      <td>BEER BOTTLE</td>\n",
              "      <td>33CL</td>\n",
              "      <td>1750.0</td>\n",
              "      <td>2.0</td>\n",
              "      <td>2.321725</td>\n",
              "    </tr>\n",
              "    <tr>\n",
              "      <th>363</th>\n",
              "      <td>2021</td>\n",
              "      <td>Jul</td>\n",
              "      <td>Ashrafieh</td>\n",
              "      <td>000000PD02000660417</td>\n",
              "      <td>ALCOHOL</td>\n",
              "      <td>WINE</td>\n",
              "      <td>LOCAL WINES</td>\n",
              "      <td>101354</td>\n",
              "      <td>KSARA</td>\n",
              "      <td>BLANC DE BLANC</td>\n",
              "      <td>37.5CL</td>\n",
              "      <td>9999.0</td>\n",
              "      <td>1.0</td>\n",
              "      <td>6.632836</td>\n",
              "    </tr>\n",
              "    <tr>\n",
              "      <th>421</th>\n",
              "      <td>2021</td>\n",
              "      <td>Jul</td>\n",
              "      <td>Ashrafieh</td>\n",
              "      <td>000000PD02000660436</td>\n",
              "      <td>ALCOHOL</td>\n",
              "      <td>BEER &amp; CIDERS</td>\n",
              "      <td>ALCOHOLIC BEER</td>\n",
              "      <td>272513</td>\n",
              "      <td>ALMAZA</td>\n",
              "      <td>BEER BOTTLE</td>\n",
              "      <td>33CL</td>\n",
              "      <td>1750.0</td>\n",
              "      <td>12.0</td>\n",
              "      <td>13.930348</td>\n",
              "    </tr>\n",
              "    <tr>\n",
              "      <th>565</th>\n",
              "      <td>2021</td>\n",
              "      <td>Jul</td>\n",
              "      <td>Ashrafieh</td>\n",
              "      <td>000000PD02000660484</td>\n",
              "      <td>ALCOHOL</td>\n",
              "      <td>OTHER SPIRITS</td>\n",
              "      <td>ARACK</td>\n",
              "      <td>256023</td>\n",
              "      <td>LE BRUN</td>\n",
              "      <td>ARACK</td>\n",
              "      <td>37.5CL</td>\n",
              "      <td>17999.0</td>\n",
              "      <td>1.0</td>\n",
              "      <td>11.939635</td>\n",
              "    </tr>\n",
              "  </tbody>\n",
              "</table>\n",
              "</div>"
            ],
            "text/plain": [
              "     Year Month Store Name  ... Price_LL Quantity Sales_Value_$\n",
              "120  2021   Jul  Ashrafieh  ...   1750.0      4.0      4.643449\n",
              "240  2021   Jul  Ashrafieh  ...   1750.0      2.0      2.321725\n",
              "363  2021   Jul  Ashrafieh  ...   9999.0      1.0      6.632836\n",
              "421  2021   Jul  Ashrafieh  ...   1750.0     12.0     13.930348\n",
              "565  2021   Jul  Ashrafieh  ...  17999.0      1.0     11.939635\n",
              "\n",
              "[5 rows x 14 columns]"
            ]
          },
          "metadata": {
            "tags": []
          },
          "execution_count": 162
        }
      ]
    },
    {
      "cell_type": "code",
      "metadata": {
        "colab": {
          "base_uri": "https://localhost:8080/",
          "height": 202
        },
        "id": "wvb9X76886g7",
        "outputId": "110a9dd1-2c38-4185-bc98-49ec0fb9efe4"
      },
      "source": [
        "splitting_data_By_Category_BABY= spinneys_dataset_df[spinneys_dataset_df['Category'] =='BABY'].copy()\n",
        "splitting_data_By_Category_BABY.head()"
      ],
      "execution_count": null,
      "outputs": [
        {
          "output_type": "execute_result",
          "data": {
            "text/html": [
              "<div>\n",
              "<style scoped>\n",
              "    .dataframe tbody tr th:only-of-type {\n",
              "        vertical-align: middle;\n",
              "    }\n",
              "\n",
              "    .dataframe tbody tr th {\n",
              "        vertical-align: top;\n",
              "    }\n",
              "\n",
              "    .dataframe thead th {\n",
              "        text-align: right;\n",
              "    }\n",
              "</style>\n",
              "<table border=\"1\" class=\"dataframe\">\n",
              "  <thead>\n",
              "    <tr style=\"text-align: right;\">\n",
              "      <th></th>\n",
              "      <th>Year</th>\n",
              "      <th>Month</th>\n",
              "      <th>Store Name</th>\n",
              "      <th>Receipt Number</th>\n",
              "      <th>Category</th>\n",
              "      <th>Group</th>\n",
              "      <th>Sub Group</th>\n",
              "      <th>Item Number</th>\n",
              "      <th>Item Family</th>\n",
              "      <th>Item Description</th>\n",
              "      <th>Product Size</th>\n",
              "      <th>Price_LL</th>\n",
              "      <th>Quantity</th>\n",
              "      <th>Sales_Value_$</th>\n",
              "    </tr>\n",
              "  </thead>\n",
              "  <tbody>\n",
              "    <tr>\n",
              "      <th>264</th>\n",
              "      <td>2021</td>\n",
              "      <td>Jul</td>\n",
              "      <td>Ashrafieh</td>\n",
              "      <td>000000PD02000660396</td>\n",
              "      <td>BABY</td>\n",
              "      <td>BABY CARE</td>\n",
              "      <td>WIPES</td>\n",
              "      <td>337781</td>\n",
              "      <td>J &amp; J</td>\n",
              "      <td>JB WIPES EXTRA SENSIT B2G1 FR</td>\n",
              "      <td>3*56S</td>\n",
              "      <td>12999.0</td>\n",
              "      <td>1.0</td>\n",
              "      <td>8.622886</td>\n",
              "    </tr>\n",
              "    <tr>\n",
              "      <th>265</th>\n",
              "      <td>2021</td>\n",
              "      <td>Jul</td>\n",
              "      <td>Ashrafieh</td>\n",
              "      <td>000000PD02000660396</td>\n",
              "      <td>BABY</td>\n",
              "      <td>BABY CARE</td>\n",
              "      <td>TOILETRIES</td>\n",
              "      <td>215907</td>\n",
              "      <td>J &amp; J</td>\n",
              "      <td>BED TIME BATH</td>\n",
              "      <td>500ML</td>\n",
              "      <td>10595.0</td>\n",
              "      <td>2.0</td>\n",
              "      <td>14.056385</td>\n",
              "    </tr>\n",
              "    <tr>\n",
              "      <th>381</th>\n",
              "      <td>2021</td>\n",
              "      <td>Jul</td>\n",
              "      <td>Ashrafieh</td>\n",
              "      <td>000000PD02000660426</td>\n",
              "      <td>BABY</td>\n",
              "      <td>BABY CARE</td>\n",
              "      <td>BABY OIL</td>\n",
              "      <td>144039</td>\n",
              "      <td>J &amp; J</td>\n",
              "      <td>BABY OIL</td>\n",
              "      <td>300ML</td>\n",
              "      <td>9250.0</td>\n",
              "      <td>1.0</td>\n",
              "      <td>6.135987</td>\n",
              "    </tr>\n",
              "    <tr>\n",
              "      <th>393</th>\n",
              "      <td>2021</td>\n",
              "      <td>Jul</td>\n",
              "      <td>Ashrafieh</td>\n",
              "      <td>000000PD02000660432</td>\n",
              "      <td>BABY</td>\n",
              "      <td>BABY CARE</td>\n",
              "      <td>DIAPERS</td>\n",
              "      <td>457015</td>\n",
              "      <td>PAMPERS</td>\n",
              "      <td>PREMIUM CARE CARRY PACK S1 -8%</td>\n",
              "      <td>22S</td>\n",
              "      <td>6999.0</td>\n",
              "      <td>2.0</td>\n",
              "      <td>9.285572</td>\n",
              "    </tr>\n",
              "    <tr>\n",
              "      <th>394</th>\n",
              "      <td>2021</td>\n",
              "      <td>Jul</td>\n",
              "      <td>Ashrafieh</td>\n",
              "      <td>000000PD02000660432</td>\n",
              "      <td>BABY</td>\n",
              "      <td>BABY CARE</td>\n",
              "      <td>DIAPERS</td>\n",
              "      <td>457018</td>\n",
              "      <td>PAMPERS</td>\n",
              "      <td>PREMIUM CARE MIDCOUNT S3 -8%</td>\n",
              "      <td>25S</td>\n",
              "      <td>10999.0</td>\n",
              "      <td>2.0</td>\n",
              "      <td>14.592371</td>\n",
              "    </tr>\n",
              "  </tbody>\n",
              "</table>\n",
              "</div>"
            ],
            "text/plain": [
              "     Year Month Store Name  ... Price_LL Quantity Sales_Value_$\n",
              "264  2021   Jul  Ashrafieh  ...  12999.0      1.0      8.622886\n",
              "265  2021   Jul  Ashrafieh  ...  10595.0      2.0     14.056385\n",
              "381  2021   Jul  Ashrafieh  ...   9250.0      1.0      6.135987\n",
              "393  2021   Jul  Ashrafieh  ...   6999.0      2.0      9.285572\n",
              "394  2021   Jul  Ashrafieh  ...  10999.0      2.0     14.592371\n",
              "\n",
              "[5 rows x 14 columns]"
            ]
          },
          "metadata": {
            "tags": []
          },
          "execution_count": 163
        }
      ]
    },
    {
      "cell_type": "code",
      "metadata": {
        "colab": {
          "base_uri": "https://localhost:8080/",
          "height": 202
        },
        "id": "ISUL0FLX86lN",
        "outputId": "4bb923f8-c24c-48a6-ddce-ec3ffc9cd5e2"
      },
      "source": [
        "splitting_data_By_Category_BEVERAGES= spinneys_dataset_df[spinneys_dataset_df['Category'] =='BEVERAGES & READY TO EAT'].copy()\n",
        "splitting_data_By_Category_BEVERAGES.head()"
      ],
      "execution_count": null,
      "outputs": [
        {
          "output_type": "execute_result",
          "data": {
            "text/html": [
              "<div>\n",
              "<style scoped>\n",
              "    .dataframe tbody tr th:only-of-type {\n",
              "        vertical-align: middle;\n",
              "    }\n",
              "\n",
              "    .dataframe tbody tr th {\n",
              "        vertical-align: top;\n",
              "    }\n",
              "\n",
              "    .dataframe thead th {\n",
              "        text-align: right;\n",
              "    }\n",
              "</style>\n",
              "<table border=\"1\" class=\"dataframe\">\n",
              "  <thead>\n",
              "    <tr style=\"text-align: right;\">\n",
              "      <th></th>\n",
              "      <th>Year</th>\n",
              "      <th>Month</th>\n",
              "      <th>Store Name</th>\n",
              "      <th>Receipt Number</th>\n",
              "      <th>Category</th>\n",
              "      <th>Group</th>\n",
              "      <th>Sub Group</th>\n",
              "      <th>Item Number</th>\n",
              "      <th>Item Family</th>\n",
              "      <th>Item Description</th>\n",
              "      <th>Product Size</th>\n",
              "      <th>Price_LL</th>\n",
              "      <th>Quantity</th>\n",
              "      <th>Sales_Value_$</th>\n",
              "    </tr>\n",
              "  </thead>\n",
              "  <tbody>\n",
              "    <tr>\n",
              "      <th>1</th>\n",
              "      <td>2021</td>\n",
              "      <td>Jul</td>\n",
              "      <td>Ashrafieh</td>\n",
              "      <td>000000PD02000660322</td>\n",
              "      <td>BEVERAGES &amp; READY TO EAT</td>\n",
              "      <td>BISCUITS</td>\n",
              "      <td>WAFERS</td>\n",
              "      <td>104874</td>\n",
              "      <td>GANDOUR</td>\n",
              "      <td>GANDOUR UNICA</td>\n",
              "      <td>27G</td>\n",
              "      <td>250.0</td>\n",
              "      <td>1.0</td>\n",
              "      <td>0.165837</td>\n",
              "    </tr>\n",
              "    <tr>\n",
              "      <th>2</th>\n",
              "      <td>2021</td>\n",
              "      <td>Jul</td>\n",
              "      <td>Ashrafieh</td>\n",
              "      <td>000000PD02000660322</td>\n",
              "      <td>BEVERAGES &amp; READY TO EAT</td>\n",
              "      <td>CAKES</td>\n",
              "      <td>MINI CAKES</td>\n",
              "      <td>135173</td>\n",
              "      <td>ENG.CAKE</td>\n",
              "      <td>CAKE PLAIN</td>\n",
              "      <td>65G</td>\n",
              "      <td>595.0</td>\n",
              "      <td>1.0</td>\n",
              "      <td>0.394693</td>\n",
              "    </tr>\n",
              "    <tr>\n",
              "      <th>3</th>\n",
              "      <td>2021</td>\n",
              "      <td>Jul</td>\n",
              "      <td>Ashrafieh</td>\n",
              "      <td>000000PD02000660322</td>\n",
              "      <td>BEVERAGES &amp; READY TO EAT</td>\n",
              "      <td>CAKES</td>\n",
              "      <td>CROISSANT</td>\n",
              "      <td>479487</td>\n",
              "      <td>KARUZO</td>\n",
              "      <td>CROISSANT CHESSECAKE</td>\n",
              "      <td>62G</td>\n",
              "      <td>750.0</td>\n",
              "      <td>1.0</td>\n",
              "      <td>0.497512</td>\n",
              "    </tr>\n",
              "    <tr>\n",
              "      <th>10</th>\n",
              "      <td>2021</td>\n",
              "      <td>Jul</td>\n",
              "      <td>Ashrafieh</td>\n",
              "      <td>000000PD02000660326</td>\n",
              "      <td>BEVERAGES &amp; READY TO EAT</td>\n",
              "      <td>SOFT DRINKS</td>\n",
              "      <td>CARBONATED CANS</td>\n",
              "      <td>110773</td>\n",
              "      <td>SEVEN UP</td>\n",
              "      <td>SEVEN UP DIET CAN</td>\n",
              "      <td>330ML</td>\n",
              "      <td>750.0</td>\n",
              "      <td>1.0</td>\n",
              "      <td>0.497512</td>\n",
              "    </tr>\n",
              "    <tr>\n",
              "      <th>18</th>\n",
              "      <td>2021</td>\n",
              "      <td>Jul</td>\n",
              "      <td>Ashrafieh</td>\n",
              "      <td>000000PD02000660328</td>\n",
              "      <td>BEVERAGES &amp; READY TO EAT</td>\n",
              "      <td>SOFT DRINKS</td>\n",
              "      <td>CARBONATED CANS</td>\n",
              "      <td>376557</td>\n",
              "      <td>PEPSI</td>\n",
              "      <td>PEPSI DIET</td>\n",
              "      <td>150ML</td>\n",
              "      <td>499.9</td>\n",
              "      <td>40.0</td>\n",
              "      <td>13.264345</td>\n",
              "    </tr>\n",
              "  </tbody>\n",
              "</table>\n",
              "</div>"
            ],
            "text/plain": [
              "    Year Month Store Name  ... Price_LL Quantity Sales_Value_$\n",
              "1   2021   Jul  Ashrafieh  ...    250.0      1.0      0.165837\n",
              "2   2021   Jul  Ashrafieh  ...    595.0      1.0      0.394693\n",
              "3   2021   Jul  Ashrafieh  ...    750.0      1.0      0.497512\n",
              "10  2021   Jul  Ashrafieh  ...    750.0      1.0      0.497512\n",
              "18  2021   Jul  Ashrafieh  ...    499.9     40.0     13.264345\n",
              "\n",
              "[5 rows x 14 columns]"
            ]
          },
          "metadata": {
            "tags": []
          },
          "execution_count": 164
        }
      ]
    },
    {
      "cell_type": "code",
      "metadata": {
        "colab": {
          "base_uri": "https://localhost:8080/",
          "height": 202
        },
        "id": "IOkUCC4T86p-",
        "outputId": "82de124c-3f3e-485c-c2f8-691bba5a48d2"
      },
      "source": [
        "splitting_data_By_Category_CHILLED= spinneys_dataset_df[spinneys_dataset_df['Category'] =='CHILLED'].copy()\n",
        "splitting_data_By_Category_CHILLED.head()"
      ],
      "execution_count": null,
      "outputs": [
        {
          "output_type": "execute_result",
          "data": {
            "text/html": [
              "<div>\n",
              "<style scoped>\n",
              "    .dataframe tbody tr th:only-of-type {\n",
              "        vertical-align: middle;\n",
              "    }\n",
              "\n",
              "    .dataframe tbody tr th {\n",
              "        vertical-align: top;\n",
              "    }\n",
              "\n",
              "    .dataframe thead th {\n",
              "        text-align: right;\n",
              "    }\n",
              "</style>\n",
              "<table border=\"1\" class=\"dataframe\">\n",
              "  <thead>\n",
              "    <tr style=\"text-align: right;\">\n",
              "      <th></th>\n",
              "      <th>Year</th>\n",
              "      <th>Month</th>\n",
              "      <th>Store Name</th>\n",
              "      <th>Receipt Number</th>\n",
              "      <th>Category</th>\n",
              "      <th>Group</th>\n",
              "      <th>Sub Group</th>\n",
              "      <th>Item Number</th>\n",
              "      <th>Item Family</th>\n",
              "      <th>Item Description</th>\n",
              "      <th>Product Size</th>\n",
              "      <th>Price_LL</th>\n",
              "      <th>Quantity</th>\n",
              "      <th>Sales_Value_$</th>\n",
              "    </tr>\n",
              "  </thead>\n",
              "  <tbody>\n",
              "    <tr>\n",
              "      <th>8</th>\n",
              "      <td>2021</td>\n",
              "      <td>Jul</td>\n",
              "      <td>Ashrafieh</td>\n",
              "      <td>000000PD02000660323</td>\n",
              "      <td>CHILLED</td>\n",
              "      <td>BUTTER+OTHERS</td>\n",
              "      <td>BUTTER</td>\n",
              "      <td>358539</td>\n",
              "      <td>LURPAK</td>\n",
              "      <td>DANISH BUTTER -10%</td>\n",
              "      <td>200G</td>\n",
              "      <td>3250.0</td>\n",
              "      <td>2.0</td>\n",
              "      <td>4.311774</td>\n",
              "    </tr>\n",
              "    <tr>\n",
              "      <th>9</th>\n",
              "      <td>2021</td>\n",
              "      <td>Jul</td>\n",
              "      <td>Ashrafieh</td>\n",
              "      <td>000000PD02000660323</td>\n",
              "      <td>CHILLED</td>\n",
              "      <td>LOCAL/Import BREAD</td>\n",
              "      <td>BROWN BREAD</td>\n",
              "      <td>393636</td>\n",
              "      <td>M/D'OR</td>\n",
              "      <td>PIN ARABE BLE COMPLET SANS SEL</td>\n",
              "      <td>525G</td>\n",
              "      <td>2000.0</td>\n",
              "      <td>1.0</td>\n",
              "      <td>1.326700</td>\n",
              "    </tr>\n",
              "    <tr>\n",
              "      <th>24</th>\n",
              "      <td>2021</td>\n",
              "      <td>Jul</td>\n",
              "      <td>Ashrafieh</td>\n",
              "      <td>000000PD02000660328</td>\n",
              "      <td>CHILLED</td>\n",
              "      <td>LOCAL/Import BREAD</td>\n",
              "      <td>WHITE BREAD</td>\n",
              "      <td>368006</td>\n",
              "      <td>WOODEN B</td>\n",
              "      <td>PITA WHITE MEDIUM 6 LOAVES</td>\n",
              "      <td>420G</td>\n",
              "      <td>1000.0</td>\n",
              "      <td>1.0</td>\n",
              "      <td>0.663350</td>\n",
              "    </tr>\n",
              "    <tr>\n",
              "      <th>25</th>\n",
              "      <td>2021</td>\n",
              "      <td>Jul</td>\n",
              "      <td>Ashrafieh</td>\n",
              "      <td>000000PD02000660328</td>\n",
              "      <td>CHILLED</td>\n",
              "      <td>LOCAL/Import BREAD</td>\n",
              "      <td>OTHER LOCAL/IMPORTED BREAD</td>\n",
              "      <td>368022</td>\n",
              "      <td>WOODEN B</td>\n",
              "      <td>PITA OAT BREAD 6LOAVES</td>\n",
              "      <td>340G</td>\n",
              "      <td>3000.0</td>\n",
              "      <td>1.0</td>\n",
              "      <td>1.990050</td>\n",
              "    </tr>\n",
              "    <tr>\n",
              "      <th>26</th>\n",
              "      <td>2021</td>\n",
              "      <td>Jul</td>\n",
              "      <td>Ashrafieh</td>\n",
              "      <td>000000PD02000660328</td>\n",
              "      <td>CHILLED</td>\n",
              "      <td>EGGS</td>\n",
              "      <td>RED</td>\n",
              "      <td>279861</td>\n",
              "      <td>HAWA</td>\n",
              "      <td>EGGS RED</td>\n",
              "      <td>10PC</td>\n",
              "      <td>3590.0</td>\n",
              "      <td>1.0</td>\n",
              "      <td>2.381426</td>\n",
              "    </tr>\n",
              "  </tbody>\n",
              "</table>\n",
              "</div>"
            ],
            "text/plain": [
              "    Year Month Store Name  ... Price_LL Quantity Sales_Value_$\n",
              "8   2021   Jul  Ashrafieh  ...   3250.0      2.0      4.311774\n",
              "9   2021   Jul  Ashrafieh  ...   2000.0      1.0      1.326700\n",
              "24  2021   Jul  Ashrafieh  ...   1000.0      1.0      0.663350\n",
              "25  2021   Jul  Ashrafieh  ...   3000.0      1.0      1.990050\n",
              "26  2021   Jul  Ashrafieh  ...   3590.0      1.0      2.381426\n",
              "\n",
              "[5 rows x 14 columns]"
            ]
          },
          "metadata": {
            "tags": []
          },
          "execution_count": 165
        }
      ]
    },
    {
      "cell_type": "code",
      "metadata": {
        "colab": {
          "base_uri": "https://localhost:8080/",
          "height": 202
        },
        "id": "uEWayhPy86uC",
        "outputId": "6e273fdd-3821-40be-ee30-ae30329fa330"
      },
      "source": [
        "splitting_data_By_Category_CLEANING= spinneys_dataset_df[spinneys_dataset_df['Category'] =='CLEANING'].copy()\n",
        "splitting_data_By_Category_CLEANING.head()"
      ],
      "execution_count": null,
      "outputs": [
        {
          "output_type": "execute_result",
          "data": {
            "text/html": [
              "<div>\n",
              "<style scoped>\n",
              "    .dataframe tbody tr th:only-of-type {\n",
              "        vertical-align: middle;\n",
              "    }\n",
              "\n",
              "    .dataframe tbody tr th {\n",
              "        vertical-align: top;\n",
              "    }\n",
              "\n",
              "    .dataframe thead th {\n",
              "        text-align: right;\n",
              "    }\n",
              "</style>\n",
              "<table border=\"1\" class=\"dataframe\">\n",
              "  <thead>\n",
              "    <tr style=\"text-align: right;\">\n",
              "      <th></th>\n",
              "      <th>Year</th>\n",
              "      <th>Month</th>\n",
              "      <th>Store Name</th>\n",
              "      <th>Receipt Number</th>\n",
              "      <th>Category</th>\n",
              "      <th>Group</th>\n",
              "      <th>Sub Group</th>\n",
              "      <th>Item Number</th>\n",
              "      <th>Item Family</th>\n",
              "      <th>Item Description</th>\n",
              "      <th>Product Size</th>\n",
              "      <th>Price_LL</th>\n",
              "      <th>Quantity</th>\n",
              "      <th>Sales_Value_$</th>\n",
              "    </tr>\n",
              "  </thead>\n",
              "  <tbody>\n",
              "    <tr>\n",
              "      <th>7</th>\n",
              "      <td>2021</td>\n",
              "      <td>Jul</td>\n",
              "      <td>Ashrafieh</td>\n",
              "      <td>000000PD02000660323</td>\n",
              "      <td>CLEANING</td>\n",
              "      <td>ALUMINUM FOIL &amp; CLING</td>\n",
              "      <td>ALUMINUM FOIL</td>\n",
              "      <td>266717</td>\n",
              "      <td>SANITA</td>\n",
              "      <td>CLASSIC ALUMINUM</td>\n",
              "      <td>25SQ</td>\n",
              "      <td>2750.0</td>\n",
              "      <td>1.0</td>\n",
              "      <td>1.824212</td>\n",
              "    </tr>\n",
              "    <tr>\n",
              "      <th>23</th>\n",
              "      <td>2021</td>\n",
              "      <td>Jul</td>\n",
              "      <td>Ashrafieh</td>\n",
              "      <td>000000PD02000660328</td>\n",
              "      <td>CLEANING</td>\n",
              "      <td>PAPER GOODS</td>\n",
              "      <td>FACIAL TISSUES BAG</td>\n",
              "      <td>148173</td>\n",
              "      <td>SPINNEYS</td>\n",
              "      <td>FACIAL TISSUE TRANSP.PACK</td>\n",
              "      <td>200'S</td>\n",
              "      <td>1599.0</td>\n",
              "      <td>1.0</td>\n",
              "      <td>1.060697</td>\n",
              "    </tr>\n",
              "    <tr>\n",
              "      <th>27</th>\n",
              "      <td>2021</td>\n",
              "      <td>Jul</td>\n",
              "      <td>Ashrafieh</td>\n",
              "      <td>000000PD02000660329</td>\n",
              "      <td>CLEANING</td>\n",
              "      <td>KITCHEN</td>\n",
              "      <td>DISPOSABLE GLOVES</td>\n",
              "      <td>386901</td>\n",
              "      <td>SPINNEYS</td>\n",
              "      <td>POWDER FREE GLOVES MEDIUM</td>\n",
              "      <td>MEDUIM</td>\n",
              "      <td>7500.0</td>\n",
              "      <td>1.0</td>\n",
              "      <td>4.975124</td>\n",
              "    </tr>\n",
              "    <tr>\n",
              "      <th>69</th>\n",
              "      <td>2021</td>\n",
              "      <td>Jul</td>\n",
              "      <td>Ashrafieh</td>\n",
              "      <td>000000PD02000660346</td>\n",
              "      <td>CLEANING</td>\n",
              "      <td>TRASH BAGS</td>\n",
              "      <td>REGULAR TRASH BAG</td>\n",
              "      <td>134103</td>\n",
              "      <td>SPINNEYS</td>\n",
              "      <td>TRASH BAG BLUE 30'S</td>\n",
              "      <td>LARGE</td>\n",
              "      <td>5750.0</td>\n",
              "      <td>1.0</td>\n",
              "      <td>3.814262</td>\n",
              "    </tr>\n",
              "    <tr>\n",
              "      <th>74</th>\n",
              "      <td>2021</td>\n",
              "      <td>Jul</td>\n",
              "      <td>Ashrafieh</td>\n",
              "      <td>000000PD02000660349</td>\n",
              "      <td>CLEANING</td>\n",
              "      <td>DISH WASHING</td>\n",
              "      <td>LIQUID DISH WASHING</td>\n",
              "      <td>437532</td>\n",
              "      <td>FAIRY</td>\n",
              "      <td>ORIGINAL DISHWASHING</td>\n",
              "      <td>450ML</td>\n",
              "      <td>2999.0</td>\n",
              "      <td>1.0</td>\n",
              "      <td>1.989386</td>\n",
              "    </tr>\n",
              "  </tbody>\n",
              "</table>\n",
              "</div>"
            ],
            "text/plain": [
              "    Year Month Store Name  ... Price_LL Quantity Sales_Value_$\n",
              "7   2021   Jul  Ashrafieh  ...   2750.0      1.0      1.824212\n",
              "23  2021   Jul  Ashrafieh  ...   1599.0      1.0      1.060697\n",
              "27  2021   Jul  Ashrafieh  ...   7500.0      1.0      4.975124\n",
              "69  2021   Jul  Ashrafieh  ...   5750.0      1.0      3.814262\n",
              "74  2021   Jul  Ashrafieh  ...   2999.0      1.0      1.989386\n",
              "\n",
              "[5 rows x 14 columns]"
            ]
          },
          "metadata": {
            "tags": []
          },
          "execution_count": 166
        }
      ]
    },
    {
      "cell_type": "markdown",
      "metadata": {
        "id": "pE0fQYjph-0y"
      },
      "source": [
        "# Adding Sales column\n",
        "Adding new col name sales by multiplying the col quantity with the Sales_Value_$ and get the Sales in dollar.\n"
      ]
    },
    {
      "cell_type": "code",
      "metadata": {
        "colab": {
          "base_uri": "https://localhost:8080/"
        },
        "id": "EWXSzgMt86zt",
        "outputId": "b8edaedc-6af3-45cb-a744-a9cd75a24207"
      },
      "source": [
        "spinneys_dataset_new_df['Sales'] = np.matmul(spinneys_dataset_df['Price_LL'] , spinneys_dataset_df ['Quantity'])\n",
        "spinneys_dataset_new_df['Sales']"
      ],
      "execution_count": null,
      "outputs": [
        {
          "output_type": "execute_result",
          "data": {
            "text/plain": [
              "0         1.307907e+09\n",
              "1         1.307907e+09\n",
              "2         1.307907e+09\n",
              "3         1.307907e+09\n",
              "4         1.307907e+09\n",
              "              ...     \n",
              "278540    1.307907e+09\n",
              "278541    1.307907e+09\n",
              "278542    1.307907e+09\n",
              "278543    1.307907e+09\n",
              "278544    1.307907e+09\n",
              "Name: Sales, Length: 278484, dtype: float64"
            ]
          },
          "metadata": {
            "tags": []
          },
          "execution_count": 168
        }
      ]
    },
    {
      "cell_type": "code",
      "metadata": {
        "colab": {
          "base_uri": "https://localhost:8080/"
        },
        "id": "1PvCPj77865H",
        "outputId": "7d305436-b542-4d61-d1f2-06a458484497"
      },
      "source": [
        "spinneys_dataset_new_df['Sales'].dtype"
      ],
      "execution_count": null,
      "outputs": [
        {
          "output_type": "execute_result",
          "data": {
            "text/plain": [
              "dtype('float64')"
            ]
          },
          "metadata": {
            "tags": []
          },
          "execution_count": 169
        }
      ]
    },
    {
      "cell_type": "code",
      "metadata": {
        "id": "LjHmqSpk_8ln"
      },
      "source": [
        "spinneys_dataset_new_df['Sales'] = spinneys_dataset_new_df['Sales'].astype(int)"
      ],
      "execution_count": null,
      "outputs": []
    },
    {
      "cell_type": "code",
      "metadata": {
        "colab": {
          "base_uri": "https://localhost:8080/"
        },
        "id": "rqM-t_Kj_8o8",
        "outputId": "6c43bc23-4f7b-4ef7-d273-fd6e5348e6e7"
      },
      "source": [
        "spinneys_dataset_new_df['Sales'].dtype\n"
      ],
      "execution_count": null,
      "outputs": [
        {
          "output_type": "execute_result",
          "data": {
            "text/plain": [
              "dtype('int64')"
            ]
          },
          "metadata": {
            "tags": []
          },
          "execution_count": 171
        }
      ]
    },
    {
      "cell_type": "code",
      "metadata": {
        "colab": {
          "base_uri": "https://localhost:8080/"
        },
        "id": "BUDnKoDQ_8t8",
        "outputId": "ec991561-a128-4253-ff14-1f316eb26646"
      },
      "source": [
        "spinneys_dataset_new_df['Sales']"
      ],
      "execution_count": null,
      "outputs": [
        {
          "output_type": "execute_result",
          "data": {
            "text/plain": [
              "0         1307906662\n",
              "1         1307906662\n",
              "2         1307906662\n",
              "3         1307906662\n",
              "4         1307906662\n",
              "             ...    \n",
              "278540    1307906662\n",
              "278541    1307906662\n",
              "278542    1307906662\n",
              "278543    1307906662\n",
              "278544    1307906662\n",
              "Name: Sales, Length: 278484, dtype: int64"
            ]
          },
          "metadata": {
            "tags": []
          },
          "execution_count": 172
        }
      ]
    },
    {
      "cell_type": "code",
      "metadata": {
        "colab": {
          "base_uri": "https://localhost:8080/",
          "height": 597
        },
        "id": "4MtP9qm6h3Z7",
        "outputId": "c09d3a44-43f3-43f2-d0be-91acc07d7a28"
      },
      "source": [
        "spinneys_dataset_new_df"
      ],
      "execution_count": null,
      "outputs": [
        {
          "output_type": "execute_result",
          "data": {
            "text/html": [
              "<div>\n",
              "<style scoped>\n",
              "    .dataframe tbody tr th:only-of-type {\n",
              "        vertical-align: middle;\n",
              "    }\n",
              "\n",
              "    .dataframe tbody tr th {\n",
              "        vertical-align: top;\n",
              "    }\n",
              "\n",
              "    .dataframe thead th {\n",
              "        text-align: right;\n",
              "    }\n",
              "</style>\n",
              "<table border=\"1\" class=\"dataframe\">\n",
              "  <thead>\n",
              "    <tr style=\"text-align: right;\">\n",
              "      <th></th>\n",
              "      <th>Year</th>\n",
              "      <th>Month</th>\n",
              "      <th>Store Name</th>\n",
              "      <th>Receipt Number</th>\n",
              "      <th>Category</th>\n",
              "      <th>Group</th>\n",
              "      <th>Sub Group</th>\n",
              "      <th>Item Number</th>\n",
              "      <th>Item Family</th>\n",
              "      <th>Item Description</th>\n",
              "      <th>Product Size</th>\n",
              "      <th>SKU</th>\n",
              "      <th>Quantity</th>\n",
              "      <th>Sales Value $</th>\n",
              "      <th>Sales</th>\n",
              "    </tr>\n",
              "  </thead>\n",
              "  <tbody>\n",
              "    <tr>\n",
              "      <th>0</th>\n",
              "      <td>2019</td>\n",
              "      <td>Jul</td>\n",
              "      <td>Ashrafieh</td>\n",
              "      <td>000000PD02000660322</td>\n",
              "      <td>MEAL SOLUTIONS</td>\n",
              "      <td>HOT BEVERAGES</td>\n",
              "      <td>FLAVORED INSTANT COFFEE</td>\n",
              "      <td>264164</td>\n",
              "      <td>NESCAFE</td>\n",
              "      <td>NESCAFE 3IN1 CLASSIC BAG</td>\n",
              "      <td>30*20G</td>\n",
              "      <td>250.0</td>\n",
              "      <td>2.0</td>\n",
              "      <td>0.331675</td>\n",
              "      <td>1307906662</td>\n",
              "    </tr>\n",
              "    <tr>\n",
              "      <th>1</th>\n",
              "      <td>2019</td>\n",
              "      <td>Jul</td>\n",
              "      <td>Ashrafieh</td>\n",
              "      <td>000000PD02000660322</td>\n",
              "      <td>BEVERAGES &amp; READY TO EAT</td>\n",
              "      <td>BISCUITS</td>\n",
              "      <td>WAFERS</td>\n",
              "      <td>104874</td>\n",
              "      <td>GANDOUR</td>\n",
              "      <td>GANDOUR UNICA</td>\n",
              "      <td>27G</td>\n",
              "      <td>250.0</td>\n",
              "      <td>1.0</td>\n",
              "      <td>0.165837</td>\n",
              "      <td>1307906662</td>\n",
              "    </tr>\n",
              "    <tr>\n",
              "      <th>2</th>\n",
              "      <td>2019</td>\n",
              "      <td>Jul</td>\n",
              "      <td>Ashrafieh</td>\n",
              "      <td>000000PD02000660322</td>\n",
              "      <td>BEVERAGES &amp; READY TO EAT</td>\n",
              "      <td>CAKES</td>\n",
              "      <td>MINI CAKES</td>\n",
              "      <td>135173</td>\n",
              "      <td>ENG.CAKE</td>\n",
              "      <td>CAKE PLAIN</td>\n",
              "      <td>65G</td>\n",
              "      <td>595.0</td>\n",
              "      <td>1.0</td>\n",
              "      <td>0.394693</td>\n",
              "      <td>1307906662</td>\n",
              "    </tr>\n",
              "    <tr>\n",
              "      <th>3</th>\n",
              "      <td>2019</td>\n",
              "      <td>Jul</td>\n",
              "      <td>Ashrafieh</td>\n",
              "      <td>000000PD02000660322</td>\n",
              "      <td>BEVERAGES &amp; READY TO EAT</td>\n",
              "      <td>CAKES</td>\n",
              "      <td>CROISSANT</td>\n",
              "      <td>479487</td>\n",
              "      <td>KARUZO</td>\n",
              "      <td>CROISSANT CHESSECAKE</td>\n",
              "      <td>62G</td>\n",
              "      <td>750.0</td>\n",
              "      <td>1.0</td>\n",
              "      <td>0.497512</td>\n",
              "      <td>1307906662</td>\n",
              "    </tr>\n",
              "    <tr>\n",
              "      <th>4</th>\n",
              "      <td>2019</td>\n",
              "      <td>Jul</td>\n",
              "      <td>Ashrafieh</td>\n",
              "      <td>000000PD02000660322</td>\n",
              "      <td>TOBACCO</td>\n",
              "      <td>CIGARETTES</td>\n",
              "      <td>FULL STRENGTH</td>\n",
              "      <td>488316</td>\n",
              "      <td>WINSTON</td>\n",
              "      <td>BLUE COMPACT BOX SHORT</td>\n",
              "      <td>1PC</td>\n",
              "      <td>1999.0</td>\n",
              "      <td>1.0</td>\n",
              "      <td>1.326036</td>\n",
              "      <td>1307906662</td>\n",
              "    </tr>\n",
              "    <tr>\n",
              "      <th>...</th>\n",
              "      <td>...</td>\n",
              "      <td>...</td>\n",
              "      <td>...</td>\n",
              "      <td>...</td>\n",
              "      <td>...</td>\n",
              "      <td>...</td>\n",
              "      <td>...</td>\n",
              "      <td>...</td>\n",
              "      <td>...</td>\n",
              "      <td>...</td>\n",
              "      <td>...</td>\n",
              "      <td>...</td>\n",
              "      <td>...</td>\n",
              "      <td>...</td>\n",
              "      <td>...</td>\n",
              "    </tr>\n",
              "    <tr>\n",
              "      <th>278540</th>\n",
              "      <td>2019</td>\n",
              "      <td>Oct</td>\n",
              "      <td>Jbeil</td>\n",
              "      <td>000000PD03000770721</td>\n",
              "      <td>CHILLED</td>\n",
              "      <td>DAIRY PRODUCTS</td>\n",
              "      <td>LABNEH</td>\n",
              "      <td>142839</td>\n",
              "      <td>F/TAANAYEL</td>\n",
              "      <td>LABNEH BALADI</td>\n",
              "      <td>500G</td>\n",
              "      <td>6500.0</td>\n",
              "      <td>1.0</td>\n",
              "      <td>4.311774</td>\n",
              "      <td>1307906662</td>\n",
              "    </tr>\n",
              "    <tr>\n",
              "      <th>278541</th>\n",
              "      <td>2019</td>\n",
              "      <td>Oct</td>\n",
              "      <td>Jbeil</td>\n",
              "      <td>000000PD03000770721</td>\n",
              "      <td>CHILLED</td>\n",
              "      <td>IMPORTED CHEESE</td>\n",
              "      <td>CHEESE TUBS</td>\n",
              "      <td>336923</td>\n",
              "      <td>KIRI</td>\n",
              "      <td>KIRI SNOW SPREAD</td>\n",
              "      <td>350G</td>\n",
              "      <td>7250.0</td>\n",
              "      <td>1.0</td>\n",
              "      <td>4.809287</td>\n",
              "      <td>1307906662</td>\n",
              "    </tr>\n",
              "    <tr>\n",
              "      <th>278542</th>\n",
              "      <td>2019</td>\n",
              "      <td>Oct</td>\n",
              "      <td>Jbeil</td>\n",
              "      <td>000000PD03000770721</td>\n",
              "      <td>CHILLED</td>\n",
              "      <td>LOCAL/Import BREAD</td>\n",
              "      <td>ARABIC BREAD</td>\n",
              "      <td>440233</td>\n",
              "      <td>WOODEN B</td>\n",
              "      <td>TANNOUR BREAD SMALL 5\"S</td>\n",
              "      <td>160G</td>\n",
              "      <td>500.0</td>\n",
              "      <td>1.0</td>\n",
              "      <td>0.331675</td>\n",
              "      <td>1307906662</td>\n",
              "    </tr>\n",
              "    <tr>\n",
              "      <th>278543</th>\n",
              "      <td>2019</td>\n",
              "      <td>Oct</td>\n",
              "      <td>Jbeil</td>\n",
              "      <td>000000PD03000770721</td>\n",
              "      <td>CHILLED</td>\n",
              "      <td>LOCAL/Import BREAD</td>\n",
              "      <td>OTHER LOCAL/IMPORTED BREAD</td>\n",
              "      <td>175191</td>\n",
              "      <td>PAIN D'OR</td>\n",
              "      <td>PAIN AU LAIT</td>\n",
              "      <td>9PC</td>\n",
              "      <td>3750.0</td>\n",
              "      <td>1.0</td>\n",
              "      <td>2.487562</td>\n",
              "      <td>1307906662</td>\n",
              "    </tr>\n",
              "    <tr>\n",
              "      <th>278544</th>\n",
              "      <td>2019</td>\n",
              "      <td>Oct</td>\n",
              "      <td>Jbeil</td>\n",
              "      <td>000000PD03000770724</td>\n",
              "      <td>BEVERAGES &amp; READY TO EAT</td>\n",
              "      <td>SOFT DRINKS</td>\n",
              "      <td>ENERGY DRINKS</td>\n",
              "      <td>428093</td>\n",
              "      <td>XXL</td>\n",
              "      <td>XXL ENERGIE DRINK REGULAR</td>\n",
              "      <td>50CL</td>\n",
              "      <td>1999.0</td>\n",
              "      <td>1.0</td>\n",
              "      <td>1.326036</td>\n",
              "      <td>1307906662</td>\n",
              "    </tr>\n",
              "  </tbody>\n",
              "</table>\n",
              "<p>278484 rows × 15 columns</p>\n",
              "</div>"
            ],
            "text/plain": [
              "        Year Month Store Name  ... Quantity Sales Value $       Sales\n",
              "0       2019   Jul  Ashrafieh  ...      2.0      0.331675  1307906662\n",
              "1       2019   Jul  Ashrafieh  ...      1.0      0.165837  1307906662\n",
              "2       2019   Jul  Ashrafieh  ...      1.0      0.394693  1307906662\n",
              "3       2019   Jul  Ashrafieh  ...      1.0      0.497512  1307906662\n",
              "4       2019   Jul  Ashrafieh  ...      1.0      1.326036  1307906662\n",
              "...      ...   ...        ...  ...      ...           ...         ...\n",
              "278540  2019   Oct      Jbeil  ...      1.0      4.311774  1307906662\n",
              "278541  2019   Oct      Jbeil  ...      1.0      4.809287  1307906662\n",
              "278542  2019   Oct      Jbeil  ...      1.0      0.331675  1307906662\n",
              "278543  2019   Oct      Jbeil  ...      1.0      2.487562  1307906662\n",
              "278544  2019   Oct      Jbeil  ...      1.0      1.326036  1307906662\n",
              "\n",
              "[278484 rows x 15 columns]"
            ]
          },
          "metadata": {
            "tags": []
          },
          "execution_count": 204
        }
      ]
    },
    {
      "cell_type": "markdown",
      "metadata": {
        "id": "ZDWCyiTsgLBq"
      },
      "source": [
        "## Splitting by year \n"
      ]
    },
    {
      "cell_type": "code",
      "metadata": {
        "id": "QqntApPzgQJ2"
      },
      "source": [
        "splitting_data_By_Year = spinneys_dataset_df.groupby(\"Year\")[\"Year\"].count()\n",
        "#splitting_data_By_Year.head()"
      ],
      "execution_count": null,
      "outputs": []
    },
    {
      "cell_type": "code",
      "metadata": {
        "id": "HsecBvQBgQOd"
      },
      "source": [
        "splitting_data_By_year_2021= spinneys_dataset_df[spinneys_dataset_df['Year'] == 2021].copy()\n",
        "#splitting_data_By_year_2021.head()"
      ],
      "execution_count": null,
      "outputs": []
    },
    {
      "cell_type": "code",
      "metadata": {
        "id": "zlTwrZTvgQTA"
      },
      "source": [
        "splitting_data_By_year_2020= spinneys_dataset_df[spinneys_dataset_df['Year'] == 2020].copy()\n",
        "#splitting_data_By_year_2020.head()"
      ],
      "execution_count": null,
      "outputs": []
    },
    {
      "cell_type": "code",
      "metadata": {
        "id": "Ux56DjepgQfj"
      },
      "source": [
        "splitting_data_By_year_2019= spinneys_dataset_df[spinneys_dataset_df['Year'] == 2019].copy()\n",
        "#splitting_data_By_year_2019.head()"
      ],
      "execution_count": null,
      "outputs": []
    },
    {
      "cell_type": "code",
      "metadata": {
        "id": "xWdfMDilhZvZ"
      },
      "source": [
        "splitting_data_By_year_2018= spinneys_dataset_df[spinneys_dataset_df['Year'] == 2018].copy()\n",
        "#splitting_data_By_year_2018.head()"
      ],
      "execution_count": null,
      "outputs": []
    },
    {
      "cell_type": "code",
      "metadata": {
        "id": "AMnkM9UrJJbL"
      },
      "source": [
        "#spinneys_dataset_new_df"
      ],
      "execution_count": null,
      "outputs": []
    },
    {
      "cell_type": "markdown",
      "metadata": {
        "id": "L1Jw2-axf99n"
      },
      "source": [
        "# Exploratory Analysis and Visualization\n",
        "First we will begin analysison the entire Dataset consisting of Month. revisting the data, let us see how it looked like again \n"
      ]
    },
    {
      "cell_type": "code",
      "metadata": {
        "id": "yjjTEZ_iJCs0"
      },
      "source": [
        "spinneys_final_dataset = spinneys_dataset_new_df"
      ],
      "execution_count": null,
      "outputs": []
    },
    {
      "cell_type": "code",
      "metadata": {
        "colab": {
          "base_uri": "https://localhost:8080/"
        },
        "id": "vFpIJObkA8Lw",
        "outputId": "861aa122-6757-415d-c0a0-d2b397e58c70"
      },
      "source": [
        "spinneys_final_dataset.shape"
      ],
      "execution_count": null,
      "outputs": [
        {
          "output_type": "execute_result",
          "data": {
            "text/plain": [
              "(278484, 15)"
            ]
          },
          "metadata": {
            "tags": []
          },
          "execution_count": 175
        }
      ]
    },
    {
      "cell_type": "code",
      "metadata": {
        "colab": {
          "base_uri": "https://localhost:8080/",
          "height": 597
        },
        "id": "wgM26AQXgAF4",
        "outputId": "cd862461-6270-4393-ea60-9c0b03acf5ae"
      },
      "source": [
        "spinneys_final_dataset"
      ],
      "execution_count": null,
      "outputs": [
        {
          "output_type": "execute_result",
          "data": {
            "text/html": [
              "<div>\n",
              "<style scoped>\n",
              "    .dataframe tbody tr th:only-of-type {\n",
              "        vertical-align: middle;\n",
              "    }\n",
              "\n",
              "    .dataframe tbody tr th {\n",
              "        vertical-align: top;\n",
              "    }\n",
              "\n",
              "    .dataframe thead th {\n",
              "        text-align: right;\n",
              "    }\n",
              "</style>\n",
              "<table border=\"1\" class=\"dataframe\">\n",
              "  <thead>\n",
              "    <tr style=\"text-align: right;\">\n",
              "      <th></th>\n",
              "      <th>Year</th>\n",
              "      <th>Month</th>\n",
              "      <th>Store Name</th>\n",
              "      <th>Receipt Number</th>\n",
              "      <th>Category</th>\n",
              "      <th>Group</th>\n",
              "      <th>Sub Group</th>\n",
              "      <th>Item Number</th>\n",
              "      <th>Item Family</th>\n",
              "      <th>Item Description</th>\n",
              "      <th>Product Size</th>\n",
              "      <th>SKU</th>\n",
              "      <th>Quantity</th>\n",
              "      <th>Sales Value $</th>\n",
              "      <th>Sales</th>\n",
              "    </tr>\n",
              "  </thead>\n",
              "  <tbody>\n",
              "    <tr>\n",
              "      <th>0</th>\n",
              "      <td>2019</td>\n",
              "      <td>Jul</td>\n",
              "      <td>Ashrafieh</td>\n",
              "      <td>000000PD02000660322</td>\n",
              "      <td>MEAL SOLUTIONS</td>\n",
              "      <td>HOT BEVERAGES</td>\n",
              "      <td>FLAVORED INSTANT COFFEE</td>\n",
              "      <td>264164</td>\n",
              "      <td>NESCAFE</td>\n",
              "      <td>NESCAFE 3IN1 CLASSIC BAG</td>\n",
              "      <td>30*20G</td>\n",
              "      <td>250.0</td>\n",
              "      <td>2.0</td>\n",
              "      <td>0.331675</td>\n",
              "      <td>1307906662</td>\n",
              "    </tr>\n",
              "    <tr>\n",
              "      <th>1</th>\n",
              "      <td>2019</td>\n",
              "      <td>Jul</td>\n",
              "      <td>Ashrafieh</td>\n",
              "      <td>000000PD02000660322</td>\n",
              "      <td>BEVERAGES &amp; READY TO EAT</td>\n",
              "      <td>BISCUITS</td>\n",
              "      <td>WAFERS</td>\n",
              "      <td>104874</td>\n",
              "      <td>GANDOUR</td>\n",
              "      <td>GANDOUR UNICA</td>\n",
              "      <td>27G</td>\n",
              "      <td>250.0</td>\n",
              "      <td>1.0</td>\n",
              "      <td>0.165837</td>\n",
              "      <td>1307906662</td>\n",
              "    </tr>\n",
              "    <tr>\n",
              "      <th>2</th>\n",
              "      <td>2019</td>\n",
              "      <td>Jul</td>\n",
              "      <td>Ashrafieh</td>\n",
              "      <td>000000PD02000660322</td>\n",
              "      <td>BEVERAGES &amp; READY TO EAT</td>\n",
              "      <td>CAKES</td>\n",
              "      <td>MINI CAKES</td>\n",
              "      <td>135173</td>\n",
              "      <td>ENG.CAKE</td>\n",
              "      <td>CAKE PLAIN</td>\n",
              "      <td>65G</td>\n",
              "      <td>595.0</td>\n",
              "      <td>1.0</td>\n",
              "      <td>0.394693</td>\n",
              "      <td>1307906662</td>\n",
              "    </tr>\n",
              "    <tr>\n",
              "      <th>3</th>\n",
              "      <td>2019</td>\n",
              "      <td>Jul</td>\n",
              "      <td>Ashrafieh</td>\n",
              "      <td>000000PD02000660322</td>\n",
              "      <td>BEVERAGES &amp; READY TO EAT</td>\n",
              "      <td>CAKES</td>\n",
              "      <td>CROISSANT</td>\n",
              "      <td>479487</td>\n",
              "      <td>KARUZO</td>\n",
              "      <td>CROISSANT CHESSECAKE</td>\n",
              "      <td>62G</td>\n",
              "      <td>750.0</td>\n",
              "      <td>1.0</td>\n",
              "      <td>0.497512</td>\n",
              "      <td>1307906662</td>\n",
              "    </tr>\n",
              "    <tr>\n",
              "      <th>4</th>\n",
              "      <td>2019</td>\n",
              "      <td>Jul</td>\n",
              "      <td>Ashrafieh</td>\n",
              "      <td>000000PD02000660322</td>\n",
              "      <td>TOBACCO</td>\n",
              "      <td>CIGARETTES</td>\n",
              "      <td>FULL STRENGTH</td>\n",
              "      <td>488316</td>\n",
              "      <td>WINSTON</td>\n",
              "      <td>BLUE COMPACT BOX SHORT</td>\n",
              "      <td>1PC</td>\n",
              "      <td>1999.0</td>\n",
              "      <td>1.0</td>\n",
              "      <td>1.326036</td>\n",
              "      <td>1307906662</td>\n",
              "    </tr>\n",
              "    <tr>\n",
              "      <th>...</th>\n",
              "      <td>...</td>\n",
              "      <td>...</td>\n",
              "      <td>...</td>\n",
              "      <td>...</td>\n",
              "      <td>...</td>\n",
              "      <td>...</td>\n",
              "      <td>...</td>\n",
              "      <td>...</td>\n",
              "      <td>...</td>\n",
              "      <td>...</td>\n",
              "      <td>...</td>\n",
              "      <td>...</td>\n",
              "      <td>...</td>\n",
              "      <td>...</td>\n",
              "      <td>...</td>\n",
              "    </tr>\n",
              "    <tr>\n",
              "      <th>278540</th>\n",
              "      <td>2019</td>\n",
              "      <td>Oct</td>\n",
              "      <td>Jbeil</td>\n",
              "      <td>000000PD03000770721</td>\n",
              "      <td>CHILLED</td>\n",
              "      <td>DAIRY PRODUCTS</td>\n",
              "      <td>LABNEH</td>\n",
              "      <td>142839</td>\n",
              "      <td>F/TAANAYEL</td>\n",
              "      <td>LABNEH BALADI</td>\n",
              "      <td>500G</td>\n",
              "      <td>6500.0</td>\n",
              "      <td>1.0</td>\n",
              "      <td>4.311774</td>\n",
              "      <td>1307906662</td>\n",
              "    </tr>\n",
              "    <tr>\n",
              "      <th>278541</th>\n",
              "      <td>2019</td>\n",
              "      <td>Oct</td>\n",
              "      <td>Jbeil</td>\n",
              "      <td>000000PD03000770721</td>\n",
              "      <td>CHILLED</td>\n",
              "      <td>IMPORTED CHEESE</td>\n",
              "      <td>CHEESE TUBS</td>\n",
              "      <td>336923</td>\n",
              "      <td>KIRI</td>\n",
              "      <td>KIRI SNOW SPREAD</td>\n",
              "      <td>350G</td>\n",
              "      <td>7250.0</td>\n",
              "      <td>1.0</td>\n",
              "      <td>4.809287</td>\n",
              "      <td>1307906662</td>\n",
              "    </tr>\n",
              "    <tr>\n",
              "      <th>278542</th>\n",
              "      <td>2019</td>\n",
              "      <td>Oct</td>\n",
              "      <td>Jbeil</td>\n",
              "      <td>000000PD03000770721</td>\n",
              "      <td>CHILLED</td>\n",
              "      <td>LOCAL/Import BREAD</td>\n",
              "      <td>ARABIC BREAD</td>\n",
              "      <td>440233</td>\n",
              "      <td>WOODEN B</td>\n",
              "      <td>TANNOUR BREAD SMALL 5\"S</td>\n",
              "      <td>160G</td>\n",
              "      <td>500.0</td>\n",
              "      <td>1.0</td>\n",
              "      <td>0.331675</td>\n",
              "      <td>1307906662</td>\n",
              "    </tr>\n",
              "    <tr>\n",
              "      <th>278543</th>\n",
              "      <td>2019</td>\n",
              "      <td>Oct</td>\n",
              "      <td>Jbeil</td>\n",
              "      <td>000000PD03000770721</td>\n",
              "      <td>CHILLED</td>\n",
              "      <td>LOCAL/Import BREAD</td>\n",
              "      <td>OTHER LOCAL/IMPORTED BREAD</td>\n",
              "      <td>175191</td>\n",
              "      <td>PAIN D'OR</td>\n",
              "      <td>PAIN AU LAIT</td>\n",
              "      <td>9PC</td>\n",
              "      <td>3750.0</td>\n",
              "      <td>1.0</td>\n",
              "      <td>2.487562</td>\n",
              "      <td>1307906662</td>\n",
              "    </tr>\n",
              "    <tr>\n",
              "      <th>278544</th>\n",
              "      <td>2019</td>\n",
              "      <td>Oct</td>\n",
              "      <td>Jbeil</td>\n",
              "      <td>000000PD03000770724</td>\n",
              "      <td>BEVERAGES &amp; READY TO EAT</td>\n",
              "      <td>SOFT DRINKS</td>\n",
              "      <td>ENERGY DRINKS</td>\n",
              "      <td>428093</td>\n",
              "      <td>XXL</td>\n",
              "      <td>XXL ENERGIE DRINK REGULAR</td>\n",
              "      <td>50CL</td>\n",
              "      <td>1999.0</td>\n",
              "      <td>1.0</td>\n",
              "      <td>1.326036</td>\n",
              "      <td>1307906662</td>\n",
              "    </tr>\n",
              "  </tbody>\n",
              "</table>\n",
              "<p>278484 rows × 15 columns</p>\n",
              "</div>"
            ],
            "text/plain": [
              "        Year Month Store Name  ... Quantity Sales Value $       Sales\n",
              "0       2019   Jul  Ashrafieh  ...      2.0      0.331675  1307906662\n",
              "1       2019   Jul  Ashrafieh  ...      1.0      0.165837  1307906662\n",
              "2       2019   Jul  Ashrafieh  ...      1.0      0.394693  1307906662\n",
              "3       2019   Jul  Ashrafieh  ...      1.0      0.497512  1307906662\n",
              "4       2019   Jul  Ashrafieh  ...      1.0      1.326036  1307906662\n",
              "...      ...   ...        ...  ...      ...           ...         ...\n",
              "278540  2019   Oct      Jbeil  ...      1.0      4.311774  1307906662\n",
              "278541  2019   Oct      Jbeil  ...      1.0      4.809287  1307906662\n",
              "278542  2019   Oct      Jbeil  ...      1.0      0.331675  1307906662\n",
              "278543  2019   Oct      Jbeil  ...      1.0      2.487562  1307906662\n",
              "278544  2019   Oct      Jbeil  ...      1.0      1.326036  1307906662\n",
              "\n",
              "[278484 rows x 15 columns]"
            ]
          },
          "metadata": {
            "tags": []
          },
          "execution_count": 176
        }
      ]
    },
    {
      "cell_type": "code",
      "metadata": {
        "colab": {
          "base_uri": "https://localhost:8080/",
          "height": 405
        },
        "id": "6YcXS04Zphxs",
        "outputId": "7076b3ec-773f-46ad-f082-f494e7387553"
      },
      "source": [
        "plt.figure(figsize=(7,5))\n",
        "g = sns.countplot(spinneys_final_dataset.Month, palette=\"pastel\")\n",
        "plt.title(\"Count of sales by Month\")\n",
        "plt.xlabel(\"Months (Jul/Aug/Sep/oct)\")\n",
        "plt.ylabel(\"Total count\")\n",
        "plt.show()"
      ],
      "execution_count": null,
      "outputs": [
        {
          "output_type": "stream",
          "text": [
            "/usr/local/lib/python3.7/dist-packages/seaborn/_decorators.py:43: FutureWarning: Pass the following variable as a keyword arg: x. From version 0.12, the only valid positional argument will be `data`, and passing other arguments without an explicit keyword will result in an error or misinterpretation.\n",
            "  FutureWarning\n"
          ],
          "name": "stderr"
        },
        {
          "output_type": "display_data",
          "data": {
            "image/png": "[encoded data removed]",
            "text/plain": [
              "<Figure size 504x360 with 1 Axes>"
            ]
          },
          "metadata": {
            "tags": [],
            "needs_background": "light"
          }
        }
      ]
    },
    {
      "cell_type": "code",
      "metadata": {
        "colab": {
          "base_uri": "https://localhost:8080/",
          "height": 862
        },
        "id": "BY3liKrIp85P",
        "outputId": "82c715b2-9f83-44cd-e799-85fffe079438"
      },
      "source": [
        "plt.figure(figsize=(20,15))\n",
        "plt.title(\"% of category that are either on Aug - Jul - Sep -oct\")\n",
        "g = plt.pie(spinneys_final_dataset.Category.value_counts(),labels=spinneys_final_dataset.Category.value_counts().index, colors=['skyblue','navajowhite','red','purple','grey'],autopct='%1.1f%%',startangle=180);\n",
        "plt.legend()\n",
        "plt.show()"
      ],
      "execution_count": null,
      "outputs": [
        {
          "output_type": "display_data",
          "data": {
            "image/png": "[encoded data removed]",
            "text/plain": [
              "<Figure size 1440x1080 with 1 Axes>"
            ]
          },
          "metadata": {
            "tags": []
          }
        }
      ]
    },
    {
      "cell_type": "code",
      "metadata": {
        "colab": {
          "base_uri": "https://localhost:8080/"
        },
        "id": "nxMVwVzoEypW",
        "outputId": "d780495f-d6d7-4e3c-da49-cc4b0b82f833"
      },
      "source": [
        "spinneys_dataset_df.info()"
      ],
      "execution_count": null,
      "outputs": [
        {
          "output_type": "stream",
          "text": [
            "<class 'pandas.core.frame.DataFrame'>\n",
            "Int64Index: 278484 entries, 0 to 278544\n",
            "Data columns (total 14 columns):\n",
            " #   Column            Non-Null Count   Dtype  \n",
            "---  ------            --------------   -----  \n",
            " 0   Year              278484 non-null  int64  \n",
            " 1   Month             278484 non-null  object \n",
            " 2   Store Name        278484 non-null  object \n",
            " 3   Receipt Number    278484 non-null  object \n",
            " 4   Category          278484 non-null  object \n",
            " 5   Group             278484 non-null  object \n",
            " 6   Sub Group         278484 non-null  object \n",
            " 7   Item Number       278484 non-null  int64  \n",
            " 8   Item Family       278484 non-null  object \n",
            " 9   Item Description  278484 non-null  object \n",
            " 10  Product Size      278484 non-null  object \n",
            " 11  Price_LL          278484 non-null  float64\n",
            " 12  Quantity          278484 non-null  float64\n",
            " 13  Sales_Value_$     278484 non-null  float64\n",
            "dtypes: float64(3), int64(2), object(9)\n",
            "memory usage: 31.9+ MB\n"
          ],
          "name": "stdout"
        }
      ]
    },
    {
      "cell_type": "code",
      "metadata": {
        "colab": {
          "base_uri": "https://localhost:8080/",
          "height": 591
        },
        "id": "U8PuKp2tOFiz",
        "outputId": "6549d3f5-ee41-4a76-b09e-634ae0a0986c"
      },
      "source": [
        "plt.figure(figsize=(12,10))\n",
        "plt.title(\"% of month that are either on Aug - Jul - Sep -oct\")\n",
        "g = plt.pie(spinneys_final_dataset.Month.value_counts(), explode=(0.025,0.025,0.025,0.025),labels=spinneys_final_dataset.Month.value_counts().index, colors=['skyblue','navajowhite','red','grey'],autopct='%1.1f%%',startangle=180);\n",
        "plt.legend()\n",
        "plt.show()"
      ],
      "execution_count": null,
      "outputs": [
        {
          "output_type": "display_data",
          "data": {
            "image/png": "[encoded data removed]",
            "text/plain": [
              "<Figure size 864x720 with 1 Axes>"
            ]
          },
          "metadata": {
            "tags": []
          }
        }
      ]
    },
    {
      "cell_type": "markdown",
      "metadata": {
        "id": "K009NbpSvV6M"
      },
      "source": [
        "So there are roughly 100K+ "
      ]
    },
    {
      "cell_type": "code",
      "metadata": {
        "colab": {
          "base_uri": "https://localhost:8080/",
          "height": 1000
        },
        "id": "r9NkNGdwupI-",
        "outputId": "f4f40f17-1c86-4ef8-ca9c-eae622aa8f36"
      },
      "source": [
        "plt.figure(figsize=(20,16))\n",
        "g = sns.countplot(spinneys_dataset_df.Category, palette=\"pastel\")\n",
        "plt.title(\"Count of sales by Category\")\n",
        "plt.xlabel(\"Months (ALCOHOL - BABY- BEVERAGES & READY TO EAT - CHILLED - CLEANING)\")\n",
        "plt.ylabel(\"Total count\")\n",
        "plt.show()"
      ],
      "execution_count": null,
      "outputs": [
        {
          "output_type": "stream",
          "text": [
            "/usr/local/lib/python3.7/dist-packages/seaborn/_decorators.py:43: FutureWarning: Pass the following variable as a keyword arg: x. From version 0.12, the only valid positional argument will be `data`, and passing other arguments without an explicit keyword will result in an error or misinterpretation.\n",
            "  FutureWarning\n"
          ],
          "name": "stderr"
        },
        {
          "output_type": "display_data",
          "data": {
            "image/png": "[encoded data removed]",
            "text/plain": [
              "<Figure size 1440x1152 with 1 Axes>"
            ]
          },
          "metadata": {
            "tags": [],
            "needs_background": "light"
          }
        }
      ]
    },
    {
      "cell_type": "code",
      "metadata": {
        "id": "S0JoHt5sfTZC"
      },
      "source": [
        ""
      ],
      "execution_count": null,
      "outputs": []
    }
  ]
}