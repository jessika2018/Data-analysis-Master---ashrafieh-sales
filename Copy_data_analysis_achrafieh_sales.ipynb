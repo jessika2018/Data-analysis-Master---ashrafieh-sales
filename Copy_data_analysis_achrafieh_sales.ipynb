{
  "nbformat": 4,
  "nbformat_minor": 0,
  "metadata": {
    "colab": {
      "name": "Copy_data_analysis_achrafieh_sales.ipynb",
      "provenance": [],
      "collapsed_sections": [],
      "toc_visible": true,
      "authorship_tag": "ABX9TyOhwXMSfB6rTFR8SdYcOLcR",
      "include_colab_link": true
    },
    "kernelspec": {
      "name": "python3",
      "display_name": "Python 3"
    },
    "language_info": {
      "name": "python"
    }
  },
  "cells": [
    {
      "cell_type": "markdown",
      "metadata": {
        "id": "view-in-github",
        "colab_type": "text"
      },
      "source": [
        "<a href=\"https://colab.research.google.com/github/jessika2018/Data-analysis-Master---ashrafieh-sales/blob/main/Copy_data_analysis_achrafieh_sales.ipynb\" target=\"_parent\"><img src=\"https://colab.research.google.com/assets/colab-badge.svg\" alt=\"Open In Colab\"/></a>"
      ]
    },
    {
      "cell_type": "markdown",
      "metadata": {
        "id": "z_K-ezs2MEvq"
      },
      "source": [
        "# Analysis on Spinneys - Ashrafieh Sales"
      ]
    },
    {
      "cell_type": "markdown",
      "metadata": {
        "id": "Nwh0QahWMbp6"
      },
      "source": [
        "Spinneys is a popular retailer company that people buy across the word its product. In this EDA (Exploratary data Analysis), I will explore the top 10 products sold the most  on X months and the top 10 product sold the least on x. I will show the dataset in a graphs using matplotlib and seaborn. Consequently we will take desicions by the end of the analysis. \n",
        "The hypothesis suggested is:\n",
        " create new compagin including the most frequent itemset purchased along one itemset that purchsed the least.\n",
        "\n"
      ]
    },
    {
      "cell_type": "markdown",
      "metadata": {
        "id": "3DFpYSUjOdIC"
      },
      "source": [
        "# Package install and Import\n",
        "First we will install and import necessary packages"
      ]
    },
    {
      "cell_type": "code",
      "metadata": {
        "colab": {
          "base_uri": "https://localhost:8080/"
        },
        "id": "IYynZ1IvDcVd",
        "outputId": "26534152-2fe5-4641-d8de-bd7e1348d3b2"
      },
      "source": [
        "!pip install jovian --upgrade --quiet"
      ],
      "execution_count": null,
      "outputs": [
        {
          "output_type": "stream",
          "text": [
            "\u001b[?25l\r\u001b[K     |████▊                           | 10kB 18.9MB/s eta 0:00:01\r\u001b[K     |█████████▌                      | 20kB 23.7MB/s eta 0:00:01\r\u001b[K     |██████████████▎                 | 30kB 12.5MB/s eta 0:00:01\r\u001b[K     |███████████████████             | 40kB 9.7MB/s eta 0:00:01\r\u001b[K     |███████████████████████▊        | 51kB 5.4MB/s eta 0:00:01\r\u001b[K     |████████████████████████████▌   | 61kB 5.9MB/s eta 0:00:01\r\u001b[K     |████████████████████████████████| 71kB 3.7MB/s \n",
            "\u001b[?25h  Building wheel for uuid (setup.py) ... \u001b[?25l\u001b[?25hdone\n"
          ],
          "name": "stdout"
        }
      ]
    },
    {
      "cell_type": "code",
      "metadata": {
        "id": "y1sXJR2iEmvI"
      },
      "source": [
        "import jovian\n",
        "import pandas as pd\n",
        "import numpy as np\n",
        "import matplotlib.pyplot as plt\n",
        "import seaborn as sns\n",
        "%matplotlib inline\n",
        "import matplotlib\n",
        "import os "
      ],
      "execution_count": null,
      "outputs": []
    },
    {
      "cell_type": "markdown",
      "metadata": {
        "id": "KUM3tF6vOmAd"
      },
      "source": [
        "# Loading the dataset  \n",
        "Now we are ready to load the data set. We will do this using the standard read_excel command from Pandas. Let's take a glimnpse at how the data looks like \n"
      ]
    },
    {
      "cell_type": "code",
      "metadata": {
        "id": "gtWjboOiHTA2",
        "colab": {
          "base_uri": "https://localhost:8080/",
          "height": 306
        },
        "outputId": "90943376-501b-41aa-dbce-0cd50c428954"
      },
      "source": [
        "spinneys_dataset_df = pd.read_excel('/content/jessica_data/Ashrafieh_Sales.xlsx')\n",
        "spinneys_dataset_df.head()"
      ],
      "execution_count": null,
      "outputs": [
        {
          "output_type": "execute_result",
          "data": {
            "text/html": [
              "<div>\n",
              "<style scoped>\n",
              "    .dataframe tbody tr th:only-of-type {\n",
              "        vertical-align: middle;\n",
              "    }\n",
              "\n",
              "    .dataframe tbody tr th {\n",
              "        vertical-align: top;\n",
              "    }\n",
              "\n",
              "    .dataframe thead th {\n",
              "        text-align: right;\n",
              "    }\n",
              "</style>\n",
              "<table border=\"1\" class=\"dataframe\">\n",
              "  <thead>\n",
              "    <tr style=\"text-align: right;\">\n",
              "      <th></th>\n",
              "      <th>Year</th>\n",
              "      <th>Month</th>\n",
              "      <th>Store Name</th>\n",
              "      <th>Receipt Number</th>\n",
              "      <th>Category</th>\n",
              "      <th>Group</th>\n",
              "      <th>Sub Group</th>\n",
              "      <th>Item Number</th>\n",
              "      <th>Item Family</th>\n",
              "      <th>Item Description</th>\n",
              "      <th>Product Size</th>\n",
              "      <th>Price</th>\n",
              "      <th>Sales Volume</th>\n",
              "      <th>Sales Value $</th>\n",
              "    </tr>\n",
              "  </thead>\n",
              "  <tbody>\n",
              "    <tr>\n",
              "      <th>0</th>\n",
              "      <td>2019</td>\n",
              "      <td>Jul</td>\n",
              "      <td>Ashrafieh</td>\n",
              "      <td>000000PD02000660322</td>\n",
              "      <td>MEAL SOLUTIONS</td>\n",
              "      <td>HOT BEVERAGES</td>\n",
              "      <td>FLAVORED INSTANT COFFEE</td>\n",
              "      <td>264164</td>\n",
              "      <td>NESCAFE</td>\n",
              "      <td>NESCAFE 3IN1 CLASSIC BAG</td>\n",
              "      <td>30*20G</td>\n",
              "      <td>250.0</td>\n",
              "      <td>2.0</td>\n",
              "      <td>0.331675</td>\n",
              "    </tr>\n",
              "    <tr>\n",
              "      <th>1</th>\n",
              "      <td>2019</td>\n",
              "      <td>Jul</td>\n",
              "      <td>Ashrafieh</td>\n",
              "      <td>000000PD02000660322</td>\n",
              "      <td>BEVERAGES &amp; READY TO EAT</td>\n",
              "      <td>BISCUITS</td>\n",
              "      <td>WAFERS</td>\n",
              "      <td>104874</td>\n",
              "      <td>GANDOUR</td>\n",
              "      <td>GANDOUR UNICA</td>\n",
              "      <td>27G</td>\n",
              "      <td>250.0</td>\n",
              "      <td>1.0</td>\n",
              "      <td>0.165837</td>\n",
              "    </tr>\n",
              "    <tr>\n",
              "      <th>2</th>\n",
              "      <td>2019</td>\n",
              "      <td>Jul</td>\n",
              "      <td>Ashrafieh</td>\n",
              "      <td>000000PD02000660322</td>\n",
              "      <td>BEVERAGES &amp; READY TO EAT</td>\n",
              "      <td>CAKES</td>\n",
              "      <td>MINI CAKES</td>\n",
              "      <td>135173</td>\n",
              "      <td>ENG.CAKE</td>\n",
              "      <td>CAKE PLAIN</td>\n",
              "      <td>65G</td>\n",
              "      <td>595.0</td>\n",
              "      <td>1.0</td>\n",
              "      <td>0.394693</td>\n",
              "    </tr>\n",
              "    <tr>\n",
              "      <th>3</th>\n",
              "      <td>2019</td>\n",
              "      <td>Jul</td>\n",
              "      <td>Ashrafieh</td>\n",
              "      <td>000000PD02000660322</td>\n",
              "      <td>BEVERAGES &amp; READY TO EAT</td>\n",
              "      <td>CAKES</td>\n",
              "      <td>CROISSANT</td>\n",
              "      <td>479487</td>\n",
              "      <td>KARUZO</td>\n",
              "      <td>CROISSANT CHESSECAKE</td>\n",
              "      <td>62G</td>\n",
              "      <td>750.0</td>\n",
              "      <td>1.0</td>\n",
              "      <td>0.497512</td>\n",
              "    </tr>\n",
              "    <tr>\n",
              "      <th>4</th>\n",
              "      <td>2019</td>\n",
              "      <td>Jul</td>\n",
              "      <td>Ashrafieh</td>\n",
              "      <td>000000PD02000660322</td>\n",
              "      <td>TOBACCO</td>\n",
              "      <td>CIGARETTES</td>\n",
              "      <td>FULL STRENGTH</td>\n",
              "      <td>488316</td>\n",
              "      <td>WINSTON</td>\n",
              "      <td>BLUE COMPACT BOX SHORT</td>\n",
              "      <td>1PC</td>\n",
              "      <td>1999.0</td>\n",
              "      <td>1.0</td>\n",
              "      <td>1.326036</td>\n",
              "    </tr>\n",
              "  </tbody>\n",
              "</table>\n",
              "</div>"
            ],
            "text/plain": [
              "   Year Month Store Name  ...   Price Sales Volume Sales Value $\n",
              "0  2019   Jul  Ashrafieh  ...   250.0          2.0      0.331675\n",
              "1  2019   Jul  Ashrafieh  ...   250.0          1.0      0.165837\n",
              "2  2019   Jul  Ashrafieh  ...   595.0          1.0      0.394693\n",
              "3  2019   Jul  Ashrafieh  ...   750.0          1.0      0.497512\n",
              "4  2019   Jul  Ashrafieh  ...  1999.0          1.0      1.326036\n",
              "\n",
              "[5 rows x 14 columns]"
            ]
          },
          "metadata": {
            "tags": []
          },
          "execution_count": 16
        }
      ]
    },
    {
      "cell_type": "code",
      "metadata": {
        "id": "GzLkYnpsHjH2",
        "colab": {
          "base_uri": "https://localhost:8080/"
        },
        "outputId": "79de93e0-c235-4b7e-b919-55cada64326b"
      },
      "source": [
        "%%time\n",
        "print(\"Dataframe size\",spinneys_dataset_df.shape)"
      ],
      "execution_count": null,
      "outputs": [
        {
          "output_type": "stream",
          "text": [
            "Dataframe size (278545, 14)\n",
            "CPU times: user 1.37 ms, sys: 0 ns, total: 1.37 ms\n",
            "Wall time: 1.78 ms\n"
          ],
          "name": "stdout"
        }
      ]
    },
    {
      "cell_type": "code",
      "metadata": {
        "colab": {
          "base_uri": "https://localhost:8080/",
          "height": 173
        },
        "id": "qzcZ8UX1KU7p",
        "outputId": "290da801-87bd-4999-cf4f-d9ea54328683"
      },
      "source": [
        "spinneys_dataset_df.groupby(by=[\"Month\"], dropna=False).sum()"
      ],
      "execution_count": null,
      "outputs": [
        {
          "output_type": "execute_result",
          "data": {
            "text/html": [
              "<div>\n",
              "<style scoped>\n",
              "    .dataframe tbody tr th:only-of-type {\n",
              "        vertical-align: middle;\n",
              "    }\n",
              "\n",
              "    .dataframe tbody tr th {\n",
              "        vertical-align: top;\n",
              "    }\n",
              "\n",
              "    .dataframe thead th {\n",
              "        text-align: right;\n",
              "    }\n",
              "</style>\n",
              "<table border=\"1\" class=\"dataframe\">\n",
              "  <thead>\n",
              "    <tr style=\"text-align: right;\">\n",
              "      <th></th>\n",
              "      <th>Year</th>\n",
              "      <th>Item Number</th>\n",
              "      <th>Price</th>\n",
              "      <th>Sales Volume</th>\n",
              "      <th>Sales Value $</th>\n",
              "    </tr>\n",
              "    <tr>\n",
              "      <th>Month</th>\n",
              "      <th></th>\n",
              "      <th></th>\n",
              "      <th></th>\n",
              "      <th></th>\n",
              "      <th></th>\n",
              "    </tr>\n",
              "  </thead>\n",
              "  <tbody>\n",
              "    <tr>\n",
              "      <th>Aug</th>\n",
              "      <td>179382093</td>\n",
              "      <td>27987525594</td>\n",
              "      <td>3.962832e+08</td>\n",
              "      <td>152956.220</td>\n",
              "      <td>278385.963602</td>\n",
              "    </tr>\n",
              "    <tr>\n",
              "      <th>Jul</th>\n",
              "      <td>189503340</td>\n",
              "      <td>29481417449</td>\n",
              "      <td>3.692185e+08</td>\n",
              "      <td>158487.524</td>\n",
              "      <td>290703.114965</td>\n",
              "    </tr>\n",
              "    <tr>\n",
              "      <th>Sep</th>\n",
              "      <td>193373763</td>\n",
              "      <td>30257699687</td>\n",
              "      <td>3.787125e+08</td>\n",
              "      <td>162659.773</td>\n",
              "      <td>298405.527058</td>\n",
              "    </tr>\n",
              "  </tbody>\n",
              "</table>\n",
              "</div>"
            ],
            "text/plain": [
              "            Year  Item Number         Price  Sales Volume  Sales Value $\n",
              "Month                                                                   \n",
              "Aug    179382093  27987525594  3.962832e+08    152956.220  278385.963602\n",
              "Jul    189503340  29481417449  3.692185e+08    158487.524  290703.114965\n",
              "Sep    193373763  30257699687  3.787125e+08    162659.773  298405.527058"
            ]
          },
          "metadata": {
            "tags": []
          },
          "execution_count": 31
        }
      ]
    },
    {
      "cell_type": "markdown",
      "metadata": {
        "id": "wHGnvSWYL77C"
      },
      "source": [
        "\n",
        "\n",
        "```\n",
        "# This is formatted as code\n",
        "```\n",
        "\n",
        "# Data Preparation and Cleaning"
      ]
    },
    {
      "cell_type": "code",
      "metadata": {
        "colab": {
          "base_uri": "https://localhost:8080/"
        },
        "id": "MXo5IbLgMAuj",
        "outputId": "9ba8e2c2-1a68-4dd3-bd78-74cc8538e445"
      },
      "source": [
        "spinneys_dataset_df.info()"
      ],
      "execution_count": null,
      "outputs": [
        {
          "output_type": "stream",
          "text": [
            "<class 'pandas.core.frame.DataFrame'>\n",
            "RangeIndex: 278545 entries, 0 to 278544\n",
            "Data columns (total 14 columns):\n",
            " #   Column            Non-Null Count   Dtype  \n",
            "---  ------            --------------   -----  \n",
            " 0   Year              278545 non-null  int64  \n",
            " 1   Month             278545 non-null  object \n",
            " 2   Store Name        278545 non-null  object \n",
            " 3   Receipt Number    278545 non-null  object \n",
            " 4   Category          278545 non-null  object \n",
            " 5   Group             278545 non-null  object \n",
            " 6   Sub Group         278545 non-null  object \n",
            " 7   Item Number       278545 non-null  int64  \n",
            " 8   Item Family       278509 non-null  object \n",
            " 9   Item Description  278545 non-null  object \n",
            " 10  Product Size      278520 non-null  object \n",
            " 11  Price             278545 non-null  float64\n",
            " 12  Sales Volume      278545 non-null  float64\n",
            " 13  Sales Value $     278545 non-null  float64\n",
            "dtypes: float64(3), int64(2), object(9)\n",
            "memory usage: 29.8+ MB\n"
          ],
          "name": "stdout"
        }
      ]
    },
    {
      "cell_type": "code",
      "metadata": {
        "colab": {
          "base_uri": "https://localhost:8080/"
        },
        "id": "bW0WgiFhSES3",
        "outputId": "3b64b378-c02e-40f1-b0e4-f8e8c8830160"
      },
      "source": [
        "spinneys_dataset_df.nunique()"
      ],
      "execution_count": null,
      "outputs": [
        {
          "output_type": "execute_result",
          "data": {
            "text/plain": [
              "Year                    1\n",
              "Month                   3\n",
              "Store Name              1\n",
              "Receipt Number      67376\n",
              "Category               10\n",
              "Group                  99\n",
              "Sub Group             523\n",
              "Item Number         11570\n",
              "Item Family          1236\n",
              "Item Description    10567\n",
              "Product Size         1490\n",
              "Price                 578\n",
              "Sales Volume          348\n",
              "Sales Value $        2173\n",
              "dtype: int64"
            ]
          },
          "metadata": {
            "tags": []
          },
          "execution_count": 19
        }
      ]
    },
    {
      "cell_type": "markdown",
      "metadata": {
        "id": "vFBWZDknSObo"
      },
      "source": [
        "# Handling Null Values\n",
        "we can see that for each of the column, there are alot different uniques values for some of them. It makes sense that Receipt Number is large since it is a unique key used to identify transaction. Item Number , Item Family, Item Description, Product Size, Sales Value $, Price and Sales volume contain many unbiques value"
      ]
    },
    {
      "cell_type": "code",
      "metadata": {
        "colab": {
          "base_uri": "https://localhost:8080/"
        },
        "id": "8wes_3IBTDVw",
        "outputId": "bbb41e1f-73b2-4898-fecb-e89f6b3c0b72"
      },
      "source": [
        "spinneys_dataset_df.isnull().values.any()"
      ],
      "execution_count": null,
      "outputs": [
        {
          "output_type": "execute_result",
          "data": {
            "text/plain": [
              "True"
            ]
          },
          "metadata": {
            "tags": []
          },
          "execution_count": 20
        }
      ]
    },
    {
      "cell_type": "code",
      "metadata": {
        "colab": {
          "base_uri": "https://localhost:8080/"
        },
        "id": "Fm28TIsITJZR",
        "outputId": "125c9302-0fe6-4a56-df2b-1f1ae750fc69"
      },
      "source": [
        "spinneys_dataset_df.isnull().sum().sum()"
      ],
      "execution_count": null,
      "outputs": [
        {
          "output_type": "execute_result",
          "data": {
            "text/plain": [
              "61"
            ]
          },
          "metadata": {
            "tags": []
          },
          "execution_count": 22
        }
      ]
    },
    {
      "cell_type": "code",
      "metadata": {
        "colab": {
          "base_uri": "https://localhost:8080/",
          "height": 354
        },
        "id": "LPPoVuLlTOFZ",
        "outputId": "f045bac8-a3c8-44be-d241-50255d19a6c4"
      },
      "source": [
        "sns.heatmap(spinneys_dataset_df.isnull(),cbar=False)\n",
        "plt.title('Null Values Heatmap')\n",
        "plt.show()"
      ],
      "execution_count": null,
      "outputs": [
        {
          "output_type": "display_data",
          "data": {
            "image/png": "[encoded data removed]",
            "text/plain": [
              "<Figure size 432x288 with 1 Axes>"
            ]
          },
          "metadata": {
            "tags": [],
            "needs_background": "light"
          }
        }
      ]
    },
    {
      "cell_type": "code",
      "metadata": {
        "colab": {
          "base_uri": "https://localhost:8080/"
        },
        "id": "Gv2cUDd5Tgx4",
        "outputId": "b7bb098a-5a4a-4ecf-da33-e38df3afc04f"
      },
      "source": [
        "spinneys_dataset_df.isnull().sum()"
      ],
      "execution_count": null,
      "outputs": [
        {
          "output_type": "execute_result",
          "data": {
            "text/plain": [
              "Year                 0\n",
              "Month                0\n",
              "Store Name           0\n",
              "Receipt Number       0\n",
              "Category             0\n",
              "Group                0\n",
              "Sub Group            0\n",
              "Item Number          0\n",
              "Item Family         36\n",
              "Item Description     0\n",
              "Product Size        25\n",
              "Price                0\n",
              "Sales Volume         0\n",
              "Sales Value $        0\n",
              "dtype: int64"
            ]
          },
          "metadata": {
            "tags": []
          },
          "execution_count": 24
        }
      ]
    },
    {
      "cell_type": "markdown",
      "metadata": {
        "id": "Rjiq9QnFT-cG"
      },
      "source": [
        "Above in the heatmap and table, we can see that there are quite few null values in the dataset.There are a total of 61 null value across the entire dataset with 36 missing point under 'Item Family' and 25 under 'Product Size'.\n",
        "We will have to handle all null data points values before we can dive into EDA and modeling "
      ]
    },
    {
      "cell_type": "code",
      "metadata": {
        "id": "W-h-NZE5TrPw"
      },
      "source": [
        "spinneys_dataset_df.dropna(subset=['Product Size','Item Family'], inplace=True)"
      ],
      "execution_count": null,
      "outputs": []
    },
    {
      "cell_type": "code",
      "metadata": {
        "colab": {
          "base_uri": "https://localhost:8080/"
        },
        "id": "oulcWbayV0ik",
        "outputId": "a4a5786b-20b5-4dd2-fc19-a5cee215ccc1"
      },
      "source": [
        "spinneys_dataset_df.isnull().any()"
      ],
      "execution_count": null,
      "outputs": [
        {
          "output_type": "execute_result",
          "data": {
            "text/plain": [
              "Year                False\n",
              "Month               False\n",
              "Store Name          False\n",
              "Receipt Number      False\n",
              "Category            False\n",
              "Group               False\n",
              "Sub Group           False\n",
              "Item Number         False\n",
              "Item Family         False\n",
              "Item Description    False\n",
              "Product Size        False\n",
              "Price               False\n",
              "Sales Volume        False\n",
              "Sales Value $       False\n",
              "dtype: bool"
            ]
          },
          "metadata": {
            "tags": []
          },
          "execution_count": 26
        }
      ]
    },
    {
      "cell_type": "markdown",
      "metadata": {
        "id": "BGHa2IW3V-lN"
      },
      "source": [
        "For null values, since the Item family and Product size contains an insignificant portion of data so i will drop them from the dataset. After t, we can see that there are no more null values in the dataset."
      ]
    },
    {
      "cell_type": "markdown",
      "metadata": {
        "id": "sSpUQXVxWamQ"
      },
      "source": [
        "# Splitting the dataset\n",
        "Since the dataset can either contains 3 months. It'd nice to have datasets for both so we can take a deep dive into these 3 months. So we will create three new datasets. One for August, july and the other one for September."
      ]
    },
    {
      "cell_type": "code",
      "metadata": {
        "id": "WCYaYDroWeIX"
      },
      "source": [
        "spinneys_dataset_df = spinneys_dataset_df[spinneys_dataset_df['Month'] == ]"
      ],
      "execution_count": null,
      "outputs": []
    }
  ]
}