{
  "nbformat": 4,
  "nbformat_minor": 0,
  "metadata": {
    "colab": {
      "name": "Copy_data_analysis_achrafieh_sales.ipynb",
      "provenance": [],
      "collapsed_sections": [],
      "authorship_tag": "ABX9TyM0r3SQq5Tn8BPV9U5RbXG+",
      "include_colab_link": true
    },
    "kernelspec": {
      "name": "python3",
      "display_name": "Python 3"
    },
    "language_info": {
      "name": "python"
    }
  },
  "cells": [
    {
      "cell_type": "markdown",
      "metadata": {
        "id": "view-in-github",
        "colab_type": "text"
      },
      "source": [
        "<a href=\"https://colab.research.google.com/github/jessika2018/Data-analysis-Master---ashrafieh-sales/blob/main/Copy_data_analysis_achrafieh_sales-v3.ipynb\" target=\"_parent\"><img src=\"https://colab.research.google.com/assets/colab-badge.svg\" alt=\"Open In Colab\"/></a>"
      ]
    },
    {
      "cell_type": "markdown",
      "metadata": {
        "id": "z_K-ezs2MEvq"
      },
      "source": [
        "# Analysis on Spinneys - Ashrafieh Sales"
      ]
    },
    {
      "cell_type": "markdown",
      "metadata": {
        "id": "Nwh0QahWMbp6"
      },
      "source": [
        "Spinneys is a popular retailer company that people buy across the word its product. In this EDA (Exploratary data Analysis), I will explore the top 10 products sold the most  on X months and the top 10 product sold the least on x. I will show the dataset in a graphs using matplotlib and seaborn. Consequently we will take desicions by the end of the analysis. \n",
        "The hypothesis suggested is:\n",
        " create new compagin including the most frequent itemset purchased along one itemset that purchsed the least.\n",
        "\n"
      ]
    },
    {
      "cell_type": "markdown",
      "metadata": {
        "id": "3DFpYSUjOdIC"
      },
      "source": [
        "# Package install and Import\n",
        "First we will install and import necessary packages"
      ]
    },
    {
      "cell_type": "code",
      "metadata": {
        "id": "IYynZ1IvDcVd"
      },
      "source": [
        "!pip install jovian --upgrade --quiet"
      ],
      "execution_count": 211,
      "outputs": []
    },
    {
      "cell_type": "code",
      "metadata": {
        "colab": {
          "base_uri": "https://localhost:8080/"
        },
        "id": "i6KlK279mrp6",
        "outputId": "1c64e217-96ad-4457-a1b2-4727efe784ce"
      },
      "source": [
        "pip install seaborn"
      ],
      "execution_count": 212,
      "outputs": [
        {
          "output_type": "stream",
          "text": [
            "Requirement already satisfied: seaborn in /usr/local/lib/python3.7/dist-packages (0.11.1)\n",
            "Requirement already satisfied: pandas>=0.23 in /usr/local/lib/python3.7/dist-packages (from seaborn) (1.1.5)\n",
            "Requirement already satisfied: matplotlib>=2.2 in /usr/local/lib/python3.7/dist-packages (from seaborn) (3.2.2)\n",
            "Requirement already satisfied: scipy>=1.0 in /usr/local/lib/python3.7/dist-packages (from seaborn) (1.4.1)\n",
            "Requirement already satisfied: numpy>=1.15 in /usr/local/lib/python3.7/dist-packages (from seaborn) (1.19.5)\n",
            "Requirement already satisfied: python-dateutil>=2.7.3 in /usr/local/lib/python3.7/dist-packages (from pandas>=0.23->seaborn) (2.8.1)\n",
            "Requirement already satisfied: pytz>=2017.2 in /usr/local/lib/python3.7/dist-packages (from pandas>=0.23->seaborn) (2018.9)\n",
            "Requirement already satisfied: pyparsing!=2.0.4,!=2.1.2,!=2.1.6,>=2.0.1 in /usr/local/lib/python3.7/dist-packages (from matplotlib>=2.2->seaborn) (2.4.7)\n",
            "Requirement already satisfied: kiwisolver>=1.0.1 in /usr/local/lib/python3.7/dist-packages (from matplotlib>=2.2->seaborn) (1.3.1)\n",
            "Requirement already satisfied: cycler>=0.10 in /usr/local/lib/python3.7/dist-packages (from matplotlib>=2.2->seaborn) (0.10.0)\n",
            "Requirement already satisfied: six>=1.5 in /usr/local/lib/python3.7/dist-packages (from python-dateutil>=2.7.3->pandas>=0.23->seaborn) (1.15.0)\n"
          ],
          "name": "stdout"
        }
      ]
    },
    {
      "cell_type": "code",
      "metadata": {
        "id": "y1sXJR2iEmvI"
      },
      "source": [
        "import jovian\n",
        "import pandas as pd\n",
        "import numpy as np\n",
        "import matplotlib.pyplot as plt\n",
        "import seaborn as sns\n",
        "%matplotlib inline\n",
        "import matplotlib\n",
        "import matplotlib.pyplot as plt\n",
        "import os "
      ],
      "execution_count": 215,
      "outputs": []
    },
    {
      "cell_type": "markdown",
      "metadata": {
        "id": "KUM3tF6vOmAd"
      },
      "source": [
        "# Loading the dataset  \n",
        "Now we are ready to load the data set. We will do this using the standard read_excel command from Pandas. Let's take a glimnpse at how the data looks like \n"
      ]
    },
    {
      "cell_type": "code",
      "metadata": {
        "id": "gtWjboOiHTA2",
        "colab": {
          "base_uri": "https://localhost:8080/",
          "height": 306
        },
        "outputId": "edbad0d5-0c31-423e-998d-35c8894c2eb5"
      },
      "source": [
        "spinneys_dataset_df = pd.read_excel('/content/jessica_data/Ashrafieh_Sales_modified.xlsx')\n",
        "spinneys_dataset_df.head()"
      ],
      "execution_count": 216,
      "outputs": [
        {
          "output_type": "execute_result",
          "data": {
            "text/html": [
              "<div>\n",
              "<style scoped>\n",
              "    .dataframe tbody tr th:only-of-type {\n",
              "        vertical-align: middle;\n",
              "    }\n",
              "\n",
              "    .dataframe tbody tr th {\n",
              "        vertical-align: top;\n",
              "    }\n",
              "\n",
              "    .dataframe thead th {\n",
              "        text-align: right;\n",
              "    }\n",
              "</style>\n",
              "<table border=\"1\" class=\"dataframe\">\n",
              "  <thead>\n",
              "    <tr style=\"text-align: right;\">\n",
              "      <th></th>\n",
              "      <th>Year</th>\n",
              "      <th>Month</th>\n",
              "      <th>Store Name</th>\n",
              "      <th>Receipt Number</th>\n",
              "      <th>Category</th>\n",
              "      <th>Group</th>\n",
              "      <th>Sub Group</th>\n",
              "      <th>Item Number</th>\n",
              "      <th>Item Family</th>\n",
              "      <th>Item Description</th>\n",
              "      <th>Product Size</th>\n",
              "      <th>SKU</th>\n",
              "      <th>Quantity</th>\n",
              "      <th>Sales Value $</th>\n",
              "    </tr>\n",
              "  </thead>\n",
              "  <tbody>\n",
              "    <tr>\n",
              "      <th>0</th>\n",
              "      <td>2019</td>\n",
              "      <td>Jul</td>\n",
              "      <td>Ashrafieh</td>\n",
              "      <td>000000PD02000660322</td>\n",
              "      <td>MEAL SOLUTIONS</td>\n",
              "      <td>HOT BEVERAGES</td>\n",
              "      <td>FLAVORED INSTANT COFFEE</td>\n",
              "      <td>264164</td>\n",
              "      <td>NESCAFE</td>\n",
              "      <td>NESCAFE 3IN1 CLASSIC BAG</td>\n",
              "      <td>30*20G</td>\n",
              "      <td>250.0</td>\n",
              "      <td>2.0</td>\n",
              "      <td>0.331675</td>\n",
              "    </tr>\n",
              "    <tr>\n",
              "      <th>1</th>\n",
              "      <td>2019</td>\n",
              "      <td>Jul</td>\n",
              "      <td>Ashrafieh</td>\n",
              "      <td>000000PD02000660322</td>\n",
              "      <td>BEVERAGES &amp; READY TO EAT</td>\n",
              "      <td>BISCUITS</td>\n",
              "      <td>WAFERS</td>\n",
              "      <td>104874</td>\n",
              "      <td>GANDOUR</td>\n",
              "      <td>GANDOUR UNICA</td>\n",
              "      <td>27G</td>\n",
              "      <td>250.0</td>\n",
              "      <td>1.0</td>\n",
              "      <td>0.165837</td>\n",
              "    </tr>\n",
              "    <tr>\n",
              "      <th>2</th>\n",
              "      <td>2019</td>\n",
              "      <td>Jul</td>\n",
              "      <td>Ashrafieh</td>\n",
              "      <td>000000PD02000660322</td>\n",
              "      <td>BEVERAGES &amp; READY TO EAT</td>\n",
              "      <td>CAKES</td>\n",
              "      <td>MINI CAKES</td>\n",
              "      <td>135173</td>\n",
              "      <td>ENG.CAKE</td>\n",
              "      <td>CAKE PLAIN</td>\n",
              "      <td>65G</td>\n",
              "      <td>595.0</td>\n",
              "      <td>1.0</td>\n",
              "      <td>0.394693</td>\n",
              "    </tr>\n",
              "    <tr>\n",
              "      <th>3</th>\n",
              "      <td>2019</td>\n",
              "      <td>Jul</td>\n",
              "      <td>Ashrafieh</td>\n",
              "      <td>000000PD02000660322</td>\n",
              "      <td>BEVERAGES &amp; READY TO EAT</td>\n",
              "      <td>CAKES</td>\n",
              "      <td>CROISSANT</td>\n",
              "      <td>479487</td>\n",
              "      <td>KARUZO</td>\n",
              "      <td>CROISSANT CHESSECAKE</td>\n",
              "      <td>62G</td>\n",
              "      <td>750.0</td>\n",
              "      <td>1.0</td>\n",
              "      <td>0.497512</td>\n",
              "    </tr>\n",
              "    <tr>\n",
              "      <th>4</th>\n",
              "      <td>2019</td>\n",
              "      <td>Jul</td>\n",
              "      <td>Ashrafieh</td>\n",
              "      <td>000000PD02000660322</td>\n",
              "      <td>TOBACCO</td>\n",
              "      <td>CIGARETTES</td>\n",
              "      <td>FULL STRENGTH</td>\n",
              "      <td>488316</td>\n",
              "      <td>WINSTON</td>\n",
              "      <td>BLUE COMPACT BOX SHORT</td>\n",
              "      <td>1PC</td>\n",
              "      <td>1999.0</td>\n",
              "      <td>1.0</td>\n",
              "      <td>1.326036</td>\n",
              "    </tr>\n",
              "  </tbody>\n",
              "</table>\n",
              "</div>"
            ],
            "text/plain": [
              "   Year Month Store Name  ...     SKU Quantity Sales Value $\n",
              "0  2019   Jul  Ashrafieh  ...   250.0      2.0      0.331675\n",
              "1  2019   Jul  Ashrafieh  ...   250.0      1.0      0.165837\n",
              "2  2019   Jul  Ashrafieh  ...   595.0      1.0      0.394693\n",
              "3  2019   Jul  Ashrafieh  ...   750.0      1.0      0.497512\n",
              "4  2019   Jul  Ashrafieh  ...  1999.0      1.0      1.326036\n",
              "\n",
              "[5 rows x 14 columns]"
            ]
          },
          "metadata": {
            "tags": []
          },
          "execution_count": 216
        }
      ]
    },
    {
      "cell_type": "code",
      "metadata": {
        "id": "GzLkYnpsHjH2",
        "colab": {
          "base_uri": "https://localhost:8080/"
        },
        "outputId": "ddccc500-a7ee-48a9-d658-213393d9eaf3"
      },
      "source": [
        "%%time\n",
        "print(\"Dataframe size\",spinneys_dataset_df.shape)"
      ],
      "execution_count": 217,
      "outputs": [
        {
          "output_type": "stream",
          "text": [
            "Dataframe size (278545, 14)\n",
            "CPU times: user 617 µs, sys: 0 ns, total: 617 µs\n",
            "Wall time: 542 µs\n"
          ],
          "name": "stdout"
        }
      ]
    },
    {
      "cell_type": "code",
      "metadata": {
        "colab": {
          "base_uri": "https://localhost:8080/",
          "height": 204
        },
        "id": "qzcZ8UX1KU7p",
        "outputId": "5da33651-1fe7-4e63-9399-15595417e88e"
      },
      "source": [
        "spinneys_dataset_df.groupby(by=[\"Month\"], dropna=False).sum()"
      ],
      "execution_count": 219,
      "outputs": [
        {
          "output_type": "execute_result",
          "data": {
            "text/html": [
              "<div>\n",
              "<style scoped>\n",
              "    .dataframe tbody tr th:only-of-type {\n",
              "        vertical-align: middle;\n",
              "    }\n",
              "\n",
              "    .dataframe tbody tr th {\n",
              "        vertical-align: top;\n",
              "    }\n",
              "\n",
              "    .dataframe thead th {\n",
              "        text-align: right;\n",
              "    }\n",
              "</style>\n",
              "<table border=\"1\" class=\"dataframe\">\n",
              "  <thead>\n",
              "    <tr style=\"text-align: right;\">\n",
              "      <th></th>\n",
              "      <th>Year</th>\n",
              "      <th>Item Number</th>\n",
              "      <th>SKU</th>\n",
              "      <th>Quantity</th>\n",
              "      <th>Sales Value $</th>\n",
              "    </tr>\n",
              "    <tr>\n",
              "      <th>Month</th>\n",
              "      <th></th>\n",
              "      <th></th>\n",
              "      <th></th>\n",
              "      <th></th>\n",
              "      <th></th>\n",
              "    </tr>\n",
              "  </thead>\n",
              "  <tbody>\n",
              "    <tr>\n",
              "      <th>Aug</th>\n",
              "      <td>218869695</td>\n",
              "      <td>34178837966</td>\n",
              "      <td>4.752283e+08</td>\n",
              "      <td>186348.260</td>\n",
              "      <td>340426.795264</td>\n",
              "    </tr>\n",
              "    <tr>\n",
              "      <th>Jul</th>\n",
              "      <td>189531606</td>\n",
              "      <td>29487043002</td>\n",
              "      <td>3.693037e+08</td>\n",
              "      <td>158502.897</td>\n",
              "      <td>290760.055350</td>\n",
              "    </tr>\n",
              "    <tr>\n",
              "      <th>Oct</th>\n",
              "      <td>46283556</td>\n",
              "      <td>7248602764</td>\n",
              "      <td>9.230870e+07</td>\n",
              "      <td>38147.392</td>\n",
              "      <td>72251.569466</td>\n",
              "    </tr>\n",
              "    <tr>\n",
              "      <th>Sep</th>\n",
              "      <td>107697498</td>\n",
              "      <td>16832061242</td>\n",
              "      <td>2.078299e+08</td>\n",
              "      <td>91182.341</td>\n",
              "      <td>164394.865897</td>\n",
              "    </tr>\n",
              "  </tbody>\n",
              "</table>\n",
              "</div>"
            ],
            "text/plain": [
              "            Year  Item Number           SKU    Quantity  Sales Value $\n",
              "Month                                                                 \n",
              "Aug    218869695  34178837966  4.752283e+08  186348.260  340426.795264\n",
              "Jul    189531606  29487043002  3.693037e+08  158502.897  290760.055350\n",
              "Oct     46283556   7248602764  9.230870e+07   38147.392   72251.569466\n",
              "Sep    107697498  16832061242  2.078299e+08   91182.341  164394.865897"
            ]
          },
          "metadata": {
            "tags": []
          },
          "execution_count": 219
        }
      ]
    },
    {
      "cell_type": "markdown",
      "metadata": {
        "id": "wHGnvSWYL77C"
      },
      "source": [
        "\n",
        "\n",
        "```\n",
        "# This is formatted as code\n",
        "```\n",
        "\n",
        "# Data Preparation and Cleaning"
      ]
    },
    {
      "cell_type": "code",
      "metadata": {
        "colab": {
          "base_uri": "https://localhost:8080/"
        },
        "id": "MXo5IbLgMAuj",
        "outputId": "a9390a2a-a51e-4a56-a662-bf1ed865fe43"
      },
      "source": [
        "spinneys_dataset_df.info()"
      ],
      "execution_count": 220,
      "outputs": [
        {
          "output_type": "stream",
          "text": [
            "<class 'pandas.core.frame.DataFrame'>\n",
            "RangeIndex: 278545 entries, 0 to 278544\n",
            "Data columns (total 14 columns):\n",
            " #   Column            Non-Null Count   Dtype  \n",
            "---  ------            --------------   -----  \n",
            " 0   Year              278545 non-null  int64  \n",
            " 1   Month             278545 non-null  object \n",
            " 2   Store Name        278545 non-null  object \n",
            " 3   Receipt Number    278545 non-null  object \n",
            " 4   Category          278545 non-null  object \n",
            " 5   Group             278545 non-null  object \n",
            " 6   Sub Group         278545 non-null  object \n",
            " 7   Item Number       278545 non-null  int64  \n",
            " 8   Item Family       278509 non-null  object \n",
            " 9   Item Description  278545 non-null  object \n",
            " 10  Product Size      278520 non-null  object \n",
            " 11  SKU               278545 non-null  float64\n",
            " 12  Quantity          278545 non-null  float64\n",
            " 13  Sales Value $     278545 non-null  float64\n",
            "dtypes: float64(3), int64(2), object(9)\n",
            "memory usage: 29.8+ MB\n"
          ],
          "name": "stdout"
        }
      ]
    },
    {
      "cell_type": "code",
      "metadata": {
        "colab": {
          "base_uri": "https://localhost:8080/"
        },
        "id": "bW0WgiFhSES3",
        "outputId": "71f95b74-3c0b-4149-f44c-8ceae1e92c17"
      },
      "source": [
        "spinneys_dataset_df.nunique()"
      ],
      "execution_count": 221,
      "outputs": [
        {
          "output_type": "execute_result",
          "data": {
            "text/plain": [
              "Year                    1\n",
              "Month                   4\n",
              "Store Name              3\n",
              "Receipt Number      67376\n",
              "Category               10\n",
              "Group                  99\n",
              "Sub Group             523\n",
              "Item Number         11570\n",
              "Item Family          1236\n",
              "Item Description    10567\n",
              "Product Size         1490\n",
              "SKU                   578\n",
              "Quantity              348\n",
              "Sales Value $        2173\n",
              "dtype: int64"
            ]
          },
          "metadata": {
            "tags": []
          },
          "execution_count": 221
        }
      ]
    },
    {
      "cell_type": "markdown",
      "metadata": {
        "id": "vFBWZDknSObo"
      },
      "source": [
        "# Handling Null Values\n",
        "we can see that for each of the column, there are alot different uniques values for some of them. It makes sense that Receipt Number is large since it is a unique key used to identify transaction. Item Number , Item Family, Item Description, Product Size, Sales Value $, Price and Sales volume contain many unbiques value"
      ]
    },
    {
      "cell_type": "code",
      "metadata": {
        "colab": {
          "base_uri": "https://localhost:8080/"
        },
        "id": "8wes_3IBTDVw",
        "outputId": "5b057503-3333-44e0-fb42-109cd590a169"
      },
      "source": [
        "spinneys_dataset_df.isnull().values.any()"
      ],
      "execution_count": 222,
      "outputs": [
        {
          "output_type": "execute_result",
          "data": {
            "text/plain": [
              "True"
            ]
          },
          "metadata": {
            "tags": []
          },
          "execution_count": 222
        }
      ]
    },
    {
      "cell_type": "code",
      "metadata": {
        "colab": {
          "base_uri": "https://localhost:8080/"
        },
        "id": "Fm28TIsITJZR",
        "outputId": "da2fd8b7-60e1-481b-e7b1-ec051e7b40ff"
      },
      "source": [
        "spinneys_dataset_df.isnull().sum().sum()"
      ],
      "execution_count": 223,
      "outputs": [
        {
          "output_type": "execute_result",
          "data": {
            "text/plain": [
              "61"
            ]
          },
          "metadata": {
            "tags": []
          },
          "execution_count": 223
        }
      ]
    },
    {
      "cell_type": "code",
      "metadata": {
        "colab": {
          "base_uri": "https://localhost:8080/",
          "height": 354
        },
        "id": "LPPoVuLlTOFZ",
        "outputId": "142056e9-fef3-4475-b899-ffea4a5cde24"
      },
      "source": [
        "sns.heatmap(spinneys_dataset_df.isnull())\n",
        "plt.title('Null Values Heatmap')\n",
        "plt.show()"
      ],
      "execution_count": 224,
      "outputs": [
        {
          "output_type": "display_data",
          "data": {
            "image/png": "[encoded data removed]",
            "text/plain": [
              "<Figure size 432x288 with 2 Axes>"
            ]
          },
          "metadata": {
            "tags": [],
            "needs_background": "light"
          }
        }
      ]
    },
    {
      "cell_type": "code",
      "metadata": {
        "colab": {
          "base_uri": "https://localhost:8080/"
        },
        "id": "Gv2cUDd5Tgx4",
        "outputId": "86752289-2adb-44a7-ee2e-979ddd238b04"
      },
      "source": [
        "spinneys_dataset_df.isnull().sum()"
      ],
      "execution_count": 225,
      "outputs": [
        {
          "output_type": "execute_result",
          "data": {
            "text/plain": [
              "Year                 0\n",
              "Month                0\n",
              "Store Name           0\n",
              "Receipt Number       0\n",
              "Category             0\n",
              "Group                0\n",
              "Sub Group            0\n",
              "Item Number          0\n",
              "Item Family         36\n",
              "Item Description     0\n",
              "Product Size        25\n",
              "SKU                  0\n",
              "Quantity             0\n",
              "Sales Value $        0\n",
              "dtype: int64"
            ]
          },
          "metadata": {
            "tags": []
          },
          "execution_count": 225
        }
      ]
    },
    {
      "cell_type": "markdown",
      "metadata": {
        "id": "Rjiq9QnFT-cG"
      },
      "source": [
        "Above in the heatmap and table, we can see that there are quite few null values in the dataset.There are a total of 61 null value across the entire dataset with 36 missing point under 'Item Family' and 25 under 'Product Size'.\n",
        "We will have to handle all null data points values before we can dive into EDA and modeling "
      ]
    },
    {
      "cell_type": "code",
      "metadata": {
        "id": "W-h-NZE5TrPw"
      },
      "source": [
        "spinneys_dataset_df.dropna(subset=['Product Size','Item Family'], inplace=True)"
      ],
      "execution_count": 226,
      "outputs": []
    },
    {
      "cell_type": "code",
      "metadata": {
        "colab": {
          "base_uri": "https://localhost:8080/"
        },
        "id": "oulcWbayV0ik",
        "outputId": "072c5b35-6d8c-4792-fee3-4ccf300a1b1c"
      },
      "source": [
        "spinneys_dataset_df.isnull().any()"
      ],
      "execution_count": 227,
      "outputs": [
        {
          "output_type": "execute_result",
          "data": {
            "text/plain": [
              "Year                False\n",
              "Month               False\n",
              "Store Name          False\n",
              "Receipt Number      False\n",
              "Category            False\n",
              "Group               False\n",
              "Sub Group           False\n",
              "Item Number         False\n",
              "Item Family         False\n",
              "Item Description    False\n",
              "Product Size        False\n",
              "SKU                 False\n",
              "Quantity            False\n",
              "Sales Value $       False\n",
              "dtype: bool"
            ]
          },
          "metadata": {
            "tags": []
          },
          "execution_count": 227
        }
      ]
    },
    {
      "cell_type": "markdown",
      "metadata": {
        "id": "BGHa2IW3V-lN"
      },
      "source": [
        "For null values, since the Item family and Product size contains an insignificant portion of data so i will drop them from the dataset. After t, we can see that there are no more null values in the dataset."
      ]
    },
    {
      "cell_type": "markdown",
      "metadata": {
        "id": "sSpUQXVxWamQ"
      },
      "source": [
        "# Splitting the dataset\n",
        "Since the dataset can either contains 4 months. It'd nice to have datasets for both so we can take a deep dive into these 4 months. So we will create three new datasets. One for July, August,September and the other one for October."
      ]
    },
    {
      "cell_type": "code",
      "metadata": {
        "colab": {
          "base_uri": "https://localhost:8080/"
        },
        "id": "4ZcfPj6alwMP",
        "outputId": "6c6729dc-87dc-4932-9d8a-0df3483830e7"
      },
      "source": [
        "splitting_data_August = spinneys_dataset_df.groupby(\"Month\")[\"Month\"].count()\n",
        "splitting_data_August.head()"
      ],
      "execution_count": 228,
      "outputs": [
        {
          "output_type": "execute_result",
          "data": {
            "text/plain": [
              "Month\n",
              "Aug    108378\n",
              "Jul     93860\n",
              "Oct     22923\n",
              "Sep     53323\n",
              "Name: Month, dtype: int64"
            ]
          },
          "metadata": {
            "tags": []
          },
          "execution_count": 228
        }
      ]
    },
    {
      "cell_type": "code",
      "metadata": {
        "colab": {
          "base_uri": "https://localhost:8080/",
          "height": 289
        },
        "id": "fgMZpoF70VJr",
        "outputId": "1cb4aac2-e8eb-4621-af87-da3f18cfeb2c"
      },
      "source": [
        "splitting_data_Jul = spinneys_dataset_df[spinneys_dataset_df['Month'] =='Jul'].copy()\n",
        "splitting_data_August.head()"
      ],
      "execution_count": 234,
      "outputs": [
        {
          "output_type": "execute_result",
          "data": {
            "text/html": [
              "<div>\n",
              "<style scoped>\n",
              "    .dataframe tbody tr th:only-of-type {\n",
              "        vertical-align: middle;\n",
              "    }\n",
              "\n",
              "    .dataframe tbody tr th {\n",
              "        vertical-align: top;\n",
              "    }\n",
              "\n",
              "    .dataframe thead th {\n",
              "        text-align: right;\n",
              "    }\n",
              "</style>\n",
              "<table border=\"1\" class=\"dataframe\">\n",
              "  <thead>\n",
              "    <tr style=\"text-align: right;\">\n",
              "      <th></th>\n",
              "      <th>Year</th>\n",
              "      <th>Month</th>\n",
              "      <th>Store Name</th>\n",
              "      <th>Receipt Number</th>\n",
              "      <th>Category</th>\n",
              "      <th>Group</th>\n",
              "      <th>Sub Group</th>\n",
              "      <th>Item Number</th>\n",
              "      <th>Item Family</th>\n",
              "      <th>Item Description</th>\n",
              "      <th>Product Size</th>\n",
              "      <th>SKU</th>\n",
              "      <th>Quantity</th>\n",
              "      <th>Sales Value $</th>\n",
              "    </tr>\n",
              "  </thead>\n",
              "  <tbody>\n",
              "    <tr>\n",
              "      <th>93874</th>\n",
              "      <td>2019</td>\n",
              "      <td>Aug</td>\n",
              "      <td>Ashrafieh</td>\n",
              "      <td>000000PD02000672610</td>\n",
              "      <td>BEVERAGES &amp; READY TO EAT</td>\n",
              "      <td>WATER</td>\n",
              "      <td>LOCAL WATER</td>\n",
              "      <td>110804</td>\n",
              "      <td>SANNINE</td>\n",
              "      <td>MINERAL WATER PET</td>\n",
              "      <td>1.5L</td>\n",
              "      <td>750.0</td>\n",
              "      <td>1.0</td>\n",
              "      <td>0.497512</td>\n",
              "    </tr>\n",
              "    <tr>\n",
              "      <th>93875</th>\n",
              "      <td>2019</td>\n",
              "      <td>Aug</td>\n",
              "      <td>Ashrafieh</td>\n",
              "      <td>000000PD02000672611</td>\n",
              "      <td>TOBACCO</td>\n",
              "      <td>CIGARETTES</td>\n",
              "      <td>LIGHT</td>\n",
              "      <td>253242</td>\n",
              "      <td>MARLBORO</td>\n",
              "      <td>LIGHT GOLD SOFT SHORT</td>\n",
              "      <td>1PC</td>\n",
              "      <td>2750.0</td>\n",
              "      <td>1.0</td>\n",
              "      <td>1.824212</td>\n",
              "    </tr>\n",
              "    <tr>\n",
              "      <th>93876</th>\n",
              "      <td>2019</td>\n",
              "      <td>Aug</td>\n",
              "      <td>Ashrafieh</td>\n",
              "      <td>000000PD02000672612</td>\n",
              "      <td>MEAL SOLUTIONS</td>\n",
              "      <td>RICE</td>\n",
              "      <td>AMERICAN RICE</td>\n",
              "      <td>421855</td>\n",
              "      <td>SPINNEYS</td>\n",
              "      <td>AMERICAN RICE</td>\n",
              "      <td>1KG</td>\n",
              "      <td>1750.0</td>\n",
              "      <td>2.0</td>\n",
              "      <td>2.321725</td>\n",
              "    </tr>\n",
              "    <tr>\n",
              "      <th>93877</th>\n",
              "      <td>2019</td>\n",
              "      <td>Aug</td>\n",
              "      <td>Ashrafieh</td>\n",
              "      <td>000000PD02000672612</td>\n",
              "      <td>HEALTH &amp; BEAUTY</td>\n",
              "      <td>FEMININE CARE</td>\n",
              "      <td>DAILY PANTILINERS</td>\n",
              "      <td>149132</td>\n",
              "      <td>FRESHDAYS</td>\n",
              "      <td>FRESH DAY STRING PANTYLINER</td>\n",
              "      <td>24'S</td>\n",
              "      <td>2999.0</td>\n",
              "      <td>1.0</td>\n",
              "      <td>1.989386</td>\n",
              "    </tr>\n",
              "    <tr>\n",
              "      <th>93878</th>\n",
              "      <td>2019</td>\n",
              "      <td>Aug</td>\n",
              "      <td>Ashrafieh</td>\n",
              "      <td>000000PD02000672612</td>\n",
              "      <td>CHILLED</td>\n",
              "      <td>DAIRY PRODUCTS</td>\n",
              "      <td>LABAN</td>\n",
              "      <td>427151</td>\n",
              "      <td>BONJUS</td>\n",
              "      <td>LABAN</td>\n",
              "      <td>2KG</td>\n",
              "      <td>4790.0</td>\n",
              "      <td>2.0</td>\n",
              "      <td>6.354892</td>\n",
              "    </tr>\n",
              "  </tbody>\n",
              "</table>\n",
              "</div>"
            ],
            "text/plain": [
              "       Year Month Store Name  ...     SKU Quantity Sales Value $\n",
              "93874  2019   Aug  Ashrafieh  ...   750.0      1.0      0.497512\n",
              "93875  2019   Aug  Ashrafieh  ...  2750.0      1.0      1.824212\n",
              "93876  2019   Aug  Ashrafieh  ...  1750.0      2.0      2.321725\n",
              "93877  2019   Aug  Ashrafieh  ...  2999.0      1.0      1.989386\n",
              "93878  2019   Aug  Ashrafieh  ...  4790.0      2.0      6.354892\n",
              "\n",
              "[5 rows x 14 columns]"
            ]
          },
          "metadata": {
            "tags": []
          },
          "execution_count": 234
        }
      ]
    },
    {
      "cell_type": "code",
      "metadata": {
        "colab": {
          "base_uri": "https://localhost:8080/",
          "height": 289
        },
        "id": "WCYaYDroWeIX",
        "outputId": "7455060c-dac2-4c25-99f3-a657cfa3c78d"
      },
      "source": [
        "splitting_data_August = spinneys_dataset_df[spinneys_dataset_df['Month'] =='Aug'].copy()\n",
        "splitting_data_August.head()"
      ],
      "execution_count": 229,
      "outputs": [
        {
          "output_type": "execute_result",
          "data": {
            "text/html": [
              "<div>\n",
              "<style scoped>\n",
              "    .dataframe tbody tr th:only-of-type {\n",
              "        vertical-align: middle;\n",
              "    }\n",
              "\n",
              "    .dataframe tbody tr th {\n",
              "        vertical-align: top;\n",
              "    }\n",
              "\n",
              "    .dataframe thead th {\n",
              "        text-align: right;\n",
              "    }\n",
              "</style>\n",
              "<table border=\"1\" class=\"dataframe\">\n",
              "  <thead>\n",
              "    <tr style=\"text-align: right;\">\n",
              "      <th></th>\n",
              "      <th>Year</th>\n",
              "      <th>Month</th>\n",
              "      <th>Store Name</th>\n",
              "      <th>Receipt Number</th>\n",
              "      <th>Category</th>\n",
              "      <th>Group</th>\n",
              "      <th>Sub Group</th>\n",
              "      <th>Item Number</th>\n",
              "      <th>Item Family</th>\n",
              "      <th>Item Description</th>\n",
              "      <th>Product Size</th>\n",
              "      <th>SKU</th>\n",
              "      <th>Quantity</th>\n",
              "      <th>Sales Value $</th>\n",
              "    </tr>\n",
              "  </thead>\n",
              "  <tbody>\n",
              "    <tr>\n",
              "      <th>93874</th>\n",
              "      <td>2019</td>\n",
              "      <td>Aug</td>\n",
              "      <td>Ashrafieh</td>\n",
              "      <td>000000PD02000672610</td>\n",
              "      <td>BEVERAGES &amp; READY TO EAT</td>\n",
              "      <td>WATER</td>\n",
              "      <td>LOCAL WATER</td>\n",
              "      <td>110804</td>\n",
              "      <td>SANNINE</td>\n",
              "      <td>MINERAL WATER PET</td>\n",
              "      <td>1.5L</td>\n",
              "      <td>750.0</td>\n",
              "      <td>1.0</td>\n",
              "      <td>0.497512</td>\n",
              "    </tr>\n",
              "    <tr>\n",
              "      <th>93875</th>\n",
              "      <td>2019</td>\n",
              "      <td>Aug</td>\n",
              "      <td>Ashrafieh</td>\n",
              "      <td>000000PD02000672611</td>\n",
              "      <td>TOBACCO</td>\n",
              "      <td>CIGARETTES</td>\n",
              "      <td>LIGHT</td>\n",
              "      <td>253242</td>\n",
              "      <td>MARLBORO</td>\n",
              "      <td>LIGHT GOLD SOFT SHORT</td>\n",
              "      <td>1PC</td>\n",
              "      <td>2750.0</td>\n",
              "      <td>1.0</td>\n",
              "      <td>1.824212</td>\n",
              "    </tr>\n",
              "    <tr>\n",
              "      <th>93876</th>\n",
              "      <td>2019</td>\n",
              "      <td>Aug</td>\n",
              "      <td>Ashrafieh</td>\n",
              "      <td>000000PD02000672612</td>\n",
              "      <td>MEAL SOLUTIONS</td>\n",
              "      <td>RICE</td>\n",
              "      <td>AMERICAN RICE</td>\n",
              "      <td>421855</td>\n",
              "      <td>SPINNEYS</td>\n",
              "      <td>AMERICAN RICE</td>\n",
              "      <td>1KG</td>\n",
              "      <td>1750.0</td>\n",
              "      <td>2.0</td>\n",
              "      <td>2.321725</td>\n",
              "    </tr>\n",
              "    <tr>\n",
              "      <th>93877</th>\n",
              "      <td>2019</td>\n",
              "      <td>Aug</td>\n",
              "      <td>Ashrafieh</td>\n",
              "      <td>000000PD02000672612</td>\n",
              "      <td>HEALTH &amp; BEAUTY</td>\n",
              "      <td>FEMININE CARE</td>\n",
              "      <td>DAILY PANTILINERS</td>\n",
              "      <td>149132</td>\n",
              "      <td>FRESHDAYS</td>\n",
              "      <td>FRESH DAY STRING PANTYLINER</td>\n",
              "      <td>24'S</td>\n",
              "      <td>2999.0</td>\n",
              "      <td>1.0</td>\n",
              "      <td>1.989386</td>\n",
              "    </tr>\n",
              "    <tr>\n",
              "      <th>93878</th>\n",
              "      <td>2019</td>\n",
              "      <td>Aug</td>\n",
              "      <td>Ashrafieh</td>\n",
              "      <td>000000PD02000672612</td>\n",
              "      <td>CHILLED</td>\n",
              "      <td>DAIRY PRODUCTS</td>\n",
              "      <td>LABAN</td>\n",
              "      <td>427151</td>\n",
              "      <td>BONJUS</td>\n",
              "      <td>LABAN</td>\n",
              "      <td>2KG</td>\n",
              "      <td>4790.0</td>\n",
              "      <td>2.0</td>\n",
              "      <td>6.354892</td>\n",
              "    </tr>\n",
              "  </tbody>\n",
              "</table>\n",
              "</div>"
            ],
            "text/plain": [
              "       Year Month Store Name  ...     SKU Quantity Sales Value $\n",
              "93874  2019   Aug  Ashrafieh  ...   750.0      1.0      0.497512\n",
              "93875  2019   Aug  Ashrafieh  ...  2750.0      1.0      1.824212\n",
              "93876  2019   Aug  Ashrafieh  ...  1750.0      2.0      2.321725\n",
              "93877  2019   Aug  Ashrafieh  ...  2999.0      1.0      1.989386\n",
              "93878  2019   Aug  Ashrafieh  ...  4790.0      2.0      6.354892\n",
              "\n",
              "[5 rows x 14 columns]"
            ]
          },
          "metadata": {
            "tags": []
          },
          "execution_count": 229
        }
      ]
    },
    {
      "cell_type": "code",
      "metadata": {
        "colab": {
          "base_uri": "https://localhost:8080/",
          "height": 306
        },
        "id": "cCYyebAU04u3",
        "outputId": "e4b1dec3-b125-48b4-dfee-e68e3efd5e00"
      },
      "source": [
        "splitting_data_Sep= spinneys_dataset_df[spinneys_dataset_df['Month'] =='Sep'].copy()\n",
        "splitting_data_Sep.head()"
      ],
      "execution_count": 236,
      "outputs": [
        {
          "output_type": "execute_result",
          "data": {
            "text/html": [
              "<div>\n",
              "<style scoped>\n",
              "    .dataframe tbody tr th:only-of-type {\n",
              "        vertical-align: middle;\n",
              "    }\n",
              "\n",
              "    .dataframe tbody tr th {\n",
              "        vertical-align: top;\n",
              "    }\n",
              "\n",
              "    .dataframe thead th {\n",
              "        text-align: right;\n",
              "    }\n",
              "</style>\n",
              "<table border=\"1\" class=\"dataframe\">\n",
              "  <thead>\n",
              "    <tr style=\"text-align: right;\">\n",
              "      <th></th>\n",
              "      <th>Year</th>\n",
              "      <th>Month</th>\n",
              "      <th>Store Name</th>\n",
              "      <th>Receipt Number</th>\n",
              "      <th>Category</th>\n",
              "      <th>Group</th>\n",
              "      <th>Sub Group</th>\n",
              "      <th>Item Number</th>\n",
              "      <th>Item Family</th>\n",
              "      <th>Item Description</th>\n",
              "      <th>Product Size</th>\n",
              "      <th>SKU</th>\n",
              "      <th>Quantity</th>\n",
              "      <th>Sales Value $</th>\n",
              "    </tr>\n",
              "  </thead>\n",
              "  <tbody>\n",
              "    <tr>\n",
              "      <th>202279</th>\n",
              "      <td>2019</td>\n",
              "      <td>Sep</td>\n",
              "      <td>Jbeil</td>\n",
              "      <td>000000PD02000690453</td>\n",
              "      <td>CLEANING</td>\n",
              "      <td>ALL PUPROSE</td>\n",
              "      <td>FLOOR CLEANING</td>\n",
              "      <td>475756</td>\n",
              "      <td>DERGENERAL</td>\n",
              "      <td>SHINE JASMINE</td>\n",
              "      <td>3LT</td>\n",
              "      <td>5999.0</td>\n",
              "      <td>1.0</td>\n",
              "      <td>3.979436</td>\n",
              "    </tr>\n",
              "    <tr>\n",
              "      <th>202280</th>\n",
              "      <td>2019</td>\n",
              "      <td>Sep</td>\n",
              "      <td>Jbeil</td>\n",
              "      <td>000000PD02000690453</td>\n",
              "      <td>HEALTH &amp; BEAUTY</td>\n",
              "      <td>SOAP</td>\n",
              "      <td>LIQUID SOAP</td>\n",
              "      <td>398120</td>\n",
              "      <td>SPINNEYS</td>\n",
              "      <td>MILK &amp; HONEY LIQUID SOAP</td>\n",
              "      <td>500ML</td>\n",
              "      <td>1750.0</td>\n",
              "      <td>1.0</td>\n",
              "      <td>1.160862</td>\n",
              "    </tr>\n",
              "    <tr>\n",
              "      <th>202281</th>\n",
              "      <td>2019</td>\n",
              "      <td>Sep</td>\n",
              "      <td>Jbeil</td>\n",
              "      <td>000000PD02000690453</td>\n",
              "      <td>CHILLED</td>\n",
              "      <td>DAIRY PRODUCTS</td>\n",
              "      <td>LABNEH</td>\n",
              "      <td>148865</td>\n",
              "      <td>CANDIA</td>\n",
              "      <td>LABNEH 0% MATIERE GRASS</td>\n",
              "      <td>450G</td>\n",
              "      <td>4999.0</td>\n",
              "      <td>2.0</td>\n",
              "      <td>6.632172</td>\n",
              "    </tr>\n",
              "    <tr>\n",
              "      <th>202282</th>\n",
              "      <td>2019</td>\n",
              "      <td>Sep</td>\n",
              "      <td>Jbeil</td>\n",
              "      <td>000000PD02000690453</td>\n",
              "      <td>FROZEN</td>\n",
              "      <td>FISH FROZEN</td>\n",
              "      <td>FISH FILLET</td>\n",
              "      <td>357501</td>\n",
              "      <td>FRUMER</td>\n",
              "      <td>WHITE FISH FILLETS IWP</td>\n",
              "      <td>1KG</td>\n",
              "      <td>10750.0</td>\n",
              "      <td>1.0</td>\n",
              "      <td>7.131012</td>\n",
              "    </tr>\n",
              "    <tr>\n",
              "      <th>202283</th>\n",
              "      <td>2019</td>\n",
              "      <td>Sep</td>\n",
              "      <td>Jbeil</td>\n",
              "      <td>000000PD02000690454</td>\n",
              "      <td>BEVERAGES &amp; READY TO EAT</td>\n",
              "      <td>NUTS</td>\n",
              "      <td>MINI BAGS&lt;100G</td>\n",
              "      <td>383546</td>\n",
              "      <td>CASTANIA</td>\n",
              "      <td>PEANUTS ROASTED</td>\n",
              "      <td>40G</td>\n",
              "      <td>500.0</td>\n",
              "      <td>1.0</td>\n",
              "      <td>0.331675</td>\n",
              "    </tr>\n",
              "  </tbody>\n",
              "</table>\n",
              "</div>"
            ],
            "text/plain": [
              "        Year Month Store Name  ...      SKU Quantity Sales Value $\n",
              "202279  2019   Sep      Jbeil  ...   5999.0      1.0      3.979436\n",
              "202280  2019   Sep      Jbeil  ...   1750.0      1.0      1.160862\n",
              "202281  2019   Sep      Jbeil  ...   4999.0      2.0      6.632172\n",
              "202282  2019   Sep      Jbeil  ...  10750.0      1.0      7.131012\n",
              "202283  2019   Sep      Jbeil  ...    500.0      1.0      0.331675\n",
              "\n",
              "[5 rows x 14 columns]"
            ]
          },
          "metadata": {
            "tags": []
          },
          "execution_count": 236
        }
      ]
    },
    {
      "cell_type": "code",
      "metadata": {
        "colab": {
          "base_uri": "https://localhost:8080/",
          "height": 306
        },
        "id": "1nTXeeBk0VVC",
        "outputId": "9fc9d3b3-55fe-455c-cfe5-7d90ba9c45c3"
      },
      "source": [
        "splitting_data_Oct= spinneys_dataset_df[spinneys_dataset_df['Month'] =='Oct'].copy()\n",
        "splitting_data_Oct.head()"
      ],
      "execution_count": 235,
      "outputs": [
        {
          "output_type": "execute_result",
          "data": {
            "text/html": [
              "<div>\n",
              "<style scoped>\n",
              "    .dataframe tbody tr th:only-of-type {\n",
              "        vertical-align: middle;\n",
              "    }\n",
              "\n",
              "    .dataframe tbody tr th {\n",
              "        vertical-align: top;\n",
              "    }\n",
              "\n",
              "    .dataframe thead th {\n",
              "        text-align: right;\n",
              "    }\n",
              "</style>\n",
              "<table border=\"1\" class=\"dataframe\">\n",
              "  <thead>\n",
              "    <tr style=\"text-align: right;\">\n",
              "      <th></th>\n",
              "      <th>Year</th>\n",
              "      <th>Month</th>\n",
              "      <th>Store Name</th>\n",
              "      <th>Receipt Number</th>\n",
              "      <th>Category</th>\n",
              "      <th>Group</th>\n",
              "      <th>Sub Group</th>\n",
              "      <th>Item Number</th>\n",
              "      <th>Item Family</th>\n",
              "      <th>Item Description</th>\n",
              "      <th>Product Size</th>\n",
              "      <th>SKU</th>\n",
              "      <th>Quantity</th>\n",
              "      <th>Sales Value $</th>\n",
              "    </tr>\n",
              "  </thead>\n",
              "  <tbody>\n",
              "    <tr>\n",
              "      <th>255621</th>\n",
              "      <td>2019</td>\n",
              "      <td>Oct</td>\n",
              "      <td>Jbeil</td>\n",
              "      <td>000000PD03000764191</td>\n",
              "      <td>CLEANING</td>\n",
              "      <td>PAPER GOODS</td>\n",
              "      <td>TOILET ROLL</td>\n",
              "      <td>457592</td>\n",
              "      <td>FINE</td>\n",
              "      <td>EXTRA SOFT 28R + 4R FREE</td>\n",
              "      <td>32R</td>\n",
              "      <td>13999.0</td>\n",
              "      <td>1.0</td>\n",
              "      <td>9.286235</td>\n",
              "    </tr>\n",
              "    <tr>\n",
              "      <th>255622</th>\n",
              "      <td>2019</td>\n",
              "      <td>Oct</td>\n",
              "      <td>Jbeil</td>\n",
              "      <td>000000PD03000764191</td>\n",
              "      <td>CLEANING</td>\n",
              "      <td>PAPER GOODS</td>\n",
              "      <td>FACIAL TISSUES BOX</td>\n",
              "      <td>281506</td>\n",
              "      <td>KLEENEX</td>\n",
              "      <td>ULTRA SOFT</td>\n",
              "      <td>72'S</td>\n",
              "      <td>4999.5</td>\n",
              "      <td>4.0</td>\n",
              "      <td>13.265672</td>\n",
              "    </tr>\n",
              "    <tr>\n",
              "      <th>255623</th>\n",
              "      <td>2019</td>\n",
              "      <td>Oct</td>\n",
              "      <td>Jbeil</td>\n",
              "      <td>000000PD03000764191</td>\n",
              "      <td>HEALTH &amp; BEAUTY</td>\n",
              "      <td>HAIR CARE</td>\n",
              "      <td>SHAMPOO</td>\n",
              "      <td>472100</td>\n",
              "      <td>H.ESSENCE</td>\n",
              "      <td>REPAIR ARGAN OIL</td>\n",
              "      <td>400ML</td>\n",
              "      <td>6500.0</td>\n",
              "      <td>1.0</td>\n",
              "      <td>4.311774</td>\n",
              "    </tr>\n",
              "    <tr>\n",
              "      <th>255624</th>\n",
              "      <td>2019</td>\n",
              "      <td>Oct</td>\n",
              "      <td>Jbeil</td>\n",
              "      <td>000000PD03000764191</td>\n",
              "      <td>HEALTH &amp; BEAUTY</td>\n",
              "      <td>HAIR CARE</td>\n",
              "      <td>SHAMPOO</td>\n",
              "      <td>472101</td>\n",
              "      <td>H.ESSENCE</td>\n",
              "      <td>CUCUMBER GREEN TEA MENA</td>\n",
              "      <td>400ML</td>\n",
              "      <td>6500.0</td>\n",
              "      <td>1.0</td>\n",
              "      <td>4.311774</td>\n",
              "    </tr>\n",
              "    <tr>\n",
              "      <th>255625</th>\n",
              "      <td>2019</td>\n",
              "      <td>Oct</td>\n",
              "      <td>Jbeil</td>\n",
              "      <td>000000PD03000764191</td>\n",
              "      <td>HEALTH &amp; BEAUTY</td>\n",
              "      <td>HAIR CARE</td>\n",
              "      <td>SHAMPOO</td>\n",
              "      <td>472102</td>\n",
              "      <td>H.ESSENCE</td>\n",
              "      <td>STRAWBERRY MINT</td>\n",
              "      <td>400ML</td>\n",
              "      <td>6500.0</td>\n",
              "      <td>1.0</td>\n",
              "      <td>4.311774</td>\n",
              "    </tr>\n",
              "  </tbody>\n",
              "</table>\n",
              "</div>"
            ],
            "text/plain": [
              "        Year Month Store Name  ...      SKU Quantity Sales Value $\n",
              "255621  2019   Oct      Jbeil  ...  13999.0      1.0      9.286235\n",
              "255622  2019   Oct      Jbeil  ...   4999.5      4.0     13.265672\n",
              "255623  2019   Oct      Jbeil  ...   6500.0      1.0      4.311774\n",
              "255624  2019   Oct      Jbeil  ...   6500.0      1.0      4.311774\n",
              "255625  2019   Oct      Jbeil  ...   6500.0      1.0      4.311774\n",
              "\n",
              "[5 rows x 14 columns]"
            ]
          },
          "metadata": {
            "tags": []
          },
          "execution_count": 235
        }
      ]
    },
    {
      "cell_type": "code",
      "metadata": {
        "colab": {
          "base_uri": "https://localhost:8080/"
        },
        "id": "vKMu3d1Q8ahZ",
        "outputId": "b8fb9f27-c178-4e8f-e303-12bab97fc2a3"
      },
      "source": [
        "splitting_data_By_Category = spinneys_dataset_df.groupby(\"Category\")[\"Category\"].count()\n",
        "splitting_data_By_Category.head()"
      ],
      "execution_count": 238,
      "outputs": [
        {
          "output_type": "execute_result",
          "data": {
            "text/plain": [
              "Category\n",
              "ALCOHOL                      6442\n",
              "BABY                         2093\n",
              "BEVERAGES & READY TO EAT    88487\n",
              "CHILLED                     58364\n",
              "CLEANING                    25022\n",
              "Name: Category, dtype: int64"
            ]
          },
          "metadata": {
            "tags": []
          },
          "execution_count": 238
        }
      ]
    },
    {
      "cell_type": "code",
      "metadata": {
        "colab": {
          "base_uri": "https://localhost:8080/",
          "height": 204
        },
        "id": "QqcPHNUe8kZy",
        "outputId": "11c797a3-5f24-4faf-d989-bd133c91d6cb"
      },
      "source": [
        "splitting_data_By_Category_Alchool= spinneys_dataset_df[spinneys_dataset_df['Category'] =='ALCOHOL'].copy()\n",
        "splitting_data_By_Category_Alchool.head()"
      ],
      "execution_count": 239,
      "outputs": [
        {
          "output_type": "execute_result",
          "data": {
            "text/html": [
              "<div>\n",
              "<style scoped>\n",
              "    .dataframe tbody tr th:only-of-type {\n",
              "        vertical-align: middle;\n",
              "    }\n",
              "\n",
              "    .dataframe tbody tr th {\n",
              "        vertical-align: top;\n",
              "    }\n",
              "\n",
              "    .dataframe thead th {\n",
              "        text-align: right;\n",
              "    }\n",
              "</style>\n",
              "<table border=\"1\" class=\"dataframe\">\n",
              "  <thead>\n",
              "    <tr style=\"text-align: right;\">\n",
              "      <th></th>\n",
              "      <th>Year</th>\n",
              "      <th>Month</th>\n",
              "      <th>Store Name</th>\n",
              "      <th>Receipt Number</th>\n",
              "      <th>Category</th>\n",
              "      <th>Group</th>\n",
              "      <th>Sub Group</th>\n",
              "      <th>Item Number</th>\n",
              "      <th>Item Family</th>\n",
              "      <th>Item Description</th>\n",
              "      <th>Product Size</th>\n",
              "      <th>SKU</th>\n",
              "      <th>Quantity</th>\n",
              "      <th>Sales Value $</th>\n",
              "    </tr>\n",
              "  </thead>\n",
              "  <tbody>\n",
              "    <tr>\n",
              "      <th>120</th>\n",
              "      <td>2019</td>\n",
              "      <td>Jul</td>\n",
              "      <td>Ashrafieh</td>\n",
              "      <td>000000PD02000660357</td>\n",
              "      <td>ALCOHOL</td>\n",
              "      <td>BEER &amp; CIDERS</td>\n",
              "      <td>ALCOHOLIC BEER</td>\n",
              "      <td>272513</td>\n",
              "      <td>ALMAZA</td>\n",
              "      <td>BEER BOTTLE</td>\n",
              "      <td>33CL</td>\n",
              "      <td>1750.0</td>\n",
              "      <td>4.0</td>\n",
              "      <td>4.643449</td>\n",
              "    </tr>\n",
              "    <tr>\n",
              "      <th>240</th>\n",
              "      <td>2019</td>\n",
              "      <td>Jul</td>\n",
              "      <td>Ashrafieh</td>\n",
              "      <td>000000PD02000660387</td>\n",
              "      <td>ALCOHOL</td>\n",
              "      <td>BEER &amp; CIDERS</td>\n",
              "      <td>ALCOHOLIC BEER</td>\n",
              "      <td>272513</td>\n",
              "      <td>ALMAZA</td>\n",
              "      <td>BEER BOTTLE</td>\n",
              "      <td>33CL</td>\n",
              "      <td>1750.0</td>\n",
              "      <td>2.0</td>\n",
              "      <td>2.321725</td>\n",
              "    </tr>\n",
              "    <tr>\n",
              "      <th>363</th>\n",
              "      <td>2019</td>\n",
              "      <td>Jul</td>\n",
              "      <td>Ashrafieh</td>\n",
              "      <td>000000PD02000660417</td>\n",
              "      <td>ALCOHOL</td>\n",
              "      <td>WINE</td>\n",
              "      <td>LOCAL WINES</td>\n",
              "      <td>101354</td>\n",
              "      <td>KSARA</td>\n",
              "      <td>BLANC DE BLANC</td>\n",
              "      <td>37.5CL</td>\n",
              "      <td>9999.0</td>\n",
              "      <td>1.0</td>\n",
              "      <td>6.632836</td>\n",
              "    </tr>\n",
              "    <tr>\n",
              "      <th>421</th>\n",
              "      <td>2019</td>\n",
              "      <td>Jul</td>\n",
              "      <td>Ashrafieh</td>\n",
              "      <td>000000PD02000660436</td>\n",
              "      <td>ALCOHOL</td>\n",
              "      <td>BEER &amp; CIDERS</td>\n",
              "      <td>ALCOHOLIC BEER</td>\n",
              "      <td>272513</td>\n",
              "      <td>ALMAZA</td>\n",
              "      <td>BEER BOTTLE</td>\n",
              "      <td>33CL</td>\n",
              "      <td>1750.0</td>\n",
              "      <td>12.0</td>\n",
              "      <td>13.930348</td>\n",
              "    </tr>\n",
              "    <tr>\n",
              "      <th>565</th>\n",
              "      <td>2019</td>\n",
              "      <td>Jul</td>\n",
              "      <td>Ashrafieh</td>\n",
              "      <td>000000PD02000660484</td>\n",
              "      <td>ALCOHOL</td>\n",
              "      <td>OTHER SPIRITS</td>\n",
              "      <td>ARACK</td>\n",
              "      <td>256023</td>\n",
              "      <td>LE BRUN</td>\n",
              "      <td>ARACK</td>\n",
              "      <td>37.5CL</td>\n",
              "      <td>17999.0</td>\n",
              "      <td>1.0</td>\n",
              "      <td>11.939635</td>\n",
              "    </tr>\n",
              "  </tbody>\n",
              "</table>\n",
              "</div>"
            ],
            "text/plain": [
              "     Year Month Store Name  ...      SKU Quantity Sales Value $\n",
              "120  2019   Jul  Ashrafieh  ...   1750.0      4.0      4.643449\n",
              "240  2019   Jul  Ashrafieh  ...   1750.0      2.0      2.321725\n",
              "363  2019   Jul  Ashrafieh  ...   9999.0      1.0      6.632836\n",
              "421  2019   Jul  Ashrafieh  ...   1750.0     12.0     13.930348\n",
              "565  2019   Jul  Ashrafieh  ...  17999.0      1.0     11.939635\n",
              "\n",
              "[5 rows x 14 columns]"
            ]
          },
          "metadata": {
            "tags": []
          },
          "execution_count": 239
        }
      ]
    },
    {
      "cell_type": "code",
      "metadata": {
        "colab": {
          "base_uri": "https://localhost:8080/",
          "height": 204
        },
        "id": "wvb9X76886g7",
        "outputId": "c64be60b-583d-40a8-e220-e5a7d3e28ab7"
      },
      "source": [
        "splitting_data_By_Category_BABY= spinneys_dataset_df[spinneys_dataset_df['Category'] =='BABY'].copy()\n",
        "splitting_data_By_Category_BABY.head()"
      ],
      "execution_count": 240,
      "outputs": [
        {
          "output_type": "execute_result",
          "data": {
            "text/html": [
              "<div>\n",
              "<style scoped>\n",
              "    .dataframe tbody tr th:only-of-type {\n",
              "        vertical-align: middle;\n",
              "    }\n",
              "\n",
              "    .dataframe tbody tr th {\n",
              "        vertical-align: top;\n",
              "    }\n",
              "\n",
              "    .dataframe thead th {\n",
              "        text-align: right;\n",
              "    }\n",
              "</style>\n",
              "<table border=\"1\" class=\"dataframe\">\n",
              "  <thead>\n",
              "    <tr style=\"text-align: right;\">\n",
              "      <th></th>\n",
              "      <th>Year</th>\n",
              "      <th>Month</th>\n",
              "      <th>Store Name</th>\n",
              "      <th>Receipt Number</th>\n",
              "      <th>Category</th>\n",
              "      <th>Group</th>\n",
              "      <th>Sub Group</th>\n",
              "      <th>Item Number</th>\n",
              "      <th>Item Family</th>\n",
              "      <th>Item Description</th>\n",
              "      <th>Product Size</th>\n",
              "      <th>SKU</th>\n",
              "      <th>Quantity</th>\n",
              "      <th>Sales Value $</th>\n",
              "    </tr>\n",
              "  </thead>\n",
              "  <tbody>\n",
              "    <tr>\n",
              "      <th>264</th>\n",
              "      <td>2019</td>\n",
              "      <td>Jul</td>\n",
              "      <td>Ashrafieh</td>\n",
              "      <td>000000PD02000660396</td>\n",
              "      <td>BABY</td>\n",
              "      <td>BABY CARE</td>\n",
              "      <td>WIPES</td>\n",
              "      <td>337781</td>\n",
              "      <td>J &amp; J</td>\n",
              "      <td>JB WIPES EXTRA SENSIT B2G1 FR</td>\n",
              "      <td>3*56S</td>\n",
              "      <td>12999.0</td>\n",
              "      <td>1.0</td>\n",
              "      <td>8.622886</td>\n",
              "    </tr>\n",
              "    <tr>\n",
              "      <th>265</th>\n",
              "      <td>2019</td>\n",
              "      <td>Jul</td>\n",
              "      <td>Ashrafieh</td>\n",
              "      <td>000000PD02000660396</td>\n",
              "      <td>BABY</td>\n",
              "      <td>BABY CARE</td>\n",
              "      <td>TOILETRIES</td>\n",
              "      <td>215907</td>\n",
              "      <td>J &amp; J</td>\n",
              "      <td>BED TIME BATH</td>\n",
              "      <td>500ML</td>\n",
              "      <td>10595.0</td>\n",
              "      <td>2.0</td>\n",
              "      <td>14.056385</td>\n",
              "    </tr>\n",
              "    <tr>\n",
              "      <th>381</th>\n",
              "      <td>2019</td>\n",
              "      <td>Jul</td>\n",
              "      <td>Ashrafieh</td>\n",
              "      <td>000000PD02000660426</td>\n",
              "      <td>BABY</td>\n",
              "      <td>BABY CARE</td>\n",
              "      <td>BABY OIL</td>\n",
              "      <td>144039</td>\n",
              "      <td>J &amp; J</td>\n",
              "      <td>BABY OIL</td>\n",
              "      <td>300ML</td>\n",
              "      <td>9250.0</td>\n",
              "      <td>1.0</td>\n",
              "      <td>6.135987</td>\n",
              "    </tr>\n",
              "    <tr>\n",
              "      <th>393</th>\n",
              "      <td>2019</td>\n",
              "      <td>Jul</td>\n",
              "      <td>Ashrafieh</td>\n",
              "      <td>000000PD02000660432</td>\n",
              "      <td>BABY</td>\n",
              "      <td>BABY CARE</td>\n",
              "      <td>DIAPERS</td>\n",
              "      <td>457015</td>\n",
              "      <td>PAMPERS</td>\n",
              "      <td>PREMIUM CARE CARRY PACK S1 -8%</td>\n",
              "      <td>22S</td>\n",
              "      <td>6999.0</td>\n",
              "      <td>2.0</td>\n",
              "      <td>9.285572</td>\n",
              "    </tr>\n",
              "    <tr>\n",
              "      <th>394</th>\n",
              "      <td>2019</td>\n",
              "      <td>Jul</td>\n",
              "      <td>Ashrafieh</td>\n",
              "      <td>000000PD02000660432</td>\n",
              "      <td>BABY</td>\n",
              "      <td>BABY CARE</td>\n",
              "      <td>DIAPERS</td>\n",
              "      <td>457018</td>\n",
              "      <td>PAMPERS</td>\n",
              "      <td>PREMIUM CARE MIDCOUNT S3 -8%</td>\n",
              "      <td>25S</td>\n",
              "      <td>10999.0</td>\n",
              "      <td>2.0</td>\n",
              "      <td>14.592371</td>\n",
              "    </tr>\n",
              "  </tbody>\n",
              "</table>\n",
              "</div>"
            ],
            "text/plain": [
              "     Year Month Store Name  ...      SKU Quantity Sales Value $\n",
              "264  2019   Jul  Ashrafieh  ...  12999.0      1.0      8.622886\n",
              "265  2019   Jul  Ashrafieh  ...  10595.0      2.0     14.056385\n",
              "381  2019   Jul  Ashrafieh  ...   9250.0      1.0      6.135987\n",
              "393  2019   Jul  Ashrafieh  ...   6999.0      2.0      9.285572\n",
              "394  2019   Jul  Ashrafieh  ...  10999.0      2.0     14.592371\n",
              "\n",
              "[5 rows x 14 columns]"
            ]
          },
          "metadata": {
            "tags": []
          },
          "execution_count": 240
        }
      ]
    },
    {
      "cell_type": "code",
      "metadata": {
        "colab": {
          "base_uri": "https://localhost:8080/",
          "height": 306
        },
        "id": "ISUL0FLX86lN",
        "outputId": "840c6c74-8bb5-4ba8-ae1a-a602c3fea702"
      },
      "source": [
        "splitting_data_By_Category_BEVERAGES= spinneys_dataset_df[spinneys_dataset_df['Category'] =='BEVERAGES & READY TO EAT'].copy()\n",
        "splitting_data_By_Category_BEVERAGES.head()"
      ],
      "execution_count": 242,
      "outputs": [
        {
          "output_type": "execute_result",
          "data": {
            "text/html": [
              "<div>\n",
              "<style scoped>\n",
              "    .dataframe tbody tr th:only-of-type {\n",
              "        vertical-align: middle;\n",
              "    }\n",
              "\n",
              "    .dataframe tbody tr th {\n",
              "        vertical-align: top;\n",
              "    }\n",
              "\n",
              "    .dataframe thead th {\n",
              "        text-align: right;\n",
              "    }\n",
              "</style>\n",
              "<table border=\"1\" class=\"dataframe\">\n",
              "  <thead>\n",
              "    <tr style=\"text-align: right;\">\n",
              "      <th></th>\n",
              "      <th>Year</th>\n",
              "      <th>Month</th>\n",
              "      <th>Store Name</th>\n",
              "      <th>Receipt Number</th>\n",
              "      <th>Category</th>\n",
              "      <th>Group</th>\n",
              "      <th>Sub Group</th>\n",
              "      <th>Item Number</th>\n",
              "      <th>Item Family</th>\n",
              "      <th>Item Description</th>\n",
              "      <th>Product Size</th>\n",
              "      <th>SKU</th>\n",
              "      <th>Quantity</th>\n",
              "      <th>Sales Value $</th>\n",
              "    </tr>\n",
              "  </thead>\n",
              "  <tbody>\n",
              "    <tr>\n",
              "      <th>1</th>\n",
              "      <td>2019</td>\n",
              "      <td>Jul</td>\n",
              "      <td>Ashrafieh</td>\n",
              "      <td>000000PD02000660322</td>\n",
              "      <td>BEVERAGES &amp; READY TO EAT</td>\n",
              "      <td>BISCUITS</td>\n",
              "      <td>WAFERS</td>\n",
              "      <td>104874</td>\n",
              "      <td>GANDOUR</td>\n",
              "      <td>GANDOUR UNICA</td>\n",
              "      <td>27G</td>\n",
              "      <td>250.0</td>\n",
              "      <td>1.0</td>\n",
              "      <td>0.165837</td>\n",
              "    </tr>\n",
              "    <tr>\n",
              "      <th>2</th>\n",
              "      <td>2019</td>\n",
              "      <td>Jul</td>\n",
              "      <td>Ashrafieh</td>\n",
              "      <td>000000PD02000660322</td>\n",
              "      <td>BEVERAGES &amp; READY TO EAT</td>\n",
              "      <td>CAKES</td>\n",
              "      <td>MINI CAKES</td>\n",
              "      <td>135173</td>\n",
              "      <td>ENG.CAKE</td>\n",
              "      <td>CAKE PLAIN</td>\n",
              "      <td>65G</td>\n",
              "      <td>595.0</td>\n",
              "      <td>1.0</td>\n",
              "      <td>0.394693</td>\n",
              "    </tr>\n",
              "    <tr>\n",
              "      <th>3</th>\n",
              "      <td>2019</td>\n",
              "      <td>Jul</td>\n",
              "      <td>Ashrafieh</td>\n",
              "      <td>000000PD02000660322</td>\n",
              "      <td>BEVERAGES &amp; READY TO EAT</td>\n",
              "      <td>CAKES</td>\n",
              "      <td>CROISSANT</td>\n",
              "      <td>479487</td>\n",
              "      <td>KARUZO</td>\n",
              "      <td>CROISSANT CHESSECAKE</td>\n",
              "      <td>62G</td>\n",
              "      <td>750.0</td>\n",
              "      <td>1.0</td>\n",
              "      <td>0.497512</td>\n",
              "    </tr>\n",
              "    <tr>\n",
              "      <th>10</th>\n",
              "      <td>2019</td>\n",
              "      <td>Jul</td>\n",
              "      <td>Ashrafieh</td>\n",
              "      <td>000000PD02000660326</td>\n",
              "      <td>BEVERAGES &amp; READY TO EAT</td>\n",
              "      <td>SOFT DRINKS</td>\n",
              "      <td>CARBONATED CANS</td>\n",
              "      <td>110773</td>\n",
              "      <td>SEVEN UP</td>\n",
              "      <td>SEVEN UP DIET CAN</td>\n",
              "      <td>330ML</td>\n",
              "      <td>750.0</td>\n",
              "      <td>1.0</td>\n",
              "      <td>0.497512</td>\n",
              "    </tr>\n",
              "    <tr>\n",
              "      <th>18</th>\n",
              "      <td>2019</td>\n",
              "      <td>Jul</td>\n",
              "      <td>Ashrafieh</td>\n",
              "      <td>000000PD02000660328</td>\n",
              "      <td>BEVERAGES &amp; READY TO EAT</td>\n",
              "      <td>SOFT DRINKS</td>\n",
              "      <td>CARBONATED CANS</td>\n",
              "      <td>376557</td>\n",
              "      <td>PEPSI</td>\n",
              "      <td>PEPSI DIET</td>\n",
              "      <td>150ML</td>\n",
              "      <td>499.9</td>\n",
              "      <td>40.0</td>\n",
              "      <td>13.264345</td>\n",
              "    </tr>\n",
              "  </tbody>\n",
              "</table>\n",
              "</div>"
            ],
            "text/plain": [
              "    Year Month Store Name  ...    SKU Quantity Sales Value $\n",
              "1   2019   Jul  Ashrafieh  ...  250.0      1.0      0.165837\n",
              "2   2019   Jul  Ashrafieh  ...  595.0      1.0      0.394693\n",
              "3   2019   Jul  Ashrafieh  ...  750.0      1.0      0.497512\n",
              "10  2019   Jul  Ashrafieh  ...  750.0      1.0      0.497512\n",
              "18  2019   Jul  Ashrafieh  ...  499.9     40.0     13.264345\n",
              "\n",
              "[5 rows x 14 columns]"
            ]
          },
          "metadata": {
            "tags": []
          },
          "execution_count": 242
        }
      ]
    },
    {
      "cell_type": "code",
      "metadata": {
        "colab": {
          "base_uri": "https://localhost:8080/",
          "height": 272
        },
        "id": "IOkUCC4T86p-",
        "outputId": "eb09df59-370c-4fe7-e9ce-df47f334484b"
      },
      "source": [
        "splitting_data_By_Category_CHILLED= spinneys_dataset_df[spinneys_dataset_df['Category'] =='CHILLED'].copy()\n",
        "splitting_data_By_Category_CHILLED.head()"
      ],
      "execution_count": 243,
      "outputs": [
        {
          "output_type": "execute_result",
          "data": {
            "text/html": [
              "<div>\n",
              "<style scoped>\n",
              "    .dataframe tbody tr th:only-of-type {\n",
              "        vertical-align: middle;\n",
              "    }\n",
              "\n",
              "    .dataframe tbody tr th {\n",
              "        vertical-align: top;\n",
              "    }\n",
              "\n",
              "    .dataframe thead th {\n",
              "        text-align: right;\n",
              "    }\n",
              "</style>\n",
              "<table border=\"1\" class=\"dataframe\">\n",
              "  <thead>\n",
              "    <tr style=\"text-align: right;\">\n",
              "      <th></th>\n",
              "      <th>Year</th>\n",
              "      <th>Month</th>\n",
              "      <th>Store Name</th>\n",
              "      <th>Receipt Number</th>\n",
              "      <th>Category</th>\n",
              "      <th>Group</th>\n",
              "      <th>Sub Group</th>\n",
              "      <th>Item Number</th>\n",
              "      <th>Item Family</th>\n",
              "      <th>Item Description</th>\n",
              "      <th>Product Size</th>\n",
              "      <th>SKU</th>\n",
              "      <th>Quantity</th>\n",
              "      <th>Sales Value $</th>\n",
              "    </tr>\n",
              "  </thead>\n",
              "  <tbody>\n",
              "    <tr>\n",
              "      <th>8</th>\n",
              "      <td>2019</td>\n",
              "      <td>Jul</td>\n",
              "      <td>Ashrafieh</td>\n",
              "      <td>000000PD02000660323</td>\n",
              "      <td>CHILLED</td>\n",
              "      <td>BUTTER+OTHERS</td>\n",
              "      <td>BUTTER</td>\n",
              "      <td>358539</td>\n",
              "      <td>LURPAK</td>\n",
              "      <td>DANISH BUTTER -10%</td>\n",
              "      <td>200G</td>\n",
              "      <td>3250.0</td>\n",
              "      <td>2.0</td>\n",
              "      <td>4.311774</td>\n",
              "    </tr>\n",
              "    <tr>\n",
              "      <th>9</th>\n",
              "      <td>2019</td>\n",
              "      <td>Jul</td>\n",
              "      <td>Ashrafieh</td>\n",
              "      <td>000000PD02000660323</td>\n",
              "      <td>CHILLED</td>\n",
              "      <td>LOCAL/Import BREAD</td>\n",
              "      <td>BROWN BREAD</td>\n",
              "      <td>393636</td>\n",
              "      <td>M/D'OR</td>\n",
              "      <td>PIN ARABE BLE COMPLET SANS SEL</td>\n",
              "      <td>525G</td>\n",
              "      <td>2000.0</td>\n",
              "      <td>1.0</td>\n",
              "      <td>1.326700</td>\n",
              "    </tr>\n",
              "    <tr>\n",
              "      <th>24</th>\n",
              "      <td>2019</td>\n",
              "      <td>Jul</td>\n",
              "      <td>Ashrafieh</td>\n",
              "      <td>000000PD02000660328</td>\n",
              "      <td>CHILLED</td>\n",
              "      <td>LOCAL/Import BREAD</td>\n",
              "      <td>WHITE BREAD</td>\n",
              "      <td>368006</td>\n",
              "      <td>WOODEN B</td>\n",
              "      <td>PITA WHITE MEDIUM 6 LOAVES</td>\n",
              "      <td>420G</td>\n",
              "      <td>1000.0</td>\n",
              "      <td>1.0</td>\n",
              "      <td>0.663350</td>\n",
              "    </tr>\n",
              "    <tr>\n",
              "      <th>25</th>\n",
              "      <td>2019</td>\n",
              "      <td>Jul</td>\n",
              "      <td>Ashrafieh</td>\n",
              "      <td>000000PD02000660328</td>\n",
              "      <td>CHILLED</td>\n",
              "      <td>LOCAL/Import BREAD</td>\n",
              "      <td>OTHER LOCAL/IMPORTED BREAD</td>\n",
              "      <td>368022</td>\n",
              "      <td>WOODEN B</td>\n",
              "      <td>PITA OAT BREAD 6LOAVES</td>\n",
              "      <td>340G</td>\n",
              "      <td>3000.0</td>\n",
              "      <td>1.0</td>\n",
              "      <td>1.990050</td>\n",
              "    </tr>\n",
              "    <tr>\n",
              "      <th>26</th>\n",
              "      <td>2019</td>\n",
              "      <td>Jul</td>\n",
              "      <td>Ashrafieh</td>\n",
              "      <td>000000PD02000660328</td>\n",
              "      <td>CHILLED</td>\n",
              "      <td>EGGS</td>\n",
              "      <td>RED</td>\n",
              "      <td>279861</td>\n",
              "      <td>HAWA</td>\n",
              "      <td>EGGS RED</td>\n",
              "      <td>10PC</td>\n",
              "      <td>3590.0</td>\n",
              "      <td>1.0</td>\n",
              "      <td>2.381426</td>\n",
              "    </tr>\n",
              "  </tbody>\n",
              "</table>\n",
              "</div>"
            ],
            "text/plain": [
              "    Year Month Store Name  ...     SKU Quantity Sales Value $\n",
              "8   2019   Jul  Ashrafieh  ...  3250.0      2.0      4.311774\n",
              "9   2019   Jul  Ashrafieh  ...  2000.0      1.0      1.326700\n",
              "24  2019   Jul  Ashrafieh  ...  1000.0      1.0      0.663350\n",
              "25  2019   Jul  Ashrafieh  ...  3000.0      1.0      1.990050\n",
              "26  2019   Jul  Ashrafieh  ...  3590.0      1.0      2.381426\n",
              "\n",
              "[5 rows x 14 columns]"
            ]
          },
          "metadata": {
            "tags": []
          },
          "execution_count": 243
        }
      ]
    },
    {
      "cell_type": "code",
      "metadata": {
        "colab": {
          "base_uri": "https://localhost:8080/",
          "height": 306
        },
        "id": "uEWayhPy86uC",
        "outputId": "ee738a4d-f657-4cc1-97b5-79419d669c7b"
      },
      "source": [
        "splitting_data_By_Category_CLEANING= spinneys_dataset_df[spinneys_dataset_df['Category'] =='CLEANING'].copy()\n",
        "splitting_data_By_Category_CLEANING.head()"
      ],
      "execution_count": 244,
      "outputs": [
        {
          "output_type": "execute_result",
          "data": {
            "text/html": [
              "<div>\n",
              "<style scoped>\n",
              "    .dataframe tbody tr th:only-of-type {\n",
              "        vertical-align: middle;\n",
              "    }\n",
              "\n",
              "    .dataframe tbody tr th {\n",
              "        vertical-align: top;\n",
              "    }\n",
              "\n",
              "    .dataframe thead th {\n",
              "        text-align: right;\n",
              "    }\n",
              "</style>\n",
              "<table border=\"1\" class=\"dataframe\">\n",
              "  <thead>\n",
              "    <tr style=\"text-align: right;\">\n",
              "      <th></th>\n",
              "      <th>Year</th>\n",
              "      <th>Month</th>\n",
              "      <th>Store Name</th>\n",
              "      <th>Receipt Number</th>\n",
              "      <th>Category</th>\n",
              "      <th>Group</th>\n",
              "      <th>Sub Group</th>\n",
              "      <th>Item Number</th>\n",
              "      <th>Item Family</th>\n",
              "      <th>Item Description</th>\n",
              "      <th>Product Size</th>\n",
              "      <th>SKU</th>\n",
              "      <th>Quantity</th>\n",
              "      <th>Sales Value $</th>\n",
              "    </tr>\n",
              "  </thead>\n",
              "  <tbody>\n",
              "    <tr>\n",
              "      <th>7</th>\n",
              "      <td>2019</td>\n",
              "      <td>Jul</td>\n",
              "      <td>Ashrafieh</td>\n",
              "      <td>000000PD02000660323</td>\n",
              "      <td>CLEANING</td>\n",
              "      <td>ALUMINUM FOIL &amp; CLING</td>\n",
              "      <td>ALUMINUM FOIL</td>\n",
              "      <td>266717</td>\n",
              "      <td>SANITA</td>\n",
              "      <td>CLASSIC ALUMINUM</td>\n",
              "      <td>25SQ</td>\n",
              "      <td>2750.0</td>\n",
              "      <td>1.0</td>\n",
              "      <td>1.824212</td>\n",
              "    </tr>\n",
              "    <tr>\n",
              "      <th>23</th>\n",
              "      <td>2019</td>\n",
              "      <td>Jul</td>\n",
              "      <td>Ashrafieh</td>\n",
              "      <td>000000PD02000660328</td>\n",
              "      <td>CLEANING</td>\n",
              "      <td>PAPER GOODS</td>\n",
              "      <td>FACIAL TISSUES BAG</td>\n",
              "      <td>148173</td>\n",
              "      <td>SPINNEYS</td>\n",
              "      <td>FACIAL TISSUE TRANSP.PACK</td>\n",
              "      <td>200'S</td>\n",
              "      <td>1599.0</td>\n",
              "      <td>1.0</td>\n",
              "      <td>1.060697</td>\n",
              "    </tr>\n",
              "    <tr>\n",
              "      <th>27</th>\n",
              "      <td>2019</td>\n",
              "      <td>Jul</td>\n",
              "      <td>Ashrafieh</td>\n",
              "      <td>000000PD02000660329</td>\n",
              "      <td>CLEANING</td>\n",
              "      <td>KITCHEN</td>\n",
              "      <td>DISPOSABLE GLOVES</td>\n",
              "      <td>386901</td>\n",
              "      <td>SPINNEYS</td>\n",
              "      <td>POWDER FREE GLOVES MEDIUM</td>\n",
              "      <td>MEDUIM</td>\n",
              "      <td>7500.0</td>\n",
              "      <td>1.0</td>\n",
              "      <td>4.975124</td>\n",
              "    </tr>\n",
              "    <tr>\n",
              "      <th>69</th>\n",
              "      <td>2019</td>\n",
              "      <td>Jul</td>\n",
              "      <td>Ashrafieh</td>\n",
              "      <td>000000PD02000660346</td>\n",
              "      <td>CLEANING</td>\n",
              "      <td>TRASH BAGS</td>\n",
              "      <td>REGULAR TRASH BAG</td>\n",
              "      <td>134103</td>\n",
              "      <td>SPINNEYS</td>\n",
              "      <td>TRASH BAG BLUE 30'S</td>\n",
              "      <td>LARGE</td>\n",
              "      <td>5750.0</td>\n",
              "      <td>1.0</td>\n",
              "      <td>3.814262</td>\n",
              "    </tr>\n",
              "    <tr>\n",
              "      <th>74</th>\n",
              "      <td>2019</td>\n",
              "      <td>Jul</td>\n",
              "      <td>Ashrafieh</td>\n",
              "      <td>000000PD02000660349</td>\n",
              "      <td>CLEANING</td>\n",
              "      <td>DISH WASHING</td>\n",
              "      <td>LIQUID DISH WASHING</td>\n",
              "      <td>437532</td>\n",
              "      <td>FAIRY</td>\n",
              "      <td>ORIGINAL DISHWASHING</td>\n",
              "      <td>450ML</td>\n",
              "      <td>2999.0</td>\n",
              "      <td>1.0</td>\n",
              "      <td>1.989386</td>\n",
              "    </tr>\n",
              "  </tbody>\n",
              "</table>\n",
              "</div>"
            ],
            "text/plain": [
              "    Year Month Store Name  ...     SKU Quantity Sales Value $\n",
              "7   2019   Jul  Ashrafieh  ...  2750.0      1.0      1.824212\n",
              "23  2019   Jul  Ashrafieh  ...  1599.0      1.0      1.060697\n",
              "27  2019   Jul  Ashrafieh  ...  7500.0      1.0      4.975124\n",
              "69  2019   Jul  Ashrafieh  ...  5750.0      1.0      3.814262\n",
              "74  2019   Jul  Ashrafieh  ...  2999.0      1.0      1.989386\n",
              "\n",
              "[5 rows x 14 columns]"
            ]
          },
          "metadata": {
            "tags": []
          },
          "execution_count": 244
        }
      ]
    },
    {
      "cell_type": "code",
      "metadata": {
        "colab": {
          "base_uri": "https://localhost:8080/"
        },
        "id": "EWXSzgMt86zt",
        "outputId": "2533ad1f-ccbc-4a0a-b0ae-19abdc3f2081"
      },
      "source": [
        "spinneys_dataset_df['sales $'] = np.matmul(spinneys_dataset_df['SKU'] , spinneys_dataset_df ['Quantity'])\n",
        "spinneys_dataset_df['sales $']"
      ],
      "execution_count": 269,
      "outputs": [
        {
          "output_type": "execute_result",
          "data": {
            "text/plain": [
              "0         1.307907e+09\n",
              "1         1.307907e+09\n",
              "2         1.307907e+09\n",
              "3         1.307907e+09\n",
              "4         1.307907e+09\n",
              "              ...     \n",
              "278540    1.307907e+09\n",
              "278541    1.307907e+09\n",
              "278542    1.307907e+09\n",
              "278543    1.307907e+09\n",
              "278544    1.307907e+09\n",
              "Name: sales $, Length: 278484, dtype: float64"
            ]
          },
          "metadata": {
            "tags": []
          },
          "execution_count": 269
        }
      ]
    },
    {
      "cell_type": "code",
      "metadata": {
        "colab": {
          "base_uri": "https://localhost:8080/"
        },
        "id": "1PvCPj77865H",
        "outputId": "a6dd94dc-42fb-4f27-976d-280f5c0103b4"
      },
      "source": [
        "spinneys_dataset_df['sales $'].dtype"
      ],
      "execution_count": 270,
      "outputs": [
        {
          "output_type": "execute_result",
          "data": {
            "text/plain": [
              "dtype('float64')"
            ]
          },
          "metadata": {
            "tags": []
          },
          "execution_count": 270
        }
      ]
    },
    {
      "cell_type": "code",
      "metadata": {
        "id": "LjHmqSpk_8ln"
      },
      "source": [
        "\n",
        "spinneys_dataset_df['sales $'] = spinneys_dataset_df['sales $'].astype(int)"
      ],
      "execution_count": 271,
      "outputs": []
    },
    {
      "cell_type": "code",
      "metadata": {
        "colab": {
          "base_uri": "https://localhost:8080/"
        },
        "id": "rqM-t_Kj_8o8",
        "outputId": "4f2ee6ed-08e6-47c5-be2b-73e75053091a"
      },
      "source": [
        "spinneys_dataset_df['sales $'].dtype\n"
      ],
      "execution_count": 272,
      "outputs": [
        {
          "output_type": "execute_result",
          "data": {
            "text/plain": [
              "dtype('int64')"
            ]
          },
          "metadata": {
            "tags": []
          },
          "execution_count": 272
        }
      ]
    },
    {
      "cell_type": "code",
      "metadata": {
        "colab": {
          "base_uri": "https://localhost:8080/"
        },
        "id": "BUDnKoDQ_8t8",
        "outputId": "f6e76ed5-fcc7-4d16-f3a2-188a48c2a20d"
      },
      "source": [
        "spinneys_dataset_df['sales $']"
      ],
      "execution_count": 273,
      "outputs": [
        {
          "output_type": "execute_result",
          "data": {
            "text/plain": [
              "0         1307906662\n",
              "1         1307906662\n",
              "2         1307906662\n",
              "3         1307906662\n",
              "4         1307906662\n",
              "             ...    \n",
              "278540    1307906662\n",
              "278541    1307906662\n",
              "278542    1307906662\n",
              "278543    1307906662\n",
              "278544    1307906662\n",
              "Name: sales $, Length: 278484, dtype: int64"
            ]
          },
          "metadata": {
            "tags": []
          },
          "execution_count": 273
        }
      ]
    },
    {
      "cell_type": "markdown",
      "metadata": {
        "id": "L1Jw2-axf99n"
      },
      "source": [
        "# Exploratory Analysis and Visualization\n",
        "First we will begin analysison the entire Dataset consisting of Month. revisting the data, let us see how it looked like again \n"
      ]
    },
    {
      "cell_type": "code",
      "metadata": {
        "colab": {
          "base_uri": "https://localhost:8080/",
          "height": 725
        },
        "id": "84_D-GaIA8HR",
        "outputId": "92157fed-14ff-4273-a30e-0585bfd6f6fa"
      },
      "source": [
        "spinneys_dataset_df"
      ],
      "execution_count": 277,
      "outputs": [
        {
          "output_type": "execute_result",
          "data": {
            "text/html": [
              "<div>\n",
              "<style scoped>\n",
              "    .dataframe tbody tr th:only-of-type {\n",
              "        vertical-align: middle;\n",
              "    }\n",
              "\n",
              "    .dataframe tbody tr th {\n",
              "        vertical-align: top;\n",
              "    }\n",
              "\n",
              "    .dataframe thead th {\n",
              "        text-align: right;\n",
              "    }\n",
              "</style>\n",
              "<table border=\"1\" class=\"dataframe\">\n",
              "  <thead>\n",
              "    <tr style=\"text-align: right;\">\n",
              "      <th></th>\n",
              "      <th>Year</th>\n",
              "      <th>Month</th>\n",
              "      <th>Store Name</th>\n",
              "      <th>Receipt Number</th>\n",
              "      <th>Category</th>\n",
              "      <th>Group</th>\n",
              "      <th>Sub Group</th>\n",
              "      <th>Item Number</th>\n",
              "      <th>Item Family</th>\n",
              "      <th>Item Description</th>\n",
              "      <th>Product Size</th>\n",
              "      <th>SKU</th>\n",
              "      <th>Quantity</th>\n",
              "      <th>Sales Value $</th>\n",
              "      <th>sales</th>\n",
              "      <th>sales $</th>\n",
              "    </tr>\n",
              "  </thead>\n",
              "  <tbody>\n",
              "    <tr>\n",
              "      <th>0</th>\n",
              "      <td>2019</td>\n",
              "      <td>Jul</td>\n",
              "      <td>Ashrafieh</td>\n",
              "      <td>000000PD02000660322</td>\n",
              "      <td>MEAL SOLUTIONS</td>\n",
              "      <td>HOT BEVERAGES</td>\n",
              "      <td>FLAVORED INSTANT COFFEE</td>\n",
              "      <td>264164</td>\n",
              "      <td>NESCAFE</td>\n",
              "      <td>NESCAFE 3IN1 CLASSIC BAG</td>\n",
              "      <td>30*20G</td>\n",
              "      <td>250.0</td>\n",
              "      <td>2.0</td>\n",
              "      <td>0.331675</td>\n",
              "      <td>1307906662</td>\n",
              "      <td>1307906662</td>\n",
              "    </tr>\n",
              "    <tr>\n",
              "      <th>1</th>\n",
              "      <td>2019</td>\n",
              "      <td>Jul</td>\n",
              "      <td>Ashrafieh</td>\n",
              "      <td>000000PD02000660322</td>\n",
              "      <td>BEVERAGES &amp; READY TO EAT</td>\n",
              "      <td>BISCUITS</td>\n",
              "      <td>WAFERS</td>\n",
              "      <td>104874</td>\n",
              "      <td>GANDOUR</td>\n",
              "      <td>GANDOUR UNICA</td>\n",
              "      <td>27G</td>\n",
              "      <td>250.0</td>\n",
              "      <td>1.0</td>\n",
              "      <td>0.165837</td>\n",
              "      <td>1307906662</td>\n",
              "      <td>1307906662</td>\n",
              "    </tr>\n",
              "    <tr>\n",
              "      <th>2</th>\n",
              "      <td>2019</td>\n",
              "      <td>Jul</td>\n",
              "      <td>Ashrafieh</td>\n",
              "      <td>000000PD02000660322</td>\n",
              "      <td>BEVERAGES &amp; READY TO EAT</td>\n",
              "      <td>CAKES</td>\n",
              "      <td>MINI CAKES</td>\n",
              "      <td>135173</td>\n",
              "      <td>ENG.CAKE</td>\n",
              "      <td>CAKE PLAIN</td>\n",
              "      <td>65G</td>\n",
              "      <td>595.0</td>\n",
              "      <td>1.0</td>\n",
              "      <td>0.394693</td>\n",
              "      <td>1307906662</td>\n",
              "      <td>1307906662</td>\n",
              "    </tr>\n",
              "    <tr>\n",
              "      <th>3</th>\n",
              "      <td>2019</td>\n",
              "      <td>Jul</td>\n",
              "      <td>Ashrafieh</td>\n",
              "      <td>000000PD02000660322</td>\n",
              "      <td>BEVERAGES &amp; READY TO EAT</td>\n",
              "      <td>CAKES</td>\n",
              "      <td>CROISSANT</td>\n",
              "      <td>479487</td>\n",
              "      <td>KARUZO</td>\n",
              "      <td>CROISSANT CHESSECAKE</td>\n",
              "      <td>62G</td>\n",
              "      <td>750.0</td>\n",
              "      <td>1.0</td>\n",
              "      <td>0.497512</td>\n",
              "      <td>1307906662</td>\n",
              "      <td>1307906662</td>\n",
              "    </tr>\n",
              "    <tr>\n",
              "      <th>4</th>\n",
              "      <td>2019</td>\n",
              "      <td>Jul</td>\n",
              "      <td>Ashrafieh</td>\n",
              "      <td>000000PD02000660322</td>\n",
              "      <td>TOBACCO</td>\n",
              "      <td>CIGARETTES</td>\n",
              "      <td>FULL STRENGTH</td>\n",
              "      <td>488316</td>\n",
              "      <td>WINSTON</td>\n",
              "      <td>BLUE COMPACT BOX SHORT</td>\n",
              "      <td>1PC</td>\n",
              "      <td>1999.0</td>\n",
              "      <td>1.0</td>\n",
              "      <td>1.326036</td>\n",
              "      <td>1307906662</td>\n",
              "      <td>1307906662</td>\n",
              "    </tr>\n",
              "    <tr>\n",
              "      <th>...</th>\n",
              "      <td>...</td>\n",
              "      <td>...</td>\n",
              "      <td>...</td>\n",
              "      <td>...</td>\n",
              "      <td>...</td>\n",
              "      <td>...</td>\n",
              "      <td>...</td>\n",
              "      <td>...</td>\n",
              "      <td>...</td>\n",
              "      <td>...</td>\n",
              "      <td>...</td>\n",
              "      <td>...</td>\n",
              "      <td>...</td>\n",
              "      <td>...</td>\n",
              "      <td>...</td>\n",
              "      <td>...</td>\n",
              "    </tr>\n",
              "    <tr>\n",
              "      <th>278540</th>\n",
              "      <td>2019</td>\n",
              "      <td>Oct</td>\n",
              "      <td>Jbeil</td>\n",
              "      <td>000000PD03000770721</td>\n",
              "      <td>CHILLED</td>\n",
              "      <td>DAIRY PRODUCTS</td>\n",
              "      <td>LABNEH</td>\n",
              "      <td>142839</td>\n",
              "      <td>F/TAANAYEL</td>\n",
              "      <td>LABNEH BALADI</td>\n",
              "      <td>500G</td>\n",
              "      <td>6500.0</td>\n",
              "      <td>1.0</td>\n",
              "      <td>4.311774</td>\n",
              "      <td>1307906662</td>\n",
              "      <td>1307906662</td>\n",
              "    </tr>\n",
              "    <tr>\n",
              "      <th>278541</th>\n",
              "      <td>2019</td>\n",
              "      <td>Oct</td>\n",
              "      <td>Jbeil</td>\n",
              "      <td>000000PD03000770721</td>\n",
              "      <td>CHILLED</td>\n",
              "      <td>IMPORTED CHEESE</td>\n",
              "      <td>CHEESE TUBS</td>\n",
              "      <td>336923</td>\n",
              "      <td>KIRI</td>\n",
              "      <td>KIRI SNOW SPREAD</td>\n",
              "      <td>350G</td>\n",
              "      <td>7250.0</td>\n",
              "      <td>1.0</td>\n",
              "      <td>4.809287</td>\n",
              "      <td>1307906662</td>\n",
              "      <td>1307906662</td>\n",
              "    </tr>\n",
              "    <tr>\n",
              "      <th>278542</th>\n",
              "      <td>2019</td>\n",
              "      <td>Oct</td>\n",
              "      <td>Jbeil</td>\n",
              "      <td>000000PD03000770721</td>\n",
              "      <td>CHILLED</td>\n",
              "      <td>LOCAL/Import BREAD</td>\n",
              "      <td>ARABIC BREAD</td>\n",
              "      <td>440233</td>\n",
              "      <td>WOODEN B</td>\n",
              "      <td>TANNOUR BREAD SMALL 5\"S</td>\n",
              "      <td>160G</td>\n",
              "      <td>500.0</td>\n",
              "      <td>1.0</td>\n",
              "      <td>0.331675</td>\n",
              "      <td>1307906662</td>\n",
              "      <td>1307906662</td>\n",
              "    </tr>\n",
              "    <tr>\n",
              "      <th>278543</th>\n",
              "      <td>2019</td>\n",
              "      <td>Oct</td>\n",
              "      <td>Jbeil</td>\n",
              "      <td>000000PD03000770721</td>\n",
              "      <td>CHILLED</td>\n",
              "      <td>LOCAL/Import BREAD</td>\n",
              "      <td>OTHER LOCAL/IMPORTED BREAD</td>\n",
              "      <td>175191</td>\n",
              "      <td>PAIN D'OR</td>\n",
              "      <td>PAIN AU LAIT</td>\n",
              "      <td>9PC</td>\n",
              "      <td>3750.0</td>\n",
              "      <td>1.0</td>\n",
              "      <td>2.487562</td>\n",
              "      <td>1307906662</td>\n",
              "      <td>1307906662</td>\n",
              "    </tr>\n",
              "    <tr>\n",
              "      <th>278544</th>\n",
              "      <td>2019</td>\n",
              "      <td>Oct</td>\n",
              "      <td>Jbeil</td>\n",
              "      <td>000000PD03000770724</td>\n",
              "      <td>BEVERAGES &amp; READY TO EAT</td>\n",
              "      <td>SOFT DRINKS</td>\n",
              "      <td>ENERGY DRINKS</td>\n",
              "      <td>428093</td>\n",
              "      <td>XXL</td>\n",
              "      <td>XXL ENERGIE DRINK REGULAR</td>\n",
              "      <td>50CL</td>\n",
              "      <td>1999.0</td>\n",
              "      <td>1.0</td>\n",
              "      <td>1.326036</td>\n",
              "      <td>1307906662</td>\n",
              "      <td>1307906662</td>\n",
              "    </tr>\n",
              "  </tbody>\n",
              "</table>\n",
              "<p>278484 rows × 16 columns</p>\n",
              "</div>"
            ],
            "text/plain": [
              "        Year Month Store Name  ... Sales Value $       sales     sales $\n",
              "0       2019   Jul  Ashrafieh  ...      0.331675  1307906662  1307906662\n",
              "1       2019   Jul  Ashrafieh  ...      0.165837  1307906662  1307906662\n",
              "2       2019   Jul  Ashrafieh  ...      0.394693  1307906662  1307906662\n",
              "3       2019   Jul  Ashrafieh  ...      0.497512  1307906662  1307906662\n",
              "4       2019   Jul  Ashrafieh  ...      1.326036  1307906662  1307906662\n",
              "...      ...   ...        ...  ...           ...         ...         ...\n",
              "278540  2019   Oct      Jbeil  ...      4.311774  1307906662  1307906662\n",
              "278541  2019   Oct      Jbeil  ...      4.809287  1307906662  1307906662\n",
              "278542  2019   Oct      Jbeil  ...      0.331675  1307906662  1307906662\n",
              "278543  2019   Oct      Jbeil  ...      2.487562  1307906662  1307906662\n",
              "278544  2019   Oct      Jbeil  ...      1.326036  1307906662  1307906662\n",
              "\n",
              "[278484 rows x 16 columns]"
            ]
          },
          "metadata": {
            "tags": []
          },
          "execution_count": 277
        }
      ]
    },
    {
      "cell_type": "code",
      "metadata": {
        "colab": {
          "base_uri": "https://localhost:8080/",
          "height": 623
        },
        "id": "HJFNj-raByQ5",
        "outputId": "ad39094f-2a0b-4aa2-cf72-68617f742438"
      },
      "source": [
        "spinneys_dataset_df.drop(['sales'], axis=1)"
      ],
      "execution_count": 281,
      "outputs": [
        {
          "output_type": "execute_result",
          "data": {
            "text/html": [
              "<div>\n",
              "<style scoped>\n",
              "    .dataframe tbody tr th:only-of-type {\n",
              "        vertical-align: middle;\n",
              "    }\n",
              "\n",
              "    .dataframe tbody tr th {\n",
              "        vertical-align: top;\n",
              "    }\n",
              "\n",
              "    .dataframe thead th {\n",
              "        text-align: right;\n",
              "    }\n",
              "</style>\n",
              "<table border=\"1\" class=\"dataframe\">\n",
              "  <thead>\n",
              "    <tr style=\"text-align: right;\">\n",
              "      <th></th>\n",
              "      <th>Year</th>\n",
              "      <th>Month</th>\n",
              "      <th>Store Name</th>\n",
              "      <th>Receipt Number</th>\n",
              "      <th>Category</th>\n",
              "      <th>Group</th>\n",
              "      <th>Sub Group</th>\n",
              "      <th>Item Number</th>\n",
              "      <th>Item Family</th>\n",
              "      <th>Item Description</th>\n",
              "      <th>Product Size</th>\n",
              "      <th>SKU</th>\n",
              "      <th>Quantity</th>\n",
              "      <th>Sales Value $</th>\n",
              "      <th>sales $</th>\n",
              "    </tr>\n",
              "  </thead>\n",
              "  <tbody>\n",
              "    <tr>\n",
              "      <th>0</th>\n",
              "      <td>2019</td>\n",
              "      <td>Jul</td>\n",
              "      <td>Ashrafieh</td>\n",
              "      <td>000000PD02000660322</td>\n",
              "      <td>MEAL SOLUTIONS</td>\n",
              "      <td>HOT BEVERAGES</td>\n",
              "      <td>FLAVORED INSTANT COFFEE</td>\n",
              "      <td>264164</td>\n",
              "      <td>NESCAFE</td>\n",
              "      <td>NESCAFE 3IN1 CLASSIC BAG</td>\n",
              "      <td>30*20G</td>\n",
              "      <td>250.0</td>\n",
              "      <td>2.0</td>\n",
              "      <td>0.331675</td>\n",
              "      <td>1307906662</td>\n",
              "    </tr>\n",
              "    <tr>\n",
              "      <th>1</th>\n",
              "      <td>2019</td>\n",
              "      <td>Jul</td>\n",
              "      <td>Ashrafieh</td>\n",
              "      <td>000000PD02000660322</td>\n",
              "      <td>BEVERAGES &amp; READY TO EAT</td>\n",
              "      <td>BISCUITS</td>\n",
              "      <td>WAFERS</td>\n",
              "      <td>104874</td>\n",
              "      <td>GANDOUR</td>\n",
              "      <td>GANDOUR UNICA</td>\n",
              "      <td>27G</td>\n",
              "      <td>250.0</td>\n",
              "      <td>1.0</td>\n",
              "      <td>0.165837</td>\n",
              "      <td>1307906662</td>\n",
              "    </tr>\n",
              "    <tr>\n",
              "      <th>2</th>\n",
              "      <td>2019</td>\n",
              "      <td>Jul</td>\n",
              "      <td>Ashrafieh</td>\n",
              "      <td>000000PD02000660322</td>\n",
              "      <td>BEVERAGES &amp; READY TO EAT</td>\n",
              "      <td>CAKES</td>\n",
              "      <td>MINI CAKES</td>\n",
              "      <td>135173</td>\n",
              "      <td>ENG.CAKE</td>\n",
              "      <td>CAKE PLAIN</td>\n",
              "      <td>65G</td>\n",
              "      <td>595.0</td>\n",
              "      <td>1.0</td>\n",
              "      <td>0.394693</td>\n",
              "      <td>1307906662</td>\n",
              "    </tr>\n",
              "    <tr>\n",
              "      <th>3</th>\n",
              "      <td>2019</td>\n",
              "      <td>Jul</td>\n",
              "      <td>Ashrafieh</td>\n",
              "      <td>000000PD02000660322</td>\n",
              "      <td>BEVERAGES &amp; READY TO EAT</td>\n",
              "      <td>CAKES</td>\n",
              "      <td>CROISSANT</td>\n",
              "      <td>479487</td>\n",
              "      <td>KARUZO</td>\n",
              "      <td>CROISSANT CHESSECAKE</td>\n",
              "      <td>62G</td>\n",
              "      <td>750.0</td>\n",
              "      <td>1.0</td>\n",
              "      <td>0.497512</td>\n",
              "      <td>1307906662</td>\n",
              "    </tr>\n",
              "    <tr>\n",
              "      <th>4</th>\n",
              "      <td>2019</td>\n",
              "      <td>Jul</td>\n",
              "      <td>Ashrafieh</td>\n",
              "      <td>000000PD02000660322</td>\n",
              "      <td>TOBACCO</td>\n",
              "      <td>CIGARETTES</td>\n",
              "      <td>FULL STRENGTH</td>\n",
              "      <td>488316</td>\n",
              "      <td>WINSTON</td>\n",
              "      <td>BLUE COMPACT BOX SHORT</td>\n",
              "      <td>1PC</td>\n",
              "      <td>1999.0</td>\n",
              "      <td>1.0</td>\n",
              "      <td>1.326036</td>\n",
              "      <td>1307906662</td>\n",
              "    </tr>\n",
              "    <tr>\n",
              "      <th>...</th>\n",
              "      <td>...</td>\n",
              "      <td>...</td>\n",
              "      <td>...</td>\n",
              "      <td>...</td>\n",
              "      <td>...</td>\n",
              "      <td>...</td>\n",
              "      <td>...</td>\n",
              "      <td>...</td>\n",
              "      <td>...</td>\n",
              "      <td>...</td>\n",
              "      <td>...</td>\n",
              "      <td>...</td>\n",
              "      <td>...</td>\n",
              "      <td>...</td>\n",
              "      <td>...</td>\n",
              "    </tr>\n",
              "    <tr>\n",
              "      <th>278540</th>\n",
              "      <td>2019</td>\n",
              "      <td>Oct</td>\n",
              "      <td>Jbeil</td>\n",
              "      <td>000000PD03000770721</td>\n",
              "      <td>CHILLED</td>\n",
              "      <td>DAIRY PRODUCTS</td>\n",
              "      <td>LABNEH</td>\n",
              "      <td>142839</td>\n",
              "      <td>F/TAANAYEL</td>\n",
              "      <td>LABNEH BALADI</td>\n",
              "      <td>500G</td>\n",
              "      <td>6500.0</td>\n",
              "      <td>1.0</td>\n",
              "      <td>4.311774</td>\n",
              "      <td>1307906662</td>\n",
              "    </tr>\n",
              "    <tr>\n",
              "      <th>278541</th>\n",
              "      <td>2019</td>\n",
              "      <td>Oct</td>\n",
              "      <td>Jbeil</td>\n",
              "      <td>000000PD03000770721</td>\n",
              "      <td>CHILLED</td>\n",
              "      <td>IMPORTED CHEESE</td>\n",
              "      <td>CHEESE TUBS</td>\n",
              "      <td>336923</td>\n",
              "      <td>KIRI</td>\n",
              "      <td>KIRI SNOW SPREAD</td>\n",
              "      <td>350G</td>\n",
              "      <td>7250.0</td>\n",
              "      <td>1.0</td>\n",
              "      <td>4.809287</td>\n",
              "      <td>1307906662</td>\n",
              "    </tr>\n",
              "    <tr>\n",
              "      <th>278542</th>\n",
              "      <td>2019</td>\n",
              "      <td>Oct</td>\n",
              "      <td>Jbeil</td>\n",
              "      <td>000000PD03000770721</td>\n",
              "      <td>CHILLED</td>\n",
              "      <td>LOCAL/Import BREAD</td>\n",
              "      <td>ARABIC BREAD</td>\n",
              "      <td>440233</td>\n",
              "      <td>WOODEN B</td>\n",
              "      <td>TANNOUR BREAD SMALL 5\"S</td>\n",
              "      <td>160G</td>\n",
              "      <td>500.0</td>\n",
              "      <td>1.0</td>\n",
              "      <td>0.331675</td>\n",
              "      <td>1307906662</td>\n",
              "    </tr>\n",
              "    <tr>\n",
              "      <th>278543</th>\n",
              "      <td>2019</td>\n",
              "      <td>Oct</td>\n",
              "      <td>Jbeil</td>\n",
              "      <td>000000PD03000770721</td>\n",
              "      <td>CHILLED</td>\n",
              "      <td>LOCAL/Import BREAD</td>\n",
              "      <td>OTHER LOCAL/IMPORTED BREAD</td>\n",
              "      <td>175191</td>\n",
              "      <td>PAIN D'OR</td>\n",
              "      <td>PAIN AU LAIT</td>\n",
              "      <td>9PC</td>\n",
              "      <td>3750.0</td>\n",
              "      <td>1.0</td>\n",
              "      <td>2.487562</td>\n",
              "      <td>1307906662</td>\n",
              "    </tr>\n",
              "    <tr>\n",
              "      <th>278544</th>\n",
              "      <td>2019</td>\n",
              "      <td>Oct</td>\n",
              "      <td>Jbeil</td>\n",
              "      <td>000000PD03000770724</td>\n",
              "      <td>BEVERAGES &amp; READY TO EAT</td>\n",
              "      <td>SOFT DRINKS</td>\n",
              "      <td>ENERGY DRINKS</td>\n",
              "      <td>428093</td>\n",
              "      <td>XXL</td>\n",
              "      <td>XXL ENERGIE DRINK REGULAR</td>\n",
              "      <td>50CL</td>\n",
              "      <td>1999.0</td>\n",
              "      <td>1.0</td>\n",
              "      <td>1.326036</td>\n",
              "      <td>1307906662</td>\n",
              "    </tr>\n",
              "  </tbody>\n",
              "</table>\n",
              "<p>278484 rows × 15 columns</p>\n",
              "</div>"
            ],
            "text/plain": [
              "        Year Month Store Name  ... Quantity Sales Value $     sales $\n",
              "0       2019   Jul  Ashrafieh  ...      2.0      0.331675  1307906662\n",
              "1       2019   Jul  Ashrafieh  ...      1.0      0.165837  1307906662\n",
              "2       2019   Jul  Ashrafieh  ...      1.0      0.394693  1307906662\n",
              "3       2019   Jul  Ashrafieh  ...      1.0      0.497512  1307906662\n",
              "4       2019   Jul  Ashrafieh  ...      1.0      1.326036  1307906662\n",
              "...      ...   ...        ...  ...      ...           ...         ...\n",
              "278540  2019   Oct      Jbeil  ...      1.0      4.311774  1307906662\n",
              "278541  2019   Oct      Jbeil  ...      1.0      4.809287  1307906662\n",
              "278542  2019   Oct      Jbeil  ...      1.0      0.331675  1307906662\n",
              "278543  2019   Oct      Jbeil  ...      1.0      2.487562  1307906662\n",
              "278544  2019   Oct      Jbeil  ...      1.0      1.326036  1307906662\n",
              "\n",
              "[278484 rows x 15 columns]"
            ]
          },
          "metadata": {
            "tags": []
          },
          "execution_count": 281
        }
      ]
    },
    {
      "cell_type": "code",
      "metadata": {
        "colab": {
          "base_uri": "https://localhost:8080/"
        },
        "id": "vFpIJObkA8Lw",
        "outputId": "e7783cc5-66d4-44a1-85c0-e0d8b3a10f2a"
      },
      "source": [
        "spinneys_dataset_df.shape"
      ],
      "execution_count": 282,
      "outputs": [
        {
          "output_type": "execute_result",
          "data": {
            "text/plain": [
              "(278484, 16)"
            ]
          },
          "metadata": {
            "tags": []
          },
          "execution_count": 282
        }
      ]
    },
    {
      "cell_type": "code",
      "metadata": {
        "colab": {
          "base_uri": "https://localhost:8080/",
          "height": 623
        },
        "id": "wgM26AQXgAF4",
        "outputId": "c0248a8a-01d0-4154-9bca-73a79dbe3fb2"
      },
      "source": [
        "spinneys_dataset_df"
      ],
      "execution_count": 230,
      "outputs": [
        {
          "output_type": "execute_result",
          "data": {
            "text/html": [
              "<div>\n",
              "<style scoped>\n",
              "    .dataframe tbody tr th:only-of-type {\n",
              "        vertical-align: middle;\n",
              "    }\n",
              "\n",
              "    .dataframe tbody tr th {\n",
              "        vertical-align: top;\n",
              "    }\n",
              "\n",
              "    .dataframe thead th {\n",
              "        text-align: right;\n",
              "    }\n",
              "</style>\n",
              "<table border=\"1\" class=\"dataframe\">\n",
              "  <thead>\n",
              "    <tr style=\"text-align: right;\">\n",
              "      <th></th>\n",
              "      <th>Year</th>\n",
              "      <th>Month</th>\n",
              "      <th>Store Name</th>\n",
              "      <th>Receipt Number</th>\n",
              "      <th>Category</th>\n",
              "      <th>Group</th>\n",
              "      <th>Sub Group</th>\n",
              "      <th>Item Number</th>\n",
              "      <th>Item Family</th>\n",
              "      <th>Item Description</th>\n",
              "      <th>Product Size</th>\n",
              "      <th>SKU</th>\n",
              "      <th>Quantity</th>\n",
              "      <th>Sales Value $</th>\n",
              "    </tr>\n",
              "  </thead>\n",
              "  <tbody>\n",
              "    <tr>\n",
              "      <th>0</th>\n",
              "      <td>2019</td>\n",
              "      <td>Jul</td>\n",
              "      <td>Ashrafieh</td>\n",
              "      <td>000000PD02000660322</td>\n",
              "      <td>MEAL SOLUTIONS</td>\n",
              "      <td>HOT BEVERAGES</td>\n",
              "      <td>FLAVORED INSTANT COFFEE</td>\n",
              "      <td>264164</td>\n",
              "      <td>NESCAFE</td>\n",
              "      <td>NESCAFE 3IN1 CLASSIC BAG</td>\n",
              "      <td>30*20G</td>\n",
              "      <td>250.0</td>\n",
              "      <td>2.0</td>\n",
              "      <td>0.331675</td>\n",
              "    </tr>\n",
              "    <tr>\n",
              "      <th>1</th>\n",
              "      <td>2019</td>\n",
              "      <td>Jul</td>\n",
              "      <td>Ashrafieh</td>\n",
              "      <td>000000PD02000660322</td>\n",
              "      <td>BEVERAGES &amp; READY TO EAT</td>\n",
              "      <td>BISCUITS</td>\n",
              "      <td>WAFERS</td>\n",
              "      <td>104874</td>\n",
              "      <td>GANDOUR</td>\n",
              "      <td>GANDOUR UNICA</td>\n",
              "      <td>27G</td>\n",
              "      <td>250.0</td>\n",
              "      <td>1.0</td>\n",
              "      <td>0.165837</td>\n",
              "    </tr>\n",
              "    <tr>\n",
              "      <th>2</th>\n",
              "      <td>2019</td>\n",
              "      <td>Jul</td>\n",
              "      <td>Ashrafieh</td>\n",
              "      <td>000000PD02000660322</td>\n",
              "      <td>BEVERAGES &amp; READY TO EAT</td>\n",
              "      <td>CAKES</td>\n",
              "      <td>MINI CAKES</td>\n",
              "      <td>135173</td>\n",
              "      <td>ENG.CAKE</td>\n",
              "      <td>CAKE PLAIN</td>\n",
              "      <td>65G</td>\n",
              "      <td>595.0</td>\n",
              "      <td>1.0</td>\n",
              "      <td>0.394693</td>\n",
              "    </tr>\n",
              "    <tr>\n",
              "      <th>3</th>\n",
              "      <td>2019</td>\n",
              "      <td>Jul</td>\n",
              "      <td>Ashrafieh</td>\n",
              "      <td>000000PD02000660322</td>\n",
              "      <td>BEVERAGES &amp; READY TO EAT</td>\n",
              "      <td>CAKES</td>\n",
              "      <td>CROISSANT</td>\n",
              "      <td>479487</td>\n",
              "      <td>KARUZO</td>\n",
              "      <td>CROISSANT CHESSECAKE</td>\n",
              "      <td>62G</td>\n",
              "      <td>750.0</td>\n",
              "      <td>1.0</td>\n",
              "      <td>0.497512</td>\n",
              "    </tr>\n",
              "    <tr>\n",
              "      <th>4</th>\n",
              "      <td>2019</td>\n",
              "      <td>Jul</td>\n",
              "      <td>Ashrafieh</td>\n",
              "      <td>000000PD02000660322</td>\n",
              "      <td>TOBACCO</td>\n",
              "      <td>CIGARETTES</td>\n",
              "      <td>FULL STRENGTH</td>\n",
              "      <td>488316</td>\n",
              "      <td>WINSTON</td>\n",
              "      <td>BLUE COMPACT BOX SHORT</td>\n",
              "      <td>1PC</td>\n",
              "      <td>1999.0</td>\n",
              "      <td>1.0</td>\n",
              "      <td>1.326036</td>\n",
              "    </tr>\n",
              "    <tr>\n",
              "      <th>...</th>\n",
              "      <td>...</td>\n",
              "      <td>...</td>\n",
              "      <td>...</td>\n",
              "      <td>...</td>\n",
              "      <td>...</td>\n",
              "      <td>...</td>\n",
              "      <td>...</td>\n",
              "      <td>...</td>\n",
              "      <td>...</td>\n",
              "      <td>...</td>\n",
              "      <td>...</td>\n",
              "      <td>...</td>\n",
              "      <td>...</td>\n",
              "      <td>...</td>\n",
              "    </tr>\n",
              "    <tr>\n",
              "      <th>278540</th>\n",
              "      <td>2019</td>\n",
              "      <td>Oct</td>\n",
              "      <td>Jbeil</td>\n",
              "      <td>000000PD03000770721</td>\n",
              "      <td>CHILLED</td>\n",
              "      <td>DAIRY PRODUCTS</td>\n",
              "      <td>LABNEH</td>\n",
              "      <td>142839</td>\n",
              "      <td>F/TAANAYEL</td>\n",
              "      <td>LABNEH BALADI</td>\n",
              "      <td>500G</td>\n",
              "      <td>6500.0</td>\n",
              "      <td>1.0</td>\n",
              "      <td>4.311774</td>\n",
              "    </tr>\n",
              "    <tr>\n",
              "      <th>278541</th>\n",
              "      <td>2019</td>\n",
              "      <td>Oct</td>\n",
              "      <td>Jbeil</td>\n",
              "      <td>000000PD03000770721</td>\n",
              "      <td>CHILLED</td>\n",
              "      <td>IMPORTED CHEESE</td>\n",
              "      <td>CHEESE TUBS</td>\n",
              "      <td>336923</td>\n",
              "      <td>KIRI</td>\n",
              "      <td>KIRI SNOW SPREAD</td>\n",
              "      <td>350G</td>\n",
              "      <td>7250.0</td>\n",
              "      <td>1.0</td>\n",
              "      <td>4.809287</td>\n",
              "    </tr>\n",
              "    <tr>\n",
              "      <th>278542</th>\n",
              "      <td>2019</td>\n",
              "      <td>Oct</td>\n",
              "      <td>Jbeil</td>\n",
              "      <td>000000PD03000770721</td>\n",
              "      <td>CHILLED</td>\n",
              "      <td>LOCAL/Import BREAD</td>\n",
              "      <td>ARABIC BREAD</td>\n",
              "      <td>440233</td>\n",
              "      <td>WOODEN B</td>\n",
              "      <td>TANNOUR BREAD SMALL 5\"S</td>\n",
              "      <td>160G</td>\n",
              "      <td>500.0</td>\n",
              "      <td>1.0</td>\n",
              "      <td>0.331675</td>\n",
              "    </tr>\n",
              "    <tr>\n",
              "      <th>278543</th>\n",
              "      <td>2019</td>\n",
              "      <td>Oct</td>\n",
              "      <td>Jbeil</td>\n",
              "      <td>000000PD03000770721</td>\n",
              "      <td>CHILLED</td>\n",
              "      <td>LOCAL/Import BREAD</td>\n",
              "      <td>OTHER LOCAL/IMPORTED BREAD</td>\n",
              "      <td>175191</td>\n",
              "      <td>PAIN D'OR</td>\n",
              "      <td>PAIN AU LAIT</td>\n",
              "      <td>9PC</td>\n",
              "      <td>3750.0</td>\n",
              "      <td>1.0</td>\n",
              "      <td>2.487562</td>\n",
              "    </tr>\n",
              "    <tr>\n",
              "      <th>278544</th>\n",
              "      <td>2019</td>\n",
              "      <td>Oct</td>\n",
              "      <td>Jbeil</td>\n",
              "      <td>000000PD03000770724</td>\n",
              "      <td>BEVERAGES &amp; READY TO EAT</td>\n",
              "      <td>SOFT DRINKS</td>\n",
              "      <td>ENERGY DRINKS</td>\n",
              "      <td>428093</td>\n",
              "      <td>XXL</td>\n",
              "      <td>XXL ENERGIE DRINK REGULAR</td>\n",
              "      <td>50CL</td>\n",
              "      <td>1999.0</td>\n",
              "      <td>1.0</td>\n",
              "      <td>1.326036</td>\n",
              "    </tr>\n",
              "  </tbody>\n",
              "</table>\n",
              "<p>278484 rows × 14 columns</p>\n",
              "</div>"
            ],
            "text/plain": [
              "        Year Month Store Name  ...     SKU Quantity Sales Value $\n",
              "0       2019   Jul  Ashrafieh  ...   250.0      2.0      0.331675\n",
              "1       2019   Jul  Ashrafieh  ...   250.0      1.0      0.165837\n",
              "2       2019   Jul  Ashrafieh  ...   595.0      1.0      0.394693\n",
              "3       2019   Jul  Ashrafieh  ...   750.0      1.0      0.497512\n",
              "4       2019   Jul  Ashrafieh  ...  1999.0      1.0      1.326036\n",
              "...      ...   ...        ...  ...     ...      ...           ...\n",
              "278540  2019   Oct      Jbeil  ...  6500.0      1.0      4.311774\n",
              "278541  2019   Oct      Jbeil  ...  7250.0      1.0      4.809287\n",
              "278542  2019   Oct      Jbeil  ...   500.0      1.0      0.331675\n",
              "278543  2019   Oct      Jbeil  ...  3750.0      1.0      2.487562\n",
              "278544  2019   Oct      Jbeil  ...  1999.0      1.0      1.326036\n",
              "\n",
              "[278484 rows x 14 columns]"
            ]
          },
          "metadata": {
            "tags": []
          },
          "execution_count": 230
        }
      ]
    },
    {
      "cell_type": "code",
      "metadata": {
        "colab": {
          "base_uri": "https://localhost:8080/",
          "height": 404
        },
        "id": "6YcXS04Zphxs",
        "outputId": "a93975bf-ce88-47ee-9007-c378c0d14f0b"
      },
      "source": [
        "plt.figure(figsize=(7,5))\n",
        "g = sns.countplot(spinneys_dataset_df.Month, palette=\"pastel\")\n",
        "plt.title(\"Count of sales by Month\")\n",
        "plt.xlabel(\"Months (Jul/Aug/Sep/oct)\")\n",
        "plt.ylabel(\"Total count\")\n",
        "plt.show()"
      ],
      "execution_count": 233,
      "outputs": [
        {
          "output_type": "stream",
          "text": [
            "/usr/local/lib/python3.7/dist-packages/seaborn/_decorators.py:43: FutureWarning: Pass the following variable as a keyword arg: x. From version 0.12, the only valid positional argument will be `data`, and passing other arguments without an explicit keyword will result in an error or misinterpretation.\n",
            "  FutureWarning\n"
          ],
          "name": "stderr"
        },
        {
          "output_type": "display_data",
          "data": {
            "image/png": "[encoded data removed]",
            "text/plain": [
              "<Figure size 504x360 with 1 Axes>"
            ]
          },
          "metadata": {
            "tags": [],
            "needs_background": "light"
          }
        }
      ]
    },
    {
      "cell_type": "code",
      "metadata": {
        "colab": {
          "base_uri": "https://localhost:8080/",
          "height": 373
        },
        "id": "BY3liKrIp85P",
        "outputId": "afb0569a-b9db-440f-f9a7-fcc246b72ae7"
      },
      "source": [
        "plt.figure(figsize=(12,6))\n",
        "plt.title(\"% of sales that are either on Aug - Jul - Sep\")\n",
        "g = plt.pie(spinneys_dataset_df.Month.value_counts(), labels=spinneys_dataset_df.Month.value_counts().index, colors=['skyblue','navajowhite','red','purple'],autopct='%1.1f%%',startangle=180);\n",
        "plt.legend()\n",
        "plt.show()"
      ],
      "execution_count": 237,
      "outputs": [
        {
          "output_type": "display_data",
          "data": {
            "image/png": "[encoded data removed]",
            "text/plain": [
              "<Figure size 864x432 with 1 Axes>"
            ]
          },
          "metadata": {
            "tags": []
          }
        }
      ]
    },
    {
      "cell_type": "markdown",
      "metadata": {
        "id": "K009NbpSvV6M"
      },
      "source": [
        "So there are 100% sales on August showing the majority. "
      ]
    },
    {
      "cell_type": "code",
      "metadata": {
        "colab": {
          "base_uri": "https://localhost:8080/",
          "height": 675
        },
        "id": "r9NkNGdwupI-",
        "outputId": "9579c7fd-b792-4f53-bf3b-75c0eced4fe9"
      },
      "source": [
        "plt.figure(figsize=(16,10))\n",
        "g = sns.countplot(spinneys_dataset_df.Category, palette=\"pastel\")\n",
        "plt.title(\"Count of sales by Category\")\n",
        "plt.xlabel(\"Months (ALCOHOL - BABY- BEVERAGES & READY TO EAT - CHILLED - CLEANING)\")\n",
        "plt.ylabel(\"Total count\")\n",
        "plt.show()"
      ],
      "execution_count": 248,
      "outputs": [
        {
          "output_type": "stream",
          "text": [
            "/usr/local/lib/python3.7/dist-packages/seaborn/_decorators.py:43: FutureWarning: Pass the following variable as a keyword arg: x. From version 0.12, the only valid positional argument will be `data`, and passing other arguments without an explicit keyword will result in an error or misinterpretation.\n",
            "  FutureWarning\n"
          ],
          "name": "stderr"
        },
        {
          "output_type": "display_data",
          "data": {
            "image/png": "[encoded data removed]",
            "text/plain": [
              "<Figure size 1152x720 with 1 Axes>"
            ]
          },
          "metadata": {
            "tags": [],
            "needs_background": "light"
          }
        }
      ]
    },
    {
      "cell_type": "code",
      "metadata": {
        "id": "yYC-gPWr-Ei4"
      },
      "source": [
        ""
      ],
      "execution_count": null,
      "outputs": []
    }
  ]
}