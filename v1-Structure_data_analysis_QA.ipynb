{
  "nbformat": 4,
  "nbformat_minor": 0,
  "metadata": {
    "colab": {
      "name": "Copy of Structure data analysis QA.ipynb",
      "provenance": [],
      "collapsed_sections": [],
      "authorship_tag": "ABX9TyMpnJHZdx9bgeq/M4F7YFh3",
      "include_colab_link": true
    },
    "kernelspec": {
      "name": "python3",
      "display_name": "Python 3"
    },
    "language_info": {
      "name": "python"
    }
  },
  "cells": [
    {
      "cell_type": "markdown",
      "metadata": {
        "id": "view-in-github",
        "colab_type": "text"
      },
      "source": [
        "<a href=\"https://colab.research.google.com/github/jessika2018/Data-analysis-Master---ashrafieh-sales/blob/main/v1-Structure_data_analysis_QA.ipynb\" target=\"_parent\"><img src=\"https://colab.research.google.com/assets/colab-badge.svg\" alt=\"Open In Colab\"/></a>"
      ]
    },
    {
      "cell_type": "markdown",
      "metadata": {
        "id": "mNnR46G_l1Kv"
      },
      "source": [
        "https://www.kaggle.com/jessicasinanian/business-analytics-with-marketing-data/edit"
      ]
    },
    {
      "cell_type": "markdown",
      "metadata": {
        "id": "6nShpjWkj4hn"
      },
      "source": [
        "**Section 01: Exploratory Data Analysis¶**\n",
        "\n",
        "A. question\n",
        "\n",
        "\n",
        "1.   Are there any null values or outliers? How will you wrangle/handle them?\n",
        "2.   Are there any variables that warrant transformations?\n",
        "3.   Are there any useful variables that you can engineer with the given data?\n",
        "4.   Do you notice any patterns or anomalies in the data? Can you plot them?\n",
        "\n",
        "\n",
        "B. Answer\n",
        "1. income X  missing. and year_birth outliers. income fill nan to median and outlier slice.  \n",
        "2. income remove percuation and change to float. also, dt_customer date format change. and like acceptedcmp, seems number but category. but put it now for the time being. because of calculate convenience. \n",
        "3. num_ , mnt_, cmp_ intergrated total. for remarkable insights.  \n",
        "4. yes.    \n",
        "\n",
        "\n",
        "* in products, wine meat exceptionally high. \n",
        "* i don't know marketing in details, but most of campaigns seems not-effective. \n",
        "* loyal customer ids : 1991, 7348, 5371, 4073 ... with wordcloud."
      ]
    },
    {
      "cell_type": "code",
      "metadata": {
        "id": "Ox1eZgMtj-iB"
      },
      "source": [
        ""
      ],
      "execution_count": null,
      "outputs": []
    },
    {
      "cell_type": "markdown",
      "metadata": {
        "id": "zN-ndm23lA1D"
      },
      "source": [
        "# # Section 02: Statistical Analysis"
      ]
    },
    {
      "cell_type": "markdown",
      "metadata": {
        "id": "-DKWE6P1lIIz"
      },
      "source": [
        "## Questions"
      ]
    },
    {
      "cell_type": "markdown",
      "metadata": {
        "id": "bhGDVFI_k9lO"
      },
      "source": [
        "* What factors are significantly related to the number of store purchases?\n",
        "* Does US fare significantly better than the Rest of the World in terms of total purchases?\n",
        "* Your supervisor insists that people who buy gold are more conservative. Therefore, people who spent an above average amount on gold in the last 2 years would have more in store purchases. Justify or refute this statement using an appropriate statistical test.\n",
        "* Fish has Omega 3 fatty acids which are good for the brain. Accordingly, do \"Married PhD candidates\" have a significant relation with amount spent on fish? What other factors are significantly related to amount spent on fish? (Hint: use your knowledge of interaction variables/effects).\n",
        "* Is there a significant relationship between geographical regional and success of a campaign?"
      ]
    },
    {
      "cell_type": "markdown",
      "metadata": {
        "id": "OqxwdeqLlK1h"
      },
      "source": [
        "## Answeres"
      ]
    },
    {
      "cell_type": "markdown",
      "metadata": {
        "id": "xaVRDDW_lNht"
      },
      "source": [
        "1. kidhome corr negative. income positive corr. and relative with other product and just because pearsonr, campaign5 affect. \n",
        "\n",
        "2. no \n",
        "\n",
        "3. store_purchases and gold amouunt columns of p_value. under 0.05 almost 0. and corr score 0.38 weak correlation. relative. \n",
        "\n",
        "4. no. weak. rather, others have a lot. in heatmap, relative with other products. campaign1 little corr.\n",
        "\n",
        "5. SP takes campaign good."
      ]
    },
    {
      "cell_type": "code",
      "metadata": {
        "id": "LXDDtugilOQQ"
      },
      "source": [
        ""
      ],
      "execution_count": null,
      "outputs": []
    },
    {
      "cell_type": "markdown",
      "metadata": {
        "id": "luBSfAF-lSJ8"
      },
      "source": [
        "# Section 03: Data Visualization"
      ]
    },
    {
      "cell_type": "markdown",
      "metadata": {
        "id": "HWQTcsoVlWc2"
      },
      "source": [
        "* Which marketing campaign is most successful?\n",
        "* What does the average customer look like for this company?\n",
        "* Which products are performing best?\n",
        "* Which channels are underperforming?"
      ]
    },
    {
      "cell_type": "markdown",
      "metadata": {
        "id": "131TABxnla2o"
      },
      "source": [
        "1. response\n",
        "2. i don't know mean. below i draw plot about average customer look.\n",
        "3. wines and meats.\n",
        "4. directly. next web."
      ]
    },
    {
      "cell_type": "markdown",
      "metadata": {
        "id": "cK46kw5Llfn4"
      },
      "source": [
        "# Conclusion\n",
        "\n",
        "## Suggest"
      ]
    },
    {
      "cell_type": "markdown",
      "metadata": {
        "id": "QJXi3HyHlfhz"
      },
      "source": [
        ""
      ]
    },
    {
      "cell_type": "markdown",
      "metadata": {
        "id": "alNgpVHeliMW"
      },
      "source": [
        "please see question and answer.\n",
        "etc. you should think loyal customer.\n",
        "etc. marketing response good. but the others not.\n",
        "in store, web visit and web purchases not positive correlation. you should think web marketing.\n",
        "Recency median value : 49 days. long. you should think conversion.\n",
        "Intensive marketing for Country SP. SP good for you."
      ]
    },
    {
      "cell_type": "code",
      "metadata": {
        "id": "Kuz1fmselTFp"
      },
      "source": [
        ""
      ],
      "execution_count": null,
      "outputs": []
    }
  ]
}