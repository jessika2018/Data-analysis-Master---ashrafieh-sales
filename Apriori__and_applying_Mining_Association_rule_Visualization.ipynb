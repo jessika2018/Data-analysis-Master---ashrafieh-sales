{
  "nbformat": 4,
  "nbformat_minor": 0,
  "metadata": {
    "colab": {
      "name": "Apriori _and_applying Mining Association_rule_Visualization.ipynb",
      "provenance": [],
      "collapsed_sections": [],
      "mount_file_id": "1571C_CBWN-HycEi8SvEzGHlXRLY5MzPG",
      "authorship_tag": "ABX9TyPhDBCAQFGxVNVZ0ykBEAi5",
      "include_colab_link": true
    },
    "kernelspec": {
      "name": "python3",
      "display_name": "Python 3"
    },
    "language_info": {
      "name": "python"
    }
  },
  "cells": [
    {
      "cell_type": "markdown",
      "metadata": {
        "id": "view-in-github",
        "colab_type": "text"
      },
      "source": [
        "<a href=\"https://colab.research.google.com/github/jessika2018/Data-analysis-Master---ashrafieh-sales/blob/main/Apriori__and_applying_Mining_Association_rule_Visualization.ipynb\" target=\"_parent\"><img src=\"https://colab.research.google.com/assets/colab-badge.svg\" alt=\"Open In Colab\"/></a>"
      ]
    },
    {
      "cell_type": "code",
      "metadata": {
        "id": "ZxLWfJXGwOGq"
      },
      "source": [
        ""
      ],
      "execution_count": null,
      "outputs": []
    },
    {
      "cell_type": "markdown",
      "metadata": {
        "id": "SMILn86PwRf6"
      },
      "source": [
        "## **Market Basket Analysis using assocition rules - apriori technique in Two ways**\n",
        "\n",
        "Association rules analysis is a technique to uncover how items are associated to each other. There are three common ways to measure association.\n",
        "\n",
        "Measure 1: Support. This says how popular an itemset is, it is number of times appear in total number of transaction. in other word we say frequency of item.\n",
        "\n",
        "Measure 2: Confidence. This says how likely item Y is purchased when item X is purchased, expressed as {X -> Y}. This is measured by the proportion of transactions with item X, in which item Y also appears.\n",
        "\n",
        "Measure 3: Lift. it is ratio of expected confidance to observed confidance. it is described as confidance of Y when item X was already known(x/y) to the confidance of Y when X item is unknown. in other words confidance of Y w.r.t. x and confiadnce of Y without X (means both are independent to each other).\n",
        "\n",
        "support = occurance of item / total no of transaction.\n",
        "\n",
        "confidance = support ( X Union Y) / support(X).\n",
        "\n",
        "lift = support (X Union Y)/ support(X) * support(Y) .\n",
        "\n",
        "For more info report this link"
      ]
    },
    {
      "cell_type": "markdown",
      "metadata": {
        "id": "BkwgDAcmxvoI"
      },
      "source": [
        "Why we doing it in this way -\n",
        "\n",
        "Limitation of first approach was need to converted data in a list fomat. when we see real life a store has many thousands of sku in that case it is computationally expensive.\n",
        "Apyori package is outdated. i mean there is no recent update from past few years.\n",
        "Results are coming in improper format which need to represent properly and that need computational operation to perform.\n",
        "mlxtend used two way based approach which generate frequent itemset and association rules over that. -check here for more info\n",
        "mlxtend are proper and has community support"
      ]
    },
    {
      "cell_type": "markdown",
      "metadata": {
        "id": "hvbbybH84Myi"
      },
      "source": [
        "# Applying Association rules"
      ]
    },
    {
      "cell_type": "code",
      "metadata": {
        "colab": {
          "base_uri": "https://localhost:8080/"
        },
        "id": "owe_I8zTIQ3D",
        "outputId": "92388ca7-3086-4ecc-b05a-edff996bb256"
      },
      "source": [
        "!pip install apyori"
      ],
      "execution_count": 2,
      "outputs": [
        {
          "output_type": "stream",
          "text": [
            "Collecting apyori\n",
            "  Downloading https://files.pythonhosted.org/packages/5e/62/5ffde5c473ea4b033490617ec5caa80d59804875ad3c3c57c0976533a21a/apyori-1.1.2.tar.gz\n",
            "Building wheels for collected packages: apyori\n",
            "  Building wheel for apyori (setup.py) ... \u001b[?25l\u001b[?25hdone\n",
            "  Created wheel for apyori: filename=apyori-1.1.2-cp37-none-any.whl size=5975 sha256=d17f533049232adb6ccd992070d086dd896e2535429bac20a048807a486e0327\n",
            "  Stored in directory: /root/.cache/pip/wheels/5d/92/bb/474bbadbc8c0062b9eb168f69982a0443263f8ab1711a8cad0\n",
            "Successfully built apyori\n",
            "Installing collected packages: apyori\n",
            "Successfully installed apyori-1.1.2\n"
          ],
          "name": "stdout"
        }
      ]
    },
    {
      "cell_type": "code",
      "metadata": {
        "id": "Aln1LR2NIQzT"
      },
      "source": [
        "#import all required packages..\n",
        "import pandas as pd\n",
        "import numpy as np\n",
        "from apyori import apriori"
      ],
      "execution_count": 3,
      "outputs": []
    },
    {
      "cell_type": "code",
      "metadata": {
        "id": "d_BZ-xZZxSe7",
        "colab": {
          "base_uri": "https://localhost:8080/",
          "height": 306
        },
        "outputId": "7884e536-0812-46e0-de39-d79813971a53"
      },
      "source": [
        "'''\n",
        "load apriori and association package from mlxtend. \n",
        "Used different dataset because mlxtend need data in below format. \n",
        "\n",
        "             itemname  apple banana grapes\n",
        "transaction  1            0    1     1\n",
        "             2            1    0     1  \n",
        "             3            1    0     0\n",
        "             4            0    1     0\n",
        "             \n",
        " we could have used above data as well but need to perform operation to bring in this format instead of that used seperate data only.            \n",
        "'''\n",
        "\n",
        "\n",
        "from mlxtend.frequent_patterns import apriori\n",
        "from mlxtend.frequent_patterns import association_rules\n",
        "\n",
        "df1 = pd.read_excel('/content/dataset_sunday.xlsx')\n",
        "df1.head()"
      ],
      "execution_count": 6,
      "outputs": [
        {
          "output_type": "execute_result",
          "data": {
            "text/html": [
              "<div>\n",
              "<style scoped>\n",
              "    .dataframe tbody tr th:only-of-type {\n",
              "        vertical-align: middle;\n",
              "    }\n",
              "\n",
              "    .dataframe tbody tr th {\n",
              "        vertical-align: top;\n",
              "    }\n",
              "\n",
              "    .dataframe thead th {\n",
              "        text-align: right;\n",
              "    }\n",
              "</style>\n",
              "<table border=\"1\" class=\"dataframe\">\n",
              "  <thead>\n",
              "    <tr style=\"text-align: right;\">\n",
              "      <th></th>\n",
              "      <th>Year</th>\n",
              "      <th>Month</th>\n",
              "      <th>Store_Name</th>\n",
              "      <th>Receipt_Number</th>\n",
              "      <th>Category</th>\n",
              "      <th>Group</th>\n",
              "      <th>Sub_Group</th>\n",
              "      <th>Item_Number</th>\n",
              "      <th>Item_Family</th>\n",
              "      <th>Item_Description</th>\n",
              "      <th>Product_Size</th>\n",
              "      <th>Price_LL</th>\n",
              "      <th>Quantity</th>\n",
              "      <th>Sales_Value_Dollars</th>\n",
              "    </tr>\n",
              "  </thead>\n",
              "  <tbody>\n",
              "    <tr>\n",
              "      <th>0</th>\n",
              "      <td>2021</td>\n",
              "      <td>Jul</td>\n",
              "      <td>Ashrafieh</td>\n",
              "      <td>000000PD02000660322</td>\n",
              "      <td>MEAL SOLUTIONS</td>\n",
              "      <td>HOT BEVERAGES</td>\n",
              "      <td>FLAVORED INSTANT COFFEE</td>\n",
              "      <td>264164</td>\n",
              "      <td>NESCAFE</td>\n",
              "      <td>NESCAFE 3IN1 CLASSIC BAG</td>\n",
              "      <td>30*20G</td>\n",
              "      <td>250.0</td>\n",
              "      <td>2.0</td>\n",
              "      <td>0.331675</td>\n",
              "    </tr>\n",
              "    <tr>\n",
              "      <th>1</th>\n",
              "      <td>2021</td>\n",
              "      <td>Jul</td>\n",
              "      <td>Ashrafieh</td>\n",
              "      <td>000000PD02000660322</td>\n",
              "      <td>BEVERAGES &amp; READY TO EAT</td>\n",
              "      <td>BISCUITS</td>\n",
              "      <td>WAFERS</td>\n",
              "      <td>104874</td>\n",
              "      <td>GANDOUR</td>\n",
              "      <td>GANDOUR UNICA</td>\n",
              "      <td>27G</td>\n",
              "      <td>250.0</td>\n",
              "      <td>1.0</td>\n",
              "      <td>0.165837</td>\n",
              "    </tr>\n",
              "    <tr>\n",
              "      <th>2</th>\n",
              "      <td>2021</td>\n",
              "      <td>Jul</td>\n",
              "      <td>Ashrafieh</td>\n",
              "      <td>000000PD02000660322</td>\n",
              "      <td>BEVERAGES &amp; READY TO EAT</td>\n",
              "      <td>CAKES</td>\n",
              "      <td>MINI CAKES</td>\n",
              "      <td>135173</td>\n",
              "      <td>ENG.CAKE</td>\n",
              "      <td>CAKE PLAIN</td>\n",
              "      <td>65G</td>\n",
              "      <td>595.0</td>\n",
              "      <td>1.0</td>\n",
              "      <td>0.394693</td>\n",
              "    </tr>\n",
              "    <tr>\n",
              "      <th>3</th>\n",
              "      <td>2021</td>\n",
              "      <td>Jul</td>\n",
              "      <td>Ashrafieh</td>\n",
              "      <td>000000PD02000660322</td>\n",
              "      <td>BEVERAGES &amp; READY TO EAT</td>\n",
              "      <td>CAKES</td>\n",
              "      <td>CROISSANT</td>\n",
              "      <td>479487</td>\n",
              "      <td>KARUZO</td>\n",
              "      <td>CROISSANT CHESSECAKE</td>\n",
              "      <td>62G</td>\n",
              "      <td>750.0</td>\n",
              "      <td>1.0</td>\n",
              "      <td>0.497512</td>\n",
              "    </tr>\n",
              "    <tr>\n",
              "      <th>4</th>\n",
              "      <td>2021</td>\n",
              "      <td>Jul</td>\n",
              "      <td>Ashrafieh</td>\n",
              "      <td>000000PD02000660322</td>\n",
              "      <td>TOBACCO</td>\n",
              "      <td>CIGARETTES</td>\n",
              "      <td>FULL STRENGTH</td>\n",
              "      <td>488316</td>\n",
              "      <td>WINSTON</td>\n",
              "      <td>BLUE COMPACT BOX SHORT</td>\n",
              "      <td>1PC</td>\n",
              "      <td>1999.0</td>\n",
              "      <td>1.0</td>\n",
              "      <td>1.326036</td>\n",
              "    </tr>\n",
              "  </tbody>\n",
              "</table>\n",
              "</div>"
            ],
            "text/plain": [
              "   Year Month Store_Name  ... Price_LL Quantity Sales_Value_Dollars\n",
              "0  2021   Jul  Ashrafieh  ...    250.0      2.0            0.331675\n",
              "1  2021   Jul  Ashrafieh  ...    250.0      1.0            0.165837\n",
              "2  2021   Jul  Ashrafieh  ...    595.0      1.0            0.394693\n",
              "3  2021   Jul  Ashrafieh  ...    750.0      1.0            0.497512\n",
              "4  2021   Jul  Ashrafieh  ...   1999.0      1.0            1.326036\n",
              "\n",
              "[5 rows x 14 columns]"
            ]
          },
          "metadata": {
            "tags": []
          },
          "execution_count": 6
        }
      ]
    },
    {
      "cell_type": "code",
      "metadata": {
        "id": "pIIu-QHWxSc9",
        "colab": {
          "base_uri": "https://localhost:8080/"
        },
        "outputId": "02da74e1-bbc9-4f79-84e9-f3471efeea68"
      },
      "source": [
        "# data has many country choose any one for check..\n",
        "df1.Store_Name.value_counts().head(5)"
      ],
      "execution_count": 7,
      "outputs": [
        {
          "output_type": "execute_result",
          "data": {
            "text/plain": [
              "Ashrafieh    113790\n",
              "Jbeil         68336\n",
              "Dbayeh        50185\n",
              "Hazmieh       46234\n",
              "Name: Store_Name, dtype: int64"
            ]
          },
          "metadata": {
            "tags": []
          },
          "execution_count": 7
        }
      ]
    },
    {
      "cell_type": "code",
      "metadata": {
        "id": "EXxSFkyAxSbb"
      },
      "source": [
        "#using only Ashrafieh country data for now can check for other as well..\n",
        "df1 = df1[df1.Store_Name == 'Ashrafieh']"
      ],
      "execution_count": 8,
      "outputs": []
    },
    {
      "cell_type": "code",
      "metadata": {
        "id": "JwE8x2_AxSYX"
      },
      "source": [
        "# some spaces are there in description need to remove else later operation it will create problem..\n",
        "df1['Item_Description'] = df1['Item_Description'].str.strip()"
      ],
      "execution_count": 9,
      "outputs": []
    },
    {
      "cell_type": "code",
      "metadata": {
        "id": "lm34mxn4xSVE"
      },
      "source": [
        "#some of transaction quantity is negative which can not be possible remove that.\n",
        "df1 = df1[df1.Quantity >0]"
      ],
      "execution_count": 10,
      "outputs": []
    },
    {
      "cell_type": "code",
      "metadata": {
        "id": "614i3G1hxSRg",
        "colab": {
          "base_uri": "https://localhost:8080/",
          "height": 614
        },
        "outputId": "64ffa481-4cbf-4821-e3f7-a76266e02ad1"
      },
      "source": [
        "df1[df1.Store_Name == 'Ashrafieh'].head(10)"
      ],
      "execution_count": 11,
      "outputs": [
        {
          "output_type": "execute_result",
          "data": {
            "text/html": [
              "<div>\n",
              "<style scoped>\n",
              "    .dataframe tbody tr th:only-of-type {\n",
              "        vertical-align: middle;\n",
              "    }\n",
              "\n",
              "    .dataframe tbody tr th {\n",
              "        vertical-align: top;\n",
              "    }\n",
              "\n",
              "    .dataframe thead th {\n",
              "        text-align: right;\n",
              "    }\n",
              "</style>\n",
              "<table border=\"1\" class=\"dataframe\">\n",
              "  <thead>\n",
              "    <tr style=\"text-align: right;\">\n",
              "      <th></th>\n",
              "      <th>Year</th>\n",
              "      <th>Month</th>\n",
              "      <th>Store_Name</th>\n",
              "      <th>Receipt_Number</th>\n",
              "      <th>Category</th>\n",
              "      <th>Group</th>\n",
              "      <th>Sub_Group</th>\n",
              "      <th>Item_Number</th>\n",
              "      <th>Item_Family</th>\n",
              "      <th>Item_Description</th>\n",
              "      <th>Product_Size</th>\n",
              "      <th>Price_LL</th>\n",
              "      <th>Quantity</th>\n",
              "      <th>Sales_Value_Dollars</th>\n",
              "    </tr>\n",
              "  </thead>\n",
              "  <tbody>\n",
              "    <tr>\n",
              "      <th>0</th>\n",
              "      <td>2021</td>\n",
              "      <td>Jul</td>\n",
              "      <td>Ashrafieh</td>\n",
              "      <td>000000PD02000660322</td>\n",
              "      <td>MEAL SOLUTIONS</td>\n",
              "      <td>HOT BEVERAGES</td>\n",
              "      <td>FLAVORED INSTANT COFFEE</td>\n",
              "      <td>264164</td>\n",
              "      <td>NESCAFE</td>\n",
              "      <td>NESCAFE 3IN1 CLASSIC BAG</td>\n",
              "      <td>30*20G</td>\n",
              "      <td>250.0</td>\n",
              "      <td>2.0</td>\n",
              "      <td>0.331675</td>\n",
              "    </tr>\n",
              "    <tr>\n",
              "      <th>1</th>\n",
              "      <td>2021</td>\n",
              "      <td>Jul</td>\n",
              "      <td>Ashrafieh</td>\n",
              "      <td>000000PD02000660322</td>\n",
              "      <td>BEVERAGES &amp; READY TO EAT</td>\n",
              "      <td>BISCUITS</td>\n",
              "      <td>WAFERS</td>\n",
              "      <td>104874</td>\n",
              "      <td>GANDOUR</td>\n",
              "      <td>GANDOUR UNICA</td>\n",
              "      <td>27G</td>\n",
              "      <td>250.0</td>\n",
              "      <td>1.0</td>\n",
              "      <td>0.165837</td>\n",
              "    </tr>\n",
              "    <tr>\n",
              "      <th>2</th>\n",
              "      <td>2021</td>\n",
              "      <td>Jul</td>\n",
              "      <td>Ashrafieh</td>\n",
              "      <td>000000PD02000660322</td>\n",
              "      <td>BEVERAGES &amp; READY TO EAT</td>\n",
              "      <td>CAKES</td>\n",
              "      <td>MINI CAKES</td>\n",
              "      <td>135173</td>\n",
              "      <td>ENG.CAKE</td>\n",
              "      <td>CAKE PLAIN</td>\n",
              "      <td>65G</td>\n",
              "      <td>595.0</td>\n",
              "      <td>1.0</td>\n",
              "      <td>0.394693</td>\n",
              "    </tr>\n",
              "    <tr>\n",
              "      <th>3</th>\n",
              "      <td>2021</td>\n",
              "      <td>Jul</td>\n",
              "      <td>Ashrafieh</td>\n",
              "      <td>000000PD02000660322</td>\n",
              "      <td>BEVERAGES &amp; READY TO EAT</td>\n",
              "      <td>CAKES</td>\n",
              "      <td>CROISSANT</td>\n",
              "      <td>479487</td>\n",
              "      <td>KARUZO</td>\n",
              "      <td>CROISSANT CHESSECAKE</td>\n",
              "      <td>62G</td>\n",
              "      <td>750.0</td>\n",
              "      <td>1.0</td>\n",
              "      <td>0.497512</td>\n",
              "    </tr>\n",
              "    <tr>\n",
              "      <th>4</th>\n",
              "      <td>2021</td>\n",
              "      <td>Jul</td>\n",
              "      <td>Ashrafieh</td>\n",
              "      <td>000000PD02000660322</td>\n",
              "      <td>TOBACCO</td>\n",
              "      <td>CIGARETTES</td>\n",
              "      <td>FULL STRENGTH</td>\n",
              "      <td>488316</td>\n",
              "      <td>WINSTON</td>\n",
              "      <td>BLUE COMPACT BOX SHORT</td>\n",
              "      <td>1PC</td>\n",
              "      <td>1999.0</td>\n",
              "      <td>1.0</td>\n",
              "      <td>1.326036</td>\n",
              "    </tr>\n",
              "    <tr>\n",
              "      <th>5</th>\n",
              "      <td>2021</td>\n",
              "      <td>Jul</td>\n",
              "      <td>Ashrafieh</td>\n",
              "      <td>000000PD02000660323</td>\n",
              "      <td>MEAL SOLUTIONS</td>\n",
              "      <td>HOT BEVERAGES</td>\n",
              "      <td>COFFEE</td>\n",
              "      <td>123764</td>\n",
              "      <td>CAFÉ NAJAR</td>\n",
              "      <td>COFFEE GOURMET VAC</td>\n",
              "      <td>250G</td>\n",
              "      <td>5250.0</td>\n",
              "      <td>1.0</td>\n",
              "      <td>3.482587</td>\n",
              "    </tr>\n",
              "    <tr>\n",
              "      <th>6</th>\n",
              "      <td>2021</td>\n",
              "      <td>Jul</td>\n",
              "      <td>Ashrafieh</td>\n",
              "      <td>000000PD02000660323</td>\n",
              "      <td>MEAL SOLUTIONS</td>\n",
              "      <td>SPREADS</td>\n",
              "      <td>TAHINA</td>\n",
              "      <td>147320</td>\n",
              "      <td>EL YAMAN</td>\n",
              "      <td>TAHINEH</td>\n",
              "      <td>454G</td>\n",
              "      <td>4999.0</td>\n",
              "      <td>2.0</td>\n",
              "      <td>6.632172</td>\n",
              "    </tr>\n",
              "    <tr>\n",
              "      <th>7</th>\n",
              "      <td>2021</td>\n",
              "      <td>Jul</td>\n",
              "      <td>Ashrafieh</td>\n",
              "      <td>000000PD02000660323</td>\n",
              "      <td>CLEANING</td>\n",
              "      <td>ALUMINUM FOIL &amp; CLING</td>\n",
              "      <td>ALUMINUM FOIL</td>\n",
              "      <td>266717</td>\n",
              "      <td>SANITA</td>\n",
              "      <td>CLASSIC ALUMINUM</td>\n",
              "      <td>25SQ</td>\n",
              "      <td>2750.0</td>\n",
              "      <td>1.0</td>\n",
              "      <td>1.824212</td>\n",
              "    </tr>\n",
              "    <tr>\n",
              "      <th>8</th>\n",
              "      <td>2021</td>\n",
              "      <td>Jul</td>\n",
              "      <td>Ashrafieh</td>\n",
              "      <td>000000PD02000660323</td>\n",
              "      <td>CHILLED</td>\n",
              "      <td>BUTTER+OTHERS</td>\n",
              "      <td>BUTTER</td>\n",
              "      <td>358539</td>\n",
              "      <td>LURPAK</td>\n",
              "      <td>DANISH BUTTER -10%</td>\n",
              "      <td>200G</td>\n",
              "      <td>3250.0</td>\n",
              "      <td>2.0</td>\n",
              "      <td>4.311774</td>\n",
              "    </tr>\n",
              "    <tr>\n",
              "      <th>9</th>\n",
              "      <td>2021</td>\n",
              "      <td>Jul</td>\n",
              "      <td>Ashrafieh</td>\n",
              "      <td>000000PD02000660323</td>\n",
              "      <td>CHILLED</td>\n",
              "      <td>LOCAL/Import BREAD</td>\n",
              "      <td>BROWN BREAD</td>\n",
              "      <td>393636</td>\n",
              "      <td>M/D'OR</td>\n",
              "      <td>PIN ARABE BLE COMPLET SANS SEL</td>\n",
              "      <td>525G</td>\n",
              "      <td>2000.0</td>\n",
              "      <td>1.0</td>\n",
              "      <td>1.326700</td>\n",
              "    </tr>\n",
              "  </tbody>\n",
              "</table>\n",
              "</div>"
            ],
            "text/plain": [
              "   Year Month Store_Name  ... Price_LL Quantity Sales_Value_Dollars\n",
              "0  2021   Jul  Ashrafieh  ...    250.0      2.0            0.331675\n",
              "1  2021   Jul  Ashrafieh  ...    250.0      1.0            0.165837\n",
              "2  2021   Jul  Ashrafieh  ...    595.0      1.0            0.394693\n",
              "3  2021   Jul  Ashrafieh  ...    750.0      1.0            0.497512\n",
              "4  2021   Jul  Ashrafieh  ...   1999.0      1.0            1.326036\n",
              "5  2021   Jul  Ashrafieh  ...   5250.0      1.0            3.482587\n",
              "6  2021   Jul  Ashrafieh  ...   4999.0      2.0            6.632172\n",
              "7  2021   Jul  Ashrafieh  ...   2750.0      1.0            1.824212\n",
              "8  2021   Jul  Ashrafieh  ...   3250.0      2.0            4.311774\n",
              "9  2021   Jul  Ashrafieh  ...   2000.0      1.0            1.326700\n",
              "\n",
              "[10 rows x 14 columns]"
            ]
          },
          "metadata": {
            "tags": []
          },
          "execution_count": 11
        }
      ]
    },
    {
      "cell_type": "code",
      "metadata": {
        "id": "cAekDf9AxSOx"
      },
      "source": [
        "#convert data in format which it require converting using pivot table and Quantity sum as values. fill 0 if any nan values\n",
        "\n",
        "basket = pd.pivot_table(data=df1,index='Receipt_Number',columns='Item_Description',values='Quantity', \\\n",
        "                        aggfunc='sum',fill_value=0)"
      ],
      "execution_count": 12,
      "outputs": []
    },
    {
      "cell_type": "code",
      "metadata": {
        "id": "jci8qswJxSMr",
        "colab": {
          "base_uri": "https://localhost:8080/",
          "height": 369
        },
        "outputId": "1fd42328-379a-471a-c233-01f05fd466df"
      },
      "source": [
        "basket.head()"
      ],
      "execution_count": 13,
      "outputs": [
        {
          "output_type": "execute_result",
          "data": {
            "text/html": [
              "<div>\n",
              "<style scoped>\n",
              "    .dataframe tbody tr th:only-of-type {\n",
              "        vertical-align: middle;\n",
              "    }\n",
              "\n",
              "    .dataframe tbody tr th {\n",
              "        vertical-align: top;\n",
              "    }\n",
              "\n",
              "    .dataframe thead th {\n",
              "        text-align: right;\n",
              "    }\n",
              "</style>\n",
              "<table border=\"1\" class=\"dataframe\">\n",
              "  <thead>\n",
              "    <tr style=\"text-align: right;\">\n",
              "      <th>Item_Description</th>\n",
              "      <th>1% CHOCOLATE MILK RTD ASP</th>\n",
              "      <th>1/4 FIL.MAQRX TOMAT/BAS</th>\n",
              "      <th>10 BATONNETS 5VANILLE 5 FRAISE</th>\n",
              "      <th>10 CAPS CARAMEL</th>\n",
              "      <th>10 CAPS ESPRESSO BRESIL</th>\n",
              "      <th>10 CAPS ESPRESSO COLOMBIE</th>\n",
              "      <th>10 CAPS ESPRESSO ETHIOPIE</th>\n",
              "      <th>10 CAPS ESPRESSO LUNGO INTENSE</th>\n",
              "      <th>10 CAPS ESPRESSO PEROU</th>\n",
              "      <th>10 CAPS ESPRESSO RISTRETTO</th>\n",
              "      <th>10 CAPS NOISETTE</th>\n",
              "      <th>10 FISH FINGERS</th>\n",
              "      <th>10 GLACES STICK</th>\n",
              "      <th>10*CHICKEN IN GRAVY +2FREE VP</th>\n",
              "      <th>100% NATURAL TOMATO PASTE</th>\n",
              "      <th>114 BAIN DOUCHE FRAICHEUR EPIC</th>\n",
              "      <th>114 SG KIDS BUBBLE GUM</th>\n",
              "      <th>114 SG KIDS FUNNY SPLASH</th>\n",
              "      <th>114 SG KIDS HAPPY SHOWER</th>\n",
              "      <th>114 SHOWER GEL ABSOLUTE DESIRE</th>\n",
              "      <th>114 SHOWER GEL CREAM LUXURY</th>\n",
              "      <th>114 SHOWER GEL DARK BLACK</th>\n",
              "      <th>114 SHOWER GEL FLOWER CARESS</th>\n",
              "      <th>114 SHOWER GEL HONEY MILK</th>\n",
              "      <th>114 SHOWER GEL MEN ADVENTURE</th>\n",
              "      <th>114 SHOWER GEL MEN NIGHT</th>\n",
              "      <th>114 SHOWER GEL MEN SPORT</th>\n",
              "      <th>114 SHOWER GEL OCEAN WAVE</th>\n",
              "      <th>114 SHOWER GEL OECHID MILK</th>\n",
              "      <th>114 SHOWER GEL ORIENTAL SARAB</th>\n",
              "      <th>114 SHOWER GEL ORIENTAL VELVET</th>\n",
              "      <th>114 SHOWER GEL VANILLA COCO</th>\n",
              "      <th>114 SHOWER GEL VANILLA MILK</th>\n",
              "      <th>114 SHOWER GEL WOOD PASSION</th>\n",
              "      <th>12 MINI CORN ON THE COB</th>\n",
              "      <th>12*SNICKERS @ SP PRICE</th>\n",
              "      <th>12*TACO SHELLS</th>\n",
              "      <th>12*TUTTI FRUTTI BAGS</th>\n",
              "      <th>12*UNICA MINIS BAGS DARK</th>\n",
              "      <th>14*OREO CHOCO CREAM+2FREE</th>\n",
              "      <th>...</th>\n",
              "      <th>YAOURT BOIR FRAIS DOODINGUE</th>\n",
              "      <th>YAOURT GRECQUE BREBIS BIO</th>\n",
              "      <th>YAOURT MANGUE ACTIVIA</th>\n",
              "      <th>YAOURT NATURE CHEVRE BIO</th>\n",
              "      <th>YELLOW EXTRA STONG</th>\n",
              "      <th>YELLOW LABEL LONG LEAF</th>\n",
              "      <th>YELLOW LABEL MINT</th>\n",
              "      <th>YELLOW MUSTARD MILD 220ML</th>\n",
              "      <th>YELLOW POP CORN POLYBAG</th>\n",
              "      <th>YELOW LABL L/LEAF 400G+120G FR</th>\n",
              "      <th>YERBA MATE</th>\n",
              "      <th>YOGGO A BOIRE CHOCOLAT</th>\n",
              "      <th>YOGHURT PLAIN</th>\n",
              "      <th>YOGURT 2%</th>\n",
              "      <th>YOGURT COATED ALMOND+APRICOT</th>\n",
              "      <th>YOGURT PLAIN LIGHT</th>\n",
              "      <th>YOGURT-0%FAT FRT SALAD</th>\n",
              "      <th>YOP GREEK 100 CAL MIXED STRAWB</th>\n",
              "      <th>YOP GREEK 100 CAL PEACH</th>\n",
              "      <th>ZAATAR WITH NUTS</th>\n",
              "      <th>ZEBRA CURVE FILE</th>\n",
              "      <th>ZERO CALORIE SWEETNER</th>\n",
              "      <th>ZERO FAT MILK POWDER</th>\n",
              "      <th>ZESTY LEMON CAKE MIX</th>\n",
              "      <th>ZHOURAT MIX</th>\n",
              "      <th>ZIP BAG FLOUR ALL PURPOSE</th>\n",
              "      <th>ZIPPER BAG MEDIUM</th>\n",
              "      <th>ZIPPER BAGS SMALL</th>\n",
              "      <th>ZIPPER SANDWICH BAGS</th>\n",
              "      <th>ZONIN CHRDNY VNO VARITLE WHT16</th>\n",
              "      <th>ZONIN PNT GRGIO DEL VNZIE WH16</th>\n",
              "      <th>ZONIN PROSECCO 1821 SPARKLING</th>\n",
              "      <th>ZONIN SOAVE DOC WHITE 2016</th>\n",
              "      <th>ZUFI MINI BREADSTICKS PAPRIKA</th>\n",
              "      <th>ZUFI MINI BREADSTICKS PIZZA</th>\n",
              "      <th>ZULU DARK CHOCOLATE BREADSTICK</th>\n",
              "      <th>ZULU MILK CHOC RICE STICKS</th>\n",
              "      <th>ZULU MILK CHOCOLATE BREADSTICK</th>\n",
              "      <th>ZWAN CHICKEN LM OLIVE</th>\n",
              "      <th>ZWAN MORTADELLA OLIVE</th>\n",
              "    </tr>\n",
              "    <tr>\n",
              "      <th>Receipt_Number</th>\n",
              "      <th></th>\n",
              "      <th></th>\n",
              "      <th></th>\n",
              "      <th></th>\n",
              "      <th></th>\n",
              "      <th></th>\n",
              "      <th></th>\n",
              "      <th></th>\n",
              "      <th></th>\n",
              "      <th></th>\n",
              "      <th></th>\n",
              "      <th></th>\n",
              "      <th></th>\n",
              "      <th></th>\n",
              "      <th></th>\n",
              "      <th></th>\n",
              "      <th></th>\n",
              "      <th></th>\n",
              "      <th></th>\n",
              "      <th></th>\n",
              "      <th></th>\n",
              "      <th></th>\n",
              "      <th></th>\n",
              "      <th></th>\n",
              "      <th></th>\n",
              "      <th></th>\n",
              "      <th></th>\n",
              "      <th></th>\n",
              "      <th></th>\n",
              "      <th></th>\n",
              "      <th></th>\n",
              "      <th></th>\n",
              "      <th></th>\n",
              "      <th></th>\n",
              "      <th></th>\n",
              "      <th></th>\n",
              "      <th></th>\n",
              "      <th></th>\n",
              "      <th></th>\n",
              "      <th></th>\n",
              "      <th></th>\n",
              "      <th></th>\n",
              "      <th></th>\n",
              "      <th></th>\n",
              "      <th></th>\n",
              "      <th></th>\n",
              "      <th></th>\n",
              "      <th></th>\n",
              "      <th></th>\n",
              "      <th></th>\n",
              "      <th></th>\n",
              "      <th></th>\n",
              "      <th></th>\n",
              "      <th></th>\n",
              "      <th></th>\n",
              "      <th></th>\n",
              "      <th></th>\n",
              "      <th></th>\n",
              "      <th></th>\n",
              "      <th></th>\n",
              "      <th></th>\n",
              "      <th></th>\n",
              "      <th></th>\n",
              "      <th></th>\n",
              "      <th></th>\n",
              "      <th></th>\n",
              "      <th></th>\n",
              "      <th></th>\n",
              "      <th></th>\n",
              "      <th></th>\n",
              "      <th></th>\n",
              "      <th></th>\n",
              "      <th></th>\n",
              "      <th></th>\n",
              "      <th></th>\n",
              "      <th></th>\n",
              "      <th></th>\n",
              "      <th></th>\n",
              "      <th></th>\n",
              "      <th></th>\n",
              "      <th></th>\n",
              "    </tr>\n",
              "  </thead>\n",
              "  <tbody>\n",
              "    <tr>\n",
              "      <th>000000PD02000660322</th>\n",
              "      <td>0</td>\n",
              "      <td>0</td>\n",
              "      <td>0</td>\n",
              "      <td>0</td>\n",
              "      <td>0</td>\n",
              "      <td>0</td>\n",
              "      <td>0</td>\n",
              "      <td>0</td>\n",
              "      <td>0</td>\n",
              "      <td>0</td>\n",
              "      <td>0</td>\n",
              "      <td>0</td>\n",
              "      <td>0</td>\n",
              "      <td>0</td>\n",
              "      <td>0</td>\n",
              "      <td>0</td>\n",
              "      <td>0</td>\n",
              "      <td>0</td>\n",
              "      <td>0</td>\n",
              "      <td>0</td>\n",
              "      <td>0</td>\n",
              "      <td>0</td>\n",
              "      <td>0</td>\n",
              "      <td>0</td>\n",
              "      <td>0</td>\n",
              "      <td>0</td>\n",
              "      <td>0</td>\n",
              "      <td>0</td>\n",
              "      <td>0</td>\n",
              "      <td>0</td>\n",
              "      <td>0</td>\n",
              "      <td>0</td>\n",
              "      <td>0</td>\n",
              "      <td>0</td>\n",
              "      <td>0</td>\n",
              "      <td>0</td>\n",
              "      <td>0</td>\n",
              "      <td>0</td>\n",
              "      <td>0</td>\n",
              "      <td>0</td>\n",
              "      <td>...</td>\n",
              "      <td>0</td>\n",
              "      <td>0</td>\n",
              "      <td>0</td>\n",
              "      <td>0</td>\n",
              "      <td>0</td>\n",
              "      <td>0</td>\n",
              "      <td>0</td>\n",
              "      <td>0</td>\n",
              "      <td>0</td>\n",
              "      <td>0</td>\n",
              "      <td>0</td>\n",
              "      <td>0</td>\n",
              "      <td>0</td>\n",
              "      <td>0</td>\n",
              "      <td>0</td>\n",
              "      <td>0</td>\n",
              "      <td>0</td>\n",
              "      <td>0</td>\n",
              "      <td>0</td>\n",
              "      <td>0</td>\n",
              "      <td>0</td>\n",
              "      <td>0</td>\n",
              "      <td>0</td>\n",
              "      <td>0</td>\n",
              "      <td>0</td>\n",
              "      <td>0</td>\n",
              "      <td>0</td>\n",
              "      <td>0</td>\n",
              "      <td>0</td>\n",
              "      <td>0</td>\n",
              "      <td>0</td>\n",
              "      <td>0</td>\n",
              "      <td>0</td>\n",
              "      <td>0</td>\n",
              "      <td>0</td>\n",
              "      <td>0</td>\n",
              "      <td>0</td>\n",
              "      <td>0</td>\n",
              "      <td>0</td>\n",
              "      <td>0</td>\n",
              "    </tr>\n",
              "    <tr>\n",
              "      <th>000000PD02000660323</th>\n",
              "      <td>0</td>\n",
              "      <td>0</td>\n",
              "      <td>0</td>\n",
              "      <td>0</td>\n",
              "      <td>0</td>\n",
              "      <td>0</td>\n",
              "      <td>0</td>\n",
              "      <td>0</td>\n",
              "      <td>0</td>\n",
              "      <td>0</td>\n",
              "      <td>0</td>\n",
              "      <td>0</td>\n",
              "      <td>0</td>\n",
              "      <td>0</td>\n",
              "      <td>0</td>\n",
              "      <td>0</td>\n",
              "      <td>0</td>\n",
              "      <td>0</td>\n",
              "      <td>0</td>\n",
              "      <td>0</td>\n",
              "      <td>0</td>\n",
              "      <td>0</td>\n",
              "      <td>0</td>\n",
              "      <td>0</td>\n",
              "      <td>0</td>\n",
              "      <td>0</td>\n",
              "      <td>0</td>\n",
              "      <td>0</td>\n",
              "      <td>0</td>\n",
              "      <td>0</td>\n",
              "      <td>0</td>\n",
              "      <td>0</td>\n",
              "      <td>0</td>\n",
              "      <td>0</td>\n",
              "      <td>0</td>\n",
              "      <td>0</td>\n",
              "      <td>0</td>\n",
              "      <td>0</td>\n",
              "      <td>0</td>\n",
              "      <td>0</td>\n",
              "      <td>...</td>\n",
              "      <td>0</td>\n",
              "      <td>0</td>\n",
              "      <td>0</td>\n",
              "      <td>0</td>\n",
              "      <td>0</td>\n",
              "      <td>0</td>\n",
              "      <td>0</td>\n",
              "      <td>0</td>\n",
              "      <td>0</td>\n",
              "      <td>0</td>\n",
              "      <td>0</td>\n",
              "      <td>0</td>\n",
              "      <td>0</td>\n",
              "      <td>0</td>\n",
              "      <td>0</td>\n",
              "      <td>0</td>\n",
              "      <td>0</td>\n",
              "      <td>0</td>\n",
              "      <td>0</td>\n",
              "      <td>0</td>\n",
              "      <td>0</td>\n",
              "      <td>0</td>\n",
              "      <td>0</td>\n",
              "      <td>0</td>\n",
              "      <td>0</td>\n",
              "      <td>0</td>\n",
              "      <td>0</td>\n",
              "      <td>0</td>\n",
              "      <td>0</td>\n",
              "      <td>0</td>\n",
              "      <td>0</td>\n",
              "      <td>0</td>\n",
              "      <td>0</td>\n",
              "      <td>0</td>\n",
              "      <td>0</td>\n",
              "      <td>0</td>\n",
              "      <td>0</td>\n",
              "      <td>0</td>\n",
              "      <td>0</td>\n",
              "      <td>0</td>\n",
              "    </tr>\n",
              "    <tr>\n",
              "      <th>000000PD02000660326</th>\n",
              "      <td>0</td>\n",
              "      <td>0</td>\n",
              "      <td>0</td>\n",
              "      <td>0</td>\n",
              "      <td>0</td>\n",
              "      <td>0</td>\n",
              "      <td>0</td>\n",
              "      <td>0</td>\n",
              "      <td>0</td>\n",
              "      <td>0</td>\n",
              "      <td>0</td>\n",
              "      <td>0</td>\n",
              "      <td>0</td>\n",
              "      <td>0</td>\n",
              "      <td>0</td>\n",
              "      <td>0</td>\n",
              "      <td>0</td>\n",
              "      <td>0</td>\n",
              "      <td>0</td>\n",
              "      <td>0</td>\n",
              "      <td>0</td>\n",
              "      <td>0</td>\n",
              "      <td>0</td>\n",
              "      <td>0</td>\n",
              "      <td>0</td>\n",
              "      <td>0</td>\n",
              "      <td>0</td>\n",
              "      <td>0</td>\n",
              "      <td>0</td>\n",
              "      <td>0</td>\n",
              "      <td>0</td>\n",
              "      <td>0</td>\n",
              "      <td>0</td>\n",
              "      <td>0</td>\n",
              "      <td>0</td>\n",
              "      <td>0</td>\n",
              "      <td>0</td>\n",
              "      <td>0</td>\n",
              "      <td>0</td>\n",
              "      <td>0</td>\n",
              "      <td>...</td>\n",
              "      <td>0</td>\n",
              "      <td>0</td>\n",
              "      <td>0</td>\n",
              "      <td>0</td>\n",
              "      <td>0</td>\n",
              "      <td>0</td>\n",
              "      <td>0</td>\n",
              "      <td>0</td>\n",
              "      <td>0</td>\n",
              "      <td>0</td>\n",
              "      <td>0</td>\n",
              "      <td>0</td>\n",
              "      <td>0</td>\n",
              "      <td>0</td>\n",
              "      <td>0</td>\n",
              "      <td>0</td>\n",
              "      <td>0</td>\n",
              "      <td>0</td>\n",
              "      <td>0</td>\n",
              "      <td>0</td>\n",
              "      <td>0</td>\n",
              "      <td>0</td>\n",
              "      <td>0</td>\n",
              "      <td>0</td>\n",
              "      <td>0</td>\n",
              "      <td>0</td>\n",
              "      <td>0</td>\n",
              "      <td>0</td>\n",
              "      <td>0</td>\n",
              "      <td>0</td>\n",
              "      <td>0</td>\n",
              "      <td>0</td>\n",
              "      <td>0</td>\n",
              "      <td>0</td>\n",
              "      <td>0</td>\n",
              "      <td>0</td>\n",
              "      <td>0</td>\n",
              "      <td>0</td>\n",
              "      <td>0</td>\n",
              "      <td>0</td>\n",
              "    </tr>\n",
              "    <tr>\n",
              "      <th>000000PD02000660327</th>\n",
              "      <td>0</td>\n",
              "      <td>0</td>\n",
              "      <td>0</td>\n",
              "      <td>0</td>\n",
              "      <td>0</td>\n",
              "      <td>0</td>\n",
              "      <td>0</td>\n",
              "      <td>0</td>\n",
              "      <td>0</td>\n",
              "      <td>0</td>\n",
              "      <td>0</td>\n",
              "      <td>0</td>\n",
              "      <td>0</td>\n",
              "      <td>0</td>\n",
              "      <td>0</td>\n",
              "      <td>0</td>\n",
              "      <td>0</td>\n",
              "      <td>0</td>\n",
              "      <td>0</td>\n",
              "      <td>0</td>\n",
              "      <td>0</td>\n",
              "      <td>0</td>\n",
              "      <td>0</td>\n",
              "      <td>0</td>\n",
              "      <td>0</td>\n",
              "      <td>0</td>\n",
              "      <td>0</td>\n",
              "      <td>0</td>\n",
              "      <td>0</td>\n",
              "      <td>0</td>\n",
              "      <td>0</td>\n",
              "      <td>0</td>\n",
              "      <td>0</td>\n",
              "      <td>0</td>\n",
              "      <td>0</td>\n",
              "      <td>0</td>\n",
              "      <td>0</td>\n",
              "      <td>0</td>\n",
              "      <td>0</td>\n",
              "      <td>0</td>\n",
              "      <td>...</td>\n",
              "      <td>0</td>\n",
              "      <td>0</td>\n",
              "      <td>0</td>\n",
              "      <td>0</td>\n",
              "      <td>0</td>\n",
              "      <td>0</td>\n",
              "      <td>0</td>\n",
              "      <td>0</td>\n",
              "      <td>0</td>\n",
              "      <td>0</td>\n",
              "      <td>0</td>\n",
              "      <td>0</td>\n",
              "      <td>0</td>\n",
              "      <td>0</td>\n",
              "      <td>0</td>\n",
              "      <td>0</td>\n",
              "      <td>0</td>\n",
              "      <td>0</td>\n",
              "      <td>0</td>\n",
              "      <td>0</td>\n",
              "      <td>0</td>\n",
              "      <td>0</td>\n",
              "      <td>0</td>\n",
              "      <td>0</td>\n",
              "      <td>0</td>\n",
              "      <td>0</td>\n",
              "      <td>0</td>\n",
              "      <td>0</td>\n",
              "      <td>0</td>\n",
              "      <td>0</td>\n",
              "      <td>0</td>\n",
              "      <td>0</td>\n",
              "      <td>0</td>\n",
              "      <td>0</td>\n",
              "      <td>0</td>\n",
              "      <td>0</td>\n",
              "      <td>0</td>\n",
              "      <td>0</td>\n",
              "      <td>0</td>\n",
              "      <td>0</td>\n",
              "    </tr>\n",
              "    <tr>\n",
              "      <th>000000PD02000660328</th>\n",
              "      <td>0</td>\n",
              "      <td>0</td>\n",
              "      <td>0</td>\n",
              "      <td>0</td>\n",
              "      <td>0</td>\n",
              "      <td>0</td>\n",
              "      <td>0</td>\n",
              "      <td>0</td>\n",
              "      <td>0</td>\n",
              "      <td>0</td>\n",
              "      <td>0</td>\n",
              "      <td>0</td>\n",
              "      <td>0</td>\n",
              "      <td>0</td>\n",
              "      <td>0</td>\n",
              "      <td>0</td>\n",
              "      <td>0</td>\n",
              "      <td>0</td>\n",
              "      <td>0</td>\n",
              "      <td>0</td>\n",
              "      <td>0</td>\n",
              "      <td>0</td>\n",
              "      <td>0</td>\n",
              "      <td>0</td>\n",
              "      <td>0</td>\n",
              "      <td>0</td>\n",
              "      <td>0</td>\n",
              "      <td>0</td>\n",
              "      <td>0</td>\n",
              "      <td>0</td>\n",
              "      <td>0</td>\n",
              "      <td>0</td>\n",
              "      <td>0</td>\n",
              "      <td>0</td>\n",
              "      <td>0</td>\n",
              "      <td>0</td>\n",
              "      <td>0</td>\n",
              "      <td>0</td>\n",
              "      <td>0</td>\n",
              "      <td>0</td>\n",
              "      <td>...</td>\n",
              "      <td>0</td>\n",
              "      <td>0</td>\n",
              "      <td>0</td>\n",
              "      <td>0</td>\n",
              "      <td>0</td>\n",
              "      <td>0</td>\n",
              "      <td>0</td>\n",
              "      <td>0</td>\n",
              "      <td>0</td>\n",
              "      <td>0</td>\n",
              "      <td>0</td>\n",
              "      <td>0</td>\n",
              "      <td>0</td>\n",
              "      <td>0</td>\n",
              "      <td>0</td>\n",
              "      <td>0</td>\n",
              "      <td>0</td>\n",
              "      <td>0</td>\n",
              "      <td>0</td>\n",
              "      <td>0</td>\n",
              "      <td>0</td>\n",
              "      <td>0</td>\n",
              "      <td>0</td>\n",
              "      <td>0</td>\n",
              "      <td>0</td>\n",
              "      <td>0</td>\n",
              "      <td>0</td>\n",
              "      <td>0</td>\n",
              "      <td>0</td>\n",
              "      <td>0</td>\n",
              "      <td>0</td>\n",
              "      <td>0</td>\n",
              "      <td>0</td>\n",
              "      <td>0</td>\n",
              "      <td>0</td>\n",
              "      <td>0</td>\n",
              "      <td>0</td>\n",
              "      <td>0</td>\n",
              "      <td>0</td>\n",
              "      <td>0</td>\n",
              "    </tr>\n",
              "  </tbody>\n",
              "</table>\n",
              "<p>5 rows × 8866 columns</p>\n",
              "</div>"
            ],
            "text/plain": [
              "Item_Description     1% CHOCOLATE MILK RTD ASP  ...  ZWAN MORTADELLA OLIVE\n",
              "Receipt_Number                                  ...                       \n",
              "000000PD02000660322                          0  ...                      0\n",
              "000000PD02000660323                          0  ...                      0\n",
              "000000PD02000660326                          0  ...                      0\n",
              "000000PD02000660327                          0  ...                      0\n",
              "000000PD02000660328                          0  ...                      0\n",
              "\n",
              "[5 rows x 8866 columns]"
            ]
          },
          "metadata": {
            "tags": []
          },
          "execution_count": 13
        }
      ]
    },
    {
      "cell_type": "code",
      "metadata": {
        "id": "xgrcAYgNxSH0"
      },
      "source": [
        "# we dont need quantity sum we need either has taken or not so if user has taken that item mark as 1 else he has not taken 0.\n",
        "\n",
        "def convert_into_binary(x):\n",
        "    if x > 0:\n",
        "        return 1\n",
        "    else:\n",
        "        return 0"
      ],
      "execution_count": 14,
      "outputs": []
    },
    {
      "cell_type": "code",
      "metadata": {
        "id": "X27PpPsaxSEq"
      },
      "source": [
        "basket_sets = basket.applymap(convert_into_binary)"
      ],
      "execution_count": 15,
      "outputs": []
    },
    {
      "cell_type": "code",
      "metadata": {
        "id": "mS8qtJxgybQy"
      },
      "source": [
        "#call apriori function and pass minimum support here we are passing 0.002. means 0.002 times in total number of transaction that item was present.\n",
        "frequent_itemsets = apriori(basket_sets, min_support=0.002, use_colnames=True)"
      ],
      "execution_count": 16,
      "outputs": []
    },
    {
      "cell_type": "code",
      "metadata": {
        "id": "IX43BLb0ybN8",
        "colab": {
          "base_uri": "https://localhost:8080/",
          "height": 419
        },
        "outputId": "eb4e46aa-6278-4a19-e517-8edf5ec0944b"
      },
      "source": [
        "#it will generate frequent itemsets using two step approch\n",
        "frequent_itemsets"
      ],
      "execution_count": 18,
      "outputs": [
        {
          "output_type": "execute_result",
          "data": {
            "text/html": [
              "<div>\n",
              "<style scoped>\n",
              "    .dataframe tbody tr th:only-of-type {\n",
              "        vertical-align: middle;\n",
              "    }\n",
              "\n",
              "    .dataframe tbody tr th {\n",
              "        vertical-align: top;\n",
              "    }\n",
              "\n",
              "    .dataframe thead th {\n",
              "        text-align: right;\n",
              "    }\n",
              "</style>\n",
              "<table border=\"1\" class=\"dataframe\">\n",
              "  <thead>\n",
              "    <tr style=\"text-align: right;\">\n",
              "      <th></th>\n",
              "      <th>support</th>\n",
              "      <th>itemsets</th>\n",
              "    </tr>\n",
              "  </thead>\n",
              "  <tbody>\n",
              "    <tr>\n",
              "      <th>0</th>\n",
              "      <td>0.003029</td>\n",
              "      <td>(4*WHITE MEAT TUNA IN WATER 3+1)</td>\n",
              "    </tr>\n",
              "    <tr>\n",
              "      <th>1</th>\n",
              "      <td>0.002080</td>\n",
              "      <td>(4*WTE MEAT TUNA IN VEG OIL3+1F)</td>\n",
              "    </tr>\n",
              "    <tr>\n",
              "      <th>2</th>\n",
              "      <td>0.003504</td>\n",
              "      <td>(7 UP SSPET)</td>\n",
              "    </tr>\n",
              "    <tr>\n",
              "      <th>3</th>\n",
              "      <td>0.006971</td>\n",
              "      <td>(7UP CAN)</td>\n",
              "    </tr>\n",
              "    <tr>\n",
              "      <th>4</th>\n",
              "      <td>0.007081</td>\n",
              "      <td>(7UP FREE CAN)</td>\n",
              "    </tr>\n",
              "    <tr>\n",
              "      <th>...</th>\n",
              "      <td>...</td>\n",
              "      <td>...</td>\n",
              "    </tr>\n",
              "    <tr>\n",
              "      <th>345</th>\n",
              "      <td>0.003175</td>\n",
              "      <td>(PEPSI DIET, 7UP FREE CAN)</td>\n",
              "    </tr>\n",
              "    <tr>\n",
              "      <th>346</th>\n",
              "      <td>0.002263</td>\n",
              "      <td>(MINERAL WATER PET, BEER BOTTLE)</td>\n",
              "    </tr>\n",
              "    <tr>\n",
              "      <th>347</th>\n",
              "      <td>0.002555</td>\n",
              "      <td>(EGGS RED, MINERAL WATER PET)</td>\n",
              "    </tr>\n",
              "    <tr>\n",
              "      <th>348</th>\n",
              "      <td>0.002153</td>\n",
              "      <td>(MINERAL WATER PET, LABNEH BALADI)</td>\n",
              "    </tr>\n",
              "    <tr>\n",
              "      <th>349</th>\n",
              "      <td>0.002007</td>\n",
              "      <td>(MINERAL WATER PET, SPARKLING WATER)</td>\n",
              "    </tr>\n",
              "  </tbody>\n",
              "</table>\n",
              "<p>350 rows × 2 columns</p>\n",
              "</div>"
            ],
            "text/plain": [
              "      support                              itemsets\n",
              "0    0.003029      (4*WHITE MEAT TUNA IN WATER 3+1)\n",
              "1    0.002080      (4*WTE MEAT TUNA IN VEG OIL3+1F)\n",
              "2    0.003504                          (7 UP SSPET)\n",
              "3    0.006971                             (7UP CAN)\n",
              "4    0.007081                        (7UP FREE CAN)\n",
              "..        ...                                   ...\n",
              "345  0.003175            (PEPSI DIET, 7UP FREE CAN)\n",
              "346  0.002263      (MINERAL WATER PET, BEER BOTTLE)\n",
              "347  0.002555         (EGGS RED, MINERAL WATER PET)\n",
              "348  0.002153    (MINERAL WATER PET, LABNEH BALADI)\n",
              "349  0.002007  (MINERAL WATER PET, SPARKLING WATER)\n",
              "\n",
              "[350 rows x 2 columns]"
            ]
          },
          "metadata": {
            "tags": []
          },
          "execution_count": 18
        }
      ]
    },
    {
      "cell_type": "markdown",
      "metadata": {
        "id": "noJ94dk-3pUh"
      },
      "source": [
        "# Mining association rule\n"
      ]
    },
    {
      "cell_type": "code",
      "metadata": {
        "id": "eSTyARfzybLY",
        "colab": {
          "base_uri": "https://localhost:8080/",
          "height": 204
        },
        "outputId": "31e6e594-44a1-4f56-db39-104ade6ad0b0"
      },
      "source": [
        "# we have association rules which need to put on frequent itemset. here we are setting based on lift and has minimum lift as 1\n",
        "rules_mlxtend = association_rules(frequent_itemsets, metric=\"lift\", min_threshold=1)\n",
        "rules_mlxtend.head()"
      ],
      "execution_count": 19,
      "outputs": [
        {
          "output_type": "execute_result",
          "data": {
            "text/html": [
              "<div>\n",
              "<style scoped>\n",
              "    .dataframe tbody tr th:only-of-type {\n",
              "        vertical-align: middle;\n",
              "    }\n",
              "\n",
              "    .dataframe tbody tr th {\n",
              "        vertical-align: top;\n",
              "    }\n",
              "\n",
              "    .dataframe thead th {\n",
              "        text-align: right;\n",
              "    }\n",
              "</style>\n",
              "<table border=\"1\" class=\"dataframe\">\n",
              "  <thead>\n",
              "    <tr style=\"text-align: right;\">\n",
              "      <th></th>\n",
              "      <th>antecedents</th>\n",
              "      <th>consequents</th>\n",
              "      <th>antecedent support</th>\n",
              "      <th>consequent support</th>\n",
              "      <th>support</th>\n",
              "      <th>confidence</th>\n",
              "      <th>lift</th>\n",
              "      <th>leverage</th>\n",
              "      <th>conviction</th>\n",
              "    </tr>\n",
              "  </thead>\n",
              "  <tbody>\n",
              "    <tr>\n",
              "      <th>0</th>\n",
              "      <td>(7UP CAN)</td>\n",
              "      <td>(PEPSI CAN)</td>\n",
              "      <td>0.006971</td>\n",
              "      <td>0.013139</td>\n",
              "      <td>0.002664</td>\n",
              "      <td>0.382199</td>\n",
              "      <td>29.088525</td>\n",
              "      <td>0.002573</td>\n",
              "      <td>1.597376</td>\n",
              "    </tr>\n",
              "    <tr>\n",
              "      <th>1</th>\n",
              "      <td>(PEPSI CAN)</td>\n",
              "      <td>(7UP CAN)</td>\n",
              "      <td>0.013139</td>\n",
              "      <td>0.006971</td>\n",
              "      <td>0.002664</td>\n",
              "      <td>0.202778</td>\n",
              "      <td>29.088525</td>\n",
              "      <td>0.002573</td>\n",
              "      <td>1.245611</td>\n",
              "    </tr>\n",
              "    <tr>\n",
              "      <th>2</th>\n",
              "      <td>(PEPSI DIET)</td>\n",
              "      <td>(7UP FREE CAN)</td>\n",
              "      <td>0.010073</td>\n",
              "      <td>0.007081</td>\n",
              "      <td>0.003175</td>\n",
              "      <td>0.315217</td>\n",
              "      <td>44.518770</td>\n",
              "      <td>0.003104</td>\n",
              "      <td>1.449978</td>\n",
              "    </tr>\n",
              "    <tr>\n",
              "      <th>3</th>\n",
              "      <td>(7UP FREE CAN)</td>\n",
              "      <td>(PEPSI DIET)</td>\n",
              "      <td>0.007081</td>\n",
              "      <td>0.010073</td>\n",
              "      <td>0.003175</td>\n",
              "      <td>0.448454</td>\n",
              "      <td>44.518770</td>\n",
              "      <td>0.003104</td>\n",
              "      <td>1.794820</td>\n",
              "    </tr>\n",
              "    <tr>\n",
              "      <th>4</th>\n",
              "      <td>(MINERAL WATER PET)</td>\n",
              "      <td>(BEER BOTTLE)</td>\n",
              "      <td>0.097339</td>\n",
              "      <td>0.018176</td>\n",
              "      <td>0.002263</td>\n",
              "      <td>0.023247</td>\n",
              "      <td>1.279010</td>\n",
              "      <td>0.000494</td>\n",
              "      <td>1.005192</td>\n",
              "    </tr>\n",
              "  </tbody>\n",
              "</table>\n",
              "</div>"
            ],
            "text/plain": [
              "           antecedents     consequents  ...  leverage  conviction\n",
              "0            (7UP CAN)     (PEPSI CAN)  ...  0.002573    1.597376\n",
              "1          (PEPSI CAN)       (7UP CAN)  ...  0.002573    1.245611\n",
              "2         (PEPSI DIET)  (7UP FREE CAN)  ...  0.003104    1.449978\n",
              "3       (7UP FREE CAN)    (PEPSI DIET)  ...  0.003104    1.794820\n",
              "4  (MINERAL WATER PET)   (BEER BOTTLE)  ...  0.000494    1.005192\n",
              "\n",
              "[5 rows x 9 columns]"
            ]
          },
          "metadata": {
            "tags": []
          },
          "execution_count": 19
        }
      ]
    },
    {
      "cell_type": "code",
      "metadata": {
        "id": "56mwxiCJybIz",
        "colab": {
          "base_uri": "https://localhost:8080/",
          "height": 297
        },
        "outputId": "80fdc1fa-9984-4bc8-9734-5bd61a1dd81f"
      },
      "source": [
        "# rules_mlxtend.rename(columns={'antecedents':'lhs','consequents':'rhs'})\n",
        "\n",
        "# as based business use case we can sort based on confidance and lift.\n",
        "rules_mlxtend[ (rules_mlxtend['lift'] >= 1) & (rules_mlxtend['confidence'] >= 0.03) ]"
      ],
      "execution_count": 20,
      "outputs": [
        {
          "output_type": "execute_result",
          "data": {
            "text/html": [
              "<div>\n",
              "<style scoped>\n",
              "    .dataframe tbody tr th:only-of-type {\n",
              "        vertical-align: middle;\n",
              "    }\n",
              "\n",
              "    .dataframe tbody tr th {\n",
              "        vertical-align: top;\n",
              "    }\n",
              "\n",
              "    .dataframe thead th {\n",
              "        text-align: right;\n",
              "    }\n",
              "</style>\n",
              "<table border=\"1\" class=\"dataframe\">\n",
              "  <thead>\n",
              "    <tr style=\"text-align: right;\">\n",
              "      <th></th>\n",
              "      <th>antecedents</th>\n",
              "      <th>consequents</th>\n",
              "      <th>antecedent support</th>\n",
              "      <th>consequent support</th>\n",
              "      <th>support</th>\n",
              "      <th>confidence</th>\n",
              "      <th>lift</th>\n",
              "      <th>leverage</th>\n",
              "      <th>conviction</th>\n",
              "    </tr>\n",
              "  </thead>\n",
              "  <tbody>\n",
              "    <tr>\n",
              "      <th>0</th>\n",
              "      <td>(7UP CAN)</td>\n",
              "      <td>(PEPSI CAN)</td>\n",
              "      <td>0.006971</td>\n",
              "      <td>0.013139</td>\n",
              "      <td>0.002664</td>\n",
              "      <td>0.382199</td>\n",
              "      <td>29.088525</td>\n",
              "      <td>0.002573</td>\n",
              "      <td>1.597376</td>\n",
              "    </tr>\n",
              "    <tr>\n",
              "      <th>1</th>\n",
              "      <td>(PEPSI CAN)</td>\n",
              "      <td>(7UP CAN)</td>\n",
              "      <td>0.013139</td>\n",
              "      <td>0.006971</td>\n",
              "      <td>0.002664</td>\n",
              "      <td>0.202778</td>\n",
              "      <td>29.088525</td>\n",
              "      <td>0.002573</td>\n",
              "      <td>1.245611</td>\n",
              "    </tr>\n",
              "    <tr>\n",
              "      <th>2</th>\n",
              "      <td>(PEPSI DIET)</td>\n",
              "      <td>(7UP FREE CAN)</td>\n",
              "      <td>0.010073</td>\n",
              "      <td>0.007081</td>\n",
              "      <td>0.003175</td>\n",
              "      <td>0.315217</td>\n",
              "      <td>44.518770</td>\n",
              "      <td>0.003104</td>\n",
              "      <td>1.449978</td>\n",
              "    </tr>\n",
              "    <tr>\n",
              "      <th>3</th>\n",
              "      <td>(7UP FREE CAN)</td>\n",
              "      <td>(PEPSI DIET)</td>\n",
              "      <td>0.007081</td>\n",
              "      <td>0.010073</td>\n",
              "      <td>0.003175</td>\n",
              "      <td>0.448454</td>\n",
              "      <td>44.518770</td>\n",
              "      <td>0.003104</td>\n",
              "      <td>1.794820</td>\n",
              "    </tr>\n",
              "    <tr>\n",
              "      <th>5</th>\n",
              "      <td>(BEER BOTTLE)</td>\n",
              "      <td>(MINERAL WATER PET)</td>\n",
              "      <td>0.018176</td>\n",
              "      <td>0.097339</td>\n",
              "      <td>0.002263</td>\n",
              "      <td>0.124498</td>\n",
              "      <td>1.279010</td>\n",
              "      <td>0.000494</td>\n",
              "      <td>1.031021</td>\n",
              "    </tr>\n",
              "    <tr>\n",
              "      <th>6</th>\n",
              "      <td>(EGGS RED)</td>\n",
              "      <td>(MINERAL WATER PET)</td>\n",
              "      <td>0.018066</td>\n",
              "      <td>0.097339</td>\n",
              "      <td>0.002555</td>\n",
              "      <td>0.141414</td>\n",
              "      <td>1.452796</td>\n",
              "      <td>0.000796</td>\n",
              "      <td>1.051334</td>\n",
              "    </tr>\n",
              "    <tr>\n",
              "      <th>9</th>\n",
              "      <td>(LABNEH BALADI)</td>\n",
              "      <td>(MINERAL WATER PET)</td>\n",
              "      <td>0.019344</td>\n",
              "      <td>0.097339</td>\n",
              "      <td>0.002153</td>\n",
              "      <td>0.111321</td>\n",
              "      <td>1.143636</td>\n",
              "      <td>0.000270</td>\n",
              "      <td>1.015733</td>\n",
              "    </tr>\n",
              "    <tr>\n",
              "      <th>11</th>\n",
              "      <td>(SPARKLING WATER)</td>\n",
              "      <td>(MINERAL WATER PET)</td>\n",
              "      <td>0.013468</td>\n",
              "      <td>0.097339</td>\n",
              "      <td>0.002007</td>\n",
              "      <td>0.149051</td>\n",
              "      <td>1.531257</td>\n",
              "      <td>0.000696</td>\n",
              "      <td>1.060770</td>\n",
              "    </tr>\n",
              "  </tbody>\n",
              "</table>\n",
              "</div>"
            ],
            "text/plain": [
              "          antecedents          consequents  ...  leverage  conviction\n",
              "0           (7UP CAN)          (PEPSI CAN)  ...  0.002573    1.597376\n",
              "1         (PEPSI CAN)            (7UP CAN)  ...  0.002573    1.245611\n",
              "2        (PEPSI DIET)       (7UP FREE CAN)  ...  0.003104    1.449978\n",
              "3      (7UP FREE CAN)         (PEPSI DIET)  ...  0.003104    1.794820\n",
              "5       (BEER BOTTLE)  (MINERAL WATER PET)  ...  0.000494    1.031021\n",
              "6          (EGGS RED)  (MINERAL WATER PET)  ...  0.000796    1.051334\n",
              "9     (LABNEH BALADI)  (MINERAL WATER PET)  ...  0.000270    1.015733\n",
              "11  (SPARKLING WATER)  (MINERAL WATER PET)  ...  0.000696    1.060770\n",
              "\n",
              "[8 rows x 9 columns]"
            ]
          },
          "metadata": {
            "tags": []
          },
          "execution_count": 20
        }
      ]
    },
    {
      "cell_type": "code",
      "metadata": {
        "id": "-JIHCmvGKt5b"
      },
      "source": [
        "#plotting output in a graph plot.\n",
        "\n",
        "import networkx as nx\n",
        "import matplotlib.pyplot as plt "
      ],
      "execution_count": 21,
      "outputs": []
    },
    {
      "cell_type": "code",
      "metadata": {
        "id": "P7mm4B4CKzaQ"
      },
      "source": [
        "G = nx.generators.small.krackhardt_kite_graph()"
      ],
      "execution_count": 22,
      "outputs": []
    },
    {
      "cell_type": "code",
      "metadata": {
        "colab": {
          "base_uri": "https://localhost:8080/"
        },
        "id": "VjisRM0cK-0w",
        "outputId": "b03ca33c-b484-481b-9d3f-1d68407fa268"
      },
      "source": [
        "nodes= G.nodes\n",
        "print(G.nodes)"
      ],
      "execution_count": 23,
      "outputs": [
        {
          "output_type": "stream",
          "text": [
            "[0, 1, 2, 3, 4, 5, 6, 7, 8, 9]\n"
          ],
          "name": "stdout"
        }
      ]
    },
    {
      "cell_type": "code",
      "metadata": {
        "colab": {
          "base_uri": "https://localhost:8080/"
        },
        "id": "aeze6vaUR1qU",
        "outputId": "1660b7b4-1819-4353-99a6-a1d589225a71"
      },
      "source": [
        "e=G.edges()\n",
        "print(G.edges())"
      ],
      "execution_count": 24,
      "outputs": [
        {
          "output_type": "stream",
          "text": [
            "[(0, 1), (0, 2), (0, 3), (0, 5), (1, 3), (1, 4), (1, 6), (2, 3), (2, 5), (3, 4), (3, 5), (3, 6), (4, 6), (5, 6), (5, 7), (6, 7), (7, 8), (8, 9)]\n"
          ],
          "name": "stdout"
        }
      ]
    },
    {
      "cell_type": "code",
      "metadata": {
        "colab": {
          "base_uri": "https://localhost:8080/"
        },
        "id": "7bv6o0UBR8FG",
        "outputId": "01927394-1384-415c-bdec-1f1cfe9b7ef9"
      },
      "source": [
        "#Number of Edges in this Network\n",
        "G.number_of_edges()"
      ],
      "execution_count": 25,
      "outputs": [
        {
          "output_type": "execute_result",
          "data": {
            "text/plain": [
              "18"
            ]
          },
          "metadata": {
            "tags": []
          },
          "execution_count": 25
        }
      ]
    },
    {
      "cell_type": "code",
      "metadata": {
        "colab": {
          "base_uri": "https://localhost:8080/"
        },
        "id": "g-lejLpwUBTO",
        "outputId": "c5fcc1b2-5c06-4309-a2fa-f999b46d2911"
      },
      "source": [
        "#Number of Nodes in this Network\n",
        "G.number_of_nodes()"
      ],
      "execution_count": 26,
      "outputs": [
        {
          "output_type": "execute_result",
          "data": {
            "text/plain": [
              "10"
            ]
          },
          "metadata": {
            "tags": []
          },
          "execution_count": 26
        }
      ]
    },
    {
      "cell_type": "markdown",
      "metadata": {
        "id": "7DJ0vkky4pek"
      },
      "source": [
        "# **Visualizing results**"
      ]
    },
    {
      "cell_type": "markdown",
      "metadata": {
        "id": "uwIY8g1R7hwh"
      },
      "source": [
        "### **1. Support vs confidence**\n",
        "\n"
      ]
    },
    {
      "cell_type": "code",
      "metadata": {
        "colab": {
          "base_uri": "https://localhost:8080/",
          "height": 421
        },
        "id": "947wq8e68zgJ",
        "outputId": "aa5fc27a-8e1c-4267-9621-24f71218228f"
      },
      "source": [
        "rules_mlxtend"
      ],
      "execution_count": 37,
      "outputs": [
        {
          "output_type": "execute_result",
          "data": {
            "text/html": [
              "<div>\n",
              "<style scoped>\n",
              "    .dataframe tbody tr th:only-of-type {\n",
              "        vertical-align: middle;\n",
              "    }\n",
              "\n",
              "    .dataframe tbody tr th {\n",
              "        vertical-align: top;\n",
              "    }\n",
              "\n",
              "    .dataframe thead th {\n",
              "        text-align: right;\n",
              "    }\n",
              "</style>\n",
              "<table border=\"1\" class=\"dataframe\">\n",
              "  <thead>\n",
              "    <tr style=\"text-align: right;\">\n",
              "      <th></th>\n",
              "      <th>antecedents</th>\n",
              "      <th>consequents</th>\n",
              "      <th>antecedent support</th>\n",
              "      <th>consequent support</th>\n",
              "      <th>support</th>\n",
              "      <th>confidence</th>\n",
              "      <th>lift</th>\n",
              "      <th>leverage</th>\n",
              "      <th>conviction</th>\n",
              "    </tr>\n",
              "  </thead>\n",
              "  <tbody>\n",
              "    <tr>\n",
              "      <th>0</th>\n",
              "      <td>(7UP CAN)</td>\n",
              "      <td>(PEPSI CAN)</td>\n",
              "      <td>0.006971</td>\n",
              "      <td>0.013139</td>\n",
              "      <td>0.002664</td>\n",
              "      <td>0.382199</td>\n",
              "      <td>29.088525</td>\n",
              "      <td>0.002573</td>\n",
              "      <td>1.597376</td>\n",
              "    </tr>\n",
              "    <tr>\n",
              "      <th>1</th>\n",
              "      <td>(PEPSI CAN)</td>\n",
              "      <td>(7UP CAN)</td>\n",
              "      <td>0.013139</td>\n",
              "      <td>0.006971</td>\n",
              "      <td>0.002664</td>\n",
              "      <td>0.202778</td>\n",
              "      <td>29.088525</td>\n",
              "      <td>0.002573</td>\n",
              "      <td>1.245611</td>\n",
              "    </tr>\n",
              "    <tr>\n",
              "      <th>2</th>\n",
              "      <td>(PEPSI DIET)</td>\n",
              "      <td>(7UP FREE CAN)</td>\n",
              "      <td>0.010073</td>\n",
              "      <td>0.007081</td>\n",
              "      <td>0.003175</td>\n",
              "      <td>0.315217</td>\n",
              "      <td>44.518770</td>\n",
              "      <td>0.003104</td>\n",
              "      <td>1.449978</td>\n",
              "    </tr>\n",
              "    <tr>\n",
              "      <th>3</th>\n",
              "      <td>(7UP FREE CAN)</td>\n",
              "      <td>(PEPSI DIET)</td>\n",
              "      <td>0.007081</td>\n",
              "      <td>0.010073</td>\n",
              "      <td>0.003175</td>\n",
              "      <td>0.448454</td>\n",
              "      <td>44.518770</td>\n",
              "      <td>0.003104</td>\n",
              "      <td>1.794820</td>\n",
              "    </tr>\n",
              "    <tr>\n",
              "      <th>4</th>\n",
              "      <td>(MINERAL WATER PET)</td>\n",
              "      <td>(BEER BOTTLE)</td>\n",
              "      <td>0.097339</td>\n",
              "      <td>0.018176</td>\n",
              "      <td>0.002263</td>\n",
              "      <td>0.023247</td>\n",
              "      <td>1.279010</td>\n",
              "      <td>0.000494</td>\n",
              "      <td>1.005192</td>\n",
              "    </tr>\n",
              "    <tr>\n",
              "      <th>5</th>\n",
              "      <td>(BEER BOTTLE)</td>\n",
              "      <td>(MINERAL WATER PET)</td>\n",
              "      <td>0.018176</td>\n",
              "      <td>0.097339</td>\n",
              "      <td>0.002263</td>\n",
              "      <td>0.124498</td>\n",
              "      <td>1.279010</td>\n",
              "      <td>0.000494</td>\n",
              "      <td>1.031021</td>\n",
              "    </tr>\n",
              "    <tr>\n",
              "      <th>6</th>\n",
              "      <td>(EGGS RED)</td>\n",
              "      <td>(MINERAL WATER PET)</td>\n",
              "      <td>0.018066</td>\n",
              "      <td>0.097339</td>\n",
              "      <td>0.002555</td>\n",
              "      <td>0.141414</td>\n",
              "      <td>1.452796</td>\n",
              "      <td>0.000796</td>\n",
              "      <td>1.051334</td>\n",
              "    </tr>\n",
              "    <tr>\n",
              "      <th>7</th>\n",
              "      <td>(MINERAL WATER PET)</td>\n",
              "      <td>(EGGS RED)</td>\n",
              "      <td>0.097339</td>\n",
              "      <td>0.018066</td>\n",
              "      <td>0.002555</td>\n",
              "      <td>0.026247</td>\n",
              "      <td>1.452796</td>\n",
              "      <td>0.000796</td>\n",
              "      <td>1.008401</td>\n",
              "    </tr>\n",
              "    <tr>\n",
              "      <th>8</th>\n",
              "      <td>(MINERAL WATER PET)</td>\n",
              "      <td>(LABNEH BALADI)</td>\n",
              "      <td>0.097339</td>\n",
              "      <td>0.019344</td>\n",
              "      <td>0.002153</td>\n",
              "      <td>0.022122</td>\n",
              "      <td>1.143636</td>\n",
              "      <td>0.000270</td>\n",
              "      <td>1.002841</td>\n",
              "    </tr>\n",
              "    <tr>\n",
              "      <th>9</th>\n",
              "      <td>(LABNEH BALADI)</td>\n",
              "      <td>(MINERAL WATER PET)</td>\n",
              "      <td>0.019344</td>\n",
              "      <td>0.097339</td>\n",
              "      <td>0.002153</td>\n",
              "      <td>0.111321</td>\n",
              "      <td>1.143636</td>\n",
              "      <td>0.000270</td>\n",
              "      <td>1.015733</td>\n",
              "    </tr>\n",
              "    <tr>\n",
              "      <th>10</th>\n",
              "      <td>(MINERAL WATER PET)</td>\n",
              "      <td>(SPARKLING WATER)</td>\n",
              "      <td>0.097339</td>\n",
              "      <td>0.013468</td>\n",
              "      <td>0.002007</td>\n",
              "      <td>0.020622</td>\n",
              "      <td>1.531257</td>\n",
              "      <td>0.000696</td>\n",
              "      <td>1.007305</td>\n",
              "    </tr>\n",
              "    <tr>\n",
              "      <th>11</th>\n",
              "      <td>(SPARKLING WATER)</td>\n",
              "      <td>(MINERAL WATER PET)</td>\n",
              "      <td>0.013468</td>\n",
              "      <td>0.097339</td>\n",
              "      <td>0.002007</td>\n",
              "      <td>0.149051</td>\n",
              "      <td>1.531257</td>\n",
              "      <td>0.000696</td>\n",
              "      <td>1.060770</td>\n",
              "    </tr>\n",
              "  </tbody>\n",
              "</table>\n",
              "</div>"
            ],
            "text/plain": [
              "            antecedents          consequents  ...  leverage  conviction\n",
              "0             (7UP CAN)          (PEPSI CAN)  ...  0.002573    1.597376\n",
              "1           (PEPSI CAN)            (7UP CAN)  ...  0.002573    1.245611\n",
              "2          (PEPSI DIET)       (7UP FREE CAN)  ...  0.003104    1.449978\n",
              "3        (7UP FREE CAN)         (PEPSI DIET)  ...  0.003104    1.794820\n",
              "4   (MINERAL WATER PET)        (BEER BOTTLE)  ...  0.000494    1.005192\n",
              "5         (BEER BOTTLE)  (MINERAL WATER PET)  ...  0.000494    1.031021\n",
              "6            (EGGS RED)  (MINERAL WATER PET)  ...  0.000796    1.051334\n",
              "7   (MINERAL WATER PET)           (EGGS RED)  ...  0.000796    1.008401\n",
              "8   (MINERAL WATER PET)      (LABNEH BALADI)  ...  0.000270    1.002841\n",
              "9       (LABNEH BALADI)  (MINERAL WATER PET)  ...  0.000270    1.015733\n",
              "10  (MINERAL WATER PET)    (SPARKLING WATER)  ...  0.000696    1.007305\n",
              "11    (SPARKLING WATER)  (MINERAL WATER PET)  ...  0.000696    1.060770\n",
              "\n",
              "[12 rows x 9 columns]"
            ]
          },
          "metadata": {
            "tags": []
          },
          "execution_count": 37
        }
      ]
    },
    {
      "cell_type": "code",
      "metadata": {
        "colab": {
          "base_uri": "https://localhost:8080/",
          "height": 295
        },
        "id": "6775iaMA4oUF",
        "outputId": "a19a60a9-cd28-4252-9e04-4745e5ccfb4c"
      },
      "source": [
        "plt.scatter(rules_mlxtend['support'], rules_mlxtend['confidence'], alpha=0.5)\n",
        "plt.xlabel('support')\n",
        "plt.ylabel('Confidence')\n",
        "plt.title('Support vs Confidence')\n",
        "plt.show()"
      ],
      "execution_count": 39,
      "outputs": [
        {
          "output_type": "display_data",
          "data": {
            "image/png": "[encoded data removed]",
            "text/plain": [
              "<Figure size 432x288 with 1 Axes>"
            ]
          },
          "metadata": {
            "tags": [],
            "needs_background": "light"
          }
        }
      ]
    },
    {
      "cell_type": "markdown",
      "metadata": {
        "id": "GVCT5qnW9hKk"
      },
      "source": [
        "### **2.Support vs lift**"
      ]
    },
    {
      "cell_type": "code",
      "metadata": {
        "colab": {
          "base_uri": "https://localhost:8080/",
          "height": 295
        },
        "id": "ML1tv3nP9g73",
        "outputId": "62100c83-8444-44a9-c569-e0127cd4f5ec"
      },
      "source": [
        "plt.scatter(rules_mlxtend['support'], rules_mlxtend['lift'], alpha=0.5)\n",
        "plt.xlabel('support')\n",
        "plt.ylabel('lift')\n",
        "plt.title('Support vs Lift')\n",
        "plt.show()"
      ],
      "execution_count": 46,
      "outputs": [
        {
          "output_type": "display_data",
          "data": {
            "image/png": "[encoded data removed]",
            "text/plain": [
              "<Figure size 432x288 with 1 Axes>"
            ]
          },
          "metadata": {
            "tags": [],
            "needs_background": "light"
          }
        }
      ]
    },
    {
      "cell_type": "markdown",
      "metadata": {
        "id": "jlrjqucb7s5k"
      },
      "source": [
        "### **3. Lift vs confidence**"
      ]
    },
    {
      "cell_type": "code",
      "metadata": {
        "colab": {
          "base_uri": "https://localhost:8080/",
          "height": 299
        },
        "id": "FwPw_oMi4oRf",
        "outputId": "a9c00df1-3ca3-4059-bb89-a16e8b1970e4"
      },
      "source": [
        "fit = np.polyfit(rules_mlxtend['lift'], rules_mlxtend['confidence'], 1)\n",
        "fit_fn = np.poly1d(fit)\n",
        "plt.plot(rules_mlxtend['lift'], rules_mlxtend['confidence'], 'yo', rules_mlxtend['lift'], \n",
        " fit_fn(rules_mlxtend['lift']))"
      ],
      "execution_count": 45,
      "outputs": [
        {
          "output_type": "execute_result",
          "data": {
            "text/plain": [
              "[<matplotlib.lines.Line2D at 0x7ff1683307d0>,\n",
              " <matplotlib.lines.Line2D at 0x7ff168330890>]"
            ]
          },
          "metadata": {
            "tags": []
          },
          "execution_count": 45
        },
        {
          "output_type": "display_data",
          "data": {
            "image/png": "[encoded data removed]",
            "text/plain": [
              "<Figure size 432x288 with 1 Axes>"
            ]
          },
          "metadata": {
            "tags": [],
            "needs_background": "light"
          }
        }
      ]
    },
    {
      "cell_type": "code",
      "metadata": {
        "id": "VhU6ftG3-Eg2"
      },
      "source": [
        ""
      ],
      "execution_count": null,
      "outputs": []
    },
    {
      "cell_type": "markdown",
      "metadata": {
        "id": "qZDI1bNs4no5"
      },
      "source": [
        "# EXTRA"
      ]
    },
    {
      "cell_type": "markdown",
      "metadata": {
        "id": "MDvNPFjWUKTM"
      },
      "source": [
        "# Drawing the network\n",
        "\n",
        "Drawing the newtork with the given info: Note that label is present on the nodes is just a number which we have in edges.\n",
        "nx is alias for networkx package that we have imported on the otp and draw is used to draw the network \n",
        "plt: alias for matplotlib.pyplot to show inline in notebook"
      ]
    },
    {
      "cell_type": "code",
      "metadata": {
        "colab": {
          "base_uri": "https://localhost:8080/",
          "height": 319
        },
        "id": "mIsaRS4bR8Ch",
        "outputId": "75656970-6fb0-46b8-eedc-9ad894606fda"
      },
      "source": [
        "nx.draw(G,with_labels=1)\n",
        "plt.show()"
      ],
      "execution_count": null,
      "outputs": [
        {
          "output_type": "display_data",
          "data": {
            "image/png": "[encoded data removed]",
            "text/plain": [
              "<Figure size 432x288 with 1 Axes>"
            ]
          },
          "metadata": {
            "tags": []
          }
        }
      ]
    },
    {
      "cell_type": "code",
      "metadata": {
        "id": "p80H2OqySRIQ",
        "colab": {
          "base_uri": "https://localhost:8080/"
        },
        "outputId": "a88ecc78-d2d5-49ee-f383-603e14453052"
      },
      "source": [
        "#Lets add name to node and try to show them in network\n",
        "#I will create an object to hold all the noeds and its name, which we will apply to the network while drawing it\n",
        "items = {0:\"null\",1:\"PepsiCan\",2:\"7UPcan\",3:\"7up_free_can\",4:\"PepsiDiet\",5:\"BeerBottle\",6:\"Mineral_water\",7:\"eggs_red\",8:\"labneh_baladi\",9:\"sparkling_water\"}\n",
        "items"
      ],
      "execution_count": null,
      "outputs": [
        {
          "output_type": "execute_result",
          "data": {
            "text/plain": [
              "{0: 'null',\n",
              " 1: 'PepsiCan',\n",
              " 2: '7UPcan',\n",
              " 3: '7up_free_can',\n",
              " 4: 'PepsiDiet',\n",
              " 5: 'BeerBottle',\n",
              " 6: 'Mineral_water',\n",
              " 7: 'eggs_red',\n",
              " 8: 'labneh_baladi',\n",
              " 9: 'sparkling_water'}"
            ]
          },
          "metadata": {
            "tags": []
          },
          "execution_count": 40
        }
      ]
    },
    {
      "cell_type": "code",
      "metadata": {
        "colab": {
          "base_uri": "https://localhost:8080/"
        },
        "id": "rJrLQTBzccdW",
        "outputId": "0e76a14a-e7d1-472f-fc3b-c97b9849c032"
      },
      "source": [
        "#Creating the graph object \n",
        "G1= nx.Graph()\n",
        "\n",
        "#add all edges to graph\n",
        "G1.add_edges_from(e)\n",
        "\n",
        "#edges for named netwrok:\n",
        "print(G1.edges())"
      ],
      "execution_count": null,
      "outputs": [
        {
          "output_type": "stream",
          "text": [
            "[(0, 1), (0, 2), (0, 3), (0, 5), (1, 3), (1, 4), (1, 6), (2, 3), (2, 5), (3, 4), (3, 5), (3, 6), (5, 6), (5, 7), (4, 6), (6, 7), (7, 8), (8, 9)]\n"
          ],
          "name": "stdout"
        }
      ]
    },
    {
      "cell_type": "code",
      "metadata": {
        "id": "W00azdIwcbun"
      },
      "source": [
        "#we will see use relabel_node method and pass the Graph object with name object in this \n",
        "H= nx.relabel_nodes(G1,items) "
      ],
      "execution_count": null,
      "outputs": []
    },
    {
      "cell_type": "code",
      "metadata": {
        "colab": {
          "base_uri": "https://localhost:8080/"
        },
        "id": "IpvQ-NZmcbse",
        "outputId": "ae5439c0-1460-4bc6-c0ad-27870900f161"
      },
      "source": [
        "print(H.nodes())"
      ],
      "execution_count": null,
      "outputs": [
        {
          "output_type": "stream",
          "text": [
            "['null', 'PepsiCan', '7UPcan', '7up_free_can', 'BeerBottle', 'PepsiDiet', 'Mineral_water', 'eggs_red', 'labneh_baladi', 'sparkling_water']\n"
          ],
          "name": "stdout"
        }
      ]
    },
    {
      "cell_type": "code",
      "metadata": {
        "colab": {
          "base_uri": "https://localhost:8080/"
        },
        "id": "zF3Dox9_cbqI",
        "outputId": "25cada70-035f-4a61-9fea-93db9c3e7228"
      },
      "source": [
        "print(H.edges())"
      ],
      "execution_count": null,
      "outputs": [
        {
          "output_type": "stream",
          "text": [
            "[('null', 'PepsiCan'), ('null', '7UPcan'), ('null', '7up_free_can'), ('null', 'BeerBottle'), ('PepsiCan', '7up_free_can'), ('PepsiCan', 'PepsiDiet'), ('PepsiCan', 'Mineral_water'), ('7UPcan', '7up_free_can'), ('7UPcan', 'BeerBottle'), ('7up_free_can', 'PepsiDiet'), ('7up_free_can', 'BeerBottle'), ('7up_free_can', 'Mineral_water'), ('BeerBottle', 'Mineral_water'), ('BeerBottle', 'eggs_red'), ('PepsiDiet', 'Mineral_water'), ('Mineral_water', 'eggs_red'), ('eggs_red', 'labneh_baladi'), ('labneh_baladi', 'sparkling_water')]\n"
          ],
          "name": "stdout"
        }
      ]
    },
    {
      "cell_type": "code",
      "metadata": {
        "colab": {
          "base_uri": "https://localhost:8080/",
          "height": 319
        },
        "id": "lNmqTZtNfNKe",
        "outputId": "b86ec2f9-c808-4bf2-9f09-55b4cc969e0c"
      },
      "source": [
        "nx.draw(H, with_labels=1)\n",
        "plt.show()"
      ],
      "execution_count": null,
      "outputs": [
        {
          "output_type": "display_data",
          "data": {
            "image/png": "[encoded data removed]",
            "text/plain": [
              "<Figure size 432x288 with 1 Axes>"
            ]
          },
          "metadata": {
            "tags": []
          }
        }
      ]
    },
    {
      "cell_type": "code",
      "metadata": {
        "id": "EbQvfssQfNIQ"
      },
      "source": [
        ""
      ],
      "execution_count": null,
      "outputs": []
    },
    {
      "cell_type": "code",
      "metadata": {
        "id": "fEC6wranfNFk"
      },
      "source": [
        ""
      ],
      "execution_count": null,
      "outputs": []
    },
    {
      "cell_type": "code",
      "metadata": {
        "colab": {
          "base_uri": "https://localhost:8080/",
          "height": 264
        },
        "id": "f6uSCvynK-ye",
        "outputId": "662ceb63-bcc5-4319-db00-19b83e2937c3"
      },
      "source": [
        "plt.hist([v for k,v in nx.degree(G)]);"
      ],
      "execution_count": null,
      "outputs": [
        {
          "output_type": "display_data",
          "data": {
            "image/png": "[encoded data removed]",
            "text/plain": [
              "<Figure size 432x288 with 1 Axes>"
            ]
          },
          "metadata": {
            "tags": [],
            "needs_background": "light"
          }
        }
      ]
    },
    {
      "cell_type": "code",
      "metadata": {
        "colab": {
          "base_uri": "https://localhost:8080/",
          "height": 264
        },
        "id": "zOcqQXxHK-wM",
        "outputId": "711d53f6-fc8b-489b-dd3c-8cf4f1d06491"
      },
      "source": [
        "plt.hist(nx.centrality.closeness_centrality(G).values());"
      ],
      "execution_count": null,
      "outputs": [
        {
          "output_type": "display_data",
          "data": {
            "image/png": "[encoded data removed]",
            "text/plain": [
              "<Figure size 432x288 with 1 Axes>"
            ]
          },
          "metadata": {
            "tags": [],
            "needs_background": "light"
          }
        }
      ]
    },
    {
      "cell_type": "code",
      "metadata": {
        "colab": {
          "base_uri": "https://localhost:8080/"
        },
        "id": "aOopG4qXK-uC",
        "outputId": "0b58bc3c-e2f2-46de-f896-20d918622471"
      },
      "source": [
        "nx.diameter(G)"
      ],
      "execution_count": null,
      "outputs": [
        {
          "output_type": "execute_result",
          "data": {
            "text/plain": [
              "6"
            ]
          },
          "metadata": {
            "tags": []
          },
          "execution_count": 38
        }
      ]
    },
    {
      "cell_type": "code",
      "metadata": {
        "colab": {
          "base_uri": "https://localhost:8080/"
        },
        "id": "rsb6b1z-K-rS",
        "outputId": "e7270925-6a43-4408-c038-78df368615a0"
      },
      "source": [
        "nx.cluster.average_clustering(G)"
      ],
      "execution_count": null,
      "outputs": [
        {
          "output_type": "execute_result",
          "data": {
            "text/plain": [
              "0.08755299480585521"
            ]
          },
          "metadata": {
            "tags": []
          },
          "execution_count": 39
        }
      ]
    },
    {
      "cell_type": "code",
      "metadata": {
        "id": "mzU4lYJRybDQ"
      },
      "source": [
        "nodes = list(range(100))\n",
        "\n",
        "df = pd.DataFrame({'from': np.random.choice(nodes, 100),\n",
        "                   'to': np.random.choice(nodes,100)\n",
        "                  })"
      ],
      "execution_count": null,
      "outputs": []
    },
    {
      "cell_type": "code",
      "metadata": {
        "id": "tbW-yzFuya_l",
        "colab": {
          "base_uri": "https://localhost:8080/",
          "height": 414
        },
        "outputId": "9ffcacc2-799c-4e97-ae88-e184ec205a7c"
      },
      "source": [
        "df"
      ],
      "execution_count": null,
      "outputs": [
        {
          "output_type": "execute_result",
          "data": {
            "text/html": [
              "<div>\n",
              "<style scoped>\n",
              "    .dataframe tbody tr th:only-of-type {\n",
              "        vertical-align: middle;\n",
              "    }\n",
              "\n",
              "    .dataframe tbody tr th {\n",
              "        vertical-align: top;\n",
              "    }\n",
              "\n",
              "    .dataframe thead th {\n",
              "        text-align: right;\n",
              "    }\n",
              "</style>\n",
              "<table border=\"1\" class=\"dataframe\">\n",
              "  <thead>\n",
              "    <tr style=\"text-align: right;\">\n",
              "      <th></th>\n",
              "      <th>from</th>\n",
              "      <th>to</th>\n",
              "    </tr>\n",
              "  </thead>\n",
              "  <tbody>\n",
              "    <tr>\n",
              "      <th>0</th>\n",
              "      <td>0</td>\n",
              "      <td>30</td>\n",
              "    </tr>\n",
              "    <tr>\n",
              "      <th>1</th>\n",
              "      <td>62</td>\n",
              "      <td>57</td>\n",
              "    </tr>\n",
              "    <tr>\n",
              "      <th>2</th>\n",
              "      <td>77</td>\n",
              "      <td>81</td>\n",
              "    </tr>\n",
              "    <tr>\n",
              "      <th>3</th>\n",
              "      <td>66</td>\n",
              "      <td>33</td>\n",
              "    </tr>\n",
              "    <tr>\n",
              "      <th>4</th>\n",
              "      <td>58</td>\n",
              "      <td>75</td>\n",
              "    </tr>\n",
              "    <tr>\n",
              "      <th>...</th>\n",
              "      <td>...</td>\n",
              "      <td>...</td>\n",
              "    </tr>\n",
              "    <tr>\n",
              "      <th>95</th>\n",
              "      <td>57</td>\n",
              "      <td>26</td>\n",
              "    </tr>\n",
              "    <tr>\n",
              "      <th>96</th>\n",
              "      <td>53</td>\n",
              "      <td>38</td>\n",
              "    </tr>\n",
              "    <tr>\n",
              "      <th>97</th>\n",
              "      <td>3</td>\n",
              "      <td>79</td>\n",
              "    </tr>\n",
              "    <tr>\n",
              "      <th>98</th>\n",
              "      <td>40</td>\n",
              "      <td>90</td>\n",
              "    </tr>\n",
              "    <tr>\n",
              "      <th>99</th>\n",
              "      <td>44</td>\n",
              "      <td>64</td>\n",
              "    </tr>\n",
              "  </tbody>\n",
              "</table>\n",
              "<p>100 rows × 2 columns</p>\n",
              "</div>"
            ],
            "text/plain": [
              "    from  to\n",
              "0      0  30\n",
              "1     62  57\n",
              "2     77  81\n",
              "3     66  33\n",
              "4     58  75\n",
              "..   ...  ..\n",
              "95    57  26\n",
              "96    53  38\n",
              "97     3  79\n",
              "98    40  90\n",
              "99    44  64\n",
              "\n",
              "[100 rows x 2 columns]"
            ]
          },
          "metadata": {
            "tags": []
          },
          "execution_count": 42
        }
      ]
    },
    {
      "cell_type": "code",
      "metadata": {
        "id": "rs0d3Tx9ya6n"
      },
      "source": [
        "G = nx.from_pandas_edgelist(df, source='from', target='to')"
      ],
      "execution_count": null,
      "outputs": []
    },
    {
      "cell_type": "code",
      "metadata": {
        "id": "gxuzrh1jyayl",
        "colab": {
          "base_uri": "https://localhost:8080/",
          "height": 264
        },
        "outputId": "c8f973da-e8ed-4f8d-856a-86ac60686d44"
      },
      "source": [
        "plt.hist([v for k,v in nx.degree(G)]);"
      ],
      "execution_count": null,
      "outputs": [
        {
          "output_type": "display_data",
          "data": {
            "image/png": "[encoded data removed]",
            "text/plain": [
              "<Figure size 432x288 with 1 Axes>"
            ]
          },
          "metadata": {
            "tags": [],
            "needs_background": "light"
          }
        }
      ]
    },
    {
      "cell_type": "code",
      "metadata": {
        "colab": {
          "base_uri": "https://localhost:8080/"
        },
        "id": "f9SvgbqLZIF3",
        "outputId": "cd3570d0-267d-4c7f-c20f-70bac2359171"
      },
      "source": [
        "!pip install fpgrowth_py\n"
      ],
      "execution_count": null,
      "outputs": [
        {
          "output_type": "stream",
          "text": [
            "Collecting fpgrowth_py\n",
            "  Downloading https://files.pythonhosted.org/packages/18/51/e0cc561ab4a1079c1fad85a43bfa1a95fbe1f4f27c866d12b4d79f95b1ac/fpgrowth_py-1.0.0-py3-none-any.whl\n",
            "Installing collected packages: fpgrowth-py\n",
            "Successfully installed fpgrowth-py-1.0.0\n"
          ],
          "name": "stdout"
        }
      ]
    },
    {
      "cell_type": "code",
      "metadata": {
        "id": "pPO1vQv-yaq9",
        "colab": {
          "base_uri": "https://localhost:8080/"
        },
        "outputId": "10db4873-8560-4549-a146-6d424feeb751"
      },
      "source": [
        "from collections import defaultdict, OrderedDict\n",
        "from csv import reader\n",
        "from itertools import chain, combinations\n",
        "from optparse import OptionParser\n",
        "from fpgrowth_py.utils import *\n",
        "\n",
        "def fpgrowth(itemSetList, minSupRatio, minConf):\n",
        "    frequency = getFrequencyFromList(itemSetList)\n",
        "    minSup = len(itemSetList) * minSupRatio\n",
        "    fpTree, headerTable = constructTree(itemSetList, frequency, minSup)\n",
        "    if(fpTree == None):\n",
        "        print('No frequent item set')\n",
        "    else:\n",
        "        freqItems = []\n",
        "        mineTree(headerTable, minSup, set(), freqItems)\n",
        "        rules = associationRule(freqItems, itemSetList, minConf)\n",
        "        return freqItems, rules\n",
        "\n",
        "def fpgrowthFromFile(fname, minSupRatio, minConf):\n",
        "    itemSetList, frequency = getFromFile(fname)\n",
        "    minSup = len(itemSetList) * minSupRatio\n",
        "    fpTree, headerTable = constructTree(itemSetList, frequency, minSup)\n",
        "    if(fpTree == None):\n",
        "        print('No frequent item set')\n",
        "    else:\n",
        "        freqItems = []\n",
        "        mineTree(headerTable, minSup, set(), freqItems)\n",
        "        rules = associationRule(freqItems, itemSetList, minConf)\n",
        "        return freqItems, rules\n",
        "\n",
        "if __name__ == \"__main__\":\n",
        "    optparser = OptionParser()\n",
        "    optparser.add_option('-f', '--inputFile',\n",
        "                         dest='inputFile',\n",
        "                         help='CSV filename',\n",
        "                         default=None)\n",
        "    optparser.add_option('-s', '--minSupport',\n",
        "                         dest='minSup',\n",
        "                         help='Min support (float)',\n",
        "                         default=0.003,\n",
        "                         type='float')\n",
        "    optparser.add_option('-c', '--minConfidence',\n",
        "                         dest='minConf',\n",
        "                         help='Min confidence (float)',\n",
        "                         default=0.003,\n",
        "                         type='float')\n",
        "\n",
        "    (options, args) = optparser.parse_args()\n",
        "\n",
        "    frequent_itemsets, rules_mlxtend = fpgrowthFromFile(\n",
        "        options.inputFile, options.minSup, options.minConf)\n",
        "\n",
        "    print(frequent_itemsets)\n",
        "    print(rules_mlxtend)"
      ],
      "execution_count": null,
      "outputs": [
        {
          "output_type": "stream",
          "text": [
            "[{'{'}, {'  \"shell_port\": 43759'}, {'  \"iopub_port\": 60851'}, {'  \"stdin_port\": 56205'}, {'  \"control_port\": 60519'}, {'  \"hb_port\": 37065'}, {'  \"ip\": \"127.0.0.1\"'}, {'  \"key\": \"\"'}, {'  \"transport\": \"tcp\"'}, {'  \"signature_scheme\": \"hmac-sha256\"'}, {'  \"kernel_name\": \"\"'}, {'}'}]\n",
            "[]\n"
          ],
          "name": "stdout"
        }
      ]
    },
    {
      "cell_type": "code",
      "metadata": {
        "id": "JTExC2k9yao_"
      },
      "source": [
        ""
      ],
      "execution_count": null,
      "outputs": []
    },
    {
      "cell_type": "code",
      "metadata": {
        "id": "Vc82aiNeyam3"
      },
      "source": [
        ""
      ],
      "execution_count": null,
      "outputs": []
    },
    {
      "cell_type": "code",
      "metadata": {
        "id": "OVb6gH1Kyakw"
      },
      "source": [
        ""
      ],
      "execution_count": null,
      "outputs": []
    },
    {
      "cell_type": "code",
      "metadata": {
        "id": "PHvQR85Xyahu"
      },
      "source": [
        ""
      ],
      "execution_count": null,
      "outputs": []
    }
  ]
}