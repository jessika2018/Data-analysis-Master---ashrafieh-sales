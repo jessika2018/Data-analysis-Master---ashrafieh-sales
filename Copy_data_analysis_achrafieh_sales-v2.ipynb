{
  "nbformat": 4,
  "nbformat_minor": 0,
  "metadata": {
    "colab": {
      "name": "Copy_data_analysis_achrafieh_sales.ipynb",
      "provenance": [],
      "collapsed_sections": [],
      "authorship_tag": "ABX9TyPts+qLyiKogcG61sxiBwRh",
      "include_colab_link": true
    },
    "kernelspec": {
      "name": "python3",
      "display_name": "Python 3"
    },
    "language_info": {
      "name": "python"
    }
  },
  "cells": [
    {
      "cell_type": "markdown",
      "metadata": {
        "id": "view-in-github",
        "colab_type": "text"
      },
      "source": [
        "<a href=\"https://colab.research.google.com/github/jessika2018/Data-analysis-Master---ashrafieh-sales/blob/main/Copy_data_analysis_achrafieh_sales-v2.ipynb\" target=\"_parent\"><img src=\"https://colab.research.google.com/assets/colab-badge.svg\" alt=\"Open In Colab\"/></a>"
      ]
    },
    {
      "cell_type": "markdown",
      "metadata": {
        "id": "z_K-ezs2MEvq"
      },
      "source": [
        "# Analysis on Spinneys - Ashrafieh Sales"
      ]
    },
    {
      "cell_type": "markdown",
      "metadata": {
        "id": "Nwh0QahWMbp6"
      },
      "source": [
        "Spinneys is a popular retailer company that people buy across the word its product. In this EDA (Exploratary data Analysis), I will explore the top 10 products sold the most  on X months and the top 10 product sold the least on x. I will show the dataset in a graphs using matplotlib and seaborn. Consequently we will take desicions by the end of the analysis. \n",
        "The hypothesis suggested is:\n",
        " create new compagin including the most frequent itemset purchased along one itemset that purchsed the least.\n",
        "\n"
      ]
    },
    {
      "cell_type": "markdown",
      "metadata": {
        "id": "3DFpYSUjOdIC"
      },
      "source": [
        "# Package install and Import\n",
        "First we will install and import necessary packages"
      ]
    },
    {
      "cell_type": "code",
      "metadata": {
        "id": "IYynZ1IvDcVd"
      },
      "source": [
        "!pip install jovian --upgrade --quiet"
      ],
      "execution_count": 155,
      "outputs": []
    },
    {
      "cell_type": "code",
      "metadata": {
        "colab": {
          "base_uri": "https://localhost:8080/"
        },
        "id": "i6KlK279mrp6",
        "outputId": "a7b3777a-4407-44e1-b75c-34550a0ca75e"
      },
      "source": [
        "pip install seaborn"
      ],
      "execution_count": 156,
      "outputs": [
        {
          "output_type": "stream",
          "text": [
            "Requirement already satisfied: seaborn in /usr/local/lib/python3.7/dist-packages (0.11.1)\n",
            "Requirement already satisfied: numpy>=1.15 in /usr/local/lib/python3.7/dist-packages (from seaborn) (1.19.5)\n",
            "Requirement already satisfied: scipy>=1.0 in /usr/local/lib/python3.7/dist-packages (from seaborn) (1.4.1)\n",
            "Requirement already satisfied: matplotlib>=2.2 in /usr/local/lib/python3.7/dist-packages (from seaborn) (3.2.2)\n",
            "Requirement already satisfied: pandas>=0.23 in /usr/local/lib/python3.7/dist-packages (from seaborn) (1.1.5)\n",
            "Requirement already satisfied: cycler>=0.10 in /usr/local/lib/python3.7/dist-packages (from matplotlib>=2.2->seaborn) (0.10.0)\n",
            "Requirement already satisfied: python-dateutil>=2.1 in /usr/local/lib/python3.7/dist-packages (from matplotlib>=2.2->seaborn) (2.8.1)\n",
            "Requirement already satisfied: kiwisolver>=1.0.1 in /usr/local/lib/python3.7/dist-packages (from matplotlib>=2.2->seaborn) (1.3.1)\n",
            "Requirement already satisfied: pyparsing!=2.0.4,!=2.1.2,!=2.1.6,>=2.0.1 in /usr/local/lib/python3.7/dist-packages (from matplotlib>=2.2->seaborn) (2.4.7)\n",
            "Requirement already satisfied: pytz>=2017.2 in /usr/local/lib/python3.7/dist-packages (from pandas>=0.23->seaborn) (2018.9)\n",
            "Requirement already satisfied: six in /usr/local/lib/python3.7/dist-packages (from cycler>=0.10->matplotlib>=2.2->seaborn) (1.15.0)\n"
          ],
          "name": "stdout"
        }
      ]
    },
    {
      "cell_type": "code",
      "metadata": {
        "id": "y1sXJR2iEmvI"
      },
      "source": [
        "import jovian\n",
        "import pandas as pd\n",
        "import numpy as np\n",
        "import matplotlib.pyplot as plt\n",
        "import seaborn as sns\n",
        "%matplotlib inline\n",
        "import matplotlib\n",
        "import matplotlib.pyplot as plt\n",
        "import os "
      ],
      "execution_count": 157,
      "outputs": []
    },
    {
      "cell_type": "markdown",
      "metadata": {
        "id": "KUM3tF6vOmAd"
      },
      "source": [
        "# Loading the dataset  \n",
        "Now we are ready to load the data set. We will do this using the standard read_excel command from Pandas. Let's take a glimnpse at how the data looks like \n"
      ]
    },
    {
      "cell_type": "code",
      "metadata": {
        "id": "gtWjboOiHTA2",
        "colab": {
          "base_uri": "https://localhost:8080/",
          "height": 306
        },
        "outputId": "de6dbff0-d01f-48cb-e179-a20f5dcbcf39"
      },
      "source": [
        "spinneys_dataset_df = pd.read_excel('/content/jessica_data/Ashrafieh_Sales.xlsx')\n",
        "spinneys_dataset_df.head()"
      ],
      "execution_count": 158,
      "outputs": [
        {
          "output_type": "execute_result",
          "data": {
            "text/html": [
              "<div>\n",
              "<style scoped>\n",
              "    .dataframe tbody tr th:only-of-type {\n",
              "        vertical-align: middle;\n",
              "    }\n",
              "\n",
              "    .dataframe tbody tr th {\n",
              "        vertical-align: top;\n",
              "    }\n",
              "\n",
              "    .dataframe thead th {\n",
              "        text-align: right;\n",
              "    }\n",
              "</style>\n",
              "<table border=\"1\" class=\"dataframe\">\n",
              "  <thead>\n",
              "    <tr style=\"text-align: right;\">\n",
              "      <th></th>\n",
              "      <th>Year</th>\n",
              "      <th>Month</th>\n",
              "      <th>Store Name</th>\n",
              "      <th>Receipt Number</th>\n",
              "      <th>Category</th>\n",
              "      <th>Group</th>\n",
              "      <th>Sub Group</th>\n",
              "      <th>Item Number</th>\n",
              "      <th>Item Family</th>\n",
              "      <th>Item Description</th>\n",
              "      <th>Product Size</th>\n",
              "      <th>Price</th>\n",
              "      <th>Sales Volume</th>\n",
              "      <th>Sales Value $</th>\n",
              "    </tr>\n",
              "  </thead>\n",
              "  <tbody>\n",
              "    <tr>\n",
              "      <th>0</th>\n",
              "      <td>2019</td>\n",
              "      <td>Jul</td>\n",
              "      <td>Ashrafieh</td>\n",
              "      <td>000000PD02000660322</td>\n",
              "      <td>MEAL SOLUTIONS</td>\n",
              "      <td>HOT BEVERAGES</td>\n",
              "      <td>FLAVORED INSTANT COFFEE</td>\n",
              "      <td>264164</td>\n",
              "      <td>NESCAFE</td>\n",
              "      <td>NESCAFE 3IN1 CLASSIC BAG</td>\n",
              "      <td>30*20G</td>\n",
              "      <td>250.0</td>\n",
              "      <td>2.0</td>\n",
              "      <td>0.331675</td>\n",
              "    </tr>\n",
              "    <tr>\n",
              "      <th>1</th>\n",
              "      <td>2019</td>\n",
              "      <td>Jul</td>\n",
              "      <td>Ashrafieh</td>\n",
              "      <td>000000PD02000660322</td>\n",
              "      <td>BEVERAGES &amp; READY TO EAT</td>\n",
              "      <td>BISCUITS</td>\n",
              "      <td>WAFERS</td>\n",
              "      <td>104874</td>\n",
              "      <td>GANDOUR</td>\n",
              "      <td>GANDOUR UNICA</td>\n",
              "      <td>27G</td>\n",
              "      <td>250.0</td>\n",
              "      <td>1.0</td>\n",
              "      <td>0.165837</td>\n",
              "    </tr>\n",
              "    <tr>\n",
              "      <th>2</th>\n",
              "      <td>2019</td>\n",
              "      <td>Jul</td>\n",
              "      <td>Ashrafieh</td>\n",
              "      <td>000000PD02000660322</td>\n",
              "      <td>BEVERAGES &amp; READY TO EAT</td>\n",
              "      <td>CAKES</td>\n",
              "      <td>MINI CAKES</td>\n",
              "      <td>135173</td>\n",
              "      <td>ENG.CAKE</td>\n",
              "      <td>CAKE PLAIN</td>\n",
              "      <td>65G</td>\n",
              "      <td>595.0</td>\n",
              "      <td>1.0</td>\n",
              "      <td>0.394693</td>\n",
              "    </tr>\n",
              "    <tr>\n",
              "      <th>3</th>\n",
              "      <td>2019</td>\n",
              "      <td>Jul</td>\n",
              "      <td>Ashrafieh</td>\n",
              "      <td>000000PD02000660322</td>\n",
              "      <td>BEVERAGES &amp; READY TO EAT</td>\n",
              "      <td>CAKES</td>\n",
              "      <td>CROISSANT</td>\n",
              "      <td>479487</td>\n",
              "      <td>KARUZO</td>\n",
              "      <td>CROISSANT CHESSECAKE</td>\n",
              "      <td>62G</td>\n",
              "      <td>750.0</td>\n",
              "      <td>1.0</td>\n",
              "      <td>0.497512</td>\n",
              "    </tr>\n",
              "    <tr>\n",
              "      <th>4</th>\n",
              "      <td>2019</td>\n",
              "      <td>Jul</td>\n",
              "      <td>Ashrafieh</td>\n",
              "      <td>000000PD02000660322</td>\n",
              "      <td>TOBACCO</td>\n",
              "      <td>CIGARETTES</td>\n",
              "      <td>FULL STRENGTH</td>\n",
              "      <td>488316</td>\n",
              "      <td>WINSTON</td>\n",
              "      <td>BLUE COMPACT BOX SHORT</td>\n",
              "      <td>1PC</td>\n",
              "      <td>1999.0</td>\n",
              "      <td>1.0</td>\n",
              "      <td>1.326036</td>\n",
              "    </tr>\n",
              "  </tbody>\n",
              "</table>\n",
              "</div>"
            ],
            "text/plain": [
              "   Year Month Store Name  ...   Price Sales Volume Sales Value $\n",
              "0  2019   Jul  Ashrafieh  ...   250.0          2.0      0.331675\n",
              "1  2019   Jul  Ashrafieh  ...   250.0          1.0      0.165837\n",
              "2  2019   Jul  Ashrafieh  ...   595.0          1.0      0.394693\n",
              "3  2019   Jul  Ashrafieh  ...   750.0          1.0      0.497512\n",
              "4  2019   Jul  Ashrafieh  ...  1999.0          1.0      1.326036\n",
              "\n",
              "[5 rows x 14 columns]"
            ]
          },
          "metadata": {
            "tags": []
          },
          "execution_count": 158
        }
      ]
    },
    {
      "cell_type": "code",
      "metadata": {
        "id": "GzLkYnpsHjH2",
        "colab": {
          "base_uri": "https://localhost:8080/"
        },
        "outputId": "457d332c-b0a8-41ec-e98b-b0cd38322061"
      },
      "source": [
        "%%time\n",
        "print(\"Dataframe size\",spinneys_dataset_df.shape)"
      ],
      "execution_count": 160,
      "outputs": [
        {
          "output_type": "stream",
          "text": [
            "Dataframe size (278545, 14)\n",
            "CPU times: user 1.06 ms, sys: 1 µs, total: 1.06 ms\n",
            "Wall time: 1.07 ms\n"
          ],
          "name": "stdout"
        }
      ]
    },
    {
      "cell_type": "code",
      "metadata": {
        "colab": {
          "base_uri": "https://localhost:8080/",
          "height": 173
        },
        "id": "qzcZ8UX1KU7p",
        "outputId": "67d0fba9-f5fb-45d1-c005-4358cae01100"
      },
      "source": [
        "spinneys_dataset_df.groupby(by=[\"Month\"], dropna=False).sum()"
      ],
      "execution_count": 161,
      "outputs": [
        {
          "output_type": "execute_result",
          "data": {
            "text/html": [
              "<div>\n",
              "<style scoped>\n",
              "    .dataframe tbody tr th:only-of-type {\n",
              "        vertical-align: middle;\n",
              "    }\n",
              "\n",
              "    .dataframe tbody tr th {\n",
              "        vertical-align: top;\n",
              "    }\n",
              "\n",
              "    .dataframe thead th {\n",
              "        text-align: right;\n",
              "    }\n",
              "</style>\n",
              "<table border=\"1\" class=\"dataframe\">\n",
              "  <thead>\n",
              "    <tr style=\"text-align: right;\">\n",
              "      <th></th>\n",
              "      <th>Year</th>\n",
              "      <th>Item Number</th>\n",
              "      <th>Price</th>\n",
              "      <th>Sales Volume</th>\n",
              "      <th>Sales Value $</th>\n",
              "    </tr>\n",
              "    <tr>\n",
              "      <th>Month</th>\n",
              "      <th></th>\n",
              "      <th></th>\n",
              "      <th></th>\n",
              "      <th></th>\n",
              "      <th></th>\n",
              "    </tr>\n",
              "  </thead>\n",
              "  <tbody>\n",
              "    <tr>\n",
              "      <th>Aug</th>\n",
              "      <td>179420454</td>\n",
              "      <td>27993201468</td>\n",
              "      <td>3.964257e+08</td>\n",
              "      <td>152980.220</td>\n",
              "      <td>278494.414017</td>\n",
              "    </tr>\n",
              "    <tr>\n",
              "      <th>Jul</th>\n",
              "      <td>189531606</td>\n",
              "      <td>29487043002</td>\n",
              "      <td>3.693037e+08</td>\n",
              "      <td>158502.897</td>\n",
              "      <td>290760.055350</td>\n",
              "    </tr>\n",
              "    <tr>\n",
              "      <th>Sep</th>\n",
              "      <td>193430295</td>\n",
              "      <td>30266300504</td>\n",
              "      <td>3.789413e+08</td>\n",
              "      <td>162697.773</td>\n",
              "      <td>298578.816610</td>\n",
              "    </tr>\n",
              "  </tbody>\n",
              "</table>\n",
              "</div>"
            ],
            "text/plain": [
              "            Year  Item Number         Price  Sales Volume  Sales Value $\n",
              "Month                                                                   \n",
              "Aug    179420454  27993201468  3.964257e+08    152980.220  278494.414017\n",
              "Jul    189531606  29487043002  3.693037e+08    158502.897  290760.055350\n",
              "Sep    193430295  30266300504  3.789413e+08    162697.773  298578.816610"
            ]
          },
          "metadata": {
            "tags": []
          },
          "execution_count": 161
        }
      ]
    },
    {
      "cell_type": "markdown",
      "metadata": {
        "id": "wHGnvSWYL77C"
      },
      "source": [
        "\n",
        "\n",
        "```\n",
        "# This is formatted as code\n",
        "```\n",
        "\n",
        "# Data Preparation and Cleaning"
      ]
    },
    {
      "cell_type": "code",
      "metadata": {
        "colab": {
          "base_uri": "https://localhost:8080/"
        },
        "id": "MXo5IbLgMAuj",
        "outputId": "f2877ffd-de39-4c59-f01f-27a2861ebc4a"
      },
      "source": [
        "spinneys_dataset_df.info()"
      ],
      "execution_count": 162,
      "outputs": [
        {
          "output_type": "stream",
          "text": [
            "<class 'pandas.core.frame.DataFrame'>\n",
            "RangeIndex: 278545 entries, 0 to 278544\n",
            "Data columns (total 14 columns):\n",
            " #   Column            Non-Null Count   Dtype  \n",
            "---  ------            --------------   -----  \n",
            " 0   Year              278545 non-null  int64  \n",
            " 1   Month             278545 non-null  object \n",
            " 2   Store Name        278545 non-null  object \n",
            " 3   Receipt Number    278545 non-null  object \n",
            " 4   Category          278545 non-null  object \n",
            " 5   Group             278545 non-null  object \n",
            " 6   Sub Group         278545 non-null  object \n",
            " 7   Item Number       278545 non-null  int64  \n",
            " 8   Item Family       278509 non-null  object \n",
            " 9   Item Description  278545 non-null  object \n",
            " 10  Product Size      278520 non-null  object \n",
            " 11  Price             278545 non-null  float64\n",
            " 12  Sales Volume      278545 non-null  float64\n",
            " 13  Sales Value $     278545 non-null  float64\n",
            "dtypes: float64(3), int64(2), object(9)\n",
            "memory usage: 29.8+ MB\n"
          ],
          "name": "stdout"
        }
      ]
    },
    {
      "cell_type": "code",
      "metadata": {
        "colab": {
          "base_uri": "https://localhost:8080/"
        },
        "id": "bW0WgiFhSES3",
        "outputId": "709cb15f-cdd4-489c-f5e4-a6f52f96f2a2"
      },
      "source": [
        "spinneys_dataset_df.nunique()"
      ],
      "execution_count": 163,
      "outputs": [
        {
          "output_type": "execute_result",
          "data": {
            "text/plain": [
              "Year                    1\n",
              "Month                   3\n",
              "Store Name              1\n",
              "Receipt Number      67376\n",
              "Category               10\n",
              "Group                  99\n",
              "Sub Group             523\n",
              "Item Number         11570\n",
              "Item Family          1236\n",
              "Item Description    10567\n",
              "Product Size         1490\n",
              "Price                 578\n",
              "Sales Volume          348\n",
              "Sales Value $        2173\n",
              "dtype: int64"
            ]
          },
          "metadata": {
            "tags": []
          },
          "execution_count": 163
        }
      ]
    },
    {
      "cell_type": "markdown",
      "metadata": {
        "id": "vFBWZDknSObo"
      },
      "source": [
        "# Handling Null Values\n",
        "we can see that for each of the column, there are alot different uniques values for some of them. It makes sense that Receipt Number is large since it is a unique key used to identify transaction. Item Number , Item Family, Item Description, Product Size, Sales Value $, Price and Sales volume contain many unbiques value"
      ]
    },
    {
      "cell_type": "code",
      "metadata": {
        "colab": {
          "base_uri": "https://localhost:8080/"
        },
        "id": "8wes_3IBTDVw",
        "outputId": "8bf9e893-34dd-488d-d19d-d272463d5478"
      },
      "source": [
        "spinneys_dataset_df.isnull().values.any()"
      ],
      "execution_count": 164,
      "outputs": [
        {
          "output_type": "execute_result",
          "data": {
            "text/plain": [
              "True"
            ]
          },
          "metadata": {
            "tags": []
          },
          "execution_count": 164
        }
      ]
    },
    {
      "cell_type": "code",
      "metadata": {
        "colab": {
          "base_uri": "https://localhost:8080/"
        },
        "id": "Fm28TIsITJZR",
        "outputId": "b9e0c9b2-e5c2-4a0c-8be5-3a8a7e74e704"
      },
      "source": [
        "spinneys_dataset_df.isnull().sum().sum()"
      ],
      "execution_count": 165,
      "outputs": [
        {
          "output_type": "execute_result",
          "data": {
            "text/plain": [
              "61"
            ]
          },
          "metadata": {
            "tags": []
          },
          "execution_count": 165
        }
      ]
    },
    {
      "cell_type": "code",
      "metadata": {
        "colab": {
          "base_uri": "https://localhost:8080/",
          "height": 354
        },
        "id": "LPPoVuLlTOFZ",
        "outputId": "aa6b0ffe-a282-48cb-ae7e-f2ad93bace21"
      },
      "source": [
        "sns.heatmap(spinneys_dataset_df.isnull())\n",
        "plt.title('Null Values Heatmap')\n",
        "plt.show()"
      ],
      "execution_count": 166,
      "outputs": [
        {
          "output_type": "display_data",
          "data": {
            "image/png": "[encoded data removed]",
            "text/plain": [
              "<Figure size 432x288 with 2 Axes>"
            ]
          },
          "metadata": {
            "tags": [],
            "needs_background": "light"
          }
        }
      ]
    },
    {
      "cell_type": "code",
      "metadata": {
        "colab": {
          "base_uri": "https://localhost:8080/"
        },
        "id": "Gv2cUDd5Tgx4",
        "outputId": "cc041271-fb97-4735-8624-072acf84bc4f"
      },
      "source": [
        "spinneys_dataset_df.isnull().sum()"
      ],
      "execution_count": 167,
      "outputs": [
        {
          "output_type": "execute_result",
          "data": {
            "text/plain": [
              "Year                 0\n",
              "Month                0\n",
              "Store Name           0\n",
              "Receipt Number       0\n",
              "Category             0\n",
              "Group                0\n",
              "Sub Group            0\n",
              "Item Number          0\n",
              "Item Family         36\n",
              "Item Description     0\n",
              "Product Size        25\n",
              "Price                0\n",
              "Sales Volume         0\n",
              "Sales Value $        0\n",
              "dtype: int64"
            ]
          },
          "metadata": {
            "tags": []
          },
          "execution_count": 167
        }
      ]
    },
    {
      "cell_type": "markdown",
      "metadata": {
        "id": "Rjiq9QnFT-cG"
      },
      "source": [
        "Above in the heatmap and table, we can see that there are quite few null values in the dataset.There are a total of 61 null value across the entire dataset with 36 missing point under 'Item Family' and 25 under 'Product Size'.\n",
        "We will have to handle all null data points values before we can dive into EDA and modeling "
      ]
    },
    {
      "cell_type": "code",
      "metadata": {
        "id": "W-h-NZE5TrPw"
      },
      "source": [
        "spinneys_dataset_df.dropna(subset=['Product Size','Item Family'], inplace=True)"
      ],
      "execution_count": 168,
      "outputs": []
    },
    {
      "cell_type": "code",
      "metadata": {
        "colab": {
          "base_uri": "https://localhost:8080/"
        },
        "id": "oulcWbayV0ik",
        "outputId": "4aec3556-5c6a-4119-c7d3-b3f4ff83f721"
      },
      "source": [
        "spinneys_dataset_df.isnull().any()"
      ],
      "execution_count": 184,
      "outputs": [
        {
          "output_type": "execute_result",
          "data": {
            "text/plain": [
              "Year                False\n",
              "Month               False\n",
              "Store Name          False\n",
              "Receipt Number      False\n",
              "Category            False\n",
              "Group               False\n",
              "Sub Group           False\n",
              "Item Number         False\n",
              "Item Family         False\n",
              "Item Description    False\n",
              "Product Size        False\n",
              "Price               False\n",
              "Sales Volume        False\n",
              "Sales Value $       False\n",
              "dtype: bool"
            ]
          },
          "metadata": {
            "tags": []
          },
          "execution_count": 184
        }
      ]
    },
    {
      "cell_type": "markdown",
      "metadata": {
        "id": "BGHa2IW3V-lN"
      },
      "source": [
        "For null values, since the Item family and Product size contains an insignificant portion of data so i will drop them from the dataset. After t, we can see that there are no more null values in the dataset."
      ]
    },
    {
      "cell_type": "markdown",
      "metadata": {
        "id": "sSpUQXVxWamQ"
      },
      "source": [
        "# Splitting the dataset\n",
        "Since the dataset can either contains 3 months. It'd nice to have datasets for both so we can take a deep dive into these 3 months. So we will create three new datasets. One for August, july and the other one for September."
      ]
    },
    {
      "cell_type": "code",
      "metadata": {
        "colab": {
          "base_uri": "https://localhost:8080/"
        },
        "id": "4ZcfPj6alwMP",
        "outputId": "03712d91-d134-4666-e848-b303ec2ac35e"
      },
      "source": [
        "splitting_data_August = spinneys_dataset_df.groupby(\"Month\")[\"Month\"].count()\n",
        "splitting_data_August.head()"
      ],
      "execution_count": 197,
      "outputs": [
        {
          "output_type": "execute_result",
          "data": {
            "text/plain": [
              "Month\n",
              "Aug    88847\n",
              "Name: Month, dtype: int64"
            ]
          },
          "metadata": {
            "tags": []
          },
          "execution_count": 197
        }
      ]
    },
    {
      "cell_type": "code",
      "metadata": {
        "colab": {
          "base_uri": "https://localhost:8080/",
          "height": 289
        },
        "id": "WCYaYDroWeIX",
        "outputId": "10d70926-5e38-4c9a-d990-832eaf983814"
      },
      "source": [
        "splitting_data_August = spinneys_dataset_df[spinneys_dataset_df['Month'] =='Aug'].copy()\n",
        "splitting_data_August.head()"
      ],
      "execution_count": 199,
      "outputs": [
        {
          "output_type": "execute_result",
          "data": {
            "text/html": [
              "<div>\n",
              "<style scoped>\n",
              "    .dataframe tbody tr th:only-of-type {\n",
              "        vertical-align: middle;\n",
              "    }\n",
              "\n",
              "    .dataframe tbody tr th {\n",
              "        vertical-align: top;\n",
              "    }\n",
              "\n",
              "    .dataframe thead th {\n",
              "        text-align: right;\n",
              "    }\n",
              "</style>\n",
              "<table border=\"1\" class=\"dataframe\">\n",
              "  <thead>\n",
              "    <tr style=\"text-align: right;\">\n",
              "      <th></th>\n",
              "      <th>Year</th>\n",
              "      <th>Month</th>\n",
              "      <th>Store Name</th>\n",
              "      <th>Receipt Number</th>\n",
              "      <th>Category</th>\n",
              "      <th>Group</th>\n",
              "      <th>Sub Group</th>\n",
              "      <th>Item Number</th>\n",
              "      <th>Item Family</th>\n",
              "      <th>Item Description</th>\n",
              "      <th>Product Size</th>\n",
              "      <th>Price</th>\n",
              "      <th>Sales Volume</th>\n",
              "      <th>Sales Value $</th>\n",
              "    </tr>\n",
              "  </thead>\n",
              "  <tbody>\n",
              "    <tr>\n",
              "      <th>93874</th>\n",
              "      <td>2019</td>\n",
              "      <td>Aug</td>\n",
              "      <td>Ashrafieh</td>\n",
              "      <td>000000PD02000672610</td>\n",
              "      <td>BEVERAGES &amp; READY TO EAT</td>\n",
              "      <td>WATER</td>\n",
              "      <td>LOCAL WATER</td>\n",
              "      <td>110804</td>\n",
              "      <td>SANNINE</td>\n",
              "      <td>MINERAL WATER PET</td>\n",
              "      <td>1.5L</td>\n",
              "      <td>750.0</td>\n",
              "      <td>1.0</td>\n",
              "      <td>0.497512</td>\n",
              "    </tr>\n",
              "    <tr>\n",
              "      <th>93875</th>\n",
              "      <td>2019</td>\n",
              "      <td>Aug</td>\n",
              "      <td>Ashrafieh</td>\n",
              "      <td>000000PD02000672611</td>\n",
              "      <td>TOBACCO</td>\n",
              "      <td>CIGARETTES</td>\n",
              "      <td>LIGHT</td>\n",
              "      <td>253242</td>\n",
              "      <td>MARLBORO</td>\n",
              "      <td>LIGHT GOLD SOFT SHORT</td>\n",
              "      <td>1PC</td>\n",
              "      <td>2750.0</td>\n",
              "      <td>1.0</td>\n",
              "      <td>1.824212</td>\n",
              "    </tr>\n",
              "    <tr>\n",
              "      <th>93876</th>\n",
              "      <td>2019</td>\n",
              "      <td>Aug</td>\n",
              "      <td>Ashrafieh</td>\n",
              "      <td>000000PD02000672612</td>\n",
              "      <td>MEAL SOLUTIONS</td>\n",
              "      <td>RICE</td>\n",
              "      <td>AMERICAN RICE</td>\n",
              "      <td>421855</td>\n",
              "      <td>SPINNEYS</td>\n",
              "      <td>AMERICAN RICE</td>\n",
              "      <td>1KG</td>\n",
              "      <td>1750.0</td>\n",
              "      <td>2.0</td>\n",
              "      <td>2.321725</td>\n",
              "    </tr>\n",
              "    <tr>\n",
              "      <th>93877</th>\n",
              "      <td>2019</td>\n",
              "      <td>Aug</td>\n",
              "      <td>Ashrafieh</td>\n",
              "      <td>000000PD02000672612</td>\n",
              "      <td>HEALTH &amp; BEAUTY</td>\n",
              "      <td>FEMININE CARE</td>\n",
              "      <td>DAILY PANTILINERS</td>\n",
              "      <td>149132</td>\n",
              "      <td>FRESHDAYS</td>\n",
              "      <td>FRESH DAY STRING PANTYLINER</td>\n",
              "      <td>24'S</td>\n",
              "      <td>2999.0</td>\n",
              "      <td>1.0</td>\n",
              "      <td>1.989386</td>\n",
              "    </tr>\n",
              "    <tr>\n",
              "      <th>93878</th>\n",
              "      <td>2019</td>\n",
              "      <td>Aug</td>\n",
              "      <td>Ashrafieh</td>\n",
              "      <td>000000PD02000672612</td>\n",
              "      <td>CHILLED</td>\n",
              "      <td>DAIRY PRODUCTS</td>\n",
              "      <td>LABAN</td>\n",
              "      <td>427151</td>\n",
              "      <td>BONJUS</td>\n",
              "      <td>LABAN</td>\n",
              "      <td>2KG</td>\n",
              "      <td>4790.0</td>\n",
              "      <td>2.0</td>\n",
              "      <td>6.354892</td>\n",
              "    </tr>\n",
              "  </tbody>\n",
              "</table>\n",
              "</div>"
            ],
            "text/plain": [
              "       Year Month Store Name  ...   Price Sales Volume Sales Value $\n",
              "93874  2019   Aug  Ashrafieh  ...   750.0          1.0      0.497512\n",
              "93875  2019   Aug  Ashrafieh  ...  2750.0          1.0      1.824212\n",
              "93876  2019   Aug  Ashrafieh  ...  1750.0          2.0      2.321725\n",
              "93877  2019   Aug  Ashrafieh  ...  2999.0          1.0      1.989386\n",
              "93878  2019   Aug  Ashrafieh  ...  4790.0          2.0      6.354892\n",
              "\n",
              "[5 rows x 14 columns]"
            ]
          },
          "metadata": {
            "tags": []
          },
          "execution_count": 199
        }
      ]
    },
    {
      "cell_type": "markdown",
      "metadata": {
        "id": "L1Jw2-axf99n"
      },
      "source": [
        "# Exploratory Analysis and Visualization\n",
        "First we will begin analysison the entire Dataset consisting of August. revisting the data, let us see how it looked like again \n"
      ]
    },
    {
      "cell_type": "code",
      "metadata": {
        "colab": {
          "base_uri": "https://localhost:8080/",
          "height": 589
        },
        "id": "wgM26AQXgAF4",
        "outputId": "8672c7d3-4879-4f16-b10e-183b434020c3"
      },
      "source": [
        "spinneys_dataset_df"
      ],
      "execution_count": 202,
      "outputs": [
        {
          "output_type": "execute_result",
          "data": {
            "text/html": [
              "<div>\n",
              "<style scoped>\n",
              "    .dataframe tbody tr th:only-of-type {\n",
              "        vertical-align: middle;\n",
              "    }\n",
              "\n",
              "    .dataframe tbody tr th {\n",
              "        vertical-align: top;\n",
              "    }\n",
              "\n",
              "    .dataframe thead th {\n",
              "        text-align: right;\n",
              "    }\n",
              "</style>\n",
              "<table border=\"1\" class=\"dataframe\">\n",
              "  <thead>\n",
              "    <tr style=\"text-align: right;\">\n",
              "      <th></th>\n",
              "      <th>Year</th>\n",
              "      <th>Month</th>\n",
              "      <th>Store Name</th>\n",
              "      <th>Receipt Number</th>\n",
              "      <th>Category</th>\n",
              "      <th>Group</th>\n",
              "      <th>Sub Group</th>\n",
              "      <th>Item Number</th>\n",
              "      <th>Item Family</th>\n",
              "      <th>Item Description</th>\n",
              "      <th>Product Size</th>\n",
              "      <th>Price</th>\n",
              "      <th>Sales Volume</th>\n",
              "      <th>Sales Value $</th>\n",
              "    </tr>\n",
              "  </thead>\n",
              "  <tbody>\n",
              "    <tr>\n",
              "      <th>93874</th>\n",
              "      <td>2019</td>\n",
              "      <td>Aug</td>\n",
              "      <td>Ashrafieh</td>\n",
              "      <td>000000PD02000672610</td>\n",
              "      <td>BEVERAGES &amp; READY TO EAT</td>\n",
              "      <td>WATER</td>\n",
              "      <td>LOCAL WATER</td>\n",
              "      <td>110804</td>\n",
              "      <td>SANNINE</td>\n",
              "      <td>MINERAL WATER PET</td>\n",
              "      <td>1.5L</td>\n",
              "      <td>750.00000</td>\n",
              "      <td>1.0</td>\n",
              "      <td>0.497512</td>\n",
              "    </tr>\n",
              "    <tr>\n",
              "      <th>93875</th>\n",
              "      <td>2019</td>\n",
              "      <td>Aug</td>\n",
              "      <td>Ashrafieh</td>\n",
              "      <td>000000PD02000672611</td>\n",
              "      <td>TOBACCO</td>\n",
              "      <td>CIGARETTES</td>\n",
              "      <td>LIGHT</td>\n",
              "      <td>253242</td>\n",
              "      <td>MARLBORO</td>\n",
              "      <td>LIGHT GOLD SOFT SHORT</td>\n",
              "      <td>1PC</td>\n",
              "      <td>2750.00000</td>\n",
              "      <td>1.0</td>\n",
              "      <td>1.824212</td>\n",
              "    </tr>\n",
              "    <tr>\n",
              "      <th>93876</th>\n",
              "      <td>2019</td>\n",
              "      <td>Aug</td>\n",
              "      <td>Ashrafieh</td>\n",
              "      <td>000000PD02000672612</td>\n",
              "      <td>MEAL SOLUTIONS</td>\n",
              "      <td>RICE</td>\n",
              "      <td>AMERICAN RICE</td>\n",
              "      <td>421855</td>\n",
              "      <td>SPINNEYS</td>\n",
              "      <td>AMERICAN RICE</td>\n",
              "      <td>1KG</td>\n",
              "      <td>1750.00000</td>\n",
              "      <td>2.0</td>\n",
              "      <td>2.321725</td>\n",
              "    </tr>\n",
              "    <tr>\n",
              "      <th>93877</th>\n",
              "      <td>2019</td>\n",
              "      <td>Aug</td>\n",
              "      <td>Ashrafieh</td>\n",
              "      <td>000000PD02000672612</td>\n",
              "      <td>HEALTH &amp; BEAUTY</td>\n",
              "      <td>FEMININE CARE</td>\n",
              "      <td>DAILY PANTILINERS</td>\n",
              "      <td>149132</td>\n",
              "      <td>FRESHDAYS</td>\n",
              "      <td>FRESH DAY STRING PANTYLINER</td>\n",
              "      <td>24'S</td>\n",
              "      <td>2999.00000</td>\n",
              "      <td>1.0</td>\n",
              "      <td>1.989386</td>\n",
              "    </tr>\n",
              "    <tr>\n",
              "      <th>93878</th>\n",
              "      <td>2019</td>\n",
              "      <td>Aug</td>\n",
              "      <td>Ashrafieh</td>\n",
              "      <td>000000PD02000672612</td>\n",
              "      <td>CHILLED</td>\n",
              "      <td>DAIRY PRODUCTS</td>\n",
              "      <td>LABAN</td>\n",
              "      <td>427151</td>\n",
              "      <td>BONJUS</td>\n",
              "      <td>LABAN</td>\n",
              "      <td>2KG</td>\n",
              "      <td>4790.00000</td>\n",
              "      <td>2.0</td>\n",
              "      <td>6.354892</td>\n",
              "    </tr>\n",
              "    <tr>\n",
              "      <th>...</th>\n",
              "      <td>...</td>\n",
              "      <td>...</td>\n",
              "      <td>...</td>\n",
              "      <td>...</td>\n",
              "      <td>...</td>\n",
              "      <td>...</td>\n",
              "      <td>...</td>\n",
              "      <td>...</td>\n",
              "      <td>...</td>\n",
              "      <td>...</td>\n",
              "      <td>...</td>\n",
              "      <td>...</td>\n",
              "      <td>...</td>\n",
              "      <td>...</td>\n",
              "    </tr>\n",
              "    <tr>\n",
              "      <th>182735</th>\n",
              "      <td>2019</td>\n",
              "      <td>Aug</td>\n",
              "      <td>Ashrafieh</td>\n",
              "      <td>000000PD03000756476</td>\n",
              "      <td>BEVERAGES &amp; READY TO EAT</td>\n",
              "      <td>SOFT DRINKS</td>\n",
              "      <td>NON ALCOHOLIC DRINKS</td>\n",
              "      <td>134192</td>\n",
              "      <td>LAZIZA</td>\n",
              "      <td>N/ALC MALT BEER BOTTLE</td>\n",
              "      <td>33CL</td>\n",
              "      <td>999.00000</td>\n",
              "      <td>1.0</td>\n",
              "      <td>0.662687</td>\n",
              "    </tr>\n",
              "    <tr>\n",
              "      <th>182736</th>\n",
              "      <td>2019</td>\n",
              "      <td>Aug</td>\n",
              "      <td>Ashrafieh</td>\n",
              "      <td>000000PD03000756477</td>\n",
              "      <td>BEVERAGES &amp; READY TO EAT</td>\n",
              "      <td>CAKES</td>\n",
              "      <td>MINI CAKES</td>\n",
              "      <td>135173</td>\n",
              "      <td>ENG.CAKE</td>\n",
              "      <td>CAKE PLAIN</td>\n",
              "      <td>65G</td>\n",
              "      <td>595.00000</td>\n",
              "      <td>1.0</td>\n",
              "      <td>0.394693</td>\n",
              "    </tr>\n",
              "    <tr>\n",
              "      <th>182737</th>\n",
              "      <td>2019</td>\n",
              "      <td>Aug</td>\n",
              "      <td>Ashrafieh</td>\n",
              "      <td>000000PD03000756477</td>\n",
              "      <td>BEVERAGES &amp; READY TO EAT</td>\n",
              "      <td>CAKES</td>\n",
              "      <td>MINI CAKES</td>\n",
              "      <td>142226</td>\n",
              "      <td>ENG.CAKE</td>\n",
              "      <td>CAKE DATE</td>\n",
              "      <td>65G</td>\n",
              "      <td>799.00000</td>\n",
              "      <td>1.0</td>\n",
              "      <td>0.530017</td>\n",
              "    </tr>\n",
              "    <tr>\n",
              "      <th>182738</th>\n",
              "      <td>2019</td>\n",
              "      <td>Aug</td>\n",
              "      <td>Ashrafieh</td>\n",
              "      <td>000000PD03000756477</td>\n",
              "      <td>BEVERAGES &amp; READY TO EAT</td>\n",
              "      <td>CAKES</td>\n",
              "      <td>CROISSANT</td>\n",
              "      <td>349091</td>\n",
              "      <td>CHIPITA</td>\n",
              "      <td>CROISSANT CHOCO</td>\n",
              "      <td>50G</td>\n",
              "      <td>550.00000</td>\n",
              "      <td>1.0</td>\n",
              "      <td>0.364842</td>\n",
              "    </tr>\n",
              "    <tr>\n",
              "      <th>182739</th>\n",
              "      <td>2019</td>\n",
              "      <td>Aug</td>\n",
              "      <td>Ashrafieh</td>\n",
              "      <td>000000PD03000756478</td>\n",
              "      <td>BEVERAGES &amp; READY TO EAT</td>\n",
              "      <td>WATER</td>\n",
              "      <td>LOCAL WATER</td>\n",
              "      <td>110826</td>\n",
              "      <td>TANNOURINE</td>\n",
              "      <td>MINERAL WATER PET</td>\n",
              "      <td>500ML</td>\n",
              "      <td>208.33333</td>\n",
              "      <td>24.0</td>\n",
              "      <td>3.316750</td>\n",
              "    </tr>\n",
              "  </tbody>\n",
              "</table>\n",
              "<p>88847 rows × 14 columns</p>\n",
              "</div>"
            ],
            "text/plain": [
              "        Year Month Store Name  ...       Price Sales Volume Sales Value $\n",
              "93874   2019   Aug  Ashrafieh  ...   750.00000          1.0      0.497512\n",
              "93875   2019   Aug  Ashrafieh  ...  2750.00000          1.0      1.824212\n",
              "93876   2019   Aug  Ashrafieh  ...  1750.00000          2.0      2.321725\n",
              "93877   2019   Aug  Ashrafieh  ...  2999.00000          1.0      1.989386\n",
              "93878   2019   Aug  Ashrafieh  ...  4790.00000          2.0      6.354892\n",
              "...      ...   ...        ...  ...         ...          ...           ...\n",
              "182735  2019   Aug  Ashrafieh  ...   999.00000          1.0      0.662687\n",
              "182736  2019   Aug  Ashrafieh  ...   595.00000          1.0      0.394693\n",
              "182737  2019   Aug  Ashrafieh  ...   799.00000          1.0      0.530017\n",
              "182738  2019   Aug  Ashrafieh  ...   550.00000          1.0      0.364842\n",
              "182739  2019   Aug  Ashrafieh  ...   208.33333         24.0      3.316750\n",
              "\n",
              "[88847 rows x 14 columns]"
            ]
          },
          "metadata": {
            "tags": []
          },
          "execution_count": 202
        }
      ]
    },
    {
      "cell_type": "code",
      "metadata": {
        "colab": {
          "base_uri": "https://localhost:8080/",
          "height": 404
        },
        "id": "6YcXS04Zphxs",
        "outputId": "b653d3a2-7aba-4963-e153-d8077f5c3d5b"
      },
      "source": [
        "plt.figure(figsize=(7,5))\n",
        "g = sns.countplot(spinneys_dataset_df.Month, palette=\"pastel\")\n",
        "plt.title(\"Count of sales in August\")\n",
        "plt.xlabel(\"Months (Aug/Jul/Sep)\")\n",
        "plt.ylabel(\"Total count\")\n",
        "plt.show()"
      ],
      "execution_count": 203,
      "outputs": [
        {
          "output_type": "stream",
          "text": [
            "/usr/local/lib/python3.7/dist-packages/seaborn/_decorators.py:43: FutureWarning: Pass the following variable as a keyword arg: x. From version 0.12, the only valid positional argument will be `data`, and passing other arguments without an explicit keyword will result in an error or misinterpretation.\n",
            "  FutureWarning\n"
          ],
          "name": "stderr"
        },
        {
          "output_type": "display_data",
          "data": {
            "image/png": "[encoded data removed]",
            "text/plain": [
              "<Figure size 504x360 with 1 Axes>"
            ]
          },
          "metadata": {
            "tags": [],
            "needs_background": "light"
          }
        }
      ]
    },
    {
      "cell_type": "code",
      "metadata": {
        "id": "BY3liKrIp85P"
      },
      "source": [
        ""
      ],
      "execution_count": null,
      "outputs": []
    }
  ]
}