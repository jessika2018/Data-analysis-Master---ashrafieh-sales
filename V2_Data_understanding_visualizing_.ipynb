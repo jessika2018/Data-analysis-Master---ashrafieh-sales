{
  "nbformat": 4,
  "nbformat_minor": 0,
  "metadata": {
    "colab": {
      "name": "V2-Data understanding- visualizing .ipynb",
      "provenance": [],
      "collapsed_sections": [],
      "authorship_tag": "ABX9TyNGArwpevrxspLwPbeX4iti",
      "include_colab_link": true
    },
    "kernelspec": {
      "name": "python3",
      "display_name": "Python 3"
    },
    "language_info": {
      "name": "python"
    }
  },
  "cells": [
    {
      "cell_type": "markdown",
      "metadata": {
        "id": "view-in-github",
        "colab_type": "text"
      },
      "source": [
        "<a href=\"https://colab.research.google.com/github/jessika2018/Data-analysis-Master---ashrafieh-sales/blob/main/V2_Data_understanding_visualizing_.ipynb\" target=\"_parent\"><img src=\"https://colab.research.google.com/assets/colab-badge.svg\" alt=\"Open In Colab\"/></a>"
      ]
    },
    {
      "cell_type": "markdown",
      "metadata": {
        "id": "cxkMVlgkm4Vm"
      },
      "source": [
        ""
      ]
    },
    {
      "cell_type": "code",
      "metadata": {
        "id": "xJP6yC6em0vS"
      },
      "source": [
        "\n",
        "import pandas as pd\n",
        "import numpy as np\n",
        "import matplotlib.pyplot as plt\n",
        "import os\n",
        "import seaborn as sns\n",
        "\n"
      ],
      "execution_count": 187,
      "outputs": []
    },
    {
      "cell_type": "code",
      "metadata": {
        "id": "3CmcEbpHm2cW"
      },
      "source": [
        "df = pd.read_excel('/content/dataset_sunday.xlsx')\n"
      ],
      "execution_count": 188,
      "outputs": []
    },
    {
      "cell_type": "code",
      "metadata": {
        "id": "r2ye7tBQpaqJ"
      },
      "source": [
        "# df.shape"
      ],
      "execution_count": 143,
      "outputs": []
    },
    {
      "cell_type": "code",
      "metadata": {
        "id": "a-4ri9fgpc7b"
      },
      "source": [
        "# df.describe()"
      ],
      "execution_count": 144,
      "outputs": []
    },
    {
      "cell_type": "code",
      "metadata": {
        "id": "vzW3kPj1pc5V"
      },
      "source": [
        "# df.head()"
      ],
      "execution_count": 145,
      "outputs": []
    },
    {
      "cell_type": "code",
      "metadata": {
        "id": "1g6FRJkSpc3j"
      },
      "source": [
        "# df['Sales_LL']= df.Price_LL * df.Quantity"
      ],
      "execution_count": 146,
      "outputs": []
    },
    {
      "cell_type": "code",
      "metadata": {
        "id": "2_tdzqsUtLW_"
      },
      "source": [
        "# df"
      ],
      "execution_count": 147,
      "outputs": []
    },
    {
      "cell_type": "code",
      "metadata": {
        "colab": {
          "base_uri": "https://localhost:8080/",
          "height": 581
        },
        "id": "nD9cc969wwLN",
        "outputId": "035a587d-a571-416d-99f6-b3275ed3d5b4"
      },
      "source": [
        "df\n"
      ],
      "execution_count": 189,
      "outputs": [
        {
          "output_type": "execute_result",
          "data": {
            "text/html": [
              "<div>\n",
              "<style scoped>\n",
              "    .dataframe tbody tr th:only-of-type {\n",
              "        vertical-align: middle;\n",
              "    }\n",
              "\n",
              "    .dataframe tbody tr th {\n",
              "        vertical-align: top;\n",
              "    }\n",
              "\n",
              "    .dataframe thead th {\n",
              "        text-align: right;\n",
              "    }\n",
              "</style>\n",
              "<table border=\"1\" class=\"dataframe\">\n",
              "  <thead>\n",
              "    <tr style=\"text-align: right;\">\n",
              "      <th></th>\n",
              "      <th>Year</th>\n",
              "      <th>Month</th>\n",
              "      <th>Store_Name</th>\n",
              "      <th>Receipt_Number</th>\n",
              "      <th>Category</th>\n",
              "      <th>Group</th>\n",
              "      <th>Sub_Group</th>\n",
              "      <th>Item_Number</th>\n",
              "      <th>Item_Family</th>\n",
              "      <th>Item_Description</th>\n",
              "      <th>Product_Size</th>\n",
              "      <th>Price_LL</th>\n",
              "      <th>Quantity</th>\n",
              "      <th>Sales_Value_Dollars</th>\n",
              "    </tr>\n",
              "  </thead>\n",
              "  <tbody>\n",
              "    <tr>\n",
              "      <th>0</th>\n",
              "      <td>2021</td>\n",
              "      <td>Jul</td>\n",
              "      <td>Ashrafieh</td>\n",
              "      <td>000000PD02000660322</td>\n",
              "      <td>MEAL SOLUTIONS</td>\n",
              "      <td>HOT BEVERAGES</td>\n",
              "      <td>FLAVORED INSTANT COFFEE</td>\n",
              "      <td>264164</td>\n",
              "      <td>NESCAFE</td>\n",
              "      <td>NESCAFE 3IN1 CLASSIC BAG</td>\n",
              "      <td>30*20G</td>\n",
              "      <td>250.0</td>\n",
              "      <td>2.0</td>\n",
              "      <td>0.331675</td>\n",
              "    </tr>\n",
              "    <tr>\n",
              "      <th>1</th>\n",
              "      <td>2021</td>\n",
              "      <td>Jul</td>\n",
              "      <td>Ashrafieh</td>\n",
              "      <td>000000PD02000660322</td>\n",
              "      <td>BEVERAGES &amp; READY TO EAT</td>\n",
              "      <td>BISCUITS</td>\n",
              "      <td>WAFERS</td>\n",
              "      <td>104874</td>\n",
              "      <td>GANDOUR</td>\n",
              "      <td>GANDOUR UNICA</td>\n",
              "      <td>27G</td>\n",
              "      <td>250.0</td>\n",
              "      <td>1.0</td>\n",
              "      <td>0.165837</td>\n",
              "    </tr>\n",
              "    <tr>\n",
              "      <th>2</th>\n",
              "      <td>2021</td>\n",
              "      <td>Jul</td>\n",
              "      <td>Ashrafieh</td>\n",
              "      <td>000000PD02000660322</td>\n",
              "      <td>BEVERAGES &amp; READY TO EAT</td>\n",
              "      <td>CAKES</td>\n",
              "      <td>MINI CAKES</td>\n",
              "      <td>135173</td>\n",
              "      <td>ENG.CAKE</td>\n",
              "      <td>CAKE PLAIN</td>\n",
              "      <td>65G</td>\n",
              "      <td>595.0</td>\n",
              "      <td>1.0</td>\n",
              "      <td>0.394693</td>\n",
              "    </tr>\n",
              "    <tr>\n",
              "      <th>3</th>\n",
              "      <td>2021</td>\n",
              "      <td>Jul</td>\n",
              "      <td>Ashrafieh</td>\n",
              "      <td>000000PD02000660322</td>\n",
              "      <td>BEVERAGES &amp; READY TO EAT</td>\n",
              "      <td>CAKES</td>\n",
              "      <td>CROISSANT</td>\n",
              "      <td>479487</td>\n",
              "      <td>KARUZO</td>\n",
              "      <td>CROISSANT CHESSECAKE</td>\n",
              "      <td>62G</td>\n",
              "      <td>750.0</td>\n",
              "      <td>1.0</td>\n",
              "      <td>0.497512</td>\n",
              "    </tr>\n",
              "    <tr>\n",
              "      <th>4</th>\n",
              "      <td>2021</td>\n",
              "      <td>Jul</td>\n",
              "      <td>Ashrafieh</td>\n",
              "      <td>000000PD02000660322</td>\n",
              "      <td>TOBACCO</td>\n",
              "      <td>CIGARETTES</td>\n",
              "      <td>FULL STRENGTH</td>\n",
              "      <td>488316</td>\n",
              "      <td>WINSTON</td>\n",
              "      <td>BLUE COMPACT BOX SHORT</td>\n",
              "      <td>1PC</td>\n",
              "      <td>1999.0</td>\n",
              "      <td>1.0</td>\n",
              "      <td>1.326036</td>\n",
              "    </tr>\n",
              "    <tr>\n",
              "      <th>...</th>\n",
              "      <td>...</td>\n",
              "      <td>...</td>\n",
              "      <td>...</td>\n",
              "      <td>...</td>\n",
              "      <td>...</td>\n",
              "      <td>...</td>\n",
              "      <td>...</td>\n",
              "      <td>...</td>\n",
              "      <td>...</td>\n",
              "      <td>...</td>\n",
              "      <td>...</td>\n",
              "      <td>...</td>\n",
              "      <td>...</td>\n",
              "      <td>...</td>\n",
              "    </tr>\n",
              "    <tr>\n",
              "      <th>278540</th>\n",
              "      <td>2018</td>\n",
              "      <td>Sep</td>\n",
              "      <td>Hazmieh</td>\n",
              "      <td>000000PD03000770721</td>\n",
              "      <td>CHILLED</td>\n",
              "      <td>DAIRY PRODUCTS</td>\n",
              "      <td>LABNEH</td>\n",
              "      <td>142839</td>\n",
              "      <td>F/TAANAYEL</td>\n",
              "      <td>LABNEH BALADI</td>\n",
              "      <td>500G</td>\n",
              "      <td>6500.0</td>\n",
              "      <td>1.0</td>\n",
              "      <td>4.311774</td>\n",
              "    </tr>\n",
              "    <tr>\n",
              "      <th>278541</th>\n",
              "      <td>2018</td>\n",
              "      <td>Sep</td>\n",
              "      <td>Hazmieh</td>\n",
              "      <td>000000PD03000770721</td>\n",
              "      <td>CHILLED</td>\n",
              "      <td>IMPORTED CHEESE</td>\n",
              "      <td>CHEESE TUBS</td>\n",
              "      <td>336923</td>\n",
              "      <td>KIRI</td>\n",
              "      <td>KIRI SNOW SPREAD</td>\n",
              "      <td>350G</td>\n",
              "      <td>7250.0</td>\n",
              "      <td>1.0</td>\n",
              "      <td>4.809287</td>\n",
              "    </tr>\n",
              "    <tr>\n",
              "      <th>278542</th>\n",
              "      <td>2018</td>\n",
              "      <td>Sep</td>\n",
              "      <td>Hazmieh</td>\n",
              "      <td>000000PD03000770721</td>\n",
              "      <td>CHILLED</td>\n",
              "      <td>LOCAL/Import BREAD</td>\n",
              "      <td>ARABIC BREAD</td>\n",
              "      <td>440233</td>\n",
              "      <td>WOODEN B</td>\n",
              "      <td>TANNOUR BREAD SMALL 5\"S</td>\n",
              "      <td>160G</td>\n",
              "      <td>500.0</td>\n",
              "      <td>1.0</td>\n",
              "      <td>0.331675</td>\n",
              "    </tr>\n",
              "    <tr>\n",
              "      <th>278543</th>\n",
              "      <td>2018</td>\n",
              "      <td>Sep</td>\n",
              "      <td>Hazmieh</td>\n",
              "      <td>000000PD03000770721</td>\n",
              "      <td>CHILLED</td>\n",
              "      <td>LOCAL/Import BREAD</td>\n",
              "      <td>OTHER LOCAL/IMPORTED BREAD</td>\n",
              "      <td>175191</td>\n",
              "      <td>PAIN D'OR</td>\n",
              "      <td>PAIN AU LAIT</td>\n",
              "      <td>9PC</td>\n",
              "      <td>3750.0</td>\n",
              "      <td>1.0</td>\n",
              "      <td>2.487562</td>\n",
              "    </tr>\n",
              "    <tr>\n",
              "      <th>278544</th>\n",
              "      <td>2018</td>\n",
              "      <td>Sep</td>\n",
              "      <td>Hazmieh</td>\n",
              "      <td>000000PD03000770724</td>\n",
              "      <td>BEVERAGES &amp; READY TO EAT</td>\n",
              "      <td>SOFT DRINKS</td>\n",
              "      <td>ENERGY DRINKS</td>\n",
              "      <td>428093</td>\n",
              "      <td>XXL</td>\n",
              "      <td>XXL ENERGIE DRINK REGULAR</td>\n",
              "      <td>50CL</td>\n",
              "      <td>1999.0</td>\n",
              "      <td>1.0</td>\n",
              "      <td>1.326036</td>\n",
              "    </tr>\n",
              "  </tbody>\n",
              "</table>\n",
              "<p>278545 rows × 14 columns</p>\n",
              "</div>"
            ],
            "text/plain": [
              "        Year Month Store_Name  ... Price_LL Quantity Sales_Value_Dollars\n",
              "0       2021   Jul  Ashrafieh  ...    250.0      2.0            0.331675\n",
              "1       2021   Jul  Ashrafieh  ...    250.0      1.0            0.165837\n",
              "2       2021   Jul  Ashrafieh  ...    595.0      1.0            0.394693\n",
              "3       2021   Jul  Ashrafieh  ...    750.0      1.0            0.497512\n",
              "4       2021   Jul  Ashrafieh  ...   1999.0      1.0            1.326036\n",
              "...      ...   ...        ...  ...      ...      ...                 ...\n",
              "278540  2018   Sep    Hazmieh  ...   6500.0      1.0            4.311774\n",
              "278541  2018   Sep    Hazmieh  ...   7250.0      1.0            4.809287\n",
              "278542  2018   Sep    Hazmieh  ...    500.0      1.0            0.331675\n",
              "278543  2018   Sep    Hazmieh  ...   3750.0      1.0            2.487562\n",
              "278544  2018   Sep    Hazmieh  ...   1999.0      1.0            1.326036\n",
              "\n",
              "[278545 rows x 14 columns]"
            ]
          },
          "metadata": {
            "tags": []
          },
          "execution_count": 189
        }
      ]
    },
    {
      "cell_type": "code",
      "metadata": {
        "colab": {
          "base_uri": "https://localhost:8080/",
          "height": 285
        },
        "id": "79bhwDbYxuZH",
        "outputId": "9077bfa5-84e1-4101-d305-9e517eeeb4d7"
      },
      "source": [
        "df.head(5)"
      ],
      "execution_count": 190,
      "outputs": [
        {
          "output_type": "execute_result",
          "data": {
            "text/html": [
              "<div>\n",
              "<style scoped>\n",
              "    .dataframe tbody tr th:only-of-type {\n",
              "        vertical-align: middle;\n",
              "    }\n",
              "\n",
              "    .dataframe tbody tr th {\n",
              "        vertical-align: top;\n",
              "    }\n",
              "\n",
              "    .dataframe thead th {\n",
              "        text-align: right;\n",
              "    }\n",
              "</style>\n",
              "<table border=\"1\" class=\"dataframe\">\n",
              "  <thead>\n",
              "    <tr style=\"text-align: right;\">\n",
              "      <th></th>\n",
              "      <th>Year</th>\n",
              "      <th>Month</th>\n",
              "      <th>Store_Name</th>\n",
              "      <th>Receipt_Number</th>\n",
              "      <th>Category</th>\n",
              "      <th>Group</th>\n",
              "      <th>Sub_Group</th>\n",
              "      <th>Item_Number</th>\n",
              "      <th>Item_Family</th>\n",
              "      <th>Item_Description</th>\n",
              "      <th>Product_Size</th>\n",
              "      <th>Price_LL</th>\n",
              "      <th>Quantity</th>\n",
              "      <th>Sales_Value_Dollars</th>\n",
              "    </tr>\n",
              "  </thead>\n",
              "  <tbody>\n",
              "    <tr>\n",
              "      <th>0</th>\n",
              "      <td>2021</td>\n",
              "      <td>Jul</td>\n",
              "      <td>Ashrafieh</td>\n",
              "      <td>000000PD02000660322</td>\n",
              "      <td>MEAL SOLUTIONS</td>\n",
              "      <td>HOT BEVERAGES</td>\n",
              "      <td>FLAVORED INSTANT COFFEE</td>\n",
              "      <td>264164</td>\n",
              "      <td>NESCAFE</td>\n",
              "      <td>NESCAFE 3IN1 CLASSIC BAG</td>\n",
              "      <td>30*20G</td>\n",
              "      <td>250.0</td>\n",
              "      <td>2.0</td>\n",
              "      <td>0.331675</td>\n",
              "    </tr>\n",
              "    <tr>\n",
              "      <th>1</th>\n",
              "      <td>2021</td>\n",
              "      <td>Jul</td>\n",
              "      <td>Ashrafieh</td>\n",
              "      <td>000000PD02000660322</td>\n",
              "      <td>BEVERAGES &amp; READY TO EAT</td>\n",
              "      <td>BISCUITS</td>\n",
              "      <td>WAFERS</td>\n",
              "      <td>104874</td>\n",
              "      <td>GANDOUR</td>\n",
              "      <td>GANDOUR UNICA</td>\n",
              "      <td>27G</td>\n",
              "      <td>250.0</td>\n",
              "      <td>1.0</td>\n",
              "      <td>0.165837</td>\n",
              "    </tr>\n",
              "    <tr>\n",
              "      <th>2</th>\n",
              "      <td>2021</td>\n",
              "      <td>Jul</td>\n",
              "      <td>Ashrafieh</td>\n",
              "      <td>000000PD02000660322</td>\n",
              "      <td>BEVERAGES &amp; READY TO EAT</td>\n",
              "      <td>CAKES</td>\n",
              "      <td>MINI CAKES</td>\n",
              "      <td>135173</td>\n",
              "      <td>ENG.CAKE</td>\n",
              "      <td>CAKE PLAIN</td>\n",
              "      <td>65G</td>\n",
              "      <td>595.0</td>\n",
              "      <td>1.0</td>\n",
              "      <td>0.394693</td>\n",
              "    </tr>\n",
              "    <tr>\n",
              "      <th>3</th>\n",
              "      <td>2021</td>\n",
              "      <td>Jul</td>\n",
              "      <td>Ashrafieh</td>\n",
              "      <td>000000PD02000660322</td>\n",
              "      <td>BEVERAGES &amp; READY TO EAT</td>\n",
              "      <td>CAKES</td>\n",
              "      <td>CROISSANT</td>\n",
              "      <td>479487</td>\n",
              "      <td>KARUZO</td>\n",
              "      <td>CROISSANT CHESSECAKE</td>\n",
              "      <td>62G</td>\n",
              "      <td>750.0</td>\n",
              "      <td>1.0</td>\n",
              "      <td>0.497512</td>\n",
              "    </tr>\n",
              "    <tr>\n",
              "      <th>4</th>\n",
              "      <td>2021</td>\n",
              "      <td>Jul</td>\n",
              "      <td>Ashrafieh</td>\n",
              "      <td>000000PD02000660322</td>\n",
              "      <td>TOBACCO</td>\n",
              "      <td>CIGARETTES</td>\n",
              "      <td>FULL STRENGTH</td>\n",
              "      <td>488316</td>\n",
              "      <td>WINSTON</td>\n",
              "      <td>BLUE COMPACT BOX SHORT</td>\n",
              "      <td>1PC</td>\n",
              "      <td>1999.0</td>\n",
              "      <td>1.0</td>\n",
              "      <td>1.326036</td>\n",
              "    </tr>\n",
              "  </tbody>\n",
              "</table>\n",
              "</div>"
            ],
            "text/plain": [
              "   Year Month Store_Name  ... Price_LL Quantity Sales_Value_Dollars\n",
              "0  2021   Jul  Ashrafieh  ...    250.0      2.0            0.331675\n",
              "1  2021   Jul  Ashrafieh  ...    250.0      1.0            0.165837\n",
              "2  2021   Jul  Ashrafieh  ...    595.0      1.0            0.394693\n",
              "3  2021   Jul  Ashrafieh  ...    750.0      1.0            0.497512\n",
              "4  2021   Jul  Ashrafieh  ...   1999.0      1.0            1.326036\n",
              "\n",
              "[5 rows x 14 columns]"
            ]
          },
          "metadata": {
            "tags": []
          },
          "execution_count": 190
        }
      ]
    },
    {
      "cell_type": "code",
      "metadata": {
        "id": "l38YCp5axuXC"
      },
      "source": [
        "\n",
        "def unique(list1):\n",
        "    x = np.array(list1)\n",
        "    print(np.unique(x))\n",
        "     \n"
      ],
      "execution_count": 194,
      "outputs": []
    },
    {
      "cell_type": "code",
      "metadata": {
        "id": "zabW-wNMxuO-"
      },
      "source": [
        "# # we dont need quantity sum we need either has taken or not so if user has taken that item mark as 1 else he has not taken 0.\n",
        "\n",
        "# def convert_into_binary(x):\n",
        "#     if x > 0:\n",
        "#         return 1\n",
        "#     else:\n",
        "#         return 0"
      ],
      "execution_count": 195,
      "outputs": []
    },
    {
      "cell_type": "code",
      "metadata": {
        "id": "qXzyMy59eAhA"
      },
      "source": [
        "df['SalesPerQtity'] = df.Sales_Value_Dollars @  df.Quantity"
      ],
      "execution_count": 196,
      "outputs": []
    },
    {
      "cell_type": "code",
      "metadata": {
        "colab": {
          "base_uri": "https://localhost:8080/",
          "height": 597
        },
        "id": "t4qBDFR_eS-G",
        "outputId": "72fd9eaa-d156-4ff1-8419-6a4662b6baa8"
      },
      "source": [
        "df"
      ],
      "execution_count": 197,
      "outputs": [
        {
          "output_type": "execute_result",
          "data": {
            "text/html": [
              "<div>\n",
              "<style scoped>\n",
              "    .dataframe tbody tr th:only-of-type {\n",
              "        vertical-align: middle;\n",
              "    }\n",
              "\n",
              "    .dataframe tbody tr th {\n",
              "        vertical-align: top;\n",
              "    }\n",
              "\n",
              "    .dataframe thead th {\n",
              "        text-align: right;\n",
              "    }\n",
              "</style>\n",
              "<table border=\"1\" class=\"dataframe\">\n",
              "  <thead>\n",
              "    <tr style=\"text-align: right;\">\n",
              "      <th></th>\n",
              "      <th>Year</th>\n",
              "      <th>Month</th>\n",
              "      <th>Store_Name</th>\n",
              "      <th>Receipt_Number</th>\n",
              "      <th>Category</th>\n",
              "      <th>Group</th>\n",
              "      <th>Sub_Group</th>\n",
              "      <th>Item_Number</th>\n",
              "      <th>Item_Family</th>\n",
              "      <th>Item_Description</th>\n",
              "      <th>Product_Size</th>\n",
              "      <th>Price_LL</th>\n",
              "      <th>Quantity</th>\n",
              "      <th>Sales_Value_Dollars</th>\n",
              "      <th>SalesPerQtity</th>\n",
              "    </tr>\n",
              "  </thead>\n",
              "  <tbody>\n",
              "    <tr>\n",
              "      <th>0</th>\n",
              "      <td>2021</td>\n",
              "      <td>Jul</td>\n",
              "      <td>Ashrafieh</td>\n",
              "      <td>000000PD02000660322</td>\n",
              "      <td>MEAL SOLUTIONS</td>\n",
              "      <td>HOT BEVERAGES</td>\n",
              "      <td>FLAVORED INSTANT COFFEE</td>\n",
              "      <td>264164</td>\n",
              "      <td>NESCAFE</td>\n",
              "      <td>NESCAFE 3IN1 CLASSIC BAG</td>\n",
              "      <td>30*20G</td>\n",
              "      <td>250.0</td>\n",
              "      <td>2.0</td>\n",
              "      <td>0.331675</td>\n",
              "      <td>1.994735e+06</td>\n",
              "    </tr>\n",
              "    <tr>\n",
              "      <th>1</th>\n",
              "      <td>2021</td>\n",
              "      <td>Jul</td>\n",
              "      <td>Ashrafieh</td>\n",
              "      <td>000000PD02000660322</td>\n",
              "      <td>BEVERAGES &amp; READY TO EAT</td>\n",
              "      <td>BISCUITS</td>\n",
              "      <td>WAFERS</td>\n",
              "      <td>104874</td>\n",
              "      <td>GANDOUR</td>\n",
              "      <td>GANDOUR UNICA</td>\n",
              "      <td>27G</td>\n",
              "      <td>250.0</td>\n",
              "      <td>1.0</td>\n",
              "      <td>0.165837</td>\n",
              "      <td>1.994735e+06</td>\n",
              "    </tr>\n",
              "    <tr>\n",
              "      <th>2</th>\n",
              "      <td>2021</td>\n",
              "      <td>Jul</td>\n",
              "      <td>Ashrafieh</td>\n",
              "      <td>000000PD02000660322</td>\n",
              "      <td>BEVERAGES &amp; READY TO EAT</td>\n",
              "      <td>CAKES</td>\n",
              "      <td>MINI CAKES</td>\n",
              "      <td>135173</td>\n",
              "      <td>ENG.CAKE</td>\n",
              "      <td>CAKE PLAIN</td>\n",
              "      <td>65G</td>\n",
              "      <td>595.0</td>\n",
              "      <td>1.0</td>\n",
              "      <td>0.394693</td>\n",
              "      <td>1.994735e+06</td>\n",
              "    </tr>\n",
              "    <tr>\n",
              "      <th>3</th>\n",
              "      <td>2021</td>\n",
              "      <td>Jul</td>\n",
              "      <td>Ashrafieh</td>\n",
              "      <td>000000PD02000660322</td>\n",
              "      <td>BEVERAGES &amp; READY TO EAT</td>\n",
              "      <td>CAKES</td>\n",
              "      <td>CROISSANT</td>\n",
              "      <td>479487</td>\n",
              "      <td>KARUZO</td>\n",
              "      <td>CROISSANT CHESSECAKE</td>\n",
              "      <td>62G</td>\n",
              "      <td>750.0</td>\n",
              "      <td>1.0</td>\n",
              "      <td>0.497512</td>\n",
              "      <td>1.994735e+06</td>\n",
              "    </tr>\n",
              "    <tr>\n",
              "      <th>4</th>\n",
              "      <td>2021</td>\n",
              "      <td>Jul</td>\n",
              "      <td>Ashrafieh</td>\n",
              "      <td>000000PD02000660322</td>\n",
              "      <td>TOBACCO</td>\n",
              "      <td>CIGARETTES</td>\n",
              "      <td>FULL STRENGTH</td>\n",
              "      <td>488316</td>\n",
              "      <td>WINSTON</td>\n",
              "      <td>BLUE COMPACT BOX SHORT</td>\n",
              "      <td>1PC</td>\n",
              "      <td>1999.0</td>\n",
              "      <td>1.0</td>\n",
              "      <td>1.326036</td>\n",
              "      <td>1.994735e+06</td>\n",
              "    </tr>\n",
              "    <tr>\n",
              "      <th>...</th>\n",
              "      <td>...</td>\n",
              "      <td>...</td>\n",
              "      <td>...</td>\n",
              "      <td>...</td>\n",
              "      <td>...</td>\n",
              "      <td>...</td>\n",
              "      <td>...</td>\n",
              "      <td>...</td>\n",
              "      <td>...</td>\n",
              "      <td>...</td>\n",
              "      <td>...</td>\n",
              "      <td>...</td>\n",
              "      <td>...</td>\n",
              "      <td>...</td>\n",
              "      <td>...</td>\n",
              "    </tr>\n",
              "    <tr>\n",
              "      <th>278540</th>\n",
              "      <td>2018</td>\n",
              "      <td>Sep</td>\n",
              "      <td>Hazmieh</td>\n",
              "      <td>000000PD03000770721</td>\n",
              "      <td>CHILLED</td>\n",
              "      <td>DAIRY PRODUCTS</td>\n",
              "      <td>LABNEH</td>\n",
              "      <td>142839</td>\n",
              "      <td>F/TAANAYEL</td>\n",
              "      <td>LABNEH BALADI</td>\n",
              "      <td>500G</td>\n",
              "      <td>6500.0</td>\n",
              "      <td>1.0</td>\n",
              "      <td>4.311774</td>\n",
              "      <td>1.994735e+06</td>\n",
              "    </tr>\n",
              "    <tr>\n",
              "      <th>278541</th>\n",
              "      <td>2018</td>\n",
              "      <td>Sep</td>\n",
              "      <td>Hazmieh</td>\n",
              "      <td>000000PD03000770721</td>\n",
              "      <td>CHILLED</td>\n",
              "      <td>IMPORTED CHEESE</td>\n",
              "      <td>CHEESE TUBS</td>\n",
              "      <td>336923</td>\n",
              "      <td>KIRI</td>\n",
              "      <td>KIRI SNOW SPREAD</td>\n",
              "      <td>350G</td>\n",
              "      <td>7250.0</td>\n",
              "      <td>1.0</td>\n",
              "      <td>4.809287</td>\n",
              "      <td>1.994735e+06</td>\n",
              "    </tr>\n",
              "    <tr>\n",
              "      <th>278542</th>\n",
              "      <td>2018</td>\n",
              "      <td>Sep</td>\n",
              "      <td>Hazmieh</td>\n",
              "      <td>000000PD03000770721</td>\n",
              "      <td>CHILLED</td>\n",
              "      <td>LOCAL/Import BREAD</td>\n",
              "      <td>ARABIC BREAD</td>\n",
              "      <td>440233</td>\n",
              "      <td>WOODEN B</td>\n",
              "      <td>TANNOUR BREAD SMALL 5\"S</td>\n",
              "      <td>160G</td>\n",
              "      <td>500.0</td>\n",
              "      <td>1.0</td>\n",
              "      <td>0.331675</td>\n",
              "      <td>1.994735e+06</td>\n",
              "    </tr>\n",
              "    <tr>\n",
              "      <th>278543</th>\n",
              "      <td>2018</td>\n",
              "      <td>Sep</td>\n",
              "      <td>Hazmieh</td>\n",
              "      <td>000000PD03000770721</td>\n",
              "      <td>CHILLED</td>\n",
              "      <td>LOCAL/Import BREAD</td>\n",
              "      <td>OTHER LOCAL/IMPORTED BREAD</td>\n",
              "      <td>175191</td>\n",
              "      <td>PAIN D'OR</td>\n",
              "      <td>PAIN AU LAIT</td>\n",
              "      <td>9PC</td>\n",
              "      <td>3750.0</td>\n",
              "      <td>1.0</td>\n",
              "      <td>2.487562</td>\n",
              "      <td>1.994735e+06</td>\n",
              "    </tr>\n",
              "    <tr>\n",
              "      <th>278544</th>\n",
              "      <td>2018</td>\n",
              "      <td>Sep</td>\n",
              "      <td>Hazmieh</td>\n",
              "      <td>000000PD03000770724</td>\n",
              "      <td>BEVERAGES &amp; READY TO EAT</td>\n",
              "      <td>SOFT DRINKS</td>\n",
              "      <td>ENERGY DRINKS</td>\n",
              "      <td>428093</td>\n",
              "      <td>XXL</td>\n",
              "      <td>XXL ENERGIE DRINK REGULAR</td>\n",
              "      <td>50CL</td>\n",
              "      <td>1999.0</td>\n",
              "      <td>1.0</td>\n",
              "      <td>1.326036</td>\n",
              "      <td>1.994735e+06</td>\n",
              "    </tr>\n",
              "  </tbody>\n",
              "</table>\n",
              "<p>278545 rows × 15 columns</p>\n",
              "</div>"
            ],
            "text/plain": [
              "        Year Month Store_Name  ... Quantity Sales_Value_Dollars SalesPerQtity\n",
              "0       2021   Jul  Ashrafieh  ...      2.0            0.331675  1.994735e+06\n",
              "1       2021   Jul  Ashrafieh  ...      1.0            0.165837  1.994735e+06\n",
              "2       2021   Jul  Ashrafieh  ...      1.0            0.394693  1.994735e+06\n",
              "3       2021   Jul  Ashrafieh  ...      1.0            0.497512  1.994735e+06\n",
              "4       2021   Jul  Ashrafieh  ...      1.0            1.326036  1.994735e+06\n",
              "...      ...   ...        ...  ...      ...                 ...           ...\n",
              "278540  2018   Sep    Hazmieh  ...      1.0            4.311774  1.994735e+06\n",
              "278541  2018   Sep    Hazmieh  ...      1.0            4.809287  1.994735e+06\n",
              "278542  2018   Sep    Hazmieh  ...      1.0            0.331675  1.994735e+06\n",
              "278543  2018   Sep    Hazmieh  ...      1.0            2.487562  1.994735e+06\n",
              "278544  2018   Sep    Hazmieh  ...      1.0            1.326036  1.994735e+06\n",
              "\n",
              "[278545 rows x 15 columns]"
            ]
          },
          "metadata": {
            "tags": []
          },
          "execution_count": 197
        }
      ]
    },
    {
      "cell_type": "markdown",
      "metadata": {
        "id": "DHQPRbXBpPIu"
      },
      "source": [
        "# Understanding the data with the help of visualisation"
      ]
    },
    {
      "cell_type": "code",
      "metadata": {
        "id": "fuG1JwMXm2B2",
        "colab": {
          "base_uri": "https://localhost:8080/",
          "height": 412
        },
        "outputId": "8886e0ce-9064-4dcc-c353-4121bcd35841"
      },
      "source": [
        "# Let's see how the data is distributed\n",
        "\n",
        "fig=plt.figure(figsize=(25,6))\n",
        "sns.countplot(x=\"Store_Name\",data=df)"
      ],
      "execution_count": 198,
      "outputs": [
        {
          "output_type": "execute_result",
          "data": {
            "text/plain": [
              "<matplotlib.axes._subplots.AxesSubplot at 0x7ff03f93f210>"
            ]
          },
          "metadata": {
            "tags": []
          },
          "execution_count": 198
        },
        {
          "output_type": "display_data",
          "data": {
            "image/png": "[encoded data removed]",
            "text/plain": [
              "<Figure size 1800x432 with 1 Axes>"
            ]
          },
          "metadata": {
            "tags": []
          }
        }
      ]
    },
    {
      "cell_type": "code",
      "metadata": {
        "colab": {
          "base_uri": "https://localhost:8080/",
          "height": 520
        },
        "id": "7JnGFLy_pWsK",
        "outputId": "e3f53a92-3031-488b-ce44-3ac0c9f43be9"
      },
      "source": [
        "fig=plt.figure(figsize=(25,8))\n",
        "sns.countplot(x=\"Category\",data=df)"
      ],
      "execution_count": 199,
      "outputs": [
        {
          "output_type": "execute_result",
          "data": {
            "text/plain": [
              "<matplotlib.axes._subplots.AxesSubplot at 0x7ff02ea17510>"
            ]
          },
          "metadata": {
            "tags": []
          },
          "execution_count": 199
        },
        {
          "output_type": "display_data",
          "data": {
            "image/png": "[encoded data removed]",
            "text/plain": [
              "<Figure size 1800x576 with 1 Axes>"
            ]
          },
          "metadata": {
            "tags": []
          }
        }
      ]
    },
    {
      "cell_type": "markdown",
      "metadata": {
        "id": "yBGn2iMx1tD4"
      },
      "source": [
        "It appears that Beverage and ready to eat is the most items appear in this dataset "
      ]
    },
    {
      "cell_type": "code",
      "metadata": {
        "id": "oTIpxQZnpvxo"
      },
      "source": [
        "#we select a sample of data bcz it is very large we use loc function\n",
        "#training_dataSet = df.loc[10:1000]"
      ],
      "execution_count": 200,
      "outputs": []
    },
    {
      "cell_type": "code",
      "metadata": {
        "colab": {
          "base_uri": "https://localhost:8080/",
          "height": 902
        },
        "id": "UPS3Vlibpzvq",
        "outputId": "31538b4c-0851-49aa-aed0-959d1fdd1c5a"
      },
      "source": [
        "#item family \n",
        "#enhace size of x for showing the words clearly \n",
        "fig=plt.figure(figsize=(20,15))\n",
        "sns.countplot(x='Item_Family',data=df)"
      ],
      "execution_count": 202,
      "outputs": [
        {
          "output_type": "execute_result",
          "data": {
            "text/plain": [
              "<matplotlib.axes._subplots.AxesSubplot at 0x7ff03f485f50>"
            ]
          },
          "metadata": {
            "tags": []
          },
          "execution_count": 202
        },
        {
          "output_type": "display_data",
          "data": {
            "image/png": "[encoded data removed]",
            "text/plain": [
              "<Figure size 1440x1080 with 1 Axes>"
            ]
          },
          "metadata": {
            "tags": []
          }
        }
      ]
    },
    {
      "cell_type": "code",
      "metadata": {
        "id": "b6WJH1HXwcGt"
      },
      "source": [
        "year_x =df.Store_Name.unique()"
      ],
      "execution_count": 204,
      "outputs": []
    },
    {
      "cell_type": "code",
      "metadata": {
        "id": "fLjLfoDET2A2"
      },
      "source": [
        "year_x=year_x.tolist()"
      ],
      "execution_count": 205,
      "outputs": []
    },
    {
      "cell_type": "code",
      "metadata": {
        "colab": {
          "base_uri": "https://localhost:8080/"
        },
        "id": "Y4TLtGfjY3cb",
        "outputId": "05e1a0bc-a44d-4e72-c4be-2a1757b636df"
      },
      "source": [
        "year_x"
      ],
      "execution_count": 206,
      "outputs": [
        {
          "output_type": "execute_result",
          "data": {
            "text/plain": [
              "['Ashrafieh', 'Jbeil', 'Dbayeh', 'Hazmieh']"
            ]
          },
          "metadata": {
            "tags": []
          },
          "execution_count": 206
        }
      ]
    },
    {
      "cell_type": "code",
      "metadata": {
        "colab": {
          "base_uri": "https://localhost:8080/"
        },
        "id": "JAf6XuMBZFsN",
        "outputId": "b4dc56f9-7fcb-4918-f334-eb28d1f40353"
      },
      "source": [
        "df.Quantity.value_counts().head(5)"
      ],
      "execution_count": 207,
      "outputs": [
        {
          "output_type": "execute_result",
          "data": {
            "text/plain": [
              "1.0    210725\n",
              "2.0     37679\n",
              "4.0      7519\n",
              "3.0      7041\n",
              "6.0      4469\n",
              "Name: Quantity, dtype: int64"
            ]
          },
          "metadata": {
            "tags": []
          },
          "execution_count": 207
        }
      ]
    },
    {
      "cell_type": "code",
      "metadata": {
        "colab": {
          "base_uri": "https://localhost:8080/",
          "height": 264
        },
        "id": "t8BCZxt3aak1",
        "outputId": "53723e28-4b83-441b-fe77-4d25d093cda5"
      },
      "source": [
        "#Let's see the Store Name people tends to use to purchase products\n",
        "labels = df['Store_Name'].value_counts().index\n",
        "sizes = df['Store_Name'].value_counts().values\n",
        "explode = (0, 0.1, 0.2, 0.1)  # only \"explode\" the 2nd and 3rd slices (i.e. 'Hogs')\n",
        "\n",
        "fig1, ax1 = plt.subplots()\n",
        "ax1.pie(sizes, explode=explode, labels=labels, autopct='%1.1f%%',\n",
        "        shadow=True, startangle=90)\n",
        "ax1.axis('equal')  # Equal aspect ratio ensures that pie is drawn as a circle.\n",
        "\n",
        "ax1.set_title(\"Retail Shop Store Types\")\n",
        "\n",
        "plt.show()"
      ],
      "execution_count": 208,
      "outputs": [
        {
          "output_type": "display_data",
          "data": {
            "image/png": "[encoded data removed]",
            "text/plain": [
              "<Figure size 432x288 with 1 Axes>"
            ]
          },
          "metadata": {
            "tags": []
          }
        }
      ]
    },
    {
      "cell_type": "markdown",
      "metadata": {
        "id": "1SBiy4_01IKn"
      },
      "source": [
        "Only about 40.9% of data  from Ashrafieh.\n",
        "16.6% Dbayeh\n",
        "24.5% Jbeil \n",
        "18.0% from Hzmieh"
      ]
    },
    {
      "cell_type": "code",
      "metadata": {
        "colab": {
          "base_uri": "https://localhost:8080/"
        },
        "id": "Zed4sl-Qa8Pw",
        "outputId": "4f6fbe99-e946-4a5c-b8f1-30e74d002908"
      },
      "source": [
        "#let's see the unique value in the dimension\n",
        "print(\"# unique values in Store name: {0}\".format(len(df['Store_Name'].unique().tolist())))\n",
        "print(\"# unique values in group: {0}\".format(len(df['Group'].unique().tolist())))\n",
        "print(\"# unique values in year : {0}\".format(len(df['Year'].unique().tolist())))\n",
        "print(\"# unique values in month: {0}\".format(len(df['Month'].unique().tolist())))\n",
        "\n",
        "print(\"# unique values in category: {0}\".format(len(df['Category'].unique().tolist())))\n",
        "print(\"# unique values in group: {0}\".format(len(df['Group'].unique().tolist())))\n",
        "print(\"# unique values in Sub-group : {0}\".format(len(df['Sub_Group'].unique().tolist())))\n",
        "print(\"# unique values in Item Number: {0}\".format(len(df['Item_Number'].unique().tolist())))\n",
        "print(\"# unique values in Quantity: {0}\".format(len(df['Quantity'].unique().tolist())))\n",
        "\n"
      ],
      "execution_count": 209,
      "outputs": [
        {
          "output_type": "stream",
          "text": [
            "# unique values in Store name: 4\n",
            "# unique values in group: 99\n",
            "# unique values in year : 4\n",
            "# unique values in month: 3\n",
            "# unique values in category: 10\n",
            "# unique values in group: 99\n",
            "# unique values in Sub-group : 523\n",
            "# unique values in Item Number: 11570\n",
            "# unique values in Quantity: 340\n"
          ],
          "name": "stdout"
        }
      ]
    },
    {
      "cell_type": "markdown",
      "metadata": {
        "id": "ygNWTjuocwXo"
      },
      "source": [
        "# How many unique items do we have ?\n",
        "We can identify the countries with the highest number of respondents using the value_counts method.\n"
      ]
    },
    {
      "cell_type": "code",
      "metadata": {
        "colab": {
          "base_uri": "https://localhost:8080/"
        },
        "id": "tHICg8sxckxp",
        "outputId": "d87209c6-c761-46ec-bc39-26421fc98530"
      },
      "source": [
        "topFive_Item_Number=df.Item_Number.value_counts().head(5)\n",
        "topFive_Item_Number"
      ],
      "execution_count": 251,
      "outputs": [
        {
          "output_type": "execute_result",
          "data": {
            "text/plain": [
              "404735    2092\n",
              "110805    1449\n",
              "264163    1176\n",
              "108736    1010\n",
              "138214    1004\n",
              "Name: Item_Number, dtype: int64"
            ]
          },
          "metadata": {
            "tags": []
          },
          "execution_count": 251
        }
      ]
    },
    {
      "cell_type": "code",
      "metadata": {
        "colab": {
          "base_uri": "https://localhost:8080/"
        },
        "id": "lvhGRkdackuc",
        "outputId": "fe41d4c2-bfd4-465f-e072-76352061b966"
      },
      "source": [
        "topFive_ItemdDesc= df.Item_Description.value_counts().head(5)\n",
        "topFive_ItemdDesc"
      ],
      "execution_count": 252,
      "outputs": [
        {
          "output_type": "execute_result",
          "data": {
            "text/plain": [
              "MINERAL WATER PET    7484\n",
              "TWIX BISCUIT TOP     2092\n",
              "LABNEH BALADI        1291\n",
              "LABNEH               1287\n",
              "EGGS RED             1218\n",
              "Name: Item_Description, dtype: int64"
            ]
          },
          "metadata": {
            "tags": []
          },
          "execution_count": 252
        }
      ]
    },
    {
      "cell_type": "code",
      "metadata": {
        "colab": {
          "base_uri": "https://localhost:8080/"
        },
        "id": "4QEI3yhWcksi",
        "outputId": "250ba321-785f-4544-ba1f-67dd400187f2"
      },
      "source": [
        "top_5_SubGroup=df.Sub_Group.value_counts().head(5)\n",
        "top_5_SubGroup"
      ],
      "execution_count": 255,
      "outputs": [
        {
          "output_type": "execute_result",
          "data": {
            "text/plain": [
              "LOCAL WATER                   9691\n",
              "BARS                          7747\n",
              "CHIPS BAGS                    6598\n",
              "OTHER LOCAL/IMPORTED BREAD    6188\n",
              "LABNEH                        5949\n",
              "Name: Sub_Group, dtype: int64"
            ]
          },
          "metadata": {
            "tags": []
          },
          "execution_count": 255
        }
      ]
    },
    {
      "cell_type": "code",
      "metadata": {
        "colab": {
          "base_uri": "https://localhost:8080/"
        },
        "id": "AaX2odsrckqd",
        "outputId": "715fe69e-4d51-4be9-a6c9-459289d4021b"
      },
      "source": [
        "top_5_Group = df.Group.value_counts().head(5)\n",
        "top_5_Group"
      ],
      "execution_count": 257,
      "outputs": [
        {
          "output_type": "execute_result",
          "data": {
            "text/plain": [
              "LOCAL/Import BREAD        15801\n",
              "BISCUITS                  15045\n",
              "DAIRY PRODUCTS            14681\n",
              "WATER                     12149\n",
              "CONFECTIONERY CHOCLATE    12136\n",
              "Name: Group, dtype: int64"
            ]
          },
          "metadata": {
            "tags": []
          },
          "execution_count": 257
        }
      ]
    },
    {
      "cell_type": "code",
      "metadata": {
        "colab": {
          "base_uri": "https://localhost:8080/"
        },
        "id": "ledgov4-ckoJ",
        "outputId": "84df6f7b-f3c2-45d6-eb49-fe3d11ac50f9"
      },
      "source": [
        "top_5_Category= df.Category.value_counts().head(5)\n",
        "top_5_Category"
      ],
      "execution_count": 258,
      "outputs": [
        {
          "output_type": "execute_result",
          "data": {
            "text/plain": [
              "BEVERAGES & READY TO EAT    88487\n",
              "MEAL SOLUTIONS              59673\n",
              "CHILLED                     58364\n",
              "CLEANING                    25022\n",
              "HEALTH & BEAUTY             20327\n",
              "Name: Category, dtype: int64"
            ]
          },
          "metadata": {
            "tags": []
          },
          "execution_count": 258
        }
      ]
    },
    {
      "cell_type": "code",
      "metadata": {
        "colab": {
          "base_uri": "https://localhost:8080/"
        },
        "id": "8pSolQffckkT",
        "outputId": "673ce438-0c1e-4251-8920-8d9501479343"
      },
      "source": [
        "top_5_Month = df.Month.value_counts().head(5)\n",
        "top_5_Month"
      ],
      "execution_count": 259,
      "outputs": [
        {
          "output_type": "execute_result",
          "data": {
            "text/plain": [
              "Sep    95805\n",
              "Jul    93874\n",
              "Aug    88866\n",
              "Name: Month, dtype: int64"
            ]
          },
          "metadata": {
            "tags": []
          },
          "execution_count": 259
        }
      ]
    },
    {
      "cell_type": "code",
      "metadata": {
        "colab": {
          "base_uri": "https://localhost:8080/"
        },
        "id": "jkwtwH1UcchN",
        "outputId": "210c1117-caa5-489c-9888-f92d2adf1fce"
      },
      "source": [
        "top_5_Item_family = df.Item_Family.value_counts().head(5)\n",
        "top_5_Item_family"
      ],
      "execution_count": 261,
      "outputs": [
        {
          "output_type": "execute_result",
          "data": {
            "text/plain": [
              "SPINNEYS      17868\n",
              "F/TAANAYEL     9759\n",
              "CASINO         9197\n",
              "NESCAFE        5063\n",
              "CANDIA         4889\n",
              "Name: Item_Family, dtype: int64"
            ]
          },
          "metadata": {
            "tags": []
          },
          "execution_count": 261
        }
      ]
    },
    {
      "cell_type": "code",
      "metadata": {
        "id": "HwSW1CCMcsme"
      },
      "source": [
        "# top_5_Year= df.Year.value_counts().head(5)\n",
        "# top_5_Year"
      ],
      "execution_count": 263,
      "outputs": []
    },
    {
      "cell_type": "code",
      "metadata": {
        "colab": {
          "base_uri": "https://localhost:8080/"
        },
        "id": "MCIbs8NvcskM",
        "outputId": "1111809c-e8b8-4b91-a132-f9f1132d18bc"
      },
      "source": [
        "top_3_store_Name= df.Store_Name.value_counts().head(3)\n",
        "top_3_store_Name"
      ],
      "execution_count": 266,
      "outputs": [
        {
          "output_type": "execute_result",
          "data": {
            "text/plain": [
              "Ashrafieh    113790\n",
              "Jbeil         68336\n",
              "Dbayeh        50185\n",
              "Name: Store_Name, dtype: int64"
            ]
          },
          "metadata": {
            "tags": []
          },
          "execution_count": 266
        }
      ]
    },
    {
      "cell_type": "code",
      "metadata": {
        "id": "ZjSIqsEPvtx6"
      },
      "source": [
        "# import matplotlib.pyplot as plt\n",
        "# %matplotlib inline\n"
      ],
      "execution_count": 272,
      "outputs": []
    },
    {
      "cell_type": "code",
      "metadata": {
        "id": "_KZBZkKHvHX7"
      },
      "source": [
        "#We can visualize this information using a bar chart.\n",
        "\n",
        "sns.set_style('darkgrid')\n",
        "plt.rcParams['font.size'] = 14\n",
        "plt.rcParams['figure.figsize'] = (9, 5)\n",
        "plt.rcParams['figure.facecolor'] = '#00000000'"
      ],
      "execution_count": 273,
      "outputs": []
    },
    {
      "cell_type": "code",
      "metadata": {
        "colab": {
          "base_uri": "https://localhost:8080/"
        },
        "id": "G8NtzUxjvHV3",
        "outputId": "5753dd5a-1af0-4695-a3ac-fba27be4506f"
      },
      "source": [
        "df.Store_Name"
      ],
      "execution_count": 275,
      "outputs": [
        {
          "output_type": "execute_result",
          "data": {
            "text/plain": [
              "0         Ashrafieh\n",
              "1         Ashrafieh\n",
              "2         Ashrafieh\n",
              "3         Ashrafieh\n",
              "4         Ashrafieh\n",
              "            ...    \n",
              "278540      Hazmieh\n",
              "278541      Hazmieh\n",
              "278542      Hazmieh\n",
              "278543      Hazmieh\n",
              "278544      Hazmieh\n",
              "Name: Store_Name, Length: 278545, dtype: object"
            ]
          },
          "metadata": {
            "tags": []
          },
          "execution_count": 275
        }
      ]
    },
    {
      "cell_type": "code",
      "metadata": {
        "colab": {
          "base_uri": "https://localhost:8080/"
        },
        "id": "Qc3SfTUUvHTR",
        "outputId": "0191ac72-3786-4853-cf1f-29331967fd0c"
      },
      "source": [
        "#we have 4 different country\n",
        "df.Store_Name.nunique()"
      ],
      "execution_count": 277,
      "outputs": [
        {
          "output_type": "execute_result",
          "data": {
            "text/plain": [
              "4"
            ]
          },
          "metadata": {
            "tags": []
          },
          "execution_count": 277
        }
      ]
    },
    {
      "cell_type": "code",
      "metadata": {
        "colab": {
          "base_uri": "https://localhost:8080/"
        },
        "id": "hV0GskcowoG-",
        "outputId": "bedbd66e-3dfa-42a5-849a-a65b1c508c46"
      },
      "source": [
        "type(top_3_store_Name)"
      ],
      "execution_count": 290,
      "outputs": [
        {
          "output_type": "execute_result",
          "data": {
            "text/plain": [
              "pandas.core.series.Series"
            ]
          },
          "metadata": {
            "tags": []
          },
          "execution_count": 290
        }
      ]
    },
    {
      "cell_type": "code",
      "metadata": {
        "id": "vsE8GfgmwzES"
      },
      "source": [
        "# list_store_top3=pd.Series(top_3_store_Name).tolist()"
      ],
      "execution_count": 291,
      "outputs": []
    },
    {
      "cell_type": "code",
      "metadata": {
        "colab": {
          "base_uri": "https://localhost:8080/"
        },
        "id": "TOMK4wwvxgGJ",
        "outputId": "68f2273c-caf8-451e-9709-7a9ed8b9b219"
      },
      "source": [
        "top_3_store_Name.dtypes"
      ],
      "execution_count": 301,
      "outputs": [
        {
          "output_type": "execute_result",
          "data": {
            "text/plain": [
              "dtype('int64')"
            ]
          },
          "metadata": {
            "tags": []
          },
          "execution_count": 301
        }
      ]
    },
    {
      "cell_type": "code",
      "metadata": {
        "colab": {
          "base_uri": "https://localhost:8080/",
          "height": 435
        },
        "id": "YXPfztTKxzhp",
        "outputId": "d8499e3b-2a2b-4f66-ecea-05372c7ecea7"
      },
      "source": [
        "plt.figure(figsize=(12,6))\n",
        "plt.xticks(rotation=75)\n",
        "# plt.title(df.Store_Name.unique)\n",
        "plt.title(\"Where we collect the data ?\")\n",
        "sns.barplot(x=top_3_store_Name.index, y=top_3_store_Name);\n"
      ],
      "execution_count": 303,
      "outputs": [
        {
          "output_type": "display_data",
          "data": {
            "image/png": "[encoded data removed]",
            "text/plain": [
              "<Figure size 864x432 with 1 Axes>"
            ]
          },
          "metadata": {
            "tags": [],
            "needs_background": "light"
          }
        }
      ]
    },
    {
      "cell_type": "markdown",
      "metadata": {
        "id": "50yAlk870lq1"
      },
      "source": [
        "Set the label in the x horizontally ??!!"
      ]
    },
    {
      "cell_type": "code",
      "metadata": {
        "colab": {
          "base_uri": "https://localhost:8080/",
          "height": 410
        },
        "id": "ONyXzHqXysQl",
        "outputId": "0080728e-57cf-4c1d-8ad8-0a7b0317a57b"
      },
      "source": [
        "plt.figure(figsize=(12, 6))\n",
        "plt.title(\"What are the existing groups in this datasets?\")\n",
        "plt.xlabel('SUbGroup')\n",
        "plt.ylabel('Number of groupss')\n",
        "\n",
        "plt.hist(df.Sub_Group, bins=np.arange(10,80,5), color='purple');"
      ],
      "execution_count": 329,
      "outputs": [
        {
          "output_type": "display_data",
          "data": {
            "image/png": "[encoded data removed]",
            "text/plain": [
              "<Figure size 864x432 with 1 Axes>"
            ]
          },
          "metadata": {
            "tags": [],
            "needs_background": "light"
          }
        }
      ]
    },
    {
      "cell_type": "markdown",
      "metadata": {
        "id": "NgZVUiO22kW6"
      },
      "source": [
        "What are the most popular product languages in 2020?\n",
        "\n",
        "To answer, this we can use the Item_family column. "
      ]
    },
    {
      "cell_type": "markdown",
      "metadata": {
        "id": "IhYs5NIQ5DfN"
      },
      "source": [
        "we group all the products related to a unique receipt number \n"
      ]
    },
    {
      "cell_type": "code",
      "metadata": {
        "id": "3D46KHY83i0Y"
      },
      "source": [
        "# related_product_by_receipt= df.groupby(['Receipt_Number','Item_Description']).count()\n",
        "# related_product_by_receipt"
      ],
      "execution_count": 352,
      "outputs": []
    },
    {
      "cell_type": "code",
      "metadata": {
        "colab": {
          "base_uri": "https://localhost:8080/"
        },
        "id": "4kQ18Roo7R1h",
        "outputId": "833bec00-4350-40ff-c562-ea608998b692"
      },
      "source": [
        "new_df=df.groupby(['Item_Family','Year'])['Item_Family'].count()\n",
        "new_df"
      ],
      "execution_count": 354,
      "outputs": [
        {
          "output_type": "execute_result",
          "data": {
            "text/plain": [
              "Item_Family  Year\n",
              "151          2018      4\n",
              "             2019      3\n",
              "             2020      3\n",
              "             2021      5\n",
              "409          2018      1\n",
              "                    ... \n",
              "ZWAN         2020    117\n",
              "             2021    119\n",
              "ZWITSAL      2018      1\n",
              "             2020      3\n",
              "             2021      1\n",
              "Name: Item_Family, Length: 4059, dtype: int64"
            ]
          },
          "metadata": {
            "tags": []
          },
          "execution_count": 354
        }
      ]
    },
    {
      "cell_type": "code",
      "metadata": {
        "id": "mL7QL9lbysMd"
      },
      "source": [
        "#df.Item_Family.unique"
      ],
      "execution_count": 356,
      "outputs": []
    },
    {
      "cell_type": "code",
      "metadata": {
        "colab": {
          "base_uri": "https://localhost:8080/"
        },
        "id": "ntBMUfM2889-",
        "outputId": "e50cde13-7646-4ec2-ea0f-6e81eb6992cb"
      },
      "source": [
        "type(new_df)"
      ],
      "execution_count": 361,
      "outputs": [
        {
          "output_type": "execute_result",
          "data": {
            "text/plain": [
              "pandas.core.series.Series"
            ]
          },
          "metadata": {
            "tags": []
          },
          "execution_count": 361
        }
      ]
    },
    {
      "cell_type": "markdown",
      "metadata": {
        "id": "UWcXlRaB2-GW"
      },
      "source": [
        "First, we'll split this column into a data frame containing a column of each item listed in the options."
      ]
    },
    {
      "cell_type": "code",
      "metadata": {
        "id": "nhNHN6k39bG7"
      },
      "source": [
        "item_fam= df['Item_Family']\n",
        "year = df ['Year']"
      ],
      "execution_count": 370,
      "outputs": []
    },
    {
      "cell_type": "code",
      "metadata": {
        "colab": {
          "base_uri": "https://localhost:8080/",
          "height": 211
        },
        "id": "n0WgXGsfysE-",
        "outputId": "451e8c01-bd1f-4fde-f354-1cfe03d40667"
      },
      "source": [
        "plt.figure(figsize=(112, 12))\n",
        "sns.barplot(x=item_fam, y=year.index)\n",
        "plt.title(\"Languages used in the past year\");\n",
        "plt.xlabel('count');"
      ],
      "execution_count": 372,
      "outputs": [
        {
          "output_type": "display_data",
          "data": {
            "image/png": "[encoded data removed]",
            "text/plain": [
              "<Figure size 8064x864 with 1 Axes>"
            ]
          },
          "metadata": {
            "tags": [],
            "needs_background": "light"
          }
        }
      ]
    },
    {
      "cell_type": "code",
      "metadata": {
        "id": "K-dm5I92jq55"
      },
      "source": [
        "# df_to_array=pd.Series(df).array"
      ],
      "execution_count": 220,
      "outputs": []
    },
    {
      "cell_type": "code",
      "metadata": {
        "id": "R5A6wqyTiZ-p"
      },
      "source": [
        "# type(df_to_array)"
      ],
      "execution_count": 221,
      "outputs": []
    },
    {
      "cell_type": "code",
      "metadata": {
        "id": "wnW0Vmd0jy3M"
      },
      "source": [
        "# df_to_array"
      ],
      "execution_count": 222,
      "outputs": []
    },
    {
      "cell_type": "code",
      "metadata": {
        "colab": {
          "base_uri": "https://localhost:8080/"
        },
        "id": "qrzSFZOtjywl",
        "outputId": "53e9c50b-29b5-497d-951e-021942a5d483"
      },
      "source": [
        "type(df)"
      ],
      "execution_count": 225,
      "outputs": [
        {
          "output_type": "execute_result",
          "data": {
            "text/plain": [
              "pandas.core.frame.DataFrame"
            ]
          },
          "metadata": {
            "tags": []
          },
          "execution_count": 225
        }
      ]
    },
    {
      "cell_type": "code",
      "metadata": {
        "id": "EcFuSfqUmhxe"
      },
      "source": [
        "array_store_Name_x=df['Store_Name']"
      ],
      "execution_count": 238,
      "outputs": []
    },
    {
      "cell_type": "code",
      "metadata": {
        "id": "_sVY24xXnAc7"
      },
      "source": [
        "array_salesPerQtity_y= df['SalesPerQtity']"
      ],
      "execution_count": 239,
      "outputs": []
    },
    {
      "cell_type": "code",
      "metadata": {
        "colab": {
          "base_uri": "https://localhost:8080/"
        },
        "id": "8v4rTsRWmnUm",
        "outputId": "72ba0a94-a56c-41f5-8fee-327fe569e803"
      },
      "source": [
        "type(df['Store_Name'].value_counts())"
      ],
      "execution_count": 246,
      "outputs": [
        {
          "output_type": "execute_result",
          "data": {
            "text/plain": [
              "pandas.core.series.Series"
            ]
          },
          "metadata": {
            "tags": []
          },
          "execution_count": 246
        }
      ]
    },
    {
      "cell_type": "code",
      "metadata": {
        "colab": {
          "base_uri": "https://localhost:8080/",
          "height": 313
        },
        "id": "aJ_1kR4Mmqk8",
        "outputId": "976bddb7-cb65-413e-9da8-49dd8e017d72"
      },
      "source": [
        "plt.plot(array_store_Name_x,array_salesPerQtity_y)\n",
        "plt.xlabel(\"Store Name\")\n",
        "plt.ylabel('Sales per Qtity')"
      ],
      "execution_count": 248,
      "outputs": [
        {
          "output_type": "execute_result",
          "data": {
            "text/plain": [
              "Text(0, 0.5, 'Sales per Qtity')"
            ]
          },
          "metadata": {
            "tags": []
          },
          "execution_count": 248
        },
        {
          "output_type": "display_data",
          "data": {
            "image/png": "[encoded data removed]",
            "text/plain": [
              "<Figure size 432x288 with 1 Axes>"
            ]
          },
          "metadata": {
            "tags": []
          }
        }
      ]
    },
    {
      "cell_type": "code",
      "metadata": {
        "id": "Yd6Nj0maoxZA"
      },
      "source": [
        "years=df['Year']"
      ],
      "execution_count": 249,
      "outputs": []
    },
    {
      "cell_type": "code",
      "metadata": {
        "colab": {
          "base_uri": "https://localhost:8080/"
        },
        "id": "I3noGmOeo7cQ",
        "outputId": "1aeed2f8-d80d-4f62-c0e4-3b5e745a99e0"
      },
      "source": [
        "years"
      ],
      "execution_count": 250,
      "outputs": [
        {
          "output_type": "execute_result",
          "data": {
            "text/plain": [
              "0         2021\n",
              "1         2021\n",
              "2         2021\n",
              "3         2021\n",
              "4         2021\n",
              "          ... \n",
              "278540    2018\n",
              "278541    2018\n",
              "278542    2018\n",
              "278543    2018\n",
              "278544    2018\n",
              "Name: Year, Length: 278545, dtype: int64"
            ]
          },
          "metadata": {
            "tags": []
          },
          "execution_count": 250
        }
      ]
    },
    {
      "cell_type": "code",
      "metadata": {
        "id": "RSTC-56Eo7XQ"
      },
      "source": [
        ""
      ],
      "execution_count": null,
      "outputs": []
    }
  ]
}