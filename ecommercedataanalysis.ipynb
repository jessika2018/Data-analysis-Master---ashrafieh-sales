{
  "nbformat": 4,
  "nbformat_minor": 0,
  "metadata": {
    "kernelspec": {
      "language": "python",
      "display_name": "Python 3",
      "name": "python3"
    },
    "language_info": {
      "name": "python",
      "version": "3.7.9",
      "mimetype": "text/x-python",
      "codemirror_mode": {
        "name": "ipython",
        "version": 3
      },
      "pygments_lexer": "ipython3",
      "nbconvert_exporter": "python",
      "file_extension": ".py"
    },
    "colab": {
      "name": "ecommercedataanalysis.ipynb",
      "provenance": [],
      "include_colab_link": true
    }
  },
  "cells": [
    {
      "cell_type": "markdown",
      "metadata": {
        "id": "view-in-github",
        "colab_type": "text"
      },
      "source": [
        "<a href=\"https://colab.research.google.com/github/jessika2018/Data-analysis-Master---ashrafieh-sales/blob/main/ecommercedataanalysis.ipynb\" target=\"_parent\"><img src=\"https://colab.research.google.com/assets/colab-badge.svg\" alt=\"Open In Colab\"/></a>"
      ]
    },
    {
      "cell_type": "code",
      "metadata": {
        "_uuid": "8f2839f25d086af736a60e9eeb907d3b93b6e0e5",
        "_cell_guid": "b1076dfc-b9ad-4769-8c92-a6c4dae69d19",
        "trusted": true,
        "id": "xTbw6oQTuCh5"
      },
      "source": [
        "# # This Python 3 environment comes with many helpful analytics libraries installed\n",
        "# # It is defined by the kaggle/python Docker image: https://github.com/kaggle/docker-python\n",
        "# # For example, here's several helpful packages to load\n",
        "\n",
        "# import numpy as np # linear algebra\n",
        "# import pandas as pd # data processing, CSV file I/O (e.g. pd.read_csv)\n",
        "\n",
        "# # Input data files are available in the read-only \"../input/\" directory\n",
        "# # For example, running this (by clicking run or pressing Shift+Enter) will list all files under the input directory\n",
        "\n",
        "# import os\n",
        "# for dirname, _, filenames in os.walk('/kaggle/input'):\n",
        "#     for filename in filenames:\n",
        "#         print(os.path.join(dirname, filename))\n",
        "\n",
        "# # You can write up to 20GB to the current directory (/kaggle/working/) that gets preserved as output when you create a version using \"Save & Run All\" \n",
        "# # You can also write temporary files to /kaggle/temp/, but they won't be saved outside of the current session"
      ],
      "execution_count": 5,
      "outputs": []
    },
    {
      "cell_type": "code",
      "metadata": {
        "trusted": true,
        "id": "MrhyBZrKuCh8"
      },
      "source": [
        "import pandas as pd\n",
        "import numpy as np\n",
        "import matplotlib.pyplot as plt\n",
        "import seaborn as sns"
      ],
      "execution_count": 2,
      "outputs": []
    },
    {
      "cell_type": "code",
      "metadata": {
        "trusted": true,
        "id": "ppzHo09huCh9"
      },
      "source": [
        "import warnings\n",
        "warnings.filterwarnings('ignore')"
      ],
      "execution_count": 3,
      "outputs": []
    },
    {
      "cell_type": "code",
      "metadata": {
        "trusted": true,
        "id": "I-oLk66GuCh9"
      },
      "source": [
        "dat = pd.read_csv('/content/Year 2019-2020.csv',encoding=\"ISO-8859-1\")\n",
        "# ,encoding='cp874'"
      ],
      "execution_count": 6,
      "outputs": []
    },
    {
      "cell_type": "code",
      "metadata": {
        "trusted": true,
        "colab": {
          "base_uri": "https://localhost:8080/",
          "height": 362
        },
        "id": "yV0UbFkuuCh9",
        "outputId": "8826817f-ec7b-441b-ce83-a93917bcea8d"
      },
      "source": [
        "dat.head(5)\n",
        "dff = dat.copy()\n",
        "dat.head(10)\n"
      ],
      "execution_count": 7,
      "outputs": [
        {
          "output_type": "execute_result",
          "data": {
            "text/html": [
              "<div>\n",
              "<style scoped>\n",
              "    .dataframe tbody tr th:only-of-type {\n",
              "        vertical-align: middle;\n",
              "    }\n",
              "\n",
              "    .dataframe tbody tr th {\n",
              "        vertical-align: top;\n",
              "    }\n",
              "\n",
              "    .dataframe thead th {\n",
              "        text-align: right;\n",
              "    }\n",
              "</style>\n",
              "<table border=\"1\" class=\"dataframe\">\n",
              "  <thead>\n",
              "    <tr style=\"text-align: right;\">\n",
              "      <th></th>\n",
              "      <th>Invoice</th>\n",
              "      <th>StockCode</th>\n",
              "      <th>Description</th>\n",
              "      <th>Quantity</th>\n",
              "      <th>InvoiceDate</th>\n",
              "      <th>Price</th>\n",
              "      <th>Customer ID</th>\n",
              "      <th>Country</th>\n",
              "    </tr>\n",
              "  </thead>\n",
              "  <tbody>\n",
              "    <tr>\n",
              "      <th>0</th>\n",
              "      <td>000000PD02000660322</td>\n",
              "      <td>104873</td>\n",
              "      <td>NESCAFE 3IN1 CLASSIC BAG</td>\n",
              "      <td>12</td>\n",
              "      <td>4/26/2020 8:05</td>\n",
              "      <td>6.95</td>\n",
              "      <td>13085.0</td>\n",
              "      <td>Ashrafieh</td>\n",
              "    </tr>\n",
              "    <tr>\n",
              "      <th>1</th>\n",
              "      <td>000000PD02000660322</td>\n",
              "      <td>104874</td>\n",
              "      <td>GANDOUR UNICA</td>\n",
              "      <td>12</td>\n",
              "      <td>11/16/2019 9:27</td>\n",
              "      <td>6.75</td>\n",
              "      <td>13085.0</td>\n",
              "      <td>Ashrafieh</td>\n",
              "    </tr>\n",
              "    <tr>\n",
              "      <th>2</th>\n",
              "      <td>000000PD02000660322</td>\n",
              "      <td>135173</td>\n",
              "      <td>CAKE PLAIN</td>\n",
              "      <td>12</td>\n",
              "      <td>5/4/2019 8:09</td>\n",
              "      <td>6.75</td>\n",
              "      <td>13085.0</td>\n",
              "      <td>Dbayeh</td>\n",
              "    </tr>\n",
              "    <tr>\n",
              "      <th>3</th>\n",
              "      <td>000000PD02000660322</td>\n",
              "      <td>479487</td>\n",
              "      <td>CROISSANT CHESSECAKE</td>\n",
              "      <td>48</td>\n",
              "      <td>11/9/2019 9:46</td>\n",
              "      <td>2.10</td>\n",
              "      <td>13085.0</td>\n",
              "      <td>Ashrafieh</td>\n",
              "    </tr>\n",
              "    <tr>\n",
              "      <th>4</th>\n",
              "      <td>000000PD02000660322</td>\n",
              "      <td>488316</td>\n",
              "      <td>BLUE COMPACT BOX SHORT</td>\n",
              "      <td>24</td>\n",
              "      <td>7/21/2019 8:15</td>\n",
              "      <td>1.25</td>\n",
              "      <td>13085.0</td>\n",
              "      <td>Hamra</td>\n",
              "    </tr>\n",
              "    <tr>\n",
              "      <th>5</th>\n",
              "      <td>000000PD02000660323</td>\n",
              "      <td>123764</td>\n",
              "      <td>COFFEE GOURMET VAC</td>\n",
              "      <td>24</td>\n",
              "      <td>5/27/2019 8:08</td>\n",
              "      <td>1.65</td>\n",
              "      <td>13085.0</td>\n",
              "      <td>Hamra</td>\n",
              "    </tr>\n",
              "    <tr>\n",
              "      <th>6</th>\n",
              "      <td>000000PD02000660323</td>\n",
              "      <td>147320</td>\n",
              "      <td>TAHINEH</td>\n",
              "      <td>24</td>\n",
              "      <td>10/8/2019 8:18</td>\n",
              "      <td>1.25</td>\n",
              "      <td>13085.0</td>\n",
              "      <td>Hamra</td>\n",
              "    </tr>\n",
              "    <tr>\n",
              "      <th>7</th>\n",
              "      <td>000000PD02000660323</td>\n",
              "      <td>266717</td>\n",
              "      <td>CLASSIC ALUMINUM</td>\n",
              "      <td>10</td>\n",
              "      <td>11/17/2019 8:47</td>\n",
              "      <td>5.95</td>\n",
              "      <td>13085.0</td>\n",
              "      <td>Ashrafieh</td>\n",
              "    </tr>\n",
              "    <tr>\n",
              "      <th>8</th>\n",
              "      <td>000000PD02000660323</td>\n",
              "      <td>358539</td>\n",
              "      <td>DANISH BUTTER -10%</td>\n",
              "      <td>12</td>\n",
              "      <td>5/11/2019 9:09</td>\n",
              "      <td>2.55</td>\n",
              "      <td>13085.0</td>\n",
              "      <td>Ashrafieh</td>\n",
              "    </tr>\n",
              "    <tr>\n",
              "      <th>9</th>\n",
              "      <td>000000PD02000660323</td>\n",
              "      <td>393636</td>\n",
              "      <td>PIN ARABE BLE COMPLET SANS SEL</td>\n",
              "      <td>12</td>\n",
              "      <td>6/27/2019 8:40</td>\n",
              "      <td>3.75</td>\n",
              "      <td>13085.0</td>\n",
              "      <td>Hamra</td>\n",
              "    </tr>\n",
              "  </tbody>\n",
              "</table>\n",
              "</div>"
            ],
            "text/plain": [
              "               Invoice  StockCode  ... Customer ID    Country\n",
              "0  000000PD02000660322     104873  ...     13085.0  Ashrafieh\n",
              "1  000000PD02000660322     104874  ...     13085.0  Ashrafieh\n",
              "2  000000PD02000660322     135173  ...     13085.0     Dbayeh\n",
              "3  000000PD02000660322     479487  ...     13085.0  Ashrafieh\n",
              "4  000000PD02000660322     488316  ...     13085.0      Hamra\n",
              "5  000000PD02000660323     123764  ...     13085.0      Hamra\n",
              "6  000000PD02000660323     147320  ...     13085.0      Hamra\n",
              "7  000000PD02000660323     266717  ...     13085.0  Ashrafieh\n",
              "8  000000PD02000660323     358539  ...     13085.0  Ashrafieh\n",
              "9  000000PD02000660323     393636  ...     13085.0      Hamra\n",
              "\n",
              "[10 rows x 8 columns]"
            ]
          },
          "metadata": {
            "tags": []
          },
          "execution_count": 7
        }
      ]
    },
    {
      "cell_type": "code",
      "metadata": {
        "trusted": true,
        "colab": {
          "base_uri": "https://localhost:8080/",
          "height": 362
        },
        "id": "nfewkV2cuCh-",
        "outputId": "ae51a6e9-6896-42dd-e086-68d699e19e54"
      },
      "source": [
        "dat.head(5)\n",
        "dff = dat.copy()\n",
        "dat.head(10)\n"
      ],
      "execution_count": 8,
      "outputs": [
        {
          "output_type": "execute_result",
          "data": {
            "text/html": [
              "<div>\n",
              "<style scoped>\n",
              "    .dataframe tbody tr th:only-of-type {\n",
              "        vertical-align: middle;\n",
              "    }\n",
              "\n",
              "    .dataframe tbody tr th {\n",
              "        vertical-align: top;\n",
              "    }\n",
              "\n",
              "    .dataframe thead th {\n",
              "        text-align: right;\n",
              "    }\n",
              "</style>\n",
              "<table border=\"1\" class=\"dataframe\">\n",
              "  <thead>\n",
              "    <tr style=\"text-align: right;\">\n",
              "      <th></th>\n",
              "      <th>Invoice</th>\n",
              "      <th>StockCode</th>\n",
              "      <th>Description</th>\n",
              "      <th>Quantity</th>\n",
              "      <th>InvoiceDate</th>\n",
              "      <th>Price</th>\n",
              "      <th>Customer ID</th>\n",
              "      <th>Country</th>\n",
              "    </tr>\n",
              "  </thead>\n",
              "  <tbody>\n",
              "    <tr>\n",
              "      <th>0</th>\n",
              "      <td>000000PD02000660322</td>\n",
              "      <td>104873</td>\n",
              "      <td>NESCAFE 3IN1 CLASSIC BAG</td>\n",
              "      <td>12</td>\n",
              "      <td>4/26/2020 8:05</td>\n",
              "      <td>6.95</td>\n",
              "      <td>13085.0</td>\n",
              "      <td>Ashrafieh</td>\n",
              "    </tr>\n",
              "    <tr>\n",
              "      <th>1</th>\n",
              "      <td>000000PD02000660322</td>\n",
              "      <td>104874</td>\n",
              "      <td>GANDOUR UNICA</td>\n",
              "      <td>12</td>\n",
              "      <td>11/16/2019 9:27</td>\n",
              "      <td>6.75</td>\n",
              "      <td>13085.0</td>\n",
              "      <td>Ashrafieh</td>\n",
              "    </tr>\n",
              "    <tr>\n",
              "      <th>2</th>\n",
              "      <td>000000PD02000660322</td>\n",
              "      <td>135173</td>\n",
              "      <td>CAKE PLAIN</td>\n",
              "      <td>12</td>\n",
              "      <td>5/4/2019 8:09</td>\n",
              "      <td>6.75</td>\n",
              "      <td>13085.0</td>\n",
              "      <td>Dbayeh</td>\n",
              "    </tr>\n",
              "    <tr>\n",
              "      <th>3</th>\n",
              "      <td>000000PD02000660322</td>\n",
              "      <td>479487</td>\n",
              "      <td>CROISSANT CHESSECAKE</td>\n",
              "      <td>48</td>\n",
              "      <td>11/9/2019 9:46</td>\n",
              "      <td>2.10</td>\n",
              "      <td>13085.0</td>\n",
              "      <td>Ashrafieh</td>\n",
              "    </tr>\n",
              "    <tr>\n",
              "      <th>4</th>\n",
              "      <td>000000PD02000660322</td>\n",
              "      <td>488316</td>\n",
              "      <td>BLUE COMPACT BOX SHORT</td>\n",
              "      <td>24</td>\n",
              "      <td>7/21/2019 8:15</td>\n",
              "      <td>1.25</td>\n",
              "      <td>13085.0</td>\n",
              "      <td>Hamra</td>\n",
              "    </tr>\n",
              "    <tr>\n",
              "      <th>5</th>\n",
              "      <td>000000PD02000660323</td>\n",
              "      <td>123764</td>\n",
              "      <td>COFFEE GOURMET VAC</td>\n",
              "      <td>24</td>\n",
              "      <td>5/27/2019 8:08</td>\n",
              "      <td>1.65</td>\n",
              "      <td>13085.0</td>\n",
              "      <td>Hamra</td>\n",
              "    </tr>\n",
              "    <tr>\n",
              "      <th>6</th>\n",
              "      <td>000000PD02000660323</td>\n",
              "      <td>147320</td>\n",
              "      <td>TAHINEH</td>\n",
              "      <td>24</td>\n",
              "      <td>10/8/2019 8:18</td>\n",
              "      <td>1.25</td>\n",
              "      <td>13085.0</td>\n",
              "      <td>Hamra</td>\n",
              "    </tr>\n",
              "    <tr>\n",
              "      <th>7</th>\n",
              "      <td>000000PD02000660323</td>\n",
              "      <td>266717</td>\n",
              "      <td>CLASSIC ALUMINUM</td>\n",
              "      <td>10</td>\n",
              "      <td>11/17/2019 8:47</td>\n",
              "      <td>5.95</td>\n",
              "      <td>13085.0</td>\n",
              "      <td>Ashrafieh</td>\n",
              "    </tr>\n",
              "    <tr>\n",
              "      <th>8</th>\n",
              "      <td>000000PD02000660323</td>\n",
              "      <td>358539</td>\n",
              "      <td>DANISH BUTTER -10%</td>\n",
              "      <td>12</td>\n",
              "      <td>5/11/2019 9:09</td>\n",
              "      <td>2.55</td>\n",
              "      <td>13085.0</td>\n",
              "      <td>Ashrafieh</td>\n",
              "    </tr>\n",
              "    <tr>\n",
              "      <th>9</th>\n",
              "      <td>000000PD02000660323</td>\n",
              "      <td>393636</td>\n",
              "      <td>PIN ARABE BLE COMPLET SANS SEL</td>\n",
              "      <td>12</td>\n",
              "      <td>6/27/2019 8:40</td>\n",
              "      <td>3.75</td>\n",
              "      <td>13085.0</td>\n",
              "      <td>Hamra</td>\n",
              "    </tr>\n",
              "  </tbody>\n",
              "</table>\n",
              "</div>"
            ],
            "text/plain": [
              "               Invoice  StockCode  ... Customer ID    Country\n",
              "0  000000PD02000660322     104873  ...     13085.0  Ashrafieh\n",
              "1  000000PD02000660322     104874  ...     13085.0  Ashrafieh\n",
              "2  000000PD02000660322     135173  ...     13085.0     Dbayeh\n",
              "3  000000PD02000660322     479487  ...     13085.0  Ashrafieh\n",
              "4  000000PD02000660322     488316  ...     13085.0      Hamra\n",
              "5  000000PD02000660323     123764  ...     13085.0      Hamra\n",
              "6  000000PD02000660323     147320  ...     13085.0      Hamra\n",
              "7  000000PD02000660323     266717  ...     13085.0  Ashrafieh\n",
              "8  000000PD02000660323     358539  ...     13085.0  Ashrafieh\n",
              "9  000000PD02000660323     393636  ...     13085.0      Hamra\n",
              "\n",
              "[10 rows x 8 columns]"
            ]
          },
          "metadata": {
            "tags": []
          },
          "execution_count": 8
        }
      ]
    },
    {
      "cell_type": "code",
      "metadata": {
        "trusted": true,
        "colab": {
          "base_uri": "https://localhost:8080/"
        },
        "id": "51l_L2D7uCh-",
        "outputId": "bc6d505d-efaa-4efc-f667-ffcdd12c688e"
      },
      "source": [
        "duplicated = dff.duplicated().sum()\n",
        "print(duplicated)\n",
        "dff.drop_duplicates(inplace= True)"
      ],
      "execution_count": 9,
      "outputs": [
        {
          "output_type": "stream",
          "text": [
            "0\n"
          ],
          "name": "stdout"
        }
      ]
    },
    {
      "cell_type": "code",
      "metadata": {
        "trusted": true,
        "colab": {
          "base_uri": "https://localhost:8080/"
        },
        "id": "RUYwucv9uCh_",
        "outputId": "4743c015-39d8-465d-86ab-6018c512fd00"
      },
      "source": [
        "dff.shape"
      ],
      "execution_count": 10,
      "outputs": [
        {
          "output_type": "execute_result",
          "data": {
            "text/plain": [
              "(278545, 8)"
            ]
          },
          "metadata": {
            "tags": []
          },
          "execution_count": 10
        }
      ]
    },
    {
      "cell_type": "code",
      "metadata": {
        "trusted": true,
        "id": "YNKmogLVuCh_"
      },
      "source": [
        "#transfore the data type\n",
        "dff['InvoiceDate']= pd.to_datetime(dff['InvoiceDate'])"
      ],
      "execution_count": 11,
      "outputs": []
    },
    {
      "cell_type": "code",
      "metadata": {
        "trusted": true,
        "colab": {
          "base_uri": "https://localhost:8080/",
          "height": 300
        },
        "id": "wk8F3BgSuCiA",
        "outputId": "f30ecde3-6c7e-4584-8d5b-365a83182907"
      },
      "source": [
        "dff.describe()"
      ],
      "execution_count": 12,
      "outputs": [
        {
          "output_type": "execute_result",
          "data": {
            "text/html": [
              "<div>\n",
              "<style scoped>\n",
              "    .dataframe tbody tr th:only-of-type {\n",
              "        vertical-align: middle;\n",
              "    }\n",
              "\n",
              "    .dataframe tbody tr th {\n",
              "        vertical-align: top;\n",
              "    }\n",
              "\n",
              "    .dataframe thead th {\n",
              "        text-align: right;\n",
              "    }\n",
              "</style>\n",
              "<table border=\"1\" class=\"dataframe\">\n",
              "  <thead>\n",
              "    <tr style=\"text-align: right;\">\n",
              "      <th></th>\n",
              "      <th>StockCode</th>\n",
              "      <th>Quantity</th>\n",
              "      <th>Price</th>\n",
              "      <th>Customer ID</th>\n",
              "    </tr>\n",
              "  </thead>\n",
              "  <tbody>\n",
              "    <tr>\n",
              "      <th>count</th>\n",
              "      <td>278545.000000</td>\n",
              "      <td>278545.000000</td>\n",
              "      <td>278545.000000</td>\n",
              "      <td>218427.000000</td>\n",
              "    </tr>\n",
              "    <tr>\n",
              "      <th>mean</th>\n",
              "      <td>315016.911749</td>\n",
              "      <td>10.576524</td>\n",
              "      <td>4.644153</td>\n",
              "      <td>15340.280002</td>\n",
              "    </tr>\n",
              "    <tr>\n",
              "      <th>std</th>\n",
              "      <td>135705.099537</td>\n",
              "      <td>113.030279</td>\n",
              "      <td>163.039689</td>\n",
              "      <td>1681.284323</td>\n",
              "    </tr>\n",
              "    <tr>\n",
              "      <th>min</th>\n",
              "      <td>100366.000000</td>\n",
              "      <td>-9200.000000</td>\n",
              "      <td>-53594.360000</td>\n",
              "      <td>12346.000000</td>\n",
              "    </tr>\n",
              "    <tr>\n",
              "      <th>25%</th>\n",
              "      <td>165329.000000</td>\n",
              "      <td>1.000000</td>\n",
              "      <td>1.250000</td>\n",
              "      <td>13975.000000</td>\n",
              "    </tr>\n",
              "    <tr>\n",
              "      <th>50%</th>\n",
              "      <td>335406.000000</td>\n",
              "      <td>3.000000</td>\n",
              "      <td>2.100000</td>\n",
              "      <td>15255.000000</td>\n",
              "    </tr>\n",
              "    <tr>\n",
              "      <th>75%</th>\n",
              "      <td>436335.000000</td>\n",
              "      <td>10.000000</td>\n",
              "      <td>4.250000</td>\n",
              "      <td>16814.000000</td>\n",
              "    </tr>\n",
              "    <tr>\n",
              "      <th>max</th>\n",
              "      <td>511870.000000</td>\n",
              "      <td>19152.000000</td>\n",
              "      <td>25111.090000</td>\n",
              "      <td>18287.000000</td>\n",
              "    </tr>\n",
              "  </tbody>\n",
              "</table>\n",
              "</div>"
            ],
            "text/plain": [
              "           StockCode       Quantity          Price    Customer ID\n",
              "count  278545.000000  278545.000000  278545.000000  218427.000000\n",
              "mean   315016.911749      10.576524       4.644153   15340.280002\n",
              "std    135705.099537     113.030279     163.039689    1681.284323\n",
              "min    100366.000000   -9200.000000  -53594.360000   12346.000000\n",
              "25%    165329.000000       1.000000       1.250000   13975.000000\n",
              "50%    335406.000000       3.000000       2.100000   15255.000000\n",
              "75%    436335.000000      10.000000       4.250000   16814.000000\n",
              "max    511870.000000   19152.000000   25111.090000   18287.000000"
            ]
          },
          "metadata": {
            "tags": []
          },
          "execution_count": 12
        }
      ]
    },
    {
      "cell_type": "code",
      "metadata": {
        "trusted": true,
        "id": "EH0mGR5TuCiA"
      },
      "source": [
        "#deleting negative values from unit price and quantity\n",
        "#we have negtive value for quantity and price\n",
        "df = dff[(dff['Quantity']>0) & (dff['Price']>0)]"
      ],
      "execution_count": 13,
      "outputs": []
    },
    {
      "cell_type": "code",
      "metadata": {
        "trusted": true,
        "colab": {
          "base_uri": "https://localhost:8080/",
          "height": 300
        },
        "id": "l1qJAqLouCiA",
        "outputId": "60048350-fb51-405e-bc99-bf5fcec12a6a"
      },
      "source": [
        "df.shape\n",
        "df.describe()"
      ],
      "execution_count": 14,
      "outputs": [
        {
          "output_type": "execute_result",
          "data": {
            "text/html": [
              "<div>\n",
              "<style scoped>\n",
              "    .dataframe tbody tr th:only-of-type {\n",
              "        vertical-align: middle;\n",
              "    }\n",
              "\n",
              "    .dataframe tbody tr th {\n",
              "        vertical-align: top;\n",
              "    }\n",
              "\n",
              "    .dataframe thead th {\n",
              "        text-align: right;\n",
              "    }\n",
              "</style>\n",
              "<table border=\"1\" class=\"dataframe\">\n",
              "  <thead>\n",
              "    <tr style=\"text-align: right;\">\n",
              "      <th></th>\n",
              "      <th>StockCode</th>\n",
              "      <th>Quantity</th>\n",
              "      <th>Price</th>\n",
              "      <th>Customer ID</th>\n",
              "    </tr>\n",
              "  </thead>\n",
              "  <tbody>\n",
              "    <tr>\n",
              "      <th>count</th>\n",
              "      <td>270163.000000</td>\n",
              "      <td>270163.000000</td>\n",
              "      <td>270163.000000</td>\n",
              "      <td>212679.000000</td>\n",
              "    </tr>\n",
              "    <tr>\n",
              "      <th>mean</th>\n",
              "      <td>315033.384201</td>\n",
              "      <td>11.564011</td>\n",
              "      <td>4.382925</td>\n",
              "      <td>15348.725116</td>\n",
              "    </tr>\n",
              "    <tr>\n",
              "      <th>std</th>\n",
              "      <td>135734.159352</td>\n",
              "      <td>98.622004</td>\n",
              "      <td>69.580093</td>\n",
              "      <td>1680.690644</td>\n",
              "    </tr>\n",
              "    <tr>\n",
              "      <th>min</th>\n",
              "      <td>100366.000000</td>\n",
              "      <td>1.000000</td>\n",
              "      <td>0.001000</td>\n",
              "      <td>12346.000000</td>\n",
              "    </tr>\n",
              "    <tr>\n",
              "      <th>25%</th>\n",
              "      <td>165329.000000</td>\n",
              "      <td>1.000000</td>\n",
              "      <td>1.250000</td>\n",
              "      <td>13979.000000</td>\n",
              "    </tr>\n",
              "    <tr>\n",
              "      <th>50%</th>\n",
              "      <td>335411.000000</td>\n",
              "      <td>3.000000</td>\n",
              "      <td>2.100000</td>\n",
              "      <td>15270.000000</td>\n",
              "    </tr>\n",
              "    <tr>\n",
              "      <th>75%</th>\n",
              "      <td>436384.000000</td>\n",
              "      <td>10.000000</td>\n",
              "      <td>4.250000</td>\n",
              "      <td>16823.000000</td>\n",
              "    </tr>\n",
              "    <tr>\n",
              "      <th>max</th>\n",
              "      <td>511870.000000</td>\n",
              "      <td>19152.000000</td>\n",
              "      <td>25111.090000</td>\n",
              "      <td>18287.000000</td>\n",
              "    </tr>\n",
              "  </tbody>\n",
              "</table>\n",
              "</div>"
            ],
            "text/plain": [
              "           StockCode       Quantity          Price    Customer ID\n",
              "count  270163.000000  270163.000000  270163.000000  212679.000000\n",
              "mean   315033.384201      11.564011       4.382925   15348.725116\n",
              "std    135734.159352      98.622004      69.580093    1680.690644\n",
              "min    100366.000000       1.000000       0.001000   12346.000000\n",
              "25%    165329.000000       1.000000       1.250000   13979.000000\n",
              "50%    335411.000000       3.000000       2.100000   15270.000000\n",
              "75%    436384.000000      10.000000       4.250000   16823.000000\n",
              "max    511870.000000   19152.000000   25111.090000   18287.000000"
            ]
          },
          "metadata": {
            "tags": []
          },
          "execution_count": 14
        }
      ]
    },
    {
      "cell_type": "code",
      "metadata": {
        "trusted": true,
        "colab": {
          "base_uri": "https://localhost:8080/",
          "height": 497
        },
        "id": "aJEmgAijuCiA",
        "outputId": "f7c5c159-402b-4dba-d854-2122fb618704"
      },
      "source": [
        "fig, ax = plt.subplots(figsize=(10,8))\n",
        "ax.scatter(df['Quantity'], df['Price'])\n",
        "ax.set_xlabel('Quantity')\n",
        "ax.set_ylabel('Price')\n",
        "plt.show()"
      ],
      "execution_count": 15,
      "outputs": [
        {
          "output_type": "display_data",
          "data": {
            "image/png": "[encoded data removed]",
            "text/plain": [
              "<Figure size 720x576 with 1 Axes>"
            ]
          },
          "metadata": {
            "tags": [],
            "needs_background": "light"
          }
        }
      ]
    },
    {
      "cell_type": "markdown",
      "metadata": {
        "id": "uykWCCHMuCiB"
      },
      "source": [
        "### Relation of unit price with quantity"
      ]
    },
    {
      "cell_type": "code",
      "metadata": {
        "trusted": true,
        "id": "igy3w7RruCiB"
      },
      "source": [
        "#Taking out outliers to get better plot\n",
        "from scipy import stats\n",
        "import numpy as np\n",
        "z = np.abs(stats.zscore(df[['Quantity','Price']]))\n",
        "df = df[(z < 3).all(axis=1)]"
      ],
      "execution_count": 17,
      "outputs": []
    },
    {
      "cell_type": "code",
      "metadata": {
        "trusted": true,
        "id": "PMExNFCnuCiB"
      },
      "source": [
        "df = df[(df['Quantity']>=0) | (df['Price']>=0)]"
      ],
      "execution_count": 18,
      "outputs": []
    },
    {
      "cell_type": "code",
      "metadata": {
        "trusted": true,
        "colab": {
          "base_uri": "https://localhost:8080/",
          "height": 296
        },
        "id": "bxcOpIFYuCiB",
        "outputId": "2a7e987c-e365-42c6-b75d-205090a3a688"
      },
      "source": [
        "sns.boxplot(df['Quantity'])"
      ],
      "execution_count": 19,
      "outputs": [
        {
          "output_type": "execute_result",
          "data": {
            "text/plain": [
              "<matplotlib.axes._subplots.AxesSubplot at 0x7fe75c2bce90>"
            ]
          },
          "metadata": {
            "tags": []
          },
          "execution_count": 19
        },
        {
          "output_type": "display_data",
          "data": {
            "image/png": "[encoded data removed]",
            "text/plain": [
              "<Figure size 432x288 with 1 Axes>"
            ]
          },
          "metadata": {
            "tags": [],
            "needs_background": "light"
          }
        }
      ]
    },
    {
      "cell_type": "code",
      "metadata": {
        "trusted": true,
        "colab": {
          "base_uri": "https://localhost:8080/",
          "height": 497
        },
        "id": "dZS6ocKPuCiB",
        "outputId": "86193785-c074-4bfd-929f-15cb5478e684"
      },
      "source": [
        "fig, ax = plt.subplots(figsize=(10,8))\n",
        "ax.scatter(df['Quantity'], df['Price'])\n",
        "ax.set_xlabel('Quantity')\n",
        "ax.set_ylabel('UnitPrice')\n",
        "plt.show()"
      ],
      "execution_count": 20,
      "outputs": [
        {
          "output_type": "display_data",
          "data": {
            "image/png": "[encoded data removed]",
            "text/plain": [
              "<Figure size 720x576 with 1 Axes>"
            ]
          },
          "metadata": {
            "tags": [],
            "needs_background": "light"
          }
        }
      ]
    },
    {
      "cell_type": "code",
      "metadata": {
        "trusted": true,
        "colab": {
          "base_uri": "https://localhost:8080/"
        },
        "id": "627dhanIuCiB",
        "outputId": "bfa2341a-6bcf-423e-8889-14e088a4a963"
      },
      "source": [
        "#Checking the missings\n",
        "df.isna().sum()"
      ],
      "execution_count": 21,
      "outputs": [
        {
          "output_type": "execute_result",
          "data": {
            "text/plain": [
              "Invoice            0\n",
              "StockCode          0\n",
              "Description        0\n",
              "Quantity           0\n",
              "InvoiceDate        0\n",
              "Price              0\n",
              "Customer ID    55286\n",
              "Country            0\n",
              "dtype: int64"
            ]
          },
          "metadata": {
            "tags": []
          },
          "execution_count": 21
        }
      ]
    },
    {
      "cell_type": "code",
      "metadata": {
        "trusted": true,
        "id": "s-G3Yi-puCiC"
      },
      "source": [
        "#Creating total amount column\n",
        "df['TotalAmount'] = df['Quantity'] * df['Price']\n"
      ],
      "execution_count": 22,
      "outputs": []
    },
    {
      "cell_type": "code",
      "metadata": {
        "trusted": true,
        "id": "IsAx9gKkuCiE"
      },
      "source": [
        "df['Hour']=df['InvoiceDate'].dt.hour\n",
        "df['Month']=df['InvoiceDate'].dt.month\n",
        "df['Weekdays']= df['InvoiceDate'].dt.weekday"
      ],
      "execution_count": 23,
      "outputs": []
    },
    {
      "cell_type": "markdown",
      "metadata": {
        "id": "cldYSQNXuCiE"
      },
      "source": [
        "### RFM SEGMENTATION"
      ]
    },
    {
      "cell_type": "code",
      "metadata": {
        "trusted": true,
        "id": "Ti4G442AuCiE"
      },
      "source": [
        "rfm = df.copy()"
      ],
      "execution_count": 24,
      "outputs": []
    },
    {
      "cell_type": "code",
      "metadata": {
        "trusted": true,
        "id": "f1eI6lkDuCiE"
      },
      "source": [
        "#because we are looking at the customer and not the product we drop InvoiceNo and Stcokcode\n",
        "ab = df.groupby('Customer ID').agg({'InvoiceDate': 'min','TotalAmount': 'sum'})\n",
        "ab.rename(columns={'InvoiceDate': \"Recency\",('InvoiceDate', 'nunique'): \"Frequency\",\"TotalAmount\": 'Monetization'},  inplace = True)\n",
        "frequency = df.groupby('Customer ID').agg({'InvoiceDate':'nunique'})\n",
        "frequency.rename(columns={'InvoiceDate': \"Frequency\"}, inplace = True)\n",
        "\n",
        "rfm = pd.merge(ab,frequency, on='Customer ID')\n",
        "\n",
        "#rfm.rename(columns={('InvoiceDate',     'min'): \"Recency\",('InvoiceDate', 'nunique'): \"Frequency\",\"TotalAmount\": 'Monetization'})"
      ],
      "execution_count": 25,
      "outputs": []
    },
    {
      "cell_type": "code",
      "metadata": {
        "trusted": true,
        "id": "YyV8LRPZuCiF"
      },
      "source": [
        "a = rfm.reset_index()"
      ],
      "execution_count": 26,
      "outputs": []
    },
    {
      "cell_type": "code",
      "metadata": {
        "trusted": true,
        "colab": {
          "base_uri": "https://localhost:8080/",
          "height": 454
        },
        "id": "TsajJYtYuCiF",
        "outputId": "f18ec782-212b-44cd-9095-505b5286c3d6"
      },
      "source": [
        "rfm.rename(columns={'InvoiceDate': \"Recency\",'InvoiceDate': \"Frequency\",\"TotalAmount\": 'Monetization'})"
      ],
      "execution_count": 27,
      "outputs": [
        {
          "output_type": "execute_result",
          "data": {
            "text/html": [
              "<div>\n",
              "<style scoped>\n",
              "    .dataframe tbody tr th:only-of-type {\n",
              "        vertical-align: middle;\n",
              "    }\n",
              "\n",
              "    .dataframe tbody tr th {\n",
              "        vertical-align: top;\n",
              "    }\n",
              "\n",
              "    .dataframe thead th {\n",
              "        text-align: right;\n",
              "    }\n",
              "</style>\n",
              "<table border=\"1\" class=\"dataframe\">\n",
              "  <thead>\n",
              "    <tr style=\"text-align: right;\">\n",
              "      <th></th>\n",
              "      <th>Recency</th>\n",
              "      <th>Monetization</th>\n",
              "      <th>Frequency</th>\n",
              "    </tr>\n",
              "    <tr>\n",
              "      <th>Customer ID</th>\n",
              "      <th></th>\n",
              "      <th></th>\n",
              "      <th></th>\n",
              "    </tr>\n",
              "  </thead>\n",
              "  <tbody>\n",
              "    <tr>\n",
              "      <th>12346.0</th>\n",
              "      <td>2019-05-13 08:20:00</td>\n",
              "      <td>372.86</td>\n",
              "      <td>33</td>\n",
              "    </tr>\n",
              "    <tr>\n",
              "      <th>12349.0</th>\n",
              "      <td>2019-05-04 08:13:00</td>\n",
              "      <td>928.72</td>\n",
              "      <td>45</td>\n",
              "    </tr>\n",
              "    <tr>\n",
              "      <th>12355.0</th>\n",
              "      <td>2019-05-05 08:46:00</td>\n",
              "      <td>488.21</td>\n",
              "      <td>22</td>\n",
              "    </tr>\n",
              "    <tr>\n",
              "      <th>12358.0</th>\n",
              "      <td>2019-05-09 08:15:00</td>\n",
              "      <td>1697.93</td>\n",
              "      <td>35</td>\n",
              "    </tr>\n",
              "    <tr>\n",
              "      <th>12359.0</th>\n",
              "      <td>2019-05-04 09:11:00</td>\n",
              "      <td>1776.13</td>\n",
              "      <td>83</td>\n",
              "    </tr>\n",
              "    <tr>\n",
              "      <th>...</th>\n",
              "      <td>...</td>\n",
              "      <td>...</td>\n",
              "      <td>...</td>\n",
              "    </tr>\n",
              "    <tr>\n",
              "      <th>18281.0</th>\n",
              "      <td>2019-10-27 08:30:00</td>\n",
              "      <td>120.32</td>\n",
              "      <td>10</td>\n",
              "    </tr>\n",
              "    <tr>\n",
              "      <th>18283.0</th>\n",
              "      <td>2019-05-02 08:05:00</td>\n",
              "      <td>354.42</td>\n",
              "      <td>132</td>\n",
              "    </tr>\n",
              "    <tr>\n",
              "      <th>18285.0</th>\n",
              "      <td>2019-05-22 08:44:00</td>\n",
              "      <td>173.00</td>\n",
              "      <td>10</td>\n",
              "    </tr>\n",
              "    <tr>\n",
              "      <th>18286.0</th>\n",
              "      <td>2019-05-28 09:10:00</td>\n",
              "      <td>338.10</td>\n",
              "      <td>15</td>\n",
              "    </tr>\n",
              "    <tr>\n",
              "      <th>18287.0</th>\n",
              "      <td>2019-05-06 08:54:00</td>\n",
              "      <td>1071.61</td>\n",
              "      <td>54</td>\n",
              "    </tr>\n",
              "  </tbody>\n",
              "</table>\n",
              "<p>3027 rows × 3 columns</p>\n",
              "</div>"
            ],
            "text/plain": [
              "                        Recency  Monetization  Frequency\n",
              "Customer ID                                             \n",
              "12346.0     2019-05-13 08:20:00        372.86         33\n",
              "12349.0     2019-05-04 08:13:00        928.72         45\n",
              "12355.0     2019-05-05 08:46:00        488.21         22\n",
              "12358.0     2019-05-09 08:15:00       1697.93         35\n",
              "12359.0     2019-05-04 09:11:00       1776.13         83\n",
              "...                         ...           ...        ...\n",
              "18281.0     2019-10-27 08:30:00        120.32         10\n",
              "18283.0     2019-05-02 08:05:00        354.42        132\n",
              "18285.0     2019-05-22 08:44:00        173.00         10\n",
              "18286.0     2019-05-28 09:10:00        338.10         15\n",
              "18287.0     2019-05-06 08:54:00       1071.61         54\n",
              "\n",
              "[3027 rows x 3 columns]"
            ]
          },
          "metadata": {
            "tags": []
          },
          "execution_count": 27
        }
      ]
    },
    {
      "cell_type": "code",
      "metadata": {
        "trusted": true,
        "colab": {
          "base_uri": "https://localhost:8080/",
          "height": 300
        },
        "id": "GpGU7ETauCiF",
        "outputId": "fcd325a1-ff00-4b00-84fd-a3ad597421b6"
      },
      "source": [
        "rfm.describe()"
      ],
      "execution_count": 28,
      "outputs": [
        {
          "output_type": "execute_result",
          "data": {
            "text/html": [
              "<div>\n",
              "<style scoped>\n",
              "    .dataframe tbody tr th:only-of-type {\n",
              "        vertical-align: middle;\n",
              "    }\n",
              "\n",
              "    .dataframe tbody tr th {\n",
              "        vertical-align: top;\n",
              "    }\n",
              "\n",
              "    .dataframe thead th {\n",
              "        text-align: right;\n",
              "    }\n",
              "</style>\n",
              "<table border=\"1\" class=\"dataframe\">\n",
              "  <thead>\n",
              "    <tr style=\"text-align: right;\">\n",
              "      <th></th>\n",
              "      <th>Monetization</th>\n",
              "      <th>Frequency</th>\n",
              "    </tr>\n",
              "  </thead>\n",
              "  <tbody>\n",
              "    <tr>\n",
              "      <th>count</th>\n",
              "      <td>3027.000000</td>\n",
              "      <td>3027.000000</td>\n",
              "    </tr>\n",
              "    <tr>\n",
              "      <th>mean</th>\n",
              "      <td>1136.604632</td>\n",
              "      <td>68.192270</td>\n",
              "    </tr>\n",
              "    <tr>\n",
              "      <th>std</th>\n",
              "      <td>2532.977733</td>\n",
              "      <td>133.712346</td>\n",
              "    </tr>\n",
              "    <tr>\n",
              "      <th>min</th>\n",
              "      <td>1.300000</td>\n",
              "      <td>1.000000</td>\n",
              "    </tr>\n",
              "    <tr>\n",
              "      <th>25%</th>\n",
              "      <td>240.325000</td>\n",
              "      <td>16.000000</td>\n",
              "    </tr>\n",
              "    <tr>\n",
              "      <th>50%</th>\n",
              "      <td>522.870000</td>\n",
              "      <td>34.000000</td>\n",
              "    </tr>\n",
              "    <tr>\n",
              "      <th>75%</th>\n",
              "      <td>1198.075000</td>\n",
              "      <td>74.000000</td>\n",
              "    </tr>\n",
              "    <tr>\n",
              "      <th>max</th>\n",
              "      <td>65563.890000</td>\n",
              "      <td>3095.000000</td>\n",
              "    </tr>\n",
              "  </tbody>\n",
              "</table>\n",
              "</div>"
            ],
            "text/plain": [
              "       Monetization    Frequency\n",
              "count   3027.000000  3027.000000\n",
              "mean    1136.604632    68.192270\n",
              "std     2532.977733   133.712346\n",
              "min        1.300000     1.000000\n",
              "25%      240.325000    16.000000\n",
              "50%      522.870000    34.000000\n",
              "75%     1198.075000    74.000000\n",
              "max    65563.890000  3095.000000"
            ]
          },
          "metadata": {
            "tags": []
          },
          "execution_count": 28
        }
      ]
    },
    {
      "cell_type": "code",
      "metadata": {
        "trusted": true,
        "colab": {
          "base_uri": "https://localhost:8080/"
        },
        "id": "kPPYv5mvuCiF",
        "outputId": "4c150ac0-24a2-4d89-f1a8-ea40c941374d"
      },
      "source": [
        "#We save the most recent date to, then , calulate the recency\n",
        "e = df['InvoiceDate'].min()\n",
        "print('minimun :'+ str(e))"
      ],
      "execution_count": 29,
      "outputs": [
        {
          "output_type": "stream",
          "text": [
            "minimun :2019-05-01 08:00:00\n"
          ],
          "name": "stdout"
        }
      ]
    },
    {
      "cell_type": "code",
      "metadata": {
        "trusted": true,
        "colab": {
          "base_uri": "https://localhost:8080/"
        },
        "id": "15a9w9THuCiF",
        "outputId": "73008f41-3c14-4101-ba33-8d67f6658f3e"
      },
      "source": [
        "rfm.info()"
      ],
      "execution_count": 30,
      "outputs": [
        {
          "output_type": "stream",
          "text": [
            "<class 'pandas.core.frame.DataFrame'>\n",
            "Float64Index: 3027 entries, 12346.0 to 18287.0\n",
            "Data columns (total 3 columns):\n",
            " #   Column        Non-Null Count  Dtype         \n",
            "---  ------        --------------  -----         \n",
            " 0   Recency       3027 non-null   datetime64[ns]\n",
            " 1   Monetization  3027 non-null   float64       \n",
            " 2   Frequency     3027 non-null   int64         \n",
            "dtypes: datetime64[ns](1), float64(1), int64(1)\n",
            "memory usage: 94.6 KB\n"
          ],
          "name": "stdout"
        }
      ]
    },
    {
      "cell_type": "code",
      "metadata": {
        "trusted": true,
        "id": "-FjPfTaSuCiF"
      },
      "source": [
        "###create receny, cad calculate the last time he bought something compare to e\n",
        "rfm['Recency'] = rfm['Recency'].apply(lambda x : (x - e).days)"
      ],
      "execution_count": 31,
      "outputs": []
    },
    {
      "cell_type": "markdown",
      "metadata": {
        "id": "tB6CrFGguCiF"
      },
      "source": [
        "rfm['BasketSize'] = (rfm['Monetization']/rfm['Frequency']).round(2)"
      ]
    },
    {
      "cell_type": "code",
      "metadata": {
        "trusted": true,
        "colab": {
          "base_uri": "https://localhost:8080/",
          "height": 300
        },
        "id": "6DKkFfX3uCiG",
        "outputId": "6b3d5958-66a6-4ef5-890c-8faed1f57a08"
      },
      "source": [
        "rfm.describe()"
      ],
      "execution_count": 32,
      "outputs": [
        {
          "output_type": "execute_result",
          "data": {
            "text/html": [
              "<div>\n",
              "<style scoped>\n",
              "    .dataframe tbody tr th:only-of-type {\n",
              "        vertical-align: middle;\n",
              "    }\n",
              "\n",
              "    .dataframe tbody tr th {\n",
              "        vertical-align: top;\n",
              "    }\n",
              "\n",
              "    .dataframe thead th {\n",
              "        text-align: right;\n",
              "    }\n",
              "</style>\n",
              "<table border=\"1\" class=\"dataframe\">\n",
              "  <thead>\n",
              "    <tr style=\"text-align: right;\">\n",
              "      <th></th>\n",
              "      <th>Recency</th>\n",
              "      <th>Monetization</th>\n",
              "      <th>Frequency</th>\n",
              "    </tr>\n",
              "  </thead>\n",
              "  <tbody>\n",
              "    <tr>\n",
              "      <th>count</th>\n",
              "      <td>3027.000000</td>\n",
              "      <td>3027.000000</td>\n",
              "      <td>3027.000000</td>\n",
              "    </tr>\n",
              "    <tr>\n",
              "      <th>mean</th>\n",
              "      <td>22.097126</td>\n",
              "      <td>1136.604632</td>\n",
              "      <td>68.192270</td>\n",
              "    </tr>\n",
              "    <tr>\n",
              "      <th>std</th>\n",
              "      <td>45.761637</td>\n",
              "      <td>2532.977733</td>\n",
              "      <td>133.712346</td>\n",
              "    </tr>\n",
              "    <tr>\n",
              "      <th>min</th>\n",
              "      <td>0.000000</td>\n",
              "      <td>1.300000</td>\n",
              "      <td>1.000000</td>\n",
              "    </tr>\n",
              "    <tr>\n",
              "      <th>25%</th>\n",
              "      <td>2.000000</td>\n",
              "      <td>240.325000</td>\n",
              "      <td>16.000000</td>\n",
              "    </tr>\n",
              "    <tr>\n",
              "      <th>50%</th>\n",
              "      <td>7.000000</td>\n",
              "      <td>522.870000</td>\n",
              "      <td>34.000000</td>\n",
              "    </tr>\n",
              "    <tr>\n",
              "      <th>75%</th>\n",
              "      <td>21.000000</td>\n",
              "      <td>1198.075000</td>\n",
              "      <td>74.000000</td>\n",
              "    </tr>\n",
              "    <tr>\n",
              "      <th>max</th>\n",
              "      <td>395.000000</td>\n",
              "      <td>65563.890000</td>\n",
              "      <td>3095.000000</td>\n",
              "    </tr>\n",
              "  </tbody>\n",
              "</table>\n",
              "</div>"
            ],
            "text/plain": [
              "           Recency  Monetization    Frequency\n",
              "count  3027.000000   3027.000000  3027.000000\n",
              "mean     22.097126   1136.604632    68.192270\n",
              "std      45.761637   2532.977733   133.712346\n",
              "min       0.000000      1.300000     1.000000\n",
              "25%       2.000000    240.325000    16.000000\n",
              "50%       7.000000    522.870000    34.000000\n",
              "75%      21.000000   1198.075000    74.000000\n",
              "max     395.000000  65563.890000  3095.000000"
            ]
          },
          "metadata": {
            "tags": []
          },
          "execution_count": 32
        }
      ]
    },
    {
      "cell_type": "code",
      "metadata": {
        "trusted": true,
        "colab": {
          "base_uri": "https://localhost:8080/",
          "height": 424
        },
        "id": "uh69QLRyuCiG",
        "outputId": "cab0ddbd-983d-45d9-cd52-472f2b32f7dc"
      },
      "source": [
        "rfm1 = rfm.copy()\n",
        "# df.groupby('CustomerID')['InvoiceDate'].max() - df.groupby('CustomerID')['InvoiceDate'].min()\n",
        "df"
      ],
      "execution_count": 33,
      "outputs": [
        {
          "output_type": "execute_result",
          "data": {
            "text/html": [
              "<div>\n",
              "<style scoped>\n",
              "    .dataframe tbody tr th:only-of-type {\n",
              "        vertical-align: middle;\n",
              "    }\n",
              "\n",
              "    .dataframe tbody tr th {\n",
              "        vertical-align: top;\n",
              "    }\n",
              "\n",
              "    .dataframe thead th {\n",
              "        text-align: right;\n",
              "    }\n",
              "</style>\n",
              "<table border=\"1\" class=\"dataframe\">\n",
              "  <thead>\n",
              "    <tr style=\"text-align: right;\">\n",
              "      <th></th>\n",
              "      <th>Invoice</th>\n",
              "      <th>StockCode</th>\n",
              "      <th>Description</th>\n",
              "      <th>Quantity</th>\n",
              "      <th>InvoiceDate</th>\n",
              "      <th>Price</th>\n",
              "      <th>Customer ID</th>\n",
              "      <th>Country</th>\n",
              "      <th>TotalAmount</th>\n",
              "      <th>Hour</th>\n",
              "      <th>Month</th>\n",
              "      <th>Weekdays</th>\n",
              "    </tr>\n",
              "  </thead>\n",
              "  <tbody>\n",
              "    <tr>\n",
              "      <th>0</th>\n",
              "      <td>000000PD02000660322</td>\n",
              "      <td>104873</td>\n",
              "      <td>NESCAFE 3IN1 CLASSIC BAG</td>\n",
              "      <td>12</td>\n",
              "      <td>2020-04-26 08:05:00</td>\n",
              "      <td>6.95</td>\n",
              "      <td>13085.0</td>\n",
              "      <td>Ashrafieh</td>\n",
              "      <td>83.40</td>\n",
              "      <td>8</td>\n",
              "      <td>4</td>\n",
              "      <td>6</td>\n",
              "    </tr>\n",
              "    <tr>\n",
              "      <th>1</th>\n",
              "      <td>000000PD02000660322</td>\n",
              "      <td>104874</td>\n",
              "      <td>GANDOUR UNICA</td>\n",
              "      <td>12</td>\n",
              "      <td>2019-11-16 09:27:00</td>\n",
              "      <td>6.75</td>\n",
              "      <td>13085.0</td>\n",
              "      <td>Ashrafieh</td>\n",
              "      <td>81.00</td>\n",
              "      <td>9</td>\n",
              "      <td>11</td>\n",
              "      <td>5</td>\n",
              "    </tr>\n",
              "    <tr>\n",
              "      <th>2</th>\n",
              "      <td>000000PD02000660322</td>\n",
              "      <td>135173</td>\n",
              "      <td>CAKE PLAIN</td>\n",
              "      <td>12</td>\n",
              "      <td>2019-05-04 08:09:00</td>\n",
              "      <td>6.75</td>\n",
              "      <td>13085.0</td>\n",
              "      <td>Dbayeh</td>\n",
              "      <td>81.00</td>\n",
              "      <td>8</td>\n",
              "      <td>5</td>\n",
              "      <td>5</td>\n",
              "    </tr>\n",
              "    <tr>\n",
              "      <th>3</th>\n",
              "      <td>000000PD02000660322</td>\n",
              "      <td>479487</td>\n",
              "      <td>CROISSANT CHESSECAKE</td>\n",
              "      <td>48</td>\n",
              "      <td>2019-11-09 09:46:00</td>\n",
              "      <td>2.10</td>\n",
              "      <td>13085.0</td>\n",
              "      <td>Ashrafieh</td>\n",
              "      <td>100.80</td>\n",
              "      <td>9</td>\n",
              "      <td>11</td>\n",
              "      <td>5</td>\n",
              "    </tr>\n",
              "    <tr>\n",
              "      <th>4</th>\n",
              "      <td>000000PD02000660322</td>\n",
              "      <td>488316</td>\n",
              "      <td>BLUE COMPACT BOX SHORT</td>\n",
              "      <td>24</td>\n",
              "      <td>2019-07-21 08:15:00</td>\n",
              "      <td>1.25</td>\n",
              "      <td>13085.0</td>\n",
              "      <td>Hamra</td>\n",
              "      <td>30.00</td>\n",
              "      <td>8</td>\n",
              "      <td>7</td>\n",
              "      <td>6</td>\n",
              "    </tr>\n",
              "    <tr>\n",
              "      <th>...</th>\n",
              "      <td>...</td>\n",
              "      <td>...</td>\n",
              "      <td>...</td>\n",
              "      <td>...</td>\n",
              "      <td>...</td>\n",
              "      <td>...</td>\n",
              "      <td>...</td>\n",
              "      <td>...</td>\n",
              "      <td>...</td>\n",
              "      <td>...</td>\n",
              "      <td>...</td>\n",
              "      <td>...</td>\n",
              "    </tr>\n",
              "    <tr>\n",
              "      <th>278540</th>\n",
              "      <td>000000PD03000770721</td>\n",
              "      <td>142839</td>\n",
              "      <td>LABNEH BALADI</td>\n",
              "      <td>2</td>\n",
              "      <td>2019-11-28 09:33:00</td>\n",
              "      <td>0.65</td>\n",
              "      <td>14535.0</td>\n",
              "      <td>Ashrafieh</td>\n",
              "      <td>1.30</td>\n",
              "      <td>9</td>\n",
              "      <td>11</td>\n",
              "      <td>3</td>\n",
              "    </tr>\n",
              "    <tr>\n",
              "      <th>278541</th>\n",
              "      <td>000000PD03000770721</td>\n",
              "      <td>336923</td>\n",
              "      <td>KIRI SNOW SPREAD</td>\n",
              "      <td>5</td>\n",
              "      <td>2019-12-21 08:34:00</td>\n",
              "      <td>0.85</td>\n",
              "      <td>14535.0</td>\n",
              "      <td>Hamra</td>\n",
              "      <td>4.25</td>\n",
              "      <td>8</td>\n",
              "      <td>12</td>\n",
              "      <td>5</td>\n",
              "    </tr>\n",
              "    <tr>\n",
              "      <th>278542</th>\n",
              "      <td>000000PD03000770721</td>\n",
              "      <td>440233</td>\n",
              "      <td>TANNOUR BREAD SMALL 5\"S</td>\n",
              "      <td>1</td>\n",
              "      <td>2020-01-10 09:47:00</td>\n",
              "      <td>1.65</td>\n",
              "      <td>14535.0</td>\n",
              "      <td>Dbayeh</td>\n",
              "      <td>1.65</td>\n",
              "      <td>9</td>\n",
              "      <td>1</td>\n",
              "      <td>4</td>\n",
              "    </tr>\n",
              "    <tr>\n",
              "      <th>278543</th>\n",
              "      <td>000000PD03000770721</td>\n",
              "      <td>175191</td>\n",
              "      <td>PAIN AU LAIT</td>\n",
              "      <td>2</td>\n",
              "      <td>2019-05-29 08:28:00</td>\n",
              "      <td>1.65</td>\n",
              "      <td>14535.0</td>\n",
              "      <td>Ashrafieh</td>\n",
              "      <td>3.30</td>\n",
              "      <td>8</td>\n",
              "      <td>5</td>\n",
              "      <td>2</td>\n",
              "    </tr>\n",
              "    <tr>\n",
              "      <th>278544</th>\n",
              "      <td>000000PD03000770724</td>\n",
              "      <td>428093</td>\n",
              "      <td>XXL ENERGIE DRINK REGULAR</td>\n",
              "      <td>2</td>\n",
              "      <td>2019-12-28 09:17:00</td>\n",
              "      <td>8.50</td>\n",
              "      <td>14535.0</td>\n",
              "      <td>Ashrafieh</td>\n",
              "      <td>17.00</td>\n",
              "      <td>9</td>\n",
              "      <td>12</td>\n",
              "      <td>5</td>\n",
              "    </tr>\n",
              "  </tbody>\n",
              "</table>\n",
              "<p>262429 rows × 12 columns</p>\n",
              "</div>"
            ],
            "text/plain": [
              "                    Invoice  StockCode  ... Month  Weekdays\n",
              "0       000000PD02000660322     104873  ...     4         6\n",
              "1       000000PD02000660322     104874  ...    11         5\n",
              "2       000000PD02000660322     135173  ...     5         5\n",
              "3       000000PD02000660322     479487  ...    11         5\n",
              "4       000000PD02000660322     488316  ...     7         6\n",
              "...                     ...        ...  ...   ...       ...\n",
              "278540  000000PD03000770721     142839  ...    11         3\n",
              "278541  000000PD03000770721     336923  ...    12         5\n",
              "278542  000000PD03000770721     440233  ...     1         4\n",
              "278543  000000PD03000770721     175191  ...     5         2\n",
              "278544  000000PD03000770724     428093  ...    12         5\n",
              "\n",
              "[262429 rows x 12 columns]"
            ]
          },
          "metadata": {
            "tags": []
          },
          "execution_count": 33
        }
      ]
    },
    {
      "cell_type": "code",
      "metadata": {
        "trusted": true,
        "id": "95c0MRM9uCiG"
      },
      "source": [
        "#why do we rank it and how?\n",
        "rfm['Rank_Recency'] = pd.qcut( rfm['Recency'],q=5, labels = range(6, 1, -1))\n",
        "rfm['Rank_Recency'] = pd.to_numeric(rfm['Rank_Recency'])"
      ],
      "execution_count": 34,
      "outputs": []
    },
    {
      "cell_type": "code",
      "metadata": {
        "trusted": true,
        "id": "XqwF6dFpuCiG"
      },
      "source": [
        "def freq(x):\n",
        "    if x ==1:\n",
        "        return 1\n",
        "    elif x == 2:\n",
        "        return 2\n",
        "    elif x == 3:\n",
        "        return 3\n",
        "    elif x == 4:\n",
        "        return 4\n",
        "    else: \n",
        "        return 5\n",
        "\n",
        "rfm['Rank_Frequency'] =rfm['Frequency'].apply(freq)\n",
        "\n",
        "#rfm['Rank_Frequency'] = pd.qcut( rfm['Frequency'],q=5, labels = range(1, 6, 1))\n",
        "#rfm['Rank_Frequency'] = pd.to_numeric(rfm['Rank_Frequency'])\n"
      ],
      "execution_count": 35,
      "outputs": []
    },
    {
      "cell_type": "code",
      "metadata": {
        "trusted": true,
        "id": "rPcB2jVEuCiG"
      },
      "source": [
        "rfm['Rank_Monetization'] = pd.qcut( rfm['Monetization'],q=5, labels = range(1, 6, 1))\n",
        "rfm['Rank_Monetization'] = pd.to_numeric(rfm['Rank_Monetization'])\n",
        "\n",
        "rfm['RFM_Score'] = rfm['Rank_Recency'].astype(str)+ rfm['Rank_Frequency'].astype(str) + rfm['Rank_Monetization'].astype(str)\n",
        "rfm['Score'] = rfm['Rank_Recency']+ rfm['Rank_Frequency']+ rfm['Rank_Monetization']"
      ],
      "execution_count": 36,
      "outputs": []
    },
    {
      "cell_type": "markdown",
      "metadata": {
        "id": "9caG8PBquCiG"
      },
      "source": [
        "rfm['BasketSize'] = (rfm['Monetization']/rfm['Frequency']).round(2)"
      ]
    },
    {
      "cell_type": "code",
      "metadata": {
        "trusted": true,
        "colab": {
          "base_uri": "https://localhost:8080/",
          "height": 300
        },
        "id": "u3oy5lVDuCiH",
        "outputId": "67ab3d01-d592-4691-a8b4-8338e76b4cfa"
      },
      "source": [
        "rfm.describe()"
      ],
      "execution_count": 37,
      "outputs": [
        {
          "output_type": "execute_result",
          "data": {
            "text/html": [
              "<div>\n",
              "<style scoped>\n",
              "    .dataframe tbody tr th:only-of-type {\n",
              "        vertical-align: middle;\n",
              "    }\n",
              "\n",
              "    .dataframe tbody tr th {\n",
              "        vertical-align: top;\n",
              "    }\n",
              "\n",
              "    .dataframe thead th {\n",
              "        text-align: right;\n",
              "    }\n",
              "</style>\n",
              "<table border=\"1\" class=\"dataframe\">\n",
              "  <thead>\n",
              "    <tr style=\"text-align: right;\">\n",
              "      <th></th>\n",
              "      <th>Recency</th>\n",
              "      <th>Monetization</th>\n",
              "      <th>Frequency</th>\n",
              "      <th>Rank_Recency</th>\n",
              "      <th>Rank_Frequency</th>\n",
              "      <th>Rank_Monetization</th>\n",
              "      <th>Score</th>\n",
              "    </tr>\n",
              "  </thead>\n",
              "  <tbody>\n",
              "    <tr>\n",
              "      <th>count</th>\n",
              "      <td>3027.000000</td>\n",
              "      <td>3027.000000</td>\n",
              "      <td>3027.000000</td>\n",
              "      <td>3027.000000</td>\n",
              "      <td>3027.000000</td>\n",
              "      <td>3027.000000</td>\n",
              "      <td>3027.000000</td>\n",
              "    </tr>\n",
              "    <tr>\n",
              "      <th>mean</th>\n",
              "      <td>22.097126</td>\n",
              "      <td>1136.604632</td>\n",
              "      <td>68.192270</td>\n",
              "      <td>4.052197</td>\n",
              "      <td>4.839445</td>\n",
              "      <td>3.000000</td>\n",
              "      <td>11.891642</td>\n",
              "    </tr>\n",
              "    <tr>\n",
              "      <th>std</th>\n",
              "      <td>45.761637</td>\n",
              "      <td>2532.977733</td>\n",
              "      <td>133.712346</td>\n",
              "      <td>1.416520</td>\n",
              "      <td>0.683574</td>\n",
              "      <td>1.414914</td>\n",
              "      <td>2.797439</td>\n",
              "    </tr>\n",
              "    <tr>\n",
              "      <th>min</th>\n",
              "      <td>0.000000</td>\n",
              "      <td>1.300000</td>\n",
              "      <td>1.000000</td>\n",
              "      <td>2.000000</td>\n",
              "      <td>1.000000</td>\n",
              "      <td>1.000000</td>\n",
              "      <td>4.000000</td>\n",
              "    </tr>\n",
              "    <tr>\n",
              "      <th>25%</th>\n",
              "      <td>2.000000</td>\n",
              "      <td>240.325000</td>\n",
              "      <td>16.000000</td>\n",
              "      <td>3.000000</td>\n",
              "      <td>5.000000</td>\n",
              "      <td>2.000000</td>\n",
              "      <td>10.000000</td>\n",
              "    </tr>\n",
              "    <tr>\n",
              "      <th>50%</th>\n",
              "      <td>7.000000</td>\n",
              "      <td>522.870000</td>\n",
              "      <td>34.000000</td>\n",
              "      <td>4.000000</td>\n",
              "      <td>5.000000</td>\n",
              "      <td>3.000000</td>\n",
              "      <td>12.000000</td>\n",
              "    </tr>\n",
              "    <tr>\n",
              "      <th>75%</th>\n",
              "      <td>21.000000</td>\n",
              "      <td>1198.075000</td>\n",
              "      <td>74.000000</td>\n",
              "      <td>5.000000</td>\n",
              "      <td>5.000000</td>\n",
              "      <td>4.000000</td>\n",
              "      <td>14.000000</td>\n",
              "    </tr>\n",
              "    <tr>\n",
              "      <th>max</th>\n",
              "      <td>395.000000</td>\n",
              "      <td>65563.890000</td>\n",
              "      <td>3095.000000</td>\n",
              "      <td>6.000000</td>\n",
              "      <td>5.000000</td>\n",
              "      <td>5.000000</td>\n",
              "      <td>16.000000</td>\n",
              "    </tr>\n",
              "  </tbody>\n",
              "</table>\n",
              "</div>"
            ],
            "text/plain": [
              "           Recency  Monetization  ...  Rank_Monetization        Score\n",
              "count  3027.000000   3027.000000  ...        3027.000000  3027.000000\n",
              "mean     22.097126   1136.604632  ...           3.000000    11.891642\n",
              "std      45.761637   2532.977733  ...           1.414914     2.797439\n",
              "min       0.000000      1.300000  ...           1.000000     4.000000\n",
              "25%       2.000000    240.325000  ...           2.000000    10.000000\n",
              "50%       7.000000    522.870000  ...           3.000000    12.000000\n",
              "75%      21.000000   1198.075000  ...           4.000000    14.000000\n",
              "max     395.000000  65563.890000  ...           5.000000    16.000000\n",
              "\n",
              "[8 rows x 7 columns]"
            ]
          },
          "metadata": {
            "tags": []
          },
          "execution_count": 37
        }
      ]
    },
    {
      "cell_type": "code",
      "metadata": {
        "trusted": true,
        "id": "zIDJg8QUuCiH"
      },
      "source": [
        "def client_segment(x):\n",
        "    if x == 15:\n",
        "        return 'Champions'\n",
        "    elif  x >= 14:\n",
        "        return 'Loyal Customers'\n",
        "    elif  x >= 11:\n",
        "        return 'Can’t Lose Them'\n",
        "    elif  x >= 9:\n",
        "        return 'Potential Loyalist'\n",
        "    elif  x >= 7:\n",
        "        return 'Promising'\n",
        "    elif  x >= 6:\n",
        "        return 'Needs Attention'\n",
        "    elif  x >= 5:\n",
        "        return 'At Risk'\n",
        "    else:\n",
        "        return 'Lost'"
      ],
      "execution_count": 38,
      "outputs": []
    },
    {
      "cell_type": "code",
      "metadata": {
        "trusted": true,
        "id": "V3hkkLUruCiH"
      },
      "source": [
        "rfm['Clients'] = rfm['Score'].apply(client_segment)"
      ],
      "execution_count": 39,
      "outputs": []
    },
    {
      "cell_type": "code",
      "metadata": {
        "trusted": true,
        "id": "UfOtPebTuCiH"
      },
      "source": [
        "clients = rfm[['Clients', 'Frequency', 'Monetization', 'Recency']].groupby('Clients').median()\n",
        "clients.reset_index(inplace = True)"
      ],
      "execution_count": 40,
      "outputs": []
    },
    {
      "cell_type": "code",
      "metadata": {
        "trusted": true,
        "colab": {
          "base_uri": "https://localhost:8080/",
          "height": 237
        },
        "id": "0lKc_zvsuCiH",
        "outputId": "bd6e3bb4-05ac-4b5c-d0fd-5725e280b498"
      },
      "source": [
        "rfm.head(5)"
      ],
      "execution_count": 41,
      "outputs": [
        {
          "output_type": "execute_result",
          "data": {
            "text/html": [
              "<div>\n",
              "<style scoped>\n",
              "    .dataframe tbody tr th:only-of-type {\n",
              "        vertical-align: middle;\n",
              "    }\n",
              "\n",
              "    .dataframe tbody tr th {\n",
              "        vertical-align: top;\n",
              "    }\n",
              "\n",
              "    .dataframe thead th {\n",
              "        text-align: right;\n",
              "    }\n",
              "</style>\n",
              "<table border=\"1\" class=\"dataframe\">\n",
              "  <thead>\n",
              "    <tr style=\"text-align: right;\">\n",
              "      <th></th>\n",
              "      <th>Recency</th>\n",
              "      <th>Monetization</th>\n",
              "      <th>Frequency</th>\n",
              "      <th>Rank_Recency</th>\n",
              "      <th>Rank_Frequency</th>\n",
              "      <th>Rank_Monetization</th>\n",
              "      <th>RFM_Score</th>\n",
              "      <th>Score</th>\n",
              "      <th>Clients</th>\n",
              "    </tr>\n",
              "    <tr>\n",
              "      <th>Customer ID</th>\n",
              "      <th></th>\n",
              "      <th></th>\n",
              "      <th></th>\n",
              "      <th></th>\n",
              "      <th></th>\n",
              "      <th></th>\n",
              "      <th></th>\n",
              "      <th></th>\n",
              "      <th></th>\n",
              "    </tr>\n",
              "  </thead>\n",
              "  <tbody>\n",
              "    <tr>\n",
              "      <th>12346.0</th>\n",
              "      <td>12</td>\n",
              "      <td>372.86</td>\n",
              "      <td>33</td>\n",
              "      <td>3</td>\n",
              "      <td>5</td>\n",
              "      <td>3</td>\n",
              "      <td>353</td>\n",
              "      <td>11</td>\n",
              "      <td>Can’t Lose Them</td>\n",
              "    </tr>\n",
              "    <tr>\n",
              "      <th>12349.0</th>\n",
              "      <td>3</td>\n",
              "      <td>928.72</td>\n",
              "      <td>45</td>\n",
              "      <td>5</td>\n",
              "      <td>5</td>\n",
              "      <td>4</td>\n",
              "      <td>554</td>\n",
              "      <td>14</td>\n",
              "      <td>Loyal Customers</td>\n",
              "    </tr>\n",
              "    <tr>\n",
              "      <th>12355.0</th>\n",
              "      <td>4</td>\n",
              "      <td>488.21</td>\n",
              "      <td>22</td>\n",
              "      <td>5</td>\n",
              "      <td>5</td>\n",
              "      <td>3</td>\n",
              "      <td>553</td>\n",
              "      <td>13</td>\n",
              "      <td>Can’t Lose Them</td>\n",
              "    </tr>\n",
              "    <tr>\n",
              "      <th>12358.0</th>\n",
              "      <td>8</td>\n",
              "      <td>1697.93</td>\n",
              "      <td>35</td>\n",
              "      <td>4</td>\n",
              "      <td>5</td>\n",
              "      <td>5</td>\n",
              "      <td>455</td>\n",
              "      <td>14</td>\n",
              "      <td>Loyal Customers</td>\n",
              "    </tr>\n",
              "    <tr>\n",
              "      <th>12359.0</th>\n",
              "      <td>3</td>\n",
              "      <td>1776.13</td>\n",
              "      <td>83</td>\n",
              "      <td>5</td>\n",
              "      <td>5</td>\n",
              "      <td>5</td>\n",
              "      <td>555</td>\n",
              "      <td>15</td>\n",
              "      <td>Champions</td>\n",
              "    </tr>\n",
              "  </tbody>\n",
              "</table>\n",
              "</div>"
            ],
            "text/plain": [
              "             Recency  Monetization  Frequency  ...  RFM_Score  Score          Clients\n",
              "Customer ID                                    ...                                   \n",
              "12346.0           12        372.86         33  ...        353     11  Can’t Lose Them\n",
              "12349.0            3        928.72         45  ...        554     14  Loyal Customers\n",
              "12355.0            4        488.21         22  ...        553     13  Can’t Lose Them\n",
              "12358.0            8       1697.93         35  ...        455     14  Loyal Customers\n",
              "12359.0            3       1776.13         83  ...        555     15        Champions\n",
              "\n",
              "[5 rows x 9 columns]"
            ]
          },
          "metadata": {
            "tags": []
          },
          "execution_count": 41
        }
      ]
    },
    {
      "cell_type": "code",
      "metadata": {
        "trusted": true,
        "colab": {
          "base_uri": "https://localhost:8080/",
          "height": 312
        },
        "id": "hQe8ybzNuCiH",
        "outputId": "ccf813bd-96bc-4b2b-d96d-ba485867fa39"
      },
      "source": [
        "ax = sns.barplot(x=\"Frequency\", y=\"Clients\", data=clients)\n",
        "ax.set_ylabel('Clients')\n",
        "ax.set_title('Median Visits')"
      ],
      "execution_count": 42,
      "outputs": [
        {
          "output_type": "execute_result",
          "data": {
            "text/plain": [
              "Text(0.5, 1.0, 'Median Visits')"
            ]
          },
          "metadata": {
            "tags": []
          },
          "execution_count": 42
        },
        {
          "output_type": "display_data",
          "data": {
            "image/png": "[encoded data removed]",
            "text/plain": [
              "<Figure size 432x288 with 1 Axes>"
            ]
          },
          "metadata": {
            "tags": [],
            "needs_background": "light"
          }
        }
      ]
    },
    {
      "cell_type": "code",
      "metadata": {
        "trusted": true,
        "colab": {
          "base_uri": "https://localhost:8080/",
          "height": 312
        },
        "id": "b46sGjLfuCiH",
        "outputId": "a0a1e4e2-046d-4896-e801-af59ba939622"
      },
      "source": [
        "ax = sns.barplot(x=\"Monetization\", y=\"Clients\", data=clients)\n",
        "ax.set_ylabel('Clients')\n",
        "ax.set_title('Median Expenditure')"
      ],
      "execution_count": 43,
      "outputs": [
        {
          "output_type": "execute_result",
          "data": {
            "text/plain": [
              "Text(0.5, 1.0, 'Median Expenditure')"
            ]
          },
          "metadata": {
            "tags": []
          },
          "execution_count": 43
        },
        {
          "output_type": "display_data",
          "data": {
            "image/png": "[encoded data removed]",
            "text/plain": [
              "<Figure size 432x288 with 1 Axes>"
            ]
          },
          "metadata": {
            "tags": [],
            "needs_background": "light"
          }
        }
      ]
    },
    {
      "cell_type": "code",
      "metadata": {
        "trusted": true,
        "colab": {
          "base_uri": "https://localhost:8080/",
          "height": 312
        },
        "id": "SRCJMP58uCiH",
        "outputId": "2295b588-578a-4ea8-ff33-032eb7e139a6"
      },
      "source": [
        "ax = sns.barplot(x=\"Recency\", y=\"Clients\", data=clients)\n",
        "ax.set_ylabel('Clients')\n",
        "ax.set_title('Median time from last shop ')\n"
      ],
      "execution_count": 44,
      "outputs": [
        {
          "output_type": "execute_result",
          "data": {
            "text/plain": [
              "Text(0.5, 1.0, 'Median time from last shop ')"
            ]
          },
          "metadata": {
            "tags": []
          },
          "execution_count": 44
        },
        {
          "output_type": "display_data",
          "data": {
            "image/png": "[encoded data removed]",
            "text/plain": [
              "<Figure size 432x288 with 1 Axes>"
            ]
          },
          "metadata": {
            "tags": [],
            "needs_background": "light"
          }
        }
      ]
    },
    {
      "cell_type": "code",
      "metadata": {
        "colab": {
          "base_uri": "https://localhost:8080/"
        },
        "id": "D3zf6ZTsu__5",
        "outputId": "d7728037-ba52-408e-a6c6-04ae93e69056"
      },
      "source": [
        "!pip install squarify"
      ],
      "execution_count": 47,
      "outputs": [
        {
          "output_type": "stream",
          "text": [
            "Collecting squarify\n",
            "  Downloading https://files.pythonhosted.org/packages/0b/2b/2e77c35326efec19819cd1d729540d4d235e6c2a3f37658288a363a67da5/squarify-0.4.3-py3-none-any.whl\n",
            "Installing collected packages: squarify\n",
            "Successfully installed squarify-0.4.3\n"
          ],
          "name": "stdout"
        }
      ]
    },
    {
      "cell_type": "code",
      "metadata": {
        "trusted": true,
        "colab": {
          "base_uri": "https://localhost:8080/",
          "height": 486
        },
        "id": "F2N0KcONuCiI",
        "outputId": "8a85363e-bf3d-4e6a-f369-80fd42bc2c51"
      },
      "source": [
        "import squarify\n",
        "\n",
        "squarity =rfm['Clients'] .value_counts()\n",
        "color=['grey','orange','pink','purple', 'brown', 'blue', 'green', 'red']\n",
        "\n",
        "\n",
        "fig = plt.gcf()\n",
        "ax = fig.add_subplot()\n",
        "fig.set_size_inches(12, 8)\n",
        "squarify.plot(sizes= squarity , \n",
        "              label=['Promising',\n",
        "                     'Can’t Lose Them',\n",
        "                     'Potential Loyalist',\n",
        "                     'Loyal Customer',\n",
        "                     'Promising', \n",
        "                     'Needs Attention',\n",
        "                     'At Risk',\n",
        "                     'Champions',\n",
        "                     'Lost',] ,color = color, alpha=0.5,)\n",
        "plt.title(\"RFM Segments\",fontsize=18,fontweight=\"bold\")\n",
        "plt.axis('off')\n",
        "plt.show()"
      ],
      "execution_count": 48,
      "outputs": [
        {
          "output_type": "display_data",
          "data": {
            "image/png": "[encoded data removed]",
            "text/plain": [
              "<Figure size 864x576 with 1 Axes>"
            ]
          },
          "metadata": {
            "tags": [],
            "needs_background": "light"
          }
        }
      ]
    },
    {
      "cell_type": "code",
      "metadata": {
        "trusted": true,
        "colab": {
          "base_uri": "https://localhost:8080/"
        },
        "id": "HJZ1rMxFuCiI",
        "outputId": "2cfde1ec-9b42-484b-ac2e-d8842e51b772"
      },
      "source": [
        "squarity"
      ],
      "execution_count": 49,
      "outputs": [
        {
          "output_type": "execute_result",
          "data": {
            "text/plain": [
              "Can’t Lose Them       1097\n",
              "Loyal Customers        663\n",
              "Potential Loyalist     595\n",
              "Champions              333\n",
              "Promising              215\n",
              "Lost                    51\n",
              "Needs Attention         43\n",
              "At Risk                 30\n",
              "Name: Clients, dtype: int64"
            ]
          },
          "metadata": {
            "tags": []
          },
          "execution_count": 49
        }
      ]
    },
    {
      "cell_type": "markdown",
      "metadata": {
        "id": "n7Z5rLFMuCiI"
      },
      "source": [
        "Interpretation\n",
        "\n",
        "We have a deeper understanding of our segmentations from the graphs above, from the median expenditure to each group's number. Among the visualization, we observe three horizontal histograms (median frequency, median monetization and median recency for every group of clients) and one squarity.\n",
        "\n",
        "As we can see in the Median Expenditure graph, our two best categories of clients are champions (in green) and loyal customer(in purple). As we can see, both clients provide almost 80% of our revenue and only represent 22% of our total clients! This follows the 80/20 rule, also known as the Pareto Principle, attributed to the Italian economist Vilfredo Pareto. In one of his papers, Pareto noted that about 80% of Italy's land belonged to approximately 20% of its total population.\n",
        "\n",
        "This is a presentation of the three different users:\n",
        "\n",
        "Champions gather 300 customer who has a median expenditure of $2446 and comes almost every month. For marketers, they should be the most critical clients because they make your market sustainable. In this case, you must regularly reward with the promotion or provide to them privilege access.\n",
        "\n",
        "Potential Loyalist represents 15% of our customers. They play an essential role in the growth of the market. They already show interest in the brand. The next step is to acquire them by building a relationship.\n",
        "\n",
        "Customers that need attention constitutes 10% of our market. They spend and come below the average. We translated this with a potential loss, increased churn. It is vital to reactive interest with discounts and recommendations. Moreover, you may also receive feedback to improve your process."
      ]
    },
    {
      "cell_type": "code",
      "metadata": {
        "trusted": true,
        "colab": {
          "base_uri": "https://localhost:8080/",
          "height": 286
        },
        "id": "UjWNfI5uuCiI",
        "outputId": "6a8701d7-f4b8-43ed-8bed-747e1b65a259"
      },
      "source": [
        "sns.heatmap(clients.corr(),annot=True)"
      ],
      "execution_count": 50,
      "outputs": [
        {
          "output_type": "execute_result",
          "data": {
            "text/plain": [
              "<matplotlib.axes._subplots.AxesSubplot at 0x7fe75ba57fd0>"
            ]
          },
          "metadata": {
            "tags": []
          },
          "execution_count": 50
        },
        {
          "output_type": "display_data",
          "data": {
            "image/png": "[encoded data removed]",
            "text/plain": [
              "<Figure size 432x288 with 2 Axes>"
            ]
          },
          "metadata": {
            "tags": [],
            "needs_background": "light"
          }
        }
      ]
    },
    {
      "cell_type": "code",
      "metadata": {
        "trusted": true,
        "colab": {
          "base_uri": "https://localhost:8080/",
          "height": 101
        },
        "id": "uqc93GYfuCiI",
        "outputId": "b257f2f4-eaa3-47a4-fc86-31b4d0565652"
      },
      "source": [
        "import pandas as pd\n",
        "import numpy as np\n",
        "\n",
        "rs = np.random.RandomState(0)\n",
        "df = pd.DataFrame(rs.rand(10, 10))\n",
        "corr = clients.corr()\n",
        "corr.style.background_gradient(cmap='coolwarm').set_precision(2)\n",
        "# 'RdBu_r' & 'BrBG' are other good diverging colormaps"
      ],
      "execution_count": 51,
      "outputs": [
        {
          "output_type": "execute_result",
          "data": {
            "text/html": [
              "<style  type=\"text/css\" >\n",
              "#T_2f2e975a_db1f_11eb_a94e_0242ac1c0002row0_col0,#T_2f2e975a_db1f_11eb_a94e_0242ac1c0002row1_col1,#T_2f2e975a_db1f_11eb_a94e_0242ac1c0002row2_col2{\n",
              "            background-color:  #b40426;\n",
              "            color:  #f1f1f1;\n",
              "        }#T_2f2e975a_db1f_11eb_a94e_0242ac1c0002row0_col1,#T_2f2e975a_db1f_11eb_a94e_0242ac1c0002row1_col0{\n",
              "            background-color:  #b70d28;\n",
              "            color:  #f1f1f1;\n",
              "        }#T_2f2e975a_db1f_11eb_a94e_0242ac1c0002row0_col2,#T_2f2e975a_db1f_11eb_a94e_0242ac1c0002row2_col0,#T_2f2e975a_db1f_11eb_a94e_0242ac1c0002row2_col1{\n",
              "            background-color:  #3b4cc0;\n",
              "            color:  #f1f1f1;\n",
              "        }#T_2f2e975a_db1f_11eb_a94e_0242ac1c0002row1_col2{\n",
              "            background-color:  #3d50c3;\n",
              "            color:  #f1f1f1;\n",
              "        }</style><table id=\"T_2f2e975a_db1f_11eb_a94e_0242ac1c0002\" ><thead>    <tr>        <th class=\"blank level0\" ></th>        <th class=\"col_heading level0 col0\" >Frequency</th>        <th class=\"col_heading level0 col1\" >Monetization</th>        <th class=\"col_heading level0 col2\" >Recency</th>    </tr></thead><tbody>\n",
              "                <tr>\n",
              "                        <th id=\"T_2f2e975a_db1f_11eb_a94e_0242ac1c0002level0_row0\" class=\"row_heading level0 row0\" >Frequency</th>\n",
              "                        <td id=\"T_2f2e975a_db1f_11eb_a94e_0242ac1c0002row0_col0\" class=\"data row0 col0\" >1.00</td>\n",
              "                        <td id=\"T_2f2e975a_db1f_11eb_a94e_0242ac1c0002row0_col1\" class=\"data row0 col1\" >0.99</td>\n",
              "                        <td id=\"T_2f2e975a_db1f_11eb_a94e_0242ac1c0002row0_col2\" class=\"data row0 col2\" >-0.70</td>\n",
              "            </tr>\n",
              "            <tr>\n",
              "                        <th id=\"T_2f2e975a_db1f_11eb_a94e_0242ac1c0002level0_row1\" class=\"row_heading level0 row1\" >Monetization</th>\n",
              "                        <td id=\"T_2f2e975a_db1f_11eb_a94e_0242ac1c0002row1_col0\" class=\"data row1 col0\" >0.99</td>\n",
              "                        <td id=\"T_2f2e975a_db1f_11eb_a94e_0242ac1c0002row1_col1\" class=\"data row1 col1\" >1.00</td>\n",
              "                        <td id=\"T_2f2e975a_db1f_11eb_a94e_0242ac1c0002row1_col2\" class=\"data row1 col2\" >-0.68</td>\n",
              "            </tr>\n",
              "            <tr>\n",
              "                        <th id=\"T_2f2e975a_db1f_11eb_a94e_0242ac1c0002level0_row2\" class=\"row_heading level0 row2\" >Recency</th>\n",
              "                        <td id=\"T_2f2e975a_db1f_11eb_a94e_0242ac1c0002row2_col0\" class=\"data row2 col0\" >-0.70</td>\n",
              "                        <td id=\"T_2f2e975a_db1f_11eb_a94e_0242ac1c0002row2_col1\" class=\"data row2 col1\" >-0.68</td>\n",
              "                        <td id=\"T_2f2e975a_db1f_11eb_a94e_0242ac1c0002row2_col2\" class=\"data row2 col2\" >1.00</td>\n",
              "            </tr>\n",
              "    </tbody></table>"
            ],
            "text/plain": [
              "<pandas.io.formats.style.Styler at 0x7fe75bb522d0>"
            ]
          },
          "metadata": {
            "tags": []
          },
          "execution_count": 51
        }
      ]
    },
    {
      "cell_type": "code",
      "metadata": {
        "trusted": true,
        "colab": {
          "base_uri": "https://localhost:8080/",
          "height": 554
        },
        "id": "25aK8BwuuCiI",
        "outputId": "faee800d-74c3-40b6-f589-6a284fe84bfa"
      },
      "source": [
        "# Compute the correlation matrix\n",
        "corr = clients.corr()\n",
        "\n",
        "# Generate a mask for the upper triangle\n",
        "mask = np.triu(np.ones_like(corr, dtype=bool))\n",
        "\n",
        "# Set up the matplotlib figure\n",
        "f, ax = plt.subplots(figsize=(11, 9))\n",
        "\n",
        "# Generate a custom diverging colormap\n",
        "cmap = sns.diverging_palette(240, 10, as_cmap=True)\n",
        "\n",
        "# Draw the heatmap with the mask and correct aspect ratio\n",
        "sns.heatmap(corr, mask=mask, cmap=cmap, vmax=.3, center=0,\n",
        "            square=True, linewidths=.5, cbar_kws={\"shrink\": .5})"
      ],
      "execution_count": 52,
      "outputs": [
        {
          "output_type": "execute_result",
          "data": {
            "text/plain": [
              "<matplotlib.axes._subplots.AxesSubplot at 0x7fe753357250>"
            ]
          },
          "metadata": {
            "tags": []
          },
          "execution_count": 52
        },
        {
          "output_type": "display_data",
          "data": {
            "image/png": "[encoded data removed]",
            "text/plain": [
              "<Figure size 792x648 with 2 Axes>"
            ]
          },
          "metadata": {
            "tags": [],
            "needs_background": "light"
          }
        }
      ]
    },
    {
      "cell_type": "code",
      "metadata": {
        "trusted": true,
        "colab": {
          "base_uri": "https://localhost:8080/",
          "height": 286
        },
        "id": "f47zExCzuCiJ",
        "outputId": "f529143e-2af0-48e5-c06a-ad5070a0c130"
      },
      "source": [
        "# sns.heatmap(clients.corr(), annot = True, vmin=-1, vmax=1, center= 0, cmap= 'coolwarm')\n",
        "sns.heatmap(clients.corr(), annot = True, vmin=-1, vmax=1, center= 0, cmap= 'coolwarm', linewidths=3, linecolor='black')\n"
      ],
      "execution_count": 53,
      "outputs": [
        {
          "output_type": "execute_result",
          "data": {
            "text/plain": [
              "<matplotlib.axes._subplots.AxesSubplot at 0x7fe753050f10>"
            ]
          },
          "metadata": {
            "tags": []
          },
          "execution_count": 53
        },
        {
          "output_type": "display_data",
          "data": {
            "image/png": "[encoded data removed]",
            "text/plain": [
              "<Figure size 432x288 with 2 Axes>"
            ]
          },
          "metadata": {
            "tags": [],
            "needs_background": "light"
          }
        }
      ]
    },
    {
      "cell_type": "code",
      "metadata": {
        "trusted": true,
        "colab": {
          "base_uri": "https://localhost:8080/",
          "height": 300
        },
        "id": "_OLgMOWAuCiJ",
        "outputId": "6b53c01b-6753-42a7-a158-b6182a5d9189"
      },
      "source": [
        "clients"
      ],
      "execution_count": 54,
      "outputs": [
        {
          "output_type": "execute_result",
          "data": {
            "text/html": [
              "<div>\n",
              "<style scoped>\n",
              "    .dataframe tbody tr th:only-of-type {\n",
              "        vertical-align: middle;\n",
              "    }\n",
              "\n",
              "    .dataframe tbody tr th {\n",
              "        vertical-align: top;\n",
              "    }\n",
              "\n",
              "    .dataframe thead th {\n",
              "        text-align: right;\n",
              "    }\n",
              "</style>\n",
              "<table border=\"1\" class=\"dataframe\">\n",
              "  <thead>\n",
              "    <tr style=\"text-align: right;\">\n",
              "      <th></th>\n",
              "      <th>Clients</th>\n",
              "      <th>Frequency</th>\n",
              "      <th>Monetization</th>\n",
              "      <th>Recency</th>\n",
              "    </tr>\n",
              "  </thead>\n",
              "  <tbody>\n",
              "    <tr>\n",
              "      <th>0</th>\n",
              "      <td>At Risk</td>\n",
              "      <td>2.0</td>\n",
              "      <td>109.56</td>\n",
              "      <td>145.5</td>\n",
              "    </tr>\n",
              "    <tr>\n",
              "      <th>1</th>\n",
              "      <td>Can’t Lose Them</td>\n",
              "      <td>33.0</td>\n",
              "      <td>489.51</td>\n",
              "      <td>7.0</td>\n",
              "    </tr>\n",
              "    <tr>\n",
              "      <th>2</th>\n",
              "      <td>Champions</td>\n",
              "      <td>108.0</td>\n",
              "      <td>1421.42</td>\n",
              "      <td>2.0</td>\n",
              "    </tr>\n",
              "    <tr>\n",
              "      <th>3</th>\n",
              "      <td>Lost</td>\n",
              "      <td>1.0</td>\n",
              "      <td>45.00</td>\n",
              "      <td>181.0</td>\n",
              "    </tr>\n",
              "    <tr>\n",
              "      <th>4</th>\n",
              "      <td>Loyal Customers</td>\n",
              "      <td>97.0</td>\n",
              "      <td>1656.26</td>\n",
              "      <td>1.0</td>\n",
              "    </tr>\n",
              "    <tr>\n",
              "      <th>5</th>\n",
              "      <td>Needs Attention</td>\n",
              "      <td>3.0</td>\n",
              "      <td>77.25</td>\n",
              "      <td>106.0</td>\n",
              "    </tr>\n",
              "    <tr>\n",
              "      <th>6</th>\n",
              "      <td>Potential Loyalist</td>\n",
              "      <td>16.0</td>\n",
              "      <td>252.59</td>\n",
              "      <td>22.0</td>\n",
              "    </tr>\n",
              "    <tr>\n",
              "      <th>7</th>\n",
              "      <td>Promising</td>\n",
              "      <td>7.0</td>\n",
              "      <td>134.40</td>\n",
              "      <td>55.0</td>\n",
              "    </tr>\n",
              "  </tbody>\n",
              "</table>\n",
              "</div>"
            ],
            "text/plain": [
              "              Clients  Frequency  Monetization  Recency\n",
              "0             At Risk        2.0        109.56    145.5\n",
              "1     Can’t Lose Them       33.0        489.51      7.0\n",
              "2           Champions      108.0       1421.42      2.0\n",
              "3                Lost        1.0         45.00    181.0\n",
              "4     Loyal Customers       97.0       1656.26      1.0\n",
              "5     Needs Attention        3.0         77.25    106.0\n",
              "6  Potential Loyalist       16.0        252.59     22.0\n",
              "7           Promising        7.0        134.40     55.0"
            ]
          },
          "metadata": {
            "tags": []
          },
          "execution_count": 54
        }
      ]
    },
    {
      "cell_type": "code",
      "metadata": {
        "trusted": true,
        "colab": {
          "base_uri": "https://localhost:8080/"
        },
        "id": "_7B5ZnqnuCiJ",
        "outputId": "1191d05f-35a9-42a3-cf64-145d5af26fed"
      },
      "source": [
        "rfm['Clients'].value_counts()"
      ],
      "execution_count": 55,
      "outputs": [
        {
          "output_type": "execute_result",
          "data": {
            "text/plain": [
              "Can’t Lose Them       1097\n",
              "Loyal Customers        663\n",
              "Potential Loyalist     595\n",
              "Champions              333\n",
              "Promising              215\n",
              "Lost                    51\n",
              "Needs Attention         43\n",
              "At Risk                 30\n",
              "Name: Clients, dtype: int64"
            ]
          },
          "metadata": {
            "tags": []
          },
          "execution_count": 55
        }
      ]
    },
    {
      "cell_type": "markdown",
      "metadata": {
        "id": "dltsROWBuCiJ"
      },
      "source": [
        "CLUSTER\n",
        "\n",
        "Unsupervised is a type of machine learning that concludes from a data set without a target variable. We usually implement this method to find a hidden pattern or understand the structure of the data. It discovers information that may not be visible to the human eye. The most popular method is clustering.\n",
        "\n",
        "Clustering split your data set into several groups. The group are formed of similar data point compared to the other group. We can use this approach for marketing segmentation, medical imaging, and anomaly detection. They are different types of clustering methods, including:\n",
        "Partitioning methods\n",
        "Hierarchical clustering\n",
        "Fuzzy clustering\n",
        "Density-based clustering\n",
        "Model-based clustering\n",
        "Analogy:\n",
        "\n",
        "You had a box of apples of different colors; red, green, and mixed colors. Individually picking each color would not only consume time but is likely to entail manifestations of human error. However, with cluster analysis, we can segment these different apples according to color. With such information, one can harvest information such as how many apples belong to which color, which color is of the best quality, or which color has the least quality."
      ]
    },
    {
      "cell_type": "code",
      "metadata": {
        "trusted": true,
        "id": "OFpwhkXbuCiJ"
      },
      "source": [
        "cluster = rfm.drop(['Rank_Recency','Rank_Frequency','Rank_Monetization','RFM_Score','Score','Clients'], axis = 1)"
      ],
      "execution_count": 56,
      "outputs": []
    },
    {
      "cell_type": "markdown",
      "metadata": {
        "id": "rv-BXyLcuCiJ"
      },
      "source": [
        "K-means clustering algorithm\n",
        "K-means is one of the most straightforward clustering analysis to implement. It attempts to divide the dataset into a fixed number k of a group. The k refers to the number of centroids you want in your model. A centroid is a point at the center of each cluster. The algorithm then allocates every data point to the nearest cluster while keeping it as small as possible.\n",
        "\n",
        "The appropriate number of clusters is essential for an optimal score. In marketing, a wrong evaluation of it can result in a poor marketing campaign. For example, If you have five kinds of customers, but you only allow them to be segmented into two groups. Your campaign will not target the right audience, which is translated into a low return on investment (ROI)"
      ]
    },
    {
      "cell_type": "markdown",
      "metadata": {
        "id": "UygDx0LvuCiJ"
      },
      "source": [
        "### Finding Optimal number of clusters"
      ]
    },
    {
      "cell_type": "code",
      "metadata": {
        "trusted": true,
        "id": "nU5e1A5LuCiJ"
      },
      "source": [
        "from sklearn.preprocessing import StandardScaler,  MinMaxScaler\n",
        "from sklearn.cluster import KMeans\n",
        "from sklearn import metrics\n",
        "from sklearn.cluster import AgglomerativeClustering"
      ],
      "execution_count": 57,
      "outputs": []
    },
    {
      "cell_type": "code",
      "metadata": {
        "trusted": true,
        "id": "mapMr0_EuCiJ"
      },
      "source": [
        "X= MinMaxScaler().fit_transform(cluster)\n",
        "#x = StandardScaler().fit_transform(X)"
      ],
      "execution_count": 58,
      "outputs": []
    },
    {
      "cell_type": "code",
      "metadata": {
        "trusted": true,
        "id": "154YOQl8uCiK"
      },
      "source": [
        "sum_of_squared_distances = []\n",
        "K = range(1,15)\n",
        "for k in K:\n",
        "    k_means = KMeans(n_clusters=k)\n",
        "    model = k_means.fit(X)\n",
        "    sum_of_squared_distances.append(k_means.inertia_)"
      ],
      "execution_count": 59,
      "outputs": []
    },
    {
      "cell_type": "code",
      "metadata": {
        "trusted": true,
        "colab": {
          "base_uri": "https://localhost:8080/",
          "height": 294
        },
        "id": "GZ3UyAbcuCiK",
        "outputId": "3e45efe4-3eda-46be-9444-ccf3c98d151f"
      },
      "source": [
        "plt.plot(K, sum_of_squared_distances, 'bx-')\n",
        "plt.xlabel('k')\n",
        "plt.ylabel('sum_of_squared_distances')\n",
        "plt.title('Elbow Method')\n",
        "plt.show()"
      ],
      "execution_count": 60,
      "outputs": [
        {
          "output_type": "display_data",
          "data": {
            "image/png": "[encoded data removed]",
            "text/plain": [
              "<Figure size 432x288 with 1 Axes>"
            ]
          },
          "metadata": {
            "tags": [],
            "needs_background": "light"
          }
        }
      ]
    },
    {
      "cell_type": "code",
      "metadata": {
        "id": "q8QB-KysvohQ"
      },
      "source": [
        "# !pip install sklearn --upgrade"
      ],
      "execution_count": 67,
      "outputs": []
    },
    {
      "cell_type": "code",
      "metadata": {
        "trusted": true,
        "colab": {
          "base_uri": "https://localhost:8080/",
          "height": 381
        },
        "id": "4knT29-IuCiK",
        "outputId": "a7744be2-f0f6-4dc9-c9fb-91b073549e25"
      },
      "source": [
        "# Elbow Method for K means\n",
        "# Import ElbowVisualizer\n",
        "from yellowbrick.cluster import KElbowVisualizer\n",
        "model = KMeans()\n",
        "# k is range of number of clusters.\n",
        "visualizer = KElbowVisualizer(model, k=(2,30), timings= True)\n",
        "visualizer.fit(X)        # Fit data to visualizer\n",
        "print(visualizer)       # Finalize and render figure"
      ],
      "execution_count": 66,
      "outputs": [
        {
          "output_type": "stream",
          "text": [
            "KElbowVisualizer(ax=<matplotlib.axes._subplots.AxesSubplot object at 0x7fe74c9ea310>,\n",
            "                 k=None, metric=None, model=None, timings=True)\n"
          ],
          "name": "stdout"
        },
        {
          "output_type": "display_data",
          "data": {
            "image/png": "[encoded data removed]",
            "text/plain": [
              "<Figure size 576x396 with 2 Axes>"
            ]
          },
          "metadata": {
            "tags": []
          }
        }
      ]
    },
    {
      "cell_type": "code",
      "metadata": {
        "trusted": true,
        "colab": {
          "base_uri": "https://localhost:8080/",
          "height": 381
        },
        "id": "EnYseR7muCiK",
        "outputId": "554a4554-3c1e-442a-c50f-a1094625b783"
      },
      "source": [
        "# Silhouette Score for K means\n",
        "# Import ElbowVisualizer\n",
        "from yellowbrick.cluster import KElbowVisualizer\n",
        "model = KMeans()\n",
        "# k is range of number of clusters.\n",
        "visualizer = KElbowVisualizer(model, k=(2,30),metric='silhouette', timings= True)\n",
        "visualizer.fit(X)        # Fit the data to the visualizer\n",
        "print(visualizer)  # Finalize and render the figure"
      ],
      "execution_count": 69,
      "outputs": [
        {
          "output_type": "stream",
          "text": [
            "KElbowVisualizer(ax=<matplotlib.axes._subplots.AxesSubplot object at 0x7fe74c86b550>,\n",
            "                 k=None, metric=None, model=None, timings=True)\n"
          ],
          "name": "stdout"
        },
        {
          "output_type": "display_data",
          "data": {
            "image/png": "[encoded data removed]",
            "text/plain": [
              "<Figure size 576x396 with 2 Axes>"
            ]
          },
          "metadata": {
            "tags": []
          }
        }
      ]
    },
    {
      "cell_type": "code",
      "metadata": {
        "trusted": true,
        "id": "3c07pCIbuCiK"
      },
      "source": [
        "# # Calinski Harabasz Score for K means\n",
        "# # Import ElbowVisualizer\n",
        "# from yellowbrick.cluster import KElbowVisualizer\n",
        "# model = KMeans()\n",
        "# # k is range of number of clusters.\n",
        "# visualizer = KElbowVisualizer(model, k=(2,30),metric='calinski_harabasz', timings= True)\n",
        "# visualizer.fit(X)        # Fit the data to the visualizer\n",
        "# visualizer.show()        # Finalize and render the figure"
      ],
      "execution_count": 80,
      "outputs": []
    },
    {
      "cell_type": "code",
      "metadata": {
        "trusted": true,
        "id": "dKdH6q8QuCiK"
      },
      "source": [
        ""
      ],
      "execution_count": null,
      "outputs": []
    },
    {
      "cell_type": "markdown",
      "metadata": {
        "id": "x_qgDWPYuCiK"
      },
      "source": [
        "from sklearn.metrics import silhouette_score\n",
        "\n",
        "silhouette_scores = [] \n",
        "\n",
        "for n_cluster in range(2, 8):\n",
        "    silhouette_scores.append( \n",
        "        silhouette_score(X, KMeans(n_clusters = n_cluster).fit_predict(X))) \n",
        "    \n",
        "# Plotting a bar graph to compare the results \n",
        "k = [2, 3, 4, 5, 6,7] \n",
        "plt.bar(k, silhouette_scores) \n",
        "plt.xlabel('Number of clusters', fontsize = 10) \n",
        "plt.ylabel('Silhouette Score', fontsize = 10) \n",
        "plt.show() "
      ]
    },
    {
      "cell_type": "code",
      "metadata": {
        "trusted": true,
        "colab": {
          "base_uri": "https://localhost:8080/"
        },
        "id": "so_2Q9HMuCiK",
        "outputId": "983920b9-7e53-4a9c-e2b8-7dacc446b501"
      },
      "source": [
        "k_means_5 = KMeans(n_clusters=7)\n",
        "model = k_means_5.fit(X)\n",
        "y_hat_5 = k_means_5.predict(X)\n",
        "labels_5 = k_means_5.labels_\n",
        "print(metrics.silhouette_score(X, labels_5, metric = 'euclidean'))\n",
        "metrics.calinski_harabasz_score(X, labels_5)"
      ],
      "execution_count": 81,
      "outputs": [
        {
          "output_type": "stream",
          "text": [
            "0.5154860731802174\n"
          ],
          "name": "stdout"
        },
        {
          "output_type": "execute_result",
          "data": {
            "text/plain": [
              "4318.917482511224"
            ]
          },
          "metadata": {
            "tags": []
          },
          "execution_count": 81
        }
      ]
    },
    {
      "cell_type": "code",
      "metadata": {
        "trusted": true,
        "id": "2EJpU985uCiK"
      },
      "source": [
        "cluster['Cluster'] = labels_5"
      ],
      "execution_count": 82,
      "outputs": []
    },
    {
      "cell_type": "code",
      "metadata": {
        "scrolled": true,
        "trusted": true,
        "colab": {
          "base_uri": "https://localhost:8080/"
        },
        "id": "uJ9-NsVUuCiK",
        "outputId": "a6e61307-4502-48ff-d79f-4febdd638324"
      },
      "source": [
        "temp = cluster.reset_index()\n",
        "print(temp.shape)\n",
        "# temp.join(dff,on='CustomerID',how='right',lsuffix='left',rsuffix='right')\n",
        "# pd.concat([dff,temp],join='inner',axis=1)\n",
        "dff.columns\n",
        "dff1 = dff.drop(columns=['Invoice', 'StockCode','InvoiceDate'])\n",
        "print(dff1.shape)\n",
        "# dff1.join(temp,on='CustomerID',how='left',lsuffix='left',rsuffix='right')"
      ],
      "execution_count": 83,
      "outputs": [
        {
          "output_type": "stream",
          "text": [
            "(3027, 5)\n",
            "(278545, 5)\n"
          ],
          "name": "stdout"
        }
      ]
    },
    {
      "cell_type": "code",
      "metadata": {
        "trusted": true,
        "colab": {
          "base_uri": "https://localhost:8080/"
        },
        "id": "lgoIprEWuCiL",
        "outputId": "678061d6-fa2d-470b-f82d-9143663625e0"
      },
      "source": [
        "dff1['Customer ID'] = dff1['Customer ID'].astype(str)\n",
        "temp['Customer ID'] = temp['Customer ID'].astype(str)\n",
        "print(dff1.dtypes)\n",
        "print(temp.dtypes)"
      ],
      "execution_count": 84,
      "outputs": [
        {
          "output_type": "stream",
          "text": [
            "Description     object\n",
            "Quantity         int64\n",
            "Price          float64\n",
            "Customer ID     object\n",
            "Country         object\n",
            "dtype: object\n",
            "Customer ID      object\n",
            "Recency           int64\n",
            "Monetization    float64\n",
            "Frequency         int64\n",
            "Cluster           int32\n",
            "dtype: object\n"
          ],
          "name": "stdout"
        }
      ]
    },
    {
      "cell_type": "markdown",
      "metadata": {
        "id": "QkIu58YXuCiL"
      },
      "source": [
        "### Building classification model to predict customer group"
      ]
    },
    {
      "cell_type": "code",
      "metadata": {
        "trusted": true,
        "colab": {
          "base_uri": "https://localhost:8080/"
        },
        "id": "bf1G7z9vuCiL",
        "outputId": "a6d34b57-7668-464d-ee90-5cbcdc5384f2"
      },
      "source": [
        "# temp.join(dff1,on='CustomerID',how='right',lsuffix='left',rsuffix='right')\n",
        "temp1 = temp.merge(dff1,how='inner',left_on='Customer ID',right_on='Customer ID')\n",
        "print(temp1.columns)\n",
        "temp2 = temp1.drop(columns=['Recency', 'Monetization', 'Frequency'])"
      ],
      "execution_count": 85,
      "outputs": [
        {
          "output_type": "stream",
          "text": [
            "Index(['Customer ID', 'Recency', 'Monetization', 'Frequency', 'Cluster',\n",
            "       'Description', 'Quantity', 'Price', 'Country'],\n",
            "      dtype='object')\n"
          ],
          "name": "stdout"
        }
      ]
    },
    {
      "cell_type": "code",
      "metadata": {
        "trusted": true,
        "colab": {
          "base_uri": "https://localhost:8080/"
        },
        "id": "lLd9yYJwuCiL",
        "outputId": "dde4ad00-4e47-4185-f811-46263a55a72c"
      },
      "source": [
        "temp2\n",
        "train = temp2.loc[:,temp2.columns != 'Cluster']\n",
        "target = temp2.loc[:,temp2.columns == 'Cluster']\n",
        "print(train.shape)\n",
        "print(target.shape)"
      ],
      "execution_count": 86,
      "outputs": [
        {
          "output_type": "stream",
          "text": [
            "(217987, 5)\n",
            "(217987, 1)\n"
          ],
          "name": "stdout"
        }
      ]
    },
    {
      "cell_type": "code",
      "metadata": {
        "trusted": true,
        "colab": {
          "base_uri": "https://localhost:8080/",
          "height": 424
        },
        "id": "9lF8G3-WuCiL",
        "outputId": "85e80a6e-6af8-47d0-b315-8378cd373994"
      },
      "source": [
        "from sklearn.preprocessing import LabelEncoder\n",
        "le = LabelEncoder()\n",
        "train['DescriptionCode'] = le.fit_transform(train['Description'])\n",
        "train['CountryCode'] = le.fit_transform(train['Country'])\n",
        "train\n",
        "# train1 = train[['Description','Country']].apply(le.fit_transform)"
      ],
      "execution_count": 87,
      "outputs": [
        {
          "output_type": "execute_result",
          "data": {
            "text/html": [
              "<div>\n",
              "<style scoped>\n",
              "    .dataframe tbody tr th:only-of-type {\n",
              "        vertical-align: middle;\n",
              "    }\n",
              "\n",
              "    .dataframe tbody tr th {\n",
              "        vertical-align: top;\n",
              "    }\n",
              "\n",
              "    .dataframe thead th {\n",
              "        text-align: right;\n",
              "    }\n",
              "</style>\n",
              "<table border=\"1\" class=\"dataframe\">\n",
              "  <thead>\n",
              "    <tr style=\"text-align: right;\">\n",
              "      <th></th>\n",
              "      <th>Customer ID</th>\n",
              "      <th>Description</th>\n",
              "      <th>Quantity</th>\n",
              "      <th>Price</th>\n",
              "      <th>Country</th>\n",
              "      <th>DescriptionCode</th>\n",
              "      <th>CountryCode</th>\n",
              "    </tr>\n",
              "  </thead>\n",
              "  <tbody>\n",
              "    <tr>\n",
              "      <th>0</th>\n",
              "      <td>12346.0</td>\n",
              "      <td>TAHINA PET -15%</td>\n",
              "      <td>10</td>\n",
              "      <td>4.50</td>\n",
              "      <td>Hamra</td>\n",
              "      <td>9249</td>\n",
              "      <td>2</td>\n",
              "    </tr>\n",
              "    <tr>\n",
              "      <th>1</th>\n",
              "      <td>12346.0</td>\n",
              "      <td>SUNFLOWER OIL</td>\n",
              "      <td>5</td>\n",
              "      <td>4.50</td>\n",
              "      <td>Ashrafieh</td>\n",
              "      <td>9103</td>\n",
              "      <td>0</td>\n",
              "    </tr>\n",
              "    <tr>\n",
              "      <th>2</th>\n",
              "      <td>12346.0</td>\n",
              "      <td>AYRAN LABAN</td>\n",
              "      <td>5</td>\n",
              "      <td>4.50</td>\n",
              "      <td>Hamra</td>\n",
              "      <td>841</td>\n",
              "      <td>2</td>\n",
              "    </tr>\n",
              "    <tr>\n",
              "      <th>3</th>\n",
              "      <td>12346.0</td>\n",
              "      <td>MAGGI CHICKEN LOW SALT</td>\n",
              "      <td>5</td>\n",
              "      <td>4.50</td>\n",
              "      <td>Dbayeh</td>\n",
              "      <td>5823</td>\n",
              "      <td>1</td>\n",
              "    </tr>\n",
              "    <tr>\n",
              "      <th>4</th>\n",
              "      <td>12346.0</td>\n",
              "      <td>SOFT WET WIPES</td>\n",
              "      <td>1</td>\n",
              "      <td>1.00</td>\n",
              "      <td>Ashrafieh</td>\n",
              "      <td>8758</td>\n",
              "      <td>0</td>\n",
              "    </tr>\n",
              "    <tr>\n",
              "      <th>...</th>\n",
              "      <td>...</td>\n",
              "      <td>...</td>\n",
              "      <td>...</td>\n",
              "      <td>...</td>\n",
              "      <td>...</td>\n",
              "      <td>...</td>\n",
              "      <td>...</td>\n",
              "    </tr>\n",
              "    <tr>\n",
              "      <th>217982</th>\n",
              "      <td>18287.0</td>\n",
              "      <td>DANISH BUTTER SOFT SALTED</td>\n",
              "      <td>16</td>\n",
              "      <td>0.85</td>\n",
              "      <td>Ashrafieh</td>\n",
              "      <td>3157</td>\n",
              "      <td>0</td>\n",
              "    </tr>\n",
              "    <tr>\n",
              "      <th>217983</th>\n",
              "      <td>18287.0</td>\n",
              "      <td>TARAMA</td>\n",
              "      <td>6</td>\n",
              "      <td>2.95</td>\n",
              "      <td>Ashrafieh</td>\n",
              "      <td>9279</td>\n",
              "      <td>0</td>\n",
              "    </tr>\n",
              "    <tr>\n",
              "      <th>217984</th>\n",
              "      <td>18287.0</td>\n",
              "      <td>HALLOUM VAC</td>\n",
              "      <td>8</td>\n",
              "      <td>1.65</td>\n",
              "      <td>Hamra</td>\n",
              "      <td>4671</td>\n",
              "      <td>2</td>\n",
              "    </tr>\n",
              "    <tr>\n",
              "      <th>217985</th>\n",
              "      <td>18287.0</td>\n",
              "      <td>ROUND CHEESE</td>\n",
              "      <td>12</td>\n",
              "      <td>1.45</td>\n",
              "      <td>Hamra</td>\n",
              "      <td>8079</td>\n",
              "      <td>2</td>\n",
              "    </tr>\n",
              "    <tr>\n",
              "      <th>217986</th>\n",
              "      <td>18287.0</td>\n",
              "      <td>SMOKED CHEESE</td>\n",
              "      <td>12</td>\n",
              "      <td>0.85</td>\n",
              "      <td>Ashrafieh</td>\n",
              "      <td>8703</td>\n",
              "      <td>0</td>\n",
              "    </tr>\n",
              "  </tbody>\n",
              "</table>\n",
              "<p>217987 rows × 7 columns</p>\n",
              "</div>"
            ],
            "text/plain": [
              "       Customer ID                Description  ...  DescriptionCode  CountryCode\n",
              "0          12346.0            TAHINA PET -15%  ...             9249            2\n",
              "1          12346.0              SUNFLOWER OIL  ...             9103            0\n",
              "2          12346.0                AYRAN LABAN  ...              841            2\n",
              "3          12346.0     MAGGI CHICKEN LOW SALT  ...             5823            1\n",
              "4          12346.0             SOFT WET WIPES  ...             8758            0\n",
              "...            ...                        ...  ...              ...          ...\n",
              "217982     18287.0  DANISH BUTTER SOFT SALTED  ...             3157            0\n",
              "217983     18287.0                     TARAMA  ...             9279            0\n",
              "217984     18287.0                HALLOUM VAC  ...             4671            2\n",
              "217985     18287.0               ROUND CHEESE  ...             8079            2\n",
              "217986     18287.0              SMOKED CHEESE  ...             8703            0\n",
              "\n",
              "[217987 rows x 7 columns]"
            ]
          },
          "metadata": {
            "tags": []
          },
          "execution_count": 87
        }
      ]
    },
    {
      "cell_type": "code",
      "metadata": {
        "trusted": true,
        "id": "D_BQQ4hwuCiL"
      },
      "source": [
        "temptrain = train.drop(columns=['Description','Customer ID','Country'])"
      ],
      "execution_count": 88,
      "outputs": []
    },
    {
      "cell_type": "code",
      "metadata": {
        "trusted": true,
        "colab": {
          "base_uri": "https://localhost:8080/",
          "height": 424
        },
        "id": "ZmoL1CwRuCiL",
        "outputId": "6de94955-94fb-40de-a6ee-3a1958c7a545"
      },
      "source": [
        "from sklearn.preprocessing import StandardScaler\n",
        "scaler = StandardScaler()\n",
        "# train[['Quantity1','UnitPrice1']] = scaler.fit_transform(train[['Quantity','UnitPrice']])\n",
        "scaler.fit(train[['Price','Quantity']])\n",
        "scaled_data = pd.DataFrame(scaler.transform(train[['Price','Quantity']]),columns=['QuantScaled','UnitPriceScaled'])\n",
        "train1 = pd.concat([train,scaled_data],axis=1)\n",
        "train2 = train1.drop(columns=['Description','Quantity','Price','Country'])\n",
        "train3 = train2.drop(columns=['Customer ID'])\n",
        "train3"
      ],
      "execution_count": 89,
      "outputs": [
        {
          "output_type": "execute_result",
          "data": {
            "text/html": [
              "<div>\n",
              "<style scoped>\n",
              "    .dataframe tbody tr th:only-of-type {\n",
              "        vertical-align: middle;\n",
              "    }\n",
              "\n",
              "    .dataframe tbody tr th {\n",
              "        vertical-align: top;\n",
              "    }\n",
              "\n",
              "    .dataframe thead th {\n",
              "        text-align: right;\n",
              "    }\n",
              "</style>\n",
              "<table border=\"1\" class=\"dataframe\">\n",
              "  <thead>\n",
              "    <tr style=\"text-align: right;\">\n",
              "      <th></th>\n",
              "      <th>DescriptionCode</th>\n",
              "      <th>CountryCode</th>\n",
              "      <th>QuantScaled</th>\n",
              "      <th>UnitPriceScaled</th>\n",
              "    </tr>\n",
              "  </thead>\n",
              "  <tbody>\n",
              "    <tr>\n",
              "      <th>0</th>\n",
              "      <td>9249</td>\n",
              "      <td>2</td>\n",
              "      <td>0.029526</td>\n",
              "      <td>-0.028499</td>\n",
              "    </tr>\n",
              "    <tr>\n",
              "      <th>1</th>\n",
              "      <td>9103</td>\n",
              "      <td>0</td>\n",
              "      <td>0.029526</td>\n",
              "      <td>-0.080244</td>\n",
              "    </tr>\n",
              "    <tr>\n",
              "      <th>2</th>\n",
              "      <td>841</td>\n",
              "      <td>2</td>\n",
              "      <td>0.029526</td>\n",
              "      <td>-0.080244</td>\n",
              "    </tr>\n",
              "    <tr>\n",
              "      <th>3</th>\n",
              "      <td>5823</td>\n",
              "      <td>1</td>\n",
              "      <td>0.029526</td>\n",
              "      <td>-0.080244</td>\n",
              "    </tr>\n",
              "    <tr>\n",
              "      <th>4</th>\n",
              "      <td>8758</td>\n",
              "      <td>0</td>\n",
              "      <td>-0.073644</td>\n",
              "      <td>-0.121640</td>\n",
              "    </tr>\n",
              "    <tr>\n",
              "      <th>...</th>\n",
              "      <td>...</td>\n",
              "      <td>...</td>\n",
              "      <td>...</td>\n",
              "      <td>...</td>\n",
              "    </tr>\n",
              "    <tr>\n",
              "      <th>217982</th>\n",
              "      <td>3157</td>\n",
              "      <td>0</td>\n",
              "      <td>-0.078066</td>\n",
              "      <td>0.033596</td>\n",
              "    </tr>\n",
              "    <tr>\n",
              "      <th>217983</th>\n",
              "      <td>9279</td>\n",
              "      <td>0</td>\n",
              "      <td>-0.016164</td>\n",
              "      <td>-0.069895</td>\n",
              "    </tr>\n",
              "    <tr>\n",
              "      <th>217984</th>\n",
              "      <td>4671</td>\n",
              "      <td>2</td>\n",
              "      <td>-0.054484</td>\n",
              "      <td>-0.049197</td>\n",
              "    </tr>\n",
              "    <tr>\n",
              "      <th>217985</th>\n",
              "      <td>8079</td>\n",
              "      <td>2</td>\n",
              "      <td>-0.060380</td>\n",
              "      <td>-0.007800</td>\n",
              "    </tr>\n",
              "    <tr>\n",
              "      <th>217986</th>\n",
              "      <td>8703</td>\n",
              "      <td>0</td>\n",
              "      <td>-0.078066</td>\n",
              "      <td>-0.007800</td>\n",
              "    </tr>\n",
              "  </tbody>\n",
              "</table>\n",
              "<p>217987 rows × 4 columns</p>\n",
              "</div>"
            ],
            "text/plain": [
              "        DescriptionCode  CountryCode  QuantScaled  UnitPriceScaled\n",
              "0                  9249            2     0.029526        -0.028499\n",
              "1                  9103            0     0.029526        -0.080244\n",
              "2                   841            2     0.029526        -0.080244\n",
              "3                  5823            1     0.029526        -0.080244\n",
              "4                  8758            0    -0.073644        -0.121640\n",
              "...                 ...          ...          ...              ...\n",
              "217982             3157            0    -0.078066         0.033596\n",
              "217983             9279            0    -0.016164        -0.069895\n",
              "217984             4671            2    -0.054484        -0.049197\n",
              "217985             8079            2    -0.060380        -0.007800\n",
              "217986             8703            0    -0.078066        -0.007800\n",
              "\n",
              "[217987 rows x 4 columns]"
            ]
          },
          "metadata": {
            "tags": []
          },
          "execution_count": 89
        }
      ]
    },
    {
      "cell_type": "code",
      "metadata": {
        "trusted": true,
        "colab": {
          "base_uri": "https://localhost:8080/",
          "height": 424
        },
        "id": "DldNWwvUuCiL",
        "outputId": "c72675c7-6abc-4c0b-85e5-61a8cc6d4827"
      },
      "source": [
        "train3\n",
        "# train4.drop( )"
      ],
      "execution_count": 90,
      "outputs": [
        {
          "output_type": "execute_result",
          "data": {
            "text/html": [
              "<div>\n",
              "<style scoped>\n",
              "    .dataframe tbody tr th:only-of-type {\n",
              "        vertical-align: middle;\n",
              "    }\n",
              "\n",
              "    .dataframe tbody tr th {\n",
              "        vertical-align: top;\n",
              "    }\n",
              "\n",
              "    .dataframe thead th {\n",
              "        text-align: right;\n",
              "    }\n",
              "</style>\n",
              "<table border=\"1\" class=\"dataframe\">\n",
              "  <thead>\n",
              "    <tr style=\"text-align: right;\">\n",
              "      <th></th>\n",
              "      <th>DescriptionCode</th>\n",
              "      <th>CountryCode</th>\n",
              "      <th>QuantScaled</th>\n",
              "      <th>UnitPriceScaled</th>\n",
              "    </tr>\n",
              "  </thead>\n",
              "  <tbody>\n",
              "    <tr>\n",
              "      <th>0</th>\n",
              "      <td>9249</td>\n",
              "      <td>2</td>\n",
              "      <td>0.029526</td>\n",
              "      <td>-0.028499</td>\n",
              "    </tr>\n",
              "    <tr>\n",
              "      <th>1</th>\n",
              "      <td>9103</td>\n",
              "      <td>0</td>\n",
              "      <td>0.029526</td>\n",
              "      <td>-0.080244</td>\n",
              "    </tr>\n",
              "    <tr>\n",
              "      <th>2</th>\n",
              "      <td>841</td>\n",
              "      <td>2</td>\n",
              "      <td>0.029526</td>\n",
              "      <td>-0.080244</td>\n",
              "    </tr>\n",
              "    <tr>\n",
              "      <th>3</th>\n",
              "      <td>5823</td>\n",
              "      <td>1</td>\n",
              "      <td>0.029526</td>\n",
              "      <td>-0.080244</td>\n",
              "    </tr>\n",
              "    <tr>\n",
              "      <th>4</th>\n",
              "      <td>8758</td>\n",
              "      <td>0</td>\n",
              "      <td>-0.073644</td>\n",
              "      <td>-0.121640</td>\n",
              "    </tr>\n",
              "    <tr>\n",
              "      <th>...</th>\n",
              "      <td>...</td>\n",
              "      <td>...</td>\n",
              "      <td>...</td>\n",
              "      <td>...</td>\n",
              "    </tr>\n",
              "    <tr>\n",
              "      <th>217982</th>\n",
              "      <td>3157</td>\n",
              "      <td>0</td>\n",
              "      <td>-0.078066</td>\n",
              "      <td>0.033596</td>\n",
              "    </tr>\n",
              "    <tr>\n",
              "      <th>217983</th>\n",
              "      <td>9279</td>\n",
              "      <td>0</td>\n",
              "      <td>-0.016164</td>\n",
              "      <td>-0.069895</td>\n",
              "    </tr>\n",
              "    <tr>\n",
              "      <th>217984</th>\n",
              "      <td>4671</td>\n",
              "      <td>2</td>\n",
              "      <td>-0.054484</td>\n",
              "      <td>-0.049197</td>\n",
              "    </tr>\n",
              "    <tr>\n",
              "      <th>217985</th>\n",
              "      <td>8079</td>\n",
              "      <td>2</td>\n",
              "      <td>-0.060380</td>\n",
              "      <td>-0.007800</td>\n",
              "    </tr>\n",
              "    <tr>\n",
              "      <th>217986</th>\n",
              "      <td>8703</td>\n",
              "      <td>0</td>\n",
              "      <td>-0.078066</td>\n",
              "      <td>-0.007800</td>\n",
              "    </tr>\n",
              "  </tbody>\n",
              "</table>\n",
              "<p>217987 rows × 4 columns</p>\n",
              "</div>"
            ],
            "text/plain": [
              "        DescriptionCode  CountryCode  QuantScaled  UnitPriceScaled\n",
              "0                  9249            2     0.029526        -0.028499\n",
              "1                  9103            0     0.029526        -0.080244\n",
              "2                   841            2     0.029526        -0.080244\n",
              "3                  5823            1     0.029526        -0.080244\n",
              "4                  8758            0    -0.073644        -0.121640\n",
              "...                 ...          ...          ...              ...\n",
              "217982             3157            0    -0.078066         0.033596\n",
              "217983             9279            0    -0.016164        -0.069895\n",
              "217984             4671            2    -0.054484        -0.049197\n",
              "217985             8079            2    -0.060380        -0.007800\n",
              "217986             8703            0    -0.078066        -0.007800\n",
              "\n",
              "[217987 rows x 4 columns]"
            ]
          },
          "metadata": {
            "tags": []
          },
          "execution_count": 90
        }
      ]
    },
    {
      "cell_type": "code",
      "metadata": {
        "trusted": true,
        "colab": {
          "base_uri": "https://localhost:8080/"
        },
        "id": "KhqMHcj0uCiL",
        "outputId": "9f0cdf79-ec01-48c4-bfa5-6a466a3bbc6b"
      },
      "source": [
        "from sklearn.model_selection import train_test_split\n",
        "X_train,X_test,y_train,y_test = train_test_split(temptrain,target,test_size=0.2)\n",
        "print(X_train.shape)\n",
        "print(y_train.shape)\n",
        "print(X_test.shape)\n",
        "print(y_test.shape)"
      ],
      "execution_count": 91,
      "outputs": [
        {
          "output_type": "stream",
          "text": [
            "(174389, 4)\n",
            "(174389, 1)\n",
            "(43598, 4)\n",
            "(43598, 1)\n"
          ],
          "name": "stdout"
        }
      ]
    },
    {
      "cell_type": "code",
      "metadata": {
        "trusted": true,
        "colab": {
          "base_uri": "https://localhost:8080/",
          "height": 380
        },
        "id": "3FWsijSkuCiL",
        "outputId": "4cc2db34-f4db-4d32-856c-dc71b92358d0"
      },
      "source": [
        "from sklearn.ensemble import RandomForestClassifier\n",
        "clf = RandomForestClassifier()\n",
        "clf.fit(X_train,y_train)"
      ],
      "execution_count": 92,
      "outputs": [
        {
          "output_type": "error",
          "ename": "KeyboardInterrupt",
          "evalue": "ignored",
          "traceback": [
            "\u001b[0;31m---------------------------------------------------------------------------\u001b[0m",
            "\u001b[0;31mKeyboardInterrupt\u001b[0m                         Traceback (most recent call last)",
            "\u001b[0;32m<ipython-input-92-da8b845a7ca0>\u001b[0m in \u001b[0;36m<module>\u001b[0;34m()\u001b[0m\n\u001b[1;32m      1\u001b[0m \u001b[0;32mfrom\u001b[0m \u001b[0msklearn\u001b[0m\u001b[0;34m.\u001b[0m\u001b[0mensemble\u001b[0m \u001b[0;32mimport\u001b[0m \u001b[0mRandomForestClassifier\u001b[0m\u001b[0;34m\u001b[0m\u001b[0;34m\u001b[0m\u001b[0m\n\u001b[1;32m      2\u001b[0m \u001b[0mclf\u001b[0m \u001b[0;34m=\u001b[0m \u001b[0mRandomForestClassifier\u001b[0m\u001b[0;34m(\u001b[0m\u001b[0;34m)\u001b[0m\u001b[0;34m\u001b[0m\u001b[0;34m\u001b[0m\u001b[0m\n\u001b[0;32m----> 3\u001b[0;31m \u001b[0mclf\u001b[0m\u001b[0;34m.\u001b[0m\u001b[0mfit\u001b[0m\u001b[0;34m(\u001b[0m\u001b[0mX_train\u001b[0m\u001b[0;34m,\u001b[0m\u001b[0my_train\u001b[0m\u001b[0;34m)\u001b[0m\u001b[0;34m\u001b[0m\u001b[0;34m\u001b[0m\u001b[0m\n\u001b[0m",
            "\u001b[0;32m/usr/local/lib/python3.7/dist-packages/sklearn/ensemble/_forest.py\u001b[0m in \u001b[0;36mfit\u001b[0;34m(self, X, y, sample_weight)\u001b[0m\n\u001b[1;32m    381\u001b[0m                     \u001b[0mverbose\u001b[0m\u001b[0;34m=\u001b[0m\u001b[0mself\u001b[0m\u001b[0;34m.\u001b[0m\u001b[0mverbose\u001b[0m\u001b[0;34m,\u001b[0m \u001b[0mclass_weight\u001b[0m\u001b[0;34m=\u001b[0m\u001b[0mself\u001b[0m\u001b[0;34m.\u001b[0m\u001b[0mclass_weight\u001b[0m\u001b[0;34m,\u001b[0m\u001b[0;34m\u001b[0m\u001b[0;34m\u001b[0m\u001b[0m\n\u001b[1;32m    382\u001b[0m                     n_samples_bootstrap=n_samples_bootstrap)\n\u001b[0;32m--> 383\u001b[0;31m                 for i, t in enumerate(trees))\n\u001b[0m\u001b[1;32m    384\u001b[0m \u001b[0;34m\u001b[0m\u001b[0m\n\u001b[1;32m    385\u001b[0m             \u001b[0;31m# Collect newly grown trees\u001b[0m\u001b[0;34m\u001b[0m\u001b[0;34m\u001b[0m\u001b[0;34m\u001b[0m\u001b[0m\n",
            "\u001b[0;32m/usr/local/lib/python3.7/dist-packages/joblib/parallel.py\u001b[0m in \u001b[0;36m__call__\u001b[0;34m(self, iterable)\u001b[0m\n\u001b[1;32m   1042\u001b[0m                 \u001b[0mself\u001b[0m\u001b[0;34m.\u001b[0m\u001b[0m_iterating\u001b[0m \u001b[0;34m=\u001b[0m \u001b[0mself\u001b[0m\u001b[0;34m.\u001b[0m\u001b[0m_original_iterator\u001b[0m \u001b[0;32mis\u001b[0m \u001b[0;32mnot\u001b[0m \u001b[0;32mNone\u001b[0m\u001b[0;34m\u001b[0m\u001b[0;34m\u001b[0m\u001b[0m\n\u001b[1;32m   1043\u001b[0m \u001b[0;34m\u001b[0m\u001b[0m\n\u001b[0;32m-> 1044\u001b[0;31m             \u001b[0;32mwhile\u001b[0m \u001b[0mself\u001b[0m\u001b[0;34m.\u001b[0m\u001b[0mdispatch_one_batch\u001b[0m\u001b[0;34m(\u001b[0m\u001b[0miterator\u001b[0m\u001b[0;34m)\u001b[0m\u001b[0;34m:\u001b[0m\u001b[0;34m\u001b[0m\u001b[0;34m\u001b[0m\u001b[0m\n\u001b[0m\u001b[1;32m   1045\u001b[0m                 \u001b[0;32mpass\u001b[0m\u001b[0;34m\u001b[0m\u001b[0;34m\u001b[0m\u001b[0m\n\u001b[1;32m   1046\u001b[0m \u001b[0;34m\u001b[0m\u001b[0m\n",
            "\u001b[0;32m/usr/local/lib/python3.7/dist-packages/joblib/parallel.py\u001b[0m in \u001b[0;36mdispatch_one_batch\u001b[0;34m(self, iterator)\u001b[0m\n\u001b[1;32m    857\u001b[0m                 \u001b[0;32mreturn\u001b[0m \u001b[0;32mFalse\u001b[0m\u001b[0;34m\u001b[0m\u001b[0;34m\u001b[0m\u001b[0m\n\u001b[1;32m    858\u001b[0m             \u001b[0;32melse\u001b[0m\u001b[0;34m:\u001b[0m\u001b[0;34m\u001b[0m\u001b[0;34m\u001b[0m\u001b[0m\n\u001b[0;32m--> 859\u001b[0;31m                 \u001b[0mself\u001b[0m\u001b[0;34m.\u001b[0m\u001b[0m_dispatch\u001b[0m\u001b[0;34m(\u001b[0m\u001b[0mtasks\u001b[0m\u001b[0;34m)\u001b[0m\u001b[0;34m\u001b[0m\u001b[0;34m\u001b[0m\u001b[0m\n\u001b[0m\u001b[1;32m    860\u001b[0m                 \u001b[0;32mreturn\u001b[0m \u001b[0;32mTrue\u001b[0m\u001b[0;34m\u001b[0m\u001b[0;34m\u001b[0m\u001b[0m\n\u001b[1;32m    861\u001b[0m \u001b[0;34m\u001b[0m\u001b[0m\n",
            "\u001b[0;32m/usr/local/lib/python3.7/dist-packages/joblib/parallel.py\u001b[0m in \u001b[0;36m_dispatch\u001b[0;34m(self, batch)\u001b[0m\n\u001b[1;32m    775\u001b[0m         \u001b[0;32mwith\u001b[0m \u001b[0mself\u001b[0m\u001b[0;34m.\u001b[0m\u001b[0m_lock\u001b[0m\u001b[0;34m:\u001b[0m\u001b[0;34m\u001b[0m\u001b[0;34m\u001b[0m\u001b[0m\n\u001b[1;32m    776\u001b[0m             \u001b[0mjob_idx\u001b[0m \u001b[0;34m=\u001b[0m \u001b[0mlen\u001b[0m\u001b[0;34m(\u001b[0m\u001b[0mself\u001b[0m\u001b[0;34m.\u001b[0m\u001b[0m_jobs\u001b[0m\u001b[0;34m)\u001b[0m\u001b[0;34m\u001b[0m\u001b[0;34m\u001b[0m\u001b[0m\n\u001b[0;32m--> 777\u001b[0;31m             \u001b[0mjob\u001b[0m \u001b[0;34m=\u001b[0m \u001b[0mself\u001b[0m\u001b[0;34m.\u001b[0m\u001b[0m_backend\u001b[0m\u001b[0;34m.\u001b[0m\u001b[0mapply_async\u001b[0m\u001b[0;34m(\u001b[0m\u001b[0mbatch\u001b[0m\u001b[0;34m,\u001b[0m \u001b[0mcallback\u001b[0m\u001b[0;34m=\u001b[0m\u001b[0mcb\u001b[0m\u001b[0;34m)\u001b[0m\u001b[0;34m\u001b[0m\u001b[0;34m\u001b[0m\u001b[0m\n\u001b[0m\u001b[1;32m    778\u001b[0m             \u001b[0;31m# A job can complete so quickly than its callback is\u001b[0m\u001b[0;34m\u001b[0m\u001b[0;34m\u001b[0m\u001b[0;34m\u001b[0m\u001b[0m\n\u001b[1;32m    779\u001b[0m             \u001b[0;31m# called before we get here, causing self._jobs to\u001b[0m\u001b[0;34m\u001b[0m\u001b[0;34m\u001b[0m\u001b[0;34m\u001b[0m\u001b[0m\n",
            "\u001b[0;32m/usr/local/lib/python3.7/dist-packages/joblib/_parallel_backends.py\u001b[0m in \u001b[0;36mapply_async\u001b[0;34m(self, func, callback)\u001b[0m\n\u001b[1;32m    206\u001b[0m     \u001b[0;32mdef\u001b[0m \u001b[0mapply_async\u001b[0m\u001b[0;34m(\u001b[0m\u001b[0mself\u001b[0m\u001b[0;34m,\u001b[0m \u001b[0mfunc\u001b[0m\u001b[0;34m,\u001b[0m \u001b[0mcallback\u001b[0m\u001b[0;34m=\u001b[0m\u001b[0;32mNone\u001b[0m\u001b[0;34m)\u001b[0m\u001b[0;34m:\u001b[0m\u001b[0;34m\u001b[0m\u001b[0;34m\u001b[0m\u001b[0m\n\u001b[1;32m    207\u001b[0m         \u001b[0;34m\"\"\"Schedule a func to be run\"\"\"\u001b[0m\u001b[0;34m\u001b[0m\u001b[0;34m\u001b[0m\u001b[0m\n\u001b[0;32m--> 208\u001b[0;31m         \u001b[0mresult\u001b[0m \u001b[0;34m=\u001b[0m \u001b[0mImmediateResult\u001b[0m\u001b[0;34m(\u001b[0m\u001b[0mfunc\u001b[0m\u001b[0;34m)\u001b[0m\u001b[0;34m\u001b[0m\u001b[0;34m\u001b[0m\u001b[0m\n\u001b[0m\u001b[1;32m    209\u001b[0m         \u001b[0;32mif\u001b[0m \u001b[0mcallback\u001b[0m\u001b[0;34m:\u001b[0m\u001b[0;34m\u001b[0m\u001b[0;34m\u001b[0m\u001b[0m\n\u001b[1;32m    210\u001b[0m             \u001b[0mcallback\u001b[0m\u001b[0;34m(\u001b[0m\u001b[0mresult\u001b[0m\u001b[0;34m)\u001b[0m\u001b[0;34m\u001b[0m\u001b[0;34m\u001b[0m\u001b[0m\n",
            "\u001b[0;32m/usr/local/lib/python3.7/dist-packages/joblib/_parallel_backends.py\u001b[0m in \u001b[0;36m__init__\u001b[0;34m(self, batch)\u001b[0m\n\u001b[1;32m    570\u001b[0m         \u001b[0;31m# Don't delay the application, to avoid keeping the input\u001b[0m\u001b[0;34m\u001b[0m\u001b[0;34m\u001b[0m\u001b[0;34m\u001b[0m\u001b[0m\n\u001b[1;32m    571\u001b[0m         \u001b[0;31m# arguments in memory\u001b[0m\u001b[0;34m\u001b[0m\u001b[0;34m\u001b[0m\u001b[0;34m\u001b[0m\u001b[0m\n\u001b[0;32m--> 572\u001b[0;31m         \u001b[0mself\u001b[0m\u001b[0;34m.\u001b[0m\u001b[0mresults\u001b[0m \u001b[0;34m=\u001b[0m \u001b[0mbatch\u001b[0m\u001b[0;34m(\u001b[0m\u001b[0;34m)\u001b[0m\u001b[0;34m\u001b[0m\u001b[0;34m\u001b[0m\u001b[0m\n\u001b[0m\u001b[1;32m    573\u001b[0m \u001b[0;34m\u001b[0m\u001b[0m\n\u001b[1;32m    574\u001b[0m     \u001b[0;32mdef\u001b[0m \u001b[0mget\u001b[0m\u001b[0;34m(\u001b[0m\u001b[0mself\u001b[0m\u001b[0;34m)\u001b[0m\u001b[0;34m:\u001b[0m\u001b[0;34m\u001b[0m\u001b[0;34m\u001b[0m\u001b[0m\n",
            "\u001b[0;32m/usr/local/lib/python3.7/dist-packages/joblib/parallel.py\u001b[0m in \u001b[0;36m__call__\u001b[0;34m(self)\u001b[0m\n\u001b[1;32m    261\u001b[0m         \u001b[0;32mwith\u001b[0m \u001b[0mparallel_backend\u001b[0m\u001b[0;34m(\u001b[0m\u001b[0mself\u001b[0m\u001b[0;34m.\u001b[0m\u001b[0m_backend\u001b[0m\u001b[0;34m,\u001b[0m \u001b[0mn_jobs\u001b[0m\u001b[0;34m=\u001b[0m\u001b[0mself\u001b[0m\u001b[0;34m.\u001b[0m\u001b[0m_n_jobs\u001b[0m\u001b[0;34m)\u001b[0m\u001b[0;34m:\u001b[0m\u001b[0;34m\u001b[0m\u001b[0;34m\u001b[0m\u001b[0m\n\u001b[1;32m    262\u001b[0m             return [func(*args, **kwargs)\n\u001b[0;32m--> 263\u001b[0;31m                     for func, args, kwargs in self.items]\n\u001b[0m\u001b[1;32m    264\u001b[0m \u001b[0;34m\u001b[0m\u001b[0m\n\u001b[1;32m    265\u001b[0m     \u001b[0;32mdef\u001b[0m \u001b[0m__reduce__\u001b[0m\u001b[0;34m(\u001b[0m\u001b[0mself\u001b[0m\u001b[0;34m)\u001b[0m\u001b[0;34m:\u001b[0m\u001b[0;34m\u001b[0m\u001b[0;34m\u001b[0m\u001b[0m\n",
            "\u001b[0;32m/usr/local/lib/python3.7/dist-packages/joblib/parallel.py\u001b[0m in \u001b[0;36m<listcomp>\u001b[0;34m(.0)\u001b[0m\n\u001b[1;32m    261\u001b[0m         \u001b[0;32mwith\u001b[0m \u001b[0mparallel_backend\u001b[0m\u001b[0;34m(\u001b[0m\u001b[0mself\u001b[0m\u001b[0;34m.\u001b[0m\u001b[0m_backend\u001b[0m\u001b[0;34m,\u001b[0m \u001b[0mn_jobs\u001b[0m\u001b[0;34m=\u001b[0m\u001b[0mself\u001b[0m\u001b[0;34m.\u001b[0m\u001b[0m_n_jobs\u001b[0m\u001b[0;34m)\u001b[0m\u001b[0;34m:\u001b[0m\u001b[0;34m\u001b[0m\u001b[0;34m\u001b[0m\u001b[0m\n\u001b[1;32m    262\u001b[0m             return [func(*args, **kwargs)\n\u001b[0;32m--> 263\u001b[0;31m                     for func, args, kwargs in self.items]\n\u001b[0m\u001b[1;32m    264\u001b[0m \u001b[0;34m\u001b[0m\u001b[0m\n\u001b[1;32m    265\u001b[0m     \u001b[0;32mdef\u001b[0m \u001b[0m__reduce__\u001b[0m\u001b[0;34m(\u001b[0m\u001b[0mself\u001b[0m\u001b[0;34m)\u001b[0m\u001b[0;34m:\u001b[0m\u001b[0;34m\u001b[0m\u001b[0;34m\u001b[0m\u001b[0m\n",
            "\u001b[0;32m/usr/local/lib/python3.7/dist-packages/sklearn/ensemble/_forest.py\u001b[0m in \u001b[0;36m_parallel_build_trees\u001b[0;34m(tree, forest, X, y, sample_weight, tree_idx, n_trees, verbose, class_weight, n_samples_bootstrap)\u001b[0m\n\u001b[1;32m    163\u001b[0m             \u001b[0mcurr_sample_weight\u001b[0m \u001b[0;34m*=\u001b[0m \u001b[0mcompute_sample_weight\u001b[0m\u001b[0;34m(\u001b[0m\u001b[0;34m'balanced'\u001b[0m\u001b[0;34m,\u001b[0m \u001b[0my\u001b[0m\u001b[0;34m,\u001b[0m \u001b[0mindices\u001b[0m\u001b[0;34m)\u001b[0m\u001b[0;34m\u001b[0m\u001b[0;34m\u001b[0m\u001b[0m\n\u001b[1;32m    164\u001b[0m \u001b[0;34m\u001b[0m\u001b[0m\n\u001b[0;32m--> 165\u001b[0;31m         \u001b[0mtree\u001b[0m\u001b[0;34m.\u001b[0m\u001b[0mfit\u001b[0m\u001b[0;34m(\u001b[0m\u001b[0mX\u001b[0m\u001b[0;34m,\u001b[0m \u001b[0my\u001b[0m\u001b[0;34m,\u001b[0m \u001b[0msample_weight\u001b[0m\u001b[0;34m=\u001b[0m\u001b[0mcurr_sample_weight\u001b[0m\u001b[0;34m,\u001b[0m \u001b[0mcheck_input\u001b[0m\u001b[0;34m=\u001b[0m\u001b[0;32mFalse\u001b[0m\u001b[0;34m)\u001b[0m\u001b[0;34m\u001b[0m\u001b[0;34m\u001b[0m\u001b[0m\n\u001b[0m\u001b[1;32m    166\u001b[0m     \u001b[0;32melse\u001b[0m\u001b[0;34m:\u001b[0m\u001b[0;34m\u001b[0m\u001b[0;34m\u001b[0m\u001b[0m\n\u001b[1;32m    167\u001b[0m         \u001b[0mtree\u001b[0m\u001b[0;34m.\u001b[0m\u001b[0mfit\u001b[0m\u001b[0;34m(\u001b[0m\u001b[0mX\u001b[0m\u001b[0;34m,\u001b[0m \u001b[0my\u001b[0m\u001b[0;34m,\u001b[0m \u001b[0msample_weight\u001b[0m\u001b[0;34m=\u001b[0m\u001b[0msample_weight\u001b[0m\u001b[0;34m,\u001b[0m \u001b[0mcheck_input\u001b[0m\u001b[0;34m=\u001b[0m\u001b[0;32mFalse\u001b[0m\u001b[0;34m)\u001b[0m\u001b[0;34m\u001b[0m\u001b[0;34m\u001b[0m\u001b[0m\n",
            "\u001b[0;32m/usr/local/lib/python3.7/dist-packages/sklearn/tree/_classes.py\u001b[0m in \u001b[0;36mfit\u001b[0;34m(self, X, y, sample_weight, check_input, X_idx_sorted)\u001b[0m\n\u001b[1;32m    875\u001b[0m             \u001b[0msample_weight\u001b[0m\u001b[0;34m=\u001b[0m\u001b[0msample_weight\u001b[0m\u001b[0;34m,\u001b[0m\u001b[0;34m\u001b[0m\u001b[0;34m\u001b[0m\u001b[0m\n\u001b[1;32m    876\u001b[0m             \u001b[0mcheck_input\u001b[0m\u001b[0;34m=\u001b[0m\u001b[0mcheck_input\u001b[0m\u001b[0;34m,\u001b[0m\u001b[0;34m\u001b[0m\u001b[0;34m\u001b[0m\u001b[0m\n\u001b[0;32m--> 877\u001b[0;31m             X_idx_sorted=X_idx_sorted)\n\u001b[0m\u001b[1;32m    878\u001b[0m         \u001b[0;32mreturn\u001b[0m \u001b[0mself\u001b[0m\u001b[0;34m\u001b[0m\u001b[0;34m\u001b[0m\u001b[0m\n\u001b[1;32m    879\u001b[0m \u001b[0;34m\u001b[0m\u001b[0m\n",
            "\u001b[0;32m/usr/local/lib/python3.7/dist-packages/sklearn/tree/_classes.py\u001b[0m in \u001b[0;36mfit\u001b[0;34m(self, X, y, sample_weight, check_input, X_idx_sorted)\u001b[0m\n\u001b[1;32m    171\u001b[0m \u001b[0;34m\u001b[0m\u001b[0m\n\u001b[1;32m    172\u001b[0m         \u001b[0;32mif\u001b[0m \u001b[0mis_classification\u001b[0m\u001b[0;34m:\u001b[0m\u001b[0;34m\u001b[0m\u001b[0;34m\u001b[0m\u001b[0m\n\u001b[0;32m--> 173\u001b[0;31m             \u001b[0mcheck_classification_targets\u001b[0m\u001b[0;34m(\u001b[0m\u001b[0my\u001b[0m\u001b[0;34m)\u001b[0m\u001b[0;34m\u001b[0m\u001b[0;34m\u001b[0m\u001b[0m\n\u001b[0m\u001b[1;32m    174\u001b[0m             \u001b[0my\u001b[0m \u001b[0;34m=\u001b[0m \u001b[0mnp\u001b[0m\u001b[0;34m.\u001b[0m\u001b[0mcopy\u001b[0m\u001b[0;34m(\u001b[0m\u001b[0my\u001b[0m\u001b[0;34m)\u001b[0m\u001b[0;34m\u001b[0m\u001b[0;34m\u001b[0m\u001b[0m\n\u001b[1;32m    175\u001b[0m \u001b[0;34m\u001b[0m\u001b[0m\n",
            "\u001b[0;32m/usr/local/lib/python3.7/dist-packages/sklearn/utils/multiclass.py\u001b[0m in \u001b[0;36mcheck_classification_targets\u001b[0;34m(y)\u001b[0m\n\u001b[1;32m    164\u001b[0m     \u001b[0my\u001b[0m \u001b[0;34m:\u001b[0m \u001b[0marray\u001b[0m\u001b[0;34m-\u001b[0m\u001b[0mlike\u001b[0m\u001b[0;34m\u001b[0m\u001b[0;34m\u001b[0m\u001b[0m\n\u001b[1;32m    165\u001b[0m     \"\"\"\n\u001b[0;32m--> 166\u001b[0;31m     \u001b[0my_type\u001b[0m \u001b[0;34m=\u001b[0m \u001b[0mtype_of_target\u001b[0m\u001b[0;34m(\u001b[0m\u001b[0my\u001b[0m\u001b[0;34m)\u001b[0m\u001b[0;34m\u001b[0m\u001b[0;34m\u001b[0m\u001b[0m\n\u001b[0m\u001b[1;32m    167\u001b[0m     if y_type not in ['binary', 'multiclass', 'multiclass-multioutput',\n\u001b[1;32m    168\u001b[0m                       'multilabel-indicator', 'multilabel-sequences']:\n",
            "\u001b[0;32m/usr/local/lib/python3.7/dist-packages/sklearn/utils/multiclass.py\u001b[0m in \u001b[0;36mtype_of_target\u001b[0;34m(y)\u001b[0m\n\u001b[1;32m    285\u001b[0m         \u001b[0;32mreturn\u001b[0m \u001b[0;34m'continuous'\u001b[0m \u001b[0;34m+\u001b[0m \u001b[0msuffix\u001b[0m\u001b[0;34m\u001b[0m\u001b[0;34m\u001b[0m\u001b[0m\n\u001b[1;32m    286\u001b[0m \u001b[0;34m\u001b[0m\u001b[0m\n\u001b[0;32m--> 287\u001b[0;31m     \u001b[0;32mif\u001b[0m \u001b[0;34m(\u001b[0m\u001b[0mlen\u001b[0m\u001b[0;34m(\u001b[0m\u001b[0mnp\u001b[0m\u001b[0;34m.\u001b[0m\u001b[0munique\u001b[0m\u001b[0;34m(\u001b[0m\u001b[0my\u001b[0m\u001b[0;34m)\u001b[0m\u001b[0;34m)\u001b[0m \u001b[0;34m>\u001b[0m \u001b[0;36m2\u001b[0m\u001b[0;34m)\u001b[0m \u001b[0;32mor\u001b[0m \u001b[0;34m(\u001b[0m\u001b[0my\u001b[0m\u001b[0;34m.\u001b[0m\u001b[0mndim\u001b[0m \u001b[0;34m>=\u001b[0m \u001b[0;36m2\u001b[0m \u001b[0;32mand\u001b[0m \u001b[0mlen\u001b[0m\u001b[0;34m(\u001b[0m\u001b[0my\u001b[0m\u001b[0;34m[\u001b[0m\u001b[0;36m0\u001b[0m\u001b[0;34m]\u001b[0m\u001b[0;34m)\u001b[0m \u001b[0;34m>\u001b[0m \u001b[0;36m1\u001b[0m\u001b[0;34m)\u001b[0m\u001b[0;34m:\u001b[0m\u001b[0;34m\u001b[0m\u001b[0;34m\u001b[0m\u001b[0m\n\u001b[0m\u001b[1;32m    288\u001b[0m         \u001b[0;32mreturn\u001b[0m \u001b[0;34m'multiclass'\u001b[0m \u001b[0;34m+\u001b[0m \u001b[0msuffix\u001b[0m  \u001b[0;31m# [1, 2, 3] or [[1., 2., 3]] or [[1, 2]]\u001b[0m\u001b[0;34m\u001b[0m\u001b[0;34m\u001b[0m\u001b[0m\n\u001b[1;32m    289\u001b[0m     \u001b[0;32melse\u001b[0m\u001b[0;34m:\u001b[0m\u001b[0;34m\u001b[0m\u001b[0;34m\u001b[0m\u001b[0m\n",
            "\u001b[0;32m<__array_function__ internals>\u001b[0m in \u001b[0;36munique\u001b[0;34m(*args, **kwargs)\u001b[0m\n",
            "\u001b[0;32m/usr/local/lib/python3.7/dist-packages/numpy/lib/arraysetops.py\u001b[0m in \u001b[0;36munique\u001b[0;34m(ar, return_index, return_inverse, return_counts, axis)\u001b[0m\n\u001b[1;32m    259\u001b[0m     \u001b[0mar\u001b[0m \u001b[0;34m=\u001b[0m \u001b[0mnp\u001b[0m\u001b[0;34m.\u001b[0m\u001b[0masanyarray\u001b[0m\u001b[0;34m(\u001b[0m\u001b[0mar\u001b[0m\u001b[0;34m)\u001b[0m\u001b[0;34m\u001b[0m\u001b[0;34m\u001b[0m\u001b[0m\n\u001b[1;32m    260\u001b[0m     \u001b[0;32mif\u001b[0m \u001b[0maxis\u001b[0m \u001b[0;32mis\u001b[0m \u001b[0;32mNone\u001b[0m\u001b[0;34m:\u001b[0m\u001b[0;34m\u001b[0m\u001b[0;34m\u001b[0m\u001b[0m\n\u001b[0;32m--> 261\u001b[0;31m         \u001b[0mret\u001b[0m \u001b[0;34m=\u001b[0m \u001b[0m_unique1d\u001b[0m\u001b[0;34m(\u001b[0m\u001b[0mar\u001b[0m\u001b[0;34m,\u001b[0m \u001b[0mreturn_index\u001b[0m\u001b[0;34m,\u001b[0m \u001b[0mreturn_inverse\u001b[0m\u001b[0;34m,\u001b[0m \u001b[0mreturn_counts\u001b[0m\u001b[0;34m)\u001b[0m\u001b[0;34m\u001b[0m\u001b[0;34m\u001b[0m\u001b[0m\n\u001b[0m\u001b[1;32m    262\u001b[0m         \u001b[0;32mreturn\u001b[0m \u001b[0m_unpack_tuple\u001b[0m\u001b[0;34m(\u001b[0m\u001b[0mret\u001b[0m\u001b[0;34m)\u001b[0m\u001b[0;34m\u001b[0m\u001b[0;34m\u001b[0m\u001b[0m\n\u001b[1;32m    263\u001b[0m \u001b[0;34m\u001b[0m\u001b[0m\n",
            "\u001b[0;32m/usr/local/lib/python3.7/dist-packages/numpy/lib/arraysetops.py\u001b[0m in \u001b[0;36m_unique1d\u001b[0;34m(ar, return_index, return_inverse, return_counts)\u001b[0m\n\u001b[1;32m    320\u001b[0m         \u001b[0maux\u001b[0m \u001b[0;34m=\u001b[0m \u001b[0mar\u001b[0m\u001b[0;34m[\u001b[0m\u001b[0mperm\u001b[0m\u001b[0;34m]\u001b[0m\u001b[0;34m\u001b[0m\u001b[0;34m\u001b[0m\u001b[0m\n\u001b[1;32m    321\u001b[0m     \u001b[0;32melse\u001b[0m\u001b[0;34m:\u001b[0m\u001b[0;34m\u001b[0m\u001b[0;34m\u001b[0m\u001b[0m\n\u001b[0;32m--> 322\u001b[0;31m         \u001b[0mar\u001b[0m\u001b[0;34m.\u001b[0m\u001b[0msort\u001b[0m\u001b[0;34m(\u001b[0m\u001b[0;34m)\u001b[0m\u001b[0;34m\u001b[0m\u001b[0;34m\u001b[0m\u001b[0m\n\u001b[0m\u001b[1;32m    323\u001b[0m         \u001b[0maux\u001b[0m \u001b[0;34m=\u001b[0m \u001b[0mar\u001b[0m\u001b[0;34m\u001b[0m\u001b[0;34m\u001b[0m\u001b[0m\n\u001b[1;32m    324\u001b[0m     \u001b[0mmask\u001b[0m \u001b[0;34m=\u001b[0m \u001b[0mnp\u001b[0m\u001b[0;34m.\u001b[0m\u001b[0mempty\u001b[0m\u001b[0;34m(\u001b[0m\u001b[0maux\u001b[0m\u001b[0;34m.\u001b[0m\u001b[0mshape\u001b[0m\u001b[0;34m,\u001b[0m \u001b[0mdtype\u001b[0m\u001b[0;34m=\u001b[0m\u001b[0mnp\u001b[0m\u001b[0;34m.\u001b[0m\u001b[0mbool_\u001b[0m\u001b[0;34m)\u001b[0m\u001b[0;34m\u001b[0m\u001b[0;34m\u001b[0m\u001b[0m\n",
            "\u001b[0;31mKeyboardInterrupt\u001b[0m: "
          ]
        }
      ]
    },
    {
      "cell_type": "code",
      "metadata": {
        "trusted": true,
        "id": "6kNxvDbluCiM"
      },
      "source": [
        "prediction = clf.predict(X_train)"
      ],
      "execution_count": null,
      "outputs": []
    },
    {
      "cell_type": "code",
      "metadata": {
        "trusted": true,
        "id": "6dY_SlxAuCiM"
      },
      "source": [
        "from sklearn.metrics import classification_report\n",
        "print(classification_report(y_true=y_train,y_pred=prediction))"
      ],
      "execution_count": null,
      "outputs": []
    },
    {
      "cell_type": "code",
      "metadata": {
        "trusted": true,
        "id": "qX8p4wyKuCiM"
      },
      "source": [
        "import nltk, warnings\n",
        "import nltk\n",
        "from nltk.corpus import stopwords\n",
        "from nltk.stem.porter import PorterStemmer\n",
        "from nltk.tokenize import RegexpTokenizer\n",
        "from nltk.stem.wordnet import WordNetLemmatizer"
      ],
      "execution_count": null,
      "outputs": []
    },
    {
      "cell_type": "code",
      "metadata": {
        "trusted": true,
        "id": "NNkC-H3nuCiM"
      },
      "source": [
        "import matplotlib.pyplot as plt\n",
        "import matplotlib.lines as mlines\n",
        "import seaborn as sns\n",
        "from mpl_toolkits.mplot3d import Axes3D\n",
        "import matplotlib.cm as cm\n",
        "from sklearn import metrics\n",
        "import plotly.graph_objects as go\n",
        "import plotly.express as px\n",
        "pd.set_option('display.max_rows', 100)\n",
        "%config InlineBackend.figure_format = 'svg'\n",
        "warnings.filterwarnings(\"ignore\")"
      ],
      "execution_count": null,
      "outputs": []
    },
    {
      "cell_type": "code",
      "metadata": {
        "trusted": true,
        "id": "ss5LUwKZuCiM"
      },
      "source": [
        "df_cleaned = dff.copy(deep = True)\n",
        "df_cleaned['QuantityCanceled'] = 0"
      ],
      "execution_count": null,
      "outputs": []
    },
    {
      "cell_type": "code",
      "metadata": {
        "trusted": true,
        "id": "lyiCi_pauCiM"
      },
      "source": [
        "entry_to_remove = [] ; doubtfull_entry = []"
      ],
      "execution_count": null,
      "outputs": []
    },
    {
      "cell_type": "code",
      "metadata": {
        "trusted": true,
        "id": "ArXXxLU3uCiM"
      },
      "source": [
        "remaining_entries = df_cleaned[(df_cleaned['Quantity'] < 0) & (df_cleaned['StockCode'] != 'D')]\n",
        "print(\"nb of entries to delete: {}\".format(remaining_entries.shape[0]))\n",
        "remaining_entries[:5]"
      ],
      "execution_count": null,
      "outputs": []
    },
    {
      "cell_type": "code",
      "metadata": {
        "trusted": true,
        "id": "FWAdl9MSuCiM"
      },
      "source": [
        "df_cleaned.drop(remaining_entries.index, axis = 0, inplace = True)"
      ],
      "execution_count": null,
      "outputs": []
    },
    {
      "cell_type": "code",
      "metadata": {
        "trusted": true,
        "id": "J2nZ3A6UuCiM"
      },
      "source": [
        "# list_special_codes = df_cleaned[df_cleaned['StockCode'].str.contains('^[a-zA-Z]+', regex=True)]['StockCode'].unique()\n",
        "# list_special_codes"
      ],
      "execution_count": null,
      "outputs": []
    },
    {
      "cell_type": "code",
      "metadata": {
        "trusted": true,
        "id": "6dr1wYx2uCiM"
      },
      "source": [
        "# list_special_codes = df_cleaned[df_cleaned['StockCode'].str.contains('^[a-zA-Z]+', regex=True)]['StockCode'].unique()\n",
        "# list_special_codes"
      ],
      "execution_count": null,
      "outputs": []
    },
    {
      "cell_type": "code",
      "metadata": {
        "trusted": true,
        "id": "actWccYPuCiM"
      },
      "source": [
        "df_cleaned[(df_cleaned['Price'] == 0)].head(5)\n",
        "df_cleaned['TotalPrice'] = df_cleaned['Price'] * (df_cleaned['Quantity'] - df_cleaned['QuantityCanceled'])"
      ],
      "execution_count": null,
      "outputs": []
    },
    {
      "cell_type": "code",
      "metadata": {
        "trusted": true,
        "id": "BWC6U1lSuCiN"
      },
      "source": [
        "uk_ecom = df_cleaned[df_cleaned['Country']=='Ashrafieh']\n",
        "uk_ecom['Description'] = uk_ecom['Description'].astype(str)\n",
        "freq = pd.Series(' '.join(uk_ecom['Description']).split()).value_counts()[:20]\n",
        "freq"
      ],
      "execution_count": null,
      "outputs": []
    },
    {
      "cell_type": "code",
      "metadata": {
        "trusted": true,
        "id": "ydXoxxWzuCiN"
      },
      "source": [
        "#Uncommon items\n",
        "freq1 =  pd.Series(' '.join(uk_ecom['Description']).split()).value_counts()[-20:]\n",
        "freq1"
      ],
      "execution_count": null,
      "outputs": []
    },
    {
      "cell_type": "code",
      "metadata": {
        "trusted": true,
        "id": "Mn9_Mn33uCiN"
      },
      "source": [
        "stop_words = set(stopwords.words(\"english\"))\n",
        "new_words = ['RED','PINK', 'BLUE', 'OF', 'BROWN',\"BLACK\"]\n",
        "stop_words = stop_words.union(new_words)"
      ],
      "execution_count": null,
      "outputs": []
    },
    {
      "cell_type": "code",
      "metadata": {
        "trusted": true,
        "id": "XSEMg3bRuCiN"
      },
      "source": [
        "for i in new_words:\n",
        "  if i in stop_words:\n",
        "    print(i)"
      ],
      "execution_count": null,
      "outputs": []
    },
    {
      "cell_type": "code",
      "metadata": {
        "trusted": true,
        "id": "tPPaXIpSuCiN"
      },
      "source": [
        "import re\n",
        "import nltk.corpus\n",
        "from nltk import corpus"
      ],
      "execution_count": null,
      "outputs": []
    },
    {
      "cell_type": "code",
      "metadata": {
        "trusted": true,
        "id": "iwvOuvjZuCiN"
      },
      "source": [
        "corpus = []"
      ],
      "execution_count": null,
      "outputs": []
    },
    {
      "cell_type": "code",
      "metadata": {
        "trusted": true,
        "id": "fFenwGKluCiN"
      },
      "source": [
        "for i in range(0, 8789):\n",
        "    text = re.sub('[^a-zA-Z]', ' ', uk_ecom['Description'].iloc[i])\n",
        "    text = text.lower()\n",
        "    text=re.sub(\"&lt;/?.*?&gt;\",\" &lt;&gt; \",text)\n",
        "    text=re.sub(\"(\\\\d|\\\\W)+\",\" \",text)\n",
        "    text = text.split()\n",
        "    ps=PorterStemmer()\n",
        "    lem = WordNetLemmatizer()\n",
        "    text = [lem.lemmatize(word) for word in text if word not in stop_words]\n",
        "    text = \" \".join(text)\n",
        "    i\n",
        "    corpus.append(text)"
      ],
      "execution_count": null,
      "outputs": []
    },
    {
      "cell_type": "code",
      "metadata": {
        "trusted": true,
        "id": "v3OKfa34uCiN"
      },
      "source": [
        "corpus"
      ],
      "execution_count": null,
      "outputs": []
    },
    {
      "cell_type": "code",
      "metadata": {
        "trusted": true,
        "id": "5ngYQ2GeuCiO"
      },
      "source": [
        "from PIL import Image\n",
        "from wordcloud import WordCloud, STOPWORDS, ImageColorGenerator\n",
        "wordcloud = WordCloud(    background_color='white',\n",
        "                          stopwords=stop_words,\n",
        "                          max_words=200,\n",
        "                          max_font_size=50, \n",
        "                          random_state=42\n",
        "                         ).generate(str(corpus))"
      ],
      "execution_count": null,
      "outputs": []
    },
    {
      "cell_type": "code",
      "metadata": {
        "trusted": true,
        "id": "vWr42an8uCiO"
      },
      "source": [
        "plt.figure(figsize=(10,5))\n",
        "plt.imshow(wordcloud)\n",
        "plt.axis('off')\n",
        "plt.title('Word Cloud for Customer\\'s Products')"
      ],
      "execution_count": null,
      "outputs": []
    },
    {
      "cell_type": "markdown",
      "metadata": {
        "id": "tk_FJVMguCiO"
      },
      "source": [
        "### Cohort Analysis"
      ]
    },
    {
      "cell_type": "code",
      "metadata": {
        "trusted": true,
        "id": "IbQQZQc5uCiO"
      },
      "source": [
        "import datetime as dt"
      ],
      "execution_count": null,
      "outputs": []
    },
    {
      "cell_type": "code",
      "metadata": {
        "trusted": true,
        "id": "Jngd7sMWuCiO"
      },
      "source": [
        "def extract_days(x):\n",
        "\treturn dt.datetime(x.year, x.month, x.day)"
      ],
      "execution_count": null,
      "outputs": []
    },
    {
      "cell_type": "code",
      "metadata": {
        "trusted": true,
        "id": "N8y7vvUkuCiO"
      },
      "source": [
        "uk_ecom['date'] = pd.DatetimeIndex(uk_ecom['InvoiceDate']).date\n",
        "uk_ecom['InvoiceDay'] = uk_ecom['date'].apply(extract_days)\n",
        "grouping = uk_ecom.groupby('Customer ID')['InvoiceDay']\n",
        "uk_ecom['CohortDay'] = grouping.transform('min')\n",
        "print(uk_ecom.head())"
      ],
      "execution_count": null,
      "outputs": []
    },
    {
      "cell_type": "code",
      "metadata": {
        "trusted": true,
        "id": "MyqX4ObbuCiO"
      },
      "source": [
        "def extract_month_int(x):\n",
        "    return dt.datetime(x.year, x.month, 1)\n"
      ],
      "execution_count": null,
      "outputs": []
    },
    {
      "cell_type": "code",
      "metadata": {
        "trusted": true,
        "id": "Pa32UTdkuCiO"
      },
      "source": [
        "#create invoice month column\n",
        "uk_ecom['InvoiceMonth'] = uk_ecom['date'].apply(extract_month_int)\n",
        "grouping = uk_ecom.groupby('Customer ID')['InvoiceMonth']\n",
        "uk_ecom['CohortMonth'] = grouping.transform('min')\n",
        "uk_ecom.head()"
      ],
      "execution_count": null,
      "outputs": []
    },
    {
      "cell_type": "code",
      "metadata": {
        "trusted": true,
        "id": "Q2f0ejoduCiO"
      },
      "source": [
        "def extract_dates_int(df, column):\n",
        "    year = df[column].dt.year\n",
        "    month = df[column].dt.month\n",
        "    day = df[column].dt.day\n",
        "    return year, month, day"
      ],
      "execution_count": null,
      "outputs": []
    },
    {
      "cell_type": "code",
      "metadata": {
        "trusted": true,
        "id": "PtFppw8WuCiP"
      },
      "source": [
        "invoice_year, invoice_month, _ = extract_dates_int(uk_ecom, 'InvoiceMonth')\n",
        "cohort_year, cohort_month, _ = extract_dates_int(uk_ecom, 'CohortMonth')\n",
        "years_difference = invoice_year - cohort_year\n",
        "months_difference = invoice_month - cohort_month\n"
      ],
      "execution_count": null,
      "outputs": []
    },
    {
      "cell_type": "code",
      "metadata": {
        "trusted": true,
        "id": "RInraA_MuCiP"
      },
      "source": [
        "uk_ecom['CohortIndex'] = years_difference * 12 + months_difference + 1\n",
        "grouping = uk_ecom.groupby(['CohortMonth', 'CohortIndex'])\n",
        "cohort_data = grouping['Customer ID'].apply(pd.Series.nunique).reset_index()"
      ],
      "execution_count": null,
      "outputs": []
    },
    {
      "cell_type": "code",
      "metadata": {
        "trusted": true,
        "id": "ldKmZ9RvuCiP"
      },
      "source": [
        "cohort_counts = cohort_data.pivot(index = 'CohortMonth', columns = 'CohortIndex', values = 'Customer ID')\n",
        "cohort_sizes = cohort_counts.iloc[:, 0]\n",
        "retention = cohort_counts.divide(cohort_sizes, axis = 0)"
      ],
      "execution_count": null,
      "outputs": []
    },
    {
      "cell_type": "code",
      "metadata": {
        "trusted": true,
        "id": "rqD2Ps9GuCiP"
      },
      "source": [
        "#review the retention table\n",
        "retention.round(3) * 100\n",
        "grouping_avg_quantity = uk_ecom.groupby(['CohortMonth', 'CohortIndex'])\n",
        "cohort_data_avg_quantity = grouping_avg_quantity['Quantity'].mean().reset_index()\n",
        "average_quantity = cohort_data_avg_quantity.pivot(index = 'CohortMonth', columns = 'CohortIndex', values = 'Quantity')\n",
        "average_quantity.round(1).fillna('')"
      ],
      "execution_count": null,
      "outputs": []
    },
    {
      "cell_type": "code",
      "metadata": {
        "trusted": true,
        "id": "oIUtqHojuCiP"
      },
      "source": [
        "plt.figure(figsize = (10, 5))\n",
        "plt.title('Retention Rate for Customers in United Kingdom')\n",
        "sns.heatmap(data = retention, annot = True, fmt = '.0%', vmin = 0.01, vmax = 0.5, cmap = 'BuGn')\n",
        "plt.show()"
      ],
      "execution_count": null,
      "outputs": []
    },
    {
      "cell_type": "markdown",
      "metadata": {
        "id": "hLZ3MwXuuCiP"
      },
      "source": [
        "## Assosiation Rules(Market Basket Analysis)"
      ]
    },
    {
      "cell_type": "code",
      "metadata": {
        "trusted": true,
        "id": "NJkQpIo3uCiP"
      },
      "source": [
        "data = dat.copy()"
      ],
      "execution_count": null,
      "outputs": []
    },
    {
      "cell_type": "code",
      "metadata": {
        "trusted": true,
        "id": "udAa1gDQuCiP"
      },
      "source": [
        "from mlxtend.frequent_patterns import apriori\n",
        "from mlxtend.frequent_patterns import association_rules\n",
        "data_apriori = data[data['Country']=='Ashrafieh']\n",
        "data_apriori.head()"
      ],
      "execution_count": null,
      "outputs": []
    },
    {
      "cell_type": "code",
      "metadata": {
        "trusted": true,
        "id": "98PpzTd7uCiP"
      },
      "source": [
        "# Which Product and Their Count \n",
        "data_apr = data_apriori.groupby(['Invoice', 'Description'])['Quantity'].sum().unstack().reset_index().fillna(0).set_index('Invoice')\n",
        "data_apr.head()"
      ],
      "execution_count": null,
      "outputs": []
    },
    {
      "cell_type": "code",
      "metadata": {
        "trusted": true,
        "id": "iUGDSYJ1uCiP"
      },
      "source": [
        "def num(x):\n",
        "    if x <= 0:\n",
        "        return 0\n",
        "    if x >= 1:\n",
        "        return 1\n",
        "\n",
        "basket_new = data_apr.applymap(num)\n",
        "basket_new.head()"
      ],
      "execution_count": null,
      "outputs": []
    },
    {
      "cell_type": "code",
      "metadata": {
        "trusted": true,
        "id": "cn3TJp8kuCiP"
      },
      "source": [
        "from mlxtend.frequent_patterns import fpgrowth\n",
        "rule_fp = fpgrowth(basket_new, min_support=0.005, use_colnames=True)\n",
        "rule_fp"
      ],
      "execution_count": null,
      "outputs": []
    },
    {
      "cell_type": "code",
      "metadata": {
        "trusted": true,
        "id": "3Lz-qx9OuCiQ"
      },
      "source": [
        "items = apriori(basket_new, min_support=0.001, use_colnames=True)\n",
        "items"
      ],
      "execution_count": null,
      "outputs": []
    },
    {
      "cell_type": "code",
      "metadata": {
        "trusted": true,
        "id": "Qwge4vtUuCiQ"
      },
      "source": [
        "# pd.set_option('display.height', 100)\n",
        "# pd.set_option('display.max_rows', 100)\n",
        "pd.options.display.max_rows"
      ],
      "execution_count": null,
      "outputs": []
    },
    {
      "cell_type": "code",
      "metadata": {
        "trusted": true,
        "id": "PbdVTnEHuCiQ"
      },
      "source": [
        "rule = association_rules(items, metric=\"lift\", min_threshold=0)\n",
        "rule"
      ],
      "execution_count": null,
      "outputs": []
    },
    {
      "cell_type": "code",
      "metadata": {
        "trusted": true,
        "id": "hDNWtXDxuCiQ"
      },
      "source": [
        "association_rules(items, metric=\"lift\", min_threshold=1).head(10)"
      ],
      "execution_count": null,
      "outputs": []
    }
  ]
}